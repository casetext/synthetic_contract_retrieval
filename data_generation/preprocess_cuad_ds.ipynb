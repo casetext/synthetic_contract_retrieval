{
 "cells": [
  {
   "cell_type": "code",
   "execution_count": 1,
   "id": "cfed7afd-9acf-44d3-a2dd-14d9adf6dc49",
   "metadata": {},
   "outputs": [],
   "source": [
    "import pandas as pd\n",
    "import numpy as np\n",
    "import json\n",
    "from glob import glob\n",
    "import os\n",
    "import re\n",
    "# import matplotlib.pyplot as plt\n",
    "from tqdm import tqdm\n",
    "import os"
   ]
  },
  {
   "cell_type": "code",
   "execution_count": null,
   "id": "b540cf6a-3efa-4889-bf99-7b11f7107606",
   "metadata": {},
   "outputs": [],
   "source": []
  },
  {
   "cell_type": "markdown",
   "id": "77a91e07-33a5-458d-90fd-c42462174916",
   "metadata": {
    "jp-MarkdownHeadingCollapsed": true,
    "tags": []
   },
   "source": [
    "# Preprocess abbreviated data to get clause categories"
   ]
  },
  {
   "cell_type": "markdown",
   "id": "a41fb1c0-bfa3-4233-95c7-8be1a7fb50f4",
   "metadata": {},
   "source": [
    "**all CUAD data can be downloaded here: https://www.atticusprojectai.org/cuad**\n",
    "\n",
    "**The abbreviated clauses are available here: https://github.com/TheAtticusProject/cuad, under `data.zip`**"
   ]
  },
  {
   "cell_type": "code",
   "execution_count": 2,
   "id": "8a20b1af-64d5-4b15-b42a-16cee5e8bc4b",
   "metadata": {},
   "outputs": [],
   "source": [
    "def cuad_dataset_to_dataframe(_path):\n",
    "    _dataset = json.loads(open(_path,'r').read().strip())\n",
    "    _alldataframes = []\n",
    "    for k,row in pd.DataFrame(_dataset['data']).iterrows():\n",
    "        paras = row.paragraphs[0]\n",
    "        dt = pd.DataFrame(paras['qas'])\n",
    "        dt['file']=row.title                 \n",
    "        _alldataframes.append(dt)\n",
    "    _full_data = pd.concat(_alldataframes)\n",
    "\n",
    "    _dctpd = _full_data.answers.apply(lambda x: x[0] if x else {})\n",
    "    _expanded = _dctpd.apply(pd.Series)\n",
    "    all_data =  pd.concat([_full_data,_expanded],axis=1).drop(columns='answers')\n",
    "    all_data = all_data.dropna(subset='text')[['question','text']].reset_index(drop=True)\n",
    "    # infer clause_type from questions\n",
    "    all_data['original_clause_type'] = all_data.question.apply(lambda x: re.findall('\"([^\"]*)\"', x)[0].lower())\n",
    "    # infer clause_type from questions\n",
    "    all_data['clause_type'] = all_data.original_clause_type.str.replace('-',' ')\n",
    "    # rename query to question\n",
    "    all_data['query'] = all_data['question']\n",
    "    return all_data[['clause_type','original_clause_type','query','text']]"
   ]
  },
  {
   "cell_type": "markdown",
   "id": "b7b8396a-cc04-44d4-b864-f73c690933e9",
   "metadata": {},
   "source": [
    "**Did some data directory reshuffling**"
   ]
  },
  {
   "cell_type": "markdown",
   "id": "3f0d9c53-5696-480b-8601-d5cccc5db0a0",
   "metadata": {},
   "source": [
    "(markdown because cell output takes too long)\n",
    "cuad_train_data = cuad_dataset_to_dataframe('./data/train_separate_questions.json')\n",
    "cuad_test_data = cuad_dataset_to_dataframe('./data/test.json')"
   ]
  },
  {
   "cell_type": "code",
   "execution_count": 4,
   "id": "4125e85d-f7f9-4693-9ed3-e5a83b4227d1",
   "metadata": {},
   "outputs": [
    {
     "data": {
      "text/plain": [
       "11180"
      ]
     },
     "execution_count": 4,
     "metadata": {},
     "output_type": "execute_result"
    }
   ],
   "source": [
    "len(cuad_train_data)"
   ]
  },
  {
   "cell_type": "code",
   "execution_count": 5,
   "id": "8c9733a8-5457-4c1e-b7f5-f5bd9268c1aa",
   "metadata": {},
   "outputs": [
    {
     "data": {
      "text/plain": [
       "1244"
      ]
     },
     "execution_count": 5,
     "metadata": {},
     "output_type": "execute_result"
    }
   ],
   "source": [
    "len(cuad_test_data)"
   ]
  },
  {
   "cell_type": "markdown",
   "id": "62d3f512-dbb9-498b-811d-a14b8ce0dff1",
   "metadata": {},
   "source": [
    "Concatenate both train and test together"
   ]
  },
  {
   "cell_type": "code",
   "execution_count": 6,
   "id": "d128d024-73df-4c40-80c5-7be79b0f0b83",
   "metadata": {},
   "outputs": [
    {
     "data": {
      "text/plain": [
       "12424"
      ]
     },
     "execution_count": 6,
     "metadata": {},
     "output_type": "execute_result"
    }
   ],
   "source": [
    "full_cuad_data = pd.concat([cuad_train_data, cuad_test_data])\n",
    "len(full_cuad_data)"
   ]
  },
  {
   "cell_type": "code",
   "execution_count": 7,
   "id": "28f60d39-fb0a-4a8e-adce-66525a98e4a1",
   "metadata": {},
   "outputs": [],
   "source": [
    "full_cuad_data.to_csv(\"./data/full_abbreviated_cuad_data.csv\")"
   ]
  },
  {
   "cell_type": "code",
   "execution_count": 8,
   "id": "a3388f1b-2484-4c2f-8439-513c8124443c",
   "metadata": {},
   "outputs": [
    {
     "data": {
      "text/html": [
       "<div>\n",
       "<style scoped>\n",
       "    .dataframe tbody tr th:only-of-type {\n",
       "        vertical-align: middle;\n",
       "    }\n",
       "\n",
       "    .dataframe tbody tr th {\n",
       "        vertical-align: top;\n",
       "    }\n",
       "\n",
       "    .dataframe thead th {\n",
       "        text-align: right;\n",
       "    }\n",
       "</style>\n",
       "<table border=\"1\" class=\"dataframe\">\n",
       "  <thead>\n",
       "    <tr style=\"text-align: right;\">\n",
       "      <th></th>\n",
       "      <th>clause_type</th>\n",
       "      <th>original_clause_type</th>\n",
       "      <th>query</th>\n",
       "      <th>text</th>\n",
       "    </tr>\n",
       "  </thead>\n",
       "  <tbody>\n",
       "    <tr>\n",
       "      <th>0</th>\n",
       "      <td>document name</td>\n",
       "      <td>document name</td>\n",
       "      <td>Highlight the parts (if any) of this contract ...</td>\n",
       "      <td>DISTRIBUTOR AGREEMENT</td>\n",
       "    </tr>\n",
       "    <tr>\n",
       "      <th>1</th>\n",
       "      <td>parties</td>\n",
       "      <td>parties</td>\n",
       "      <td>Highlight the parts (if any) of this contract ...</td>\n",
       "      <td>Distributor</td>\n",
       "    </tr>\n",
       "    <tr>\n",
       "      <th>2</th>\n",
       "      <td>parties</td>\n",
       "      <td>parties</td>\n",
       "      <td>Highlight the parts (if any) of this contract ...</td>\n",
       "      <td>Electric City of Illinois L.L.C.</td>\n",
       "    </tr>\n",
       "    <tr>\n",
       "      <th>3</th>\n",
       "      <td>parties</td>\n",
       "      <td>parties</td>\n",
       "      <td>Highlight the parts (if any) of this contract ...</td>\n",
       "      <td>Electric City of Illinois LLC</td>\n",
       "    </tr>\n",
       "    <tr>\n",
       "      <th>4</th>\n",
       "      <td>parties</td>\n",
       "      <td>parties</td>\n",
       "      <td>Highlight the parts (if any) of this contract ...</td>\n",
       "      <td>Company</td>\n",
       "    </tr>\n",
       "  </tbody>\n",
       "</table>\n",
       "</div>"
      ],
      "text/plain": [
       "     clause_type original_clause_type  \\\n",
       "0  document name        document name   \n",
       "1        parties              parties   \n",
       "2        parties              parties   \n",
       "3        parties              parties   \n",
       "4        parties              parties   \n",
       "\n",
       "                                               query  \\\n",
       "0  Highlight the parts (if any) of this contract ...   \n",
       "1  Highlight the parts (if any) of this contract ...   \n",
       "2  Highlight the parts (if any) of this contract ...   \n",
       "3  Highlight the parts (if any) of this contract ...   \n",
       "4  Highlight the parts (if any) of this contract ...   \n",
       "\n",
       "                               text  \n",
       "0             DISTRIBUTOR AGREEMENT  \n",
       "1                       Distributor  \n",
       "2  Electric City of Illinois L.L.C.  \n",
       "3     Electric City of Illinois LLC  \n",
       "4                           Company  "
      ]
     },
     "execution_count": 8,
     "metadata": {},
     "output_type": "execute_result"
    }
   ],
   "source": [
    "full_cuad_data.head()"
   ]
  },
  {
   "cell_type": "code",
   "execution_count": 9,
   "id": "12b79aef-40c4-4f98-a33d-3ffa3bf4ac3d",
   "metadata": {},
   "outputs": [],
   "source": [
    "all_clause_categories = list(set(full_cuad_data[\"original_clause_type\"]))"
   ]
  },
  {
   "cell_type": "code",
   "execution_count": 10,
   "id": "b36fd58d-9bd7-4e52-9983-81f874709277",
   "metadata": {},
   "outputs": [],
   "source": [
    "all_distinct_queries = list(set(full_cuad_data[\"query\"]))\n",
    "all_distinct_queries = [el.lower().replace(\"\\xa0\", \"\") for el in all_distinct_queries]"
   ]
  },
  {
   "cell_type": "code",
   "execution_count": 11,
   "id": "37c4e162-bdec-4d8b-823a-f6867c65a139",
   "metadata": {},
   "outputs": [],
   "source": [
    "clause_type_to_query = {}\n",
    "for clause_type in all_clause_categories:\n",
    "    for query in all_distinct_queries:\n",
    "        if f'\"{clause_type}\"' in query:\n",
    "            clause_type_to_query[clause_type] = query"
   ]
  },
  {
   "cell_type": "code",
   "execution_count": 12,
   "id": "a9808791-7e9d-4796-9f8f-5ac8e13e2087",
   "metadata": {},
   "outputs": [],
   "source": [
    "clause_type_to_query[\"revenue/profit sharing\"] = '''\n",
    "highlight the parts (if any) of this contract related to \"revenue/profit sharing\" that should be reviewed by a lawyer. details: is one party required to share revenue or profit with the counterparty for any technology, goods, or services?\n",
    "'''.replace('\\n', '')"
   ]
  },
  {
   "cell_type": "code",
   "execution_count": 48,
   "id": "3462cff9-9826-4a24-a0f0-8616933f68b2",
   "metadata": {},
   "outputs": [
    {
     "data": {
      "text/plain": [
       "41"
      ]
     },
     "execution_count": 48,
     "metadata": {},
     "output_type": "execute_result"
    }
   ],
   "source": [
    "len(clause_type_to_query)"
   ]
  },
  {
   "cell_type": "code",
   "execution_count": 13,
   "id": "a10db81d-6646-4af2-a878-2bdcb5411c29",
   "metadata": {
    "collapsed": true,
    "jupyter": {
     "outputs_hidden": true
    },
    "tags": []
   },
   "outputs": [
    {
     "name": "stdout",
     "output_type": "stream",
     "text": [
      "{'affiliate license-licensee': 'highlight the parts (if any) of this contract '\n",
      "                               'related to \"affiliate license-licensee\" that '\n",
      "                               'should be reviewed by a lawyer. details: does '\n",
      "                               'the contract contain a license grant to a '\n",
      "                               'licensee (incl. sublicensor) and the '\n",
      "                               'affiliates of such licensee/sublicensor?',\n",
      " 'affiliate license-licensor': 'highlight the parts (if any) of this contract '\n",
      "                               'related to \"affiliate license-licensor\" that '\n",
      "                               'should be reviewed by a lawyer. details: does '\n",
      "                               'the contract contain a license grant by '\n",
      "                               'affiliates of the licensor or that includes '\n",
      "                               'intellectual property of affiliates of the '\n",
      "                               'licensor?',\n",
      " 'agreement date': 'highlight the parts (if any) of this contract related to '\n",
      "                   '\"agreement date\" that should be reviewed by a lawyer. '\n",
      "                   'details: the date of the contract',\n",
      " 'anti-assignment': 'highlight the parts (if any) of this contract related to '\n",
      "                    '\"anti-assignment\" that should be reviewed by a lawyer. '\n",
      "                    'details: is consent or notice required of a party if the '\n",
      "                    'contract is assigned to a third party?',\n",
      " 'audit rights': 'highlight the parts (if any) of this contract related to '\n",
      "                 '\"audit rights\" that should be reviewed by a lawyer. details: '\n",
      "                 'does a party have the right to audit the books, records, or '\n",
      "                 'physical locations of the counterparty to ensure compliance '\n",
      "                 'with the contract?',\n",
      " 'cap on liability': 'highlight the parts (if any) of this contract related to '\n",
      "                     '\"cap on liability\" that should be reviewed by a lawyer. '\n",
      "                     'details: does the contract include a cap on liability '\n",
      "                     'upon the breach of a party’s obligation? this includes '\n",
      "                     'time limitation for the counterparty to bring claims or '\n",
      "                     'maximum amount for recovery.',\n",
      " 'change of control': 'highlight the parts (if any) of this contract related '\n",
      "                      'to \"change of control\" that should be reviewed by a '\n",
      "                      'lawyer. details: does one party have the right to '\n",
      "                      'terminate or is consent or notice required of the '\n",
      "                      'counterparty if such party undergoes a change of '\n",
      "                      'control, such as a merger, stock sale, transfer of all '\n",
      "                      'or substantially all of its assets or business, or '\n",
      "                      'assignment by operation of law?',\n",
      " 'competitive restriction exception': 'highlight the parts (if any) of this '\n",
      "                                      'contract related to \"competitive '\n",
      "                                      'restriction exception\" that should be '\n",
      "                                      'reviewed by a lawyer. details: this '\n",
      "                                      'category includes the exceptions or '\n",
      "                                      'carveouts to non-compete, exclusivity '\n",
      "                                      'and no-solicit of customers above.',\n",
      " 'covenant not to sue': 'highlight the parts (if any) of this contract related '\n",
      "                        'to \"covenant not to sue\" that should be reviewed by a '\n",
      "                        'lawyer. details: is a party restricted from '\n",
      "                        'contesting the validity of the counterparty’s '\n",
      "                        'ownership of intellectual property or otherwise '\n",
      "                        'bringing a claim against the counterparty for matters '\n",
      "                        'unrelated to the contract?',\n",
      " 'document name': 'highlight the parts (if any) of this contract related to '\n",
      "                  '\"document name\" that should be reviewed by a lawyer. '\n",
      "                  'details: the name of the contract',\n",
      " 'effective date': 'highlight the parts (if any) of this contract related to '\n",
      "                   '\"effective date\" that should be reviewed by a lawyer. '\n",
      "                   'details: the date when the contract is effective',\n",
      " 'exclusivity': 'highlight the parts (if any) of this contract related to '\n",
      "                '\"exclusivity\" that should be reviewed by a lawyer. details: '\n",
      "                'is there an exclusive dealing commitment with the '\n",
      "                'counterparty? this includes a commitment to procure all '\n",
      "                '“requirements” from one party of certain technology, goods, '\n",
      "                'or services or a prohibition on licensing or selling '\n",
      "                'technology, goods or services to third parties, or a '\n",
      "                'prohibition on collaborating or working with other parties), '\n",
      "                'whether during the contract or after the contract ends (or '\n",
      "                'both).',\n",
      " 'expiration date': 'highlight the parts (if any) of this contract related to '\n",
      "                    '\"expiration date\" that should be reviewed by a lawyer. '\n",
      "                    \"details: on what date will the contract's initial term \"\n",
      "                    'expire?',\n",
      " 'governing law': 'highlight the parts (if any) of this contract related to '\n",
      "                  '\"governing law\" that should be reviewed by a lawyer. '\n",
      "                  \"details: which state/country's law governs the \"\n",
      "                  'interpretation of the contract?',\n",
      " 'insurance': 'highlight the parts (if any) of this contract related to '\n",
      "              '\"insurance\" that should be reviewed by a lawyer. details: is '\n",
      "              'there a requirement for insurance that must be maintained by '\n",
      "              'one party for the benefit of the counterparty?',\n",
      " 'ip ownership assignment': 'highlight the parts (if any) of this contract '\n",
      "                            'related to \"ip ownership assignment\" that should '\n",
      "                            'be reviewed by a lawyer. details: does '\n",
      "                            'intellectual property created by one party become '\n",
      "                            'the property of the counterparty, either per the '\n",
      "                            'terms of the contract or upon the occurrence of '\n",
      "                            'certain events?',\n",
      " 'irrevocable or perpetual license': 'highlight the parts (if any) of this '\n",
      "                                     'contract related to \"irrevocable or '\n",
      "                                     'perpetual license\" that should be '\n",
      "                                     'reviewed by a lawyer. details: does the '\n",
      "                                     'contract contain a license grant that is '\n",
      "                                     'irrevocable or perpetual?',\n",
      " 'joint ip ownership': 'highlight the parts (if any) of this contract related '\n",
      "                       'to \"joint ip ownership\" that should be reviewed by a '\n",
      "                       'lawyer. details: is there any clause providing for '\n",
      "                       'joint or shared ownership of intellectual property '\n",
      "                       'between the parties to the contract?',\n",
      " 'license grant': 'highlight the parts (if any) of this contract related to '\n",
      "                  '\"license grant\" that should be reviewed by a lawyer. '\n",
      "                  'details: does the contract contain a license granted by one '\n",
      "                  'party to its counterparty?',\n",
      " 'liquidated damages': 'highlight the parts (if any) of this contract related '\n",
      "                       'to \"liquidated damages\" that should be reviewed by a '\n",
      "                       'lawyer. details: does the contract contain a clause '\n",
      "                       'that would award either party liquidated damages for '\n",
      "                       'breach or a fee upon the termination of a contract '\n",
      "                       '(termination fee)?',\n",
      " 'minimum commitment': 'highlight the parts (if any) of this contract related '\n",
      "                       'to \"minimum commitment\" that should be reviewed by a '\n",
      "                       'lawyer. details: is there a minimum order size or '\n",
      "                       'minimum amount or units per-time period that one party '\n",
      "                       'must buy from the counterparty under the contract?',\n",
      " 'most favored nation': 'highlight the parts (if any) of this contract related '\n",
      "                        'to \"most favored nation\" that should be reviewed by a '\n",
      "                        'lawyer. details: is there a clause that if a third '\n",
      "                        'party gets better terms on the licensing or sale of '\n",
      "                        'technology/goods/services described in the contract, '\n",
      "                        'the buyer of such technology/goods/services under the '\n",
      "                        'contract shall be entitled to those better terms?',\n",
      " 'no-solicit of customers': 'highlight the parts (if any) of this contract '\n",
      "                            'related to \"no-solicit of customers\" that should '\n",
      "                            'be reviewed by a lawyer. details: is a party '\n",
      "                            'restricted from contracting or soliciting '\n",
      "                            'customers or partners of the counterparty, '\n",
      "                            'whether during the contract or after the contract '\n",
      "                            'ends (or both)?',\n",
      " 'no-solicit of employees': 'highlight the parts (if any) of this contract '\n",
      "                            'related to \"no-solicit of employees\" that should '\n",
      "                            'be reviewed by a lawyer. details: is there a '\n",
      "                            'restriction on a party’s soliciting or hiring '\n",
      "                            'employees and/or contractors from the '\n",
      "                            'counterparty, whether during the contract or '\n",
      "                            'after the contract ends (or both)?',\n",
      " 'non-compete': 'highlight the parts (if any) of this contract related to '\n",
      "                '\"non-compete\" that should be reviewed by a lawyer. details: '\n",
      "                'is there a restriction on the ability of a party to compete '\n",
      "                'with the counterparty or operate in a certain geography or '\n",
      "                'business or technology sector?',\n",
      " 'non-disparagement': 'highlight the parts (if any) of this contract related '\n",
      "                      'to \"non-disparagement\" that should be reviewed by a '\n",
      "                      'lawyer. details: is there a requirement on a party not '\n",
      "                      'to disparage the counterparty?',\n",
      " 'non-transferable license': 'highlight the parts (if any) of this contract '\n",
      "                             'related to \"non-transferable license\" that '\n",
      "                             'should be reviewed by a lawyer. details: does '\n",
      "                             'the contract limit the ability of a party to '\n",
      "                             'transfer the license being granted to a third '\n",
      "                             'party?',\n",
      " 'notice period to terminate renewal': 'highlight the parts (if any) of this '\n",
      "                                       'contract related to \"notice period to '\n",
      "                                       'terminate renewal\" that should be '\n",
      "                                       'reviewed by a lawyer. details: what is '\n",
      "                                       'the notice period required to '\n",
      "                                       'terminate renewal?',\n",
      " 'parties': 'highlight the parts (if any) of this contract related to '\n",
      "            '\"parties\" that should be reviewed by a lawyer. details: the two '\n",
      "            'or more parties who signed the contract',\n",
      " 'post-termination services': 'highlight the parts (if any) of this contract '\n",
      "                              'related to \"post-termination services\" that '\n",
      "                              'should be reviewed by a lawyer. details: is a '\n",
      "                              'party subject to obligations after the '\n",
      "                              'termination or expiration of a contract, '\n",
      "                              'including any post-termination transition, '\n",
      "                              'payment, transfer of ip, wind-down, last-buy, '\n",
      "                              'or similar commitments?',\n",
      " 'price restrictions': 'highlight the parts (if any) of this contract related '\n",
      "                       'to \"price restrictions\" that should be reviewed by a '\n",
      "                       'lawyer. details: is there a restriction on the ability '\n",
      "                       'of a party to raise or reduce prices of technology, '\n",
      "                       'goods, or services provided?',\n",
      " 'renewal term': 'highlight the parts (if any) of this contract related to '\n",
      "                 '\"renewal term\" that should be reviewed by a lawyer. details: '\n",
      "                 'what is the renewal term after the initial term expires? '\n",
      "                 'this includes automatic extensions and unilateral extensions '\n",
      "                 'with prior notice.',\n",
      " 'revenue/profit sharing': 'highlight the parts (if any) of this contract '\n",
      "                           'related to \"revenue/profit sharing\" that should be '\n",
      "                           'reviewed by a lawyer. details: is one party '\n",
      "                           'required to share revenue or profit with the '\n",
      "                           'counterparty for any technology, goods, or '\n",
      "                           'services?',\n",
      " 'rofr/rofo/rofn': 'highlight the parts (if any) of this contract related to '\n",
      "                   '\"rofr/rofo/rofn\" that should be reviewed by a lawyer. '\n",
      "                   'details: is there a clause granting one party a right of '\n",
      "                   'first refusal, right of first offer or right of first '\n",
      "                   'negotiation to purchase, license, market, or distribute '\n",
      "                   'equity interest, technology, assets, products or services?',\n",
      " 'source code escrow': 'highlight the parts (if any) of this contract related '\n",
      "                       'to \"source code escrow\" that should be reviewed by a '\n",
      "                       'lawyer. details: is one party required to deposit its '\n",
      "                       'source code into escrow with a third party, which can '\n",
      "                       'be released to the counterparty upon the occurrence of '\n",
      "                       'certain events (bankruptcy, insolvency, etc.)?',\n",
      " 'termination for convenience': 'highlight the parts (if any) of this contract '\n",
      "                                'related to \"termination for convenience\" that '\n",
      "                                'should be reviewed by a lawyer. details: can '\n",
      "                                'a party terminate this contract without cause '\n",
      "                                '(solely by giving a notice and allowing a '\n",
      "                                'waiting period to expire)?',\n",
      " 'third party beneficiary': 'highlight the parts (if any) of this contract '\n",
      "                            'related to \"third party beneficiary\" that should '\n",
      "                            'be reviewed by a lawyer. details: is there a '\n",
      "                            'non-contracting party who is a beneficiary to '\n",
      "                            'some or all of the clauses in the contract and '\n",
      "                            'therefore can enforce its rights against a '\n",
      "                            'contracting party?',\n",
      " 'uncapped liability': 'highlight the parts (if any) of this contract related '\n",
      "                       'to \"uncapped liability\" that should be reviewed by a '\n",
      "                       'lawyer. details: is a party’s liability uncapped upon '\n",
      "                       'the breach of its obligation in the contract? this '\n",
      "                       'also includes uncap liability for a particular type of '\n",
      "                       'breach such as ip infringement or breach of '\n",
      "                       'confidentiality obligation.',\n",
      " 'unlimited/all-you-can-eat-license': 'highlight the parts (if any) of this '\n",
      "                                      'contract related to '\n",
      "                                      '\"unlimited/all-you-can-eat-license\" '\n",
      "                                      'that should be reviewed by a lawyer. '\n",
      "                                      'details: is there a clause granting one '\n",
      "                                      'party an “enterprise,” “all you can '\n",
      "                                      'eat” or unlimited usage license?',\n",
      " 'volume restriction': 'highlight the parts (if any) of this contract related '\n",
      "                       'to \"volume restriction\" that should be reviewed by a '\n",
      "                       'lawyer. details: is there a fee increase or consent '\n",
      "                       'requirement, etc. if one party’s use of the '\n",
      "                       'product/services exceeds certain threshold?',\n",
      " 'warranty duration': 'highlight the parts (if any) of this contract related '\n",
      "                      'to \"warranty duration\" that should be reviewed by a '\n",
      "                      'lawyer. details: what is the duration of any warranty '\n",
      "                      'against defects or errors in technology, products, or '\n",
      "                      'services provided under the contract?'}\n"
     ]
    }
   ],
   "source": [
    "import pprint\n",
    "\n",
    "pprint.pprint(clause_type_to_query)"
   ]
  },
  {
   "cell_type": "code",
   "execution_count": null,
   "id": "9a9ff3ae-d095-44d9-abed-0526e805d0fe",
   "metadata": {},
   "outputs": [],
   "source": []
  },
  {
   "cell_type": "markdown",
   "id": "d30705a5-1a56-4253-8cb0-b4c9a3a4ea31",
   "metadata": {
    "jp-MarkdownHeadingCollapsed": true,
    "tags": []
   },
   "source": [
    "# Get the *full* clauses, not the abbreviated ones -- already provided in `./data` folder"
   ]
  },
  {
   "cell_type": "markdown",
   "id": "fe55f3ca-019f-470e-83f8-e1ea744f4843",
   "metadata": {},
   "source": [
    "**Move CUAD_v1 to your local directory**"
   ]
  },
  {
   "cell_type": "code",
   "execution_count": null,
   "id": "72ee52ca-b1ed-488e-9958-c818bd0aa3d3",
   "metadata": {},
   "outputs": [],
   "source": [
    "# Read in from the excel spreadsheets\n",
    "clause_spreadsheet_dir = \"./CUAD_v1/label_group_xlsx\""
   ]
  },
  {
   "cell_type": "code",
   "execution_count": 15,
   "id": "4b5800c2-70a0-43fe-8862-e44061f8ae75",
   "metadata": {},
   "outputs": [
    {
     "data": {
      "text/plain": [
       "['Label Report - ROFR-ROFO-ROFN.xlsx',\n",
       " 'Label Report - Covenant not to Sue_ Release of Claims.xlsx',\n",
       " 'Label Report - Revenue-Profit Sharing.xlsx',\n",
       " 'Label Report - Audit Rights.xlsx',\n",
       " 'Label Report - Non-Disparagement.xlsx',\n",
       " 'Label Report - Minimum Commitment.xlsx',\n",
       " 'Label Report - No-Solicit of Employees.xlsx',\n",
       " 'Label Report - Governing Law.xlsx',\n",
       " 'Label Report - Source Code Escrow.xlsx',\n",
       " 'Label Report - Price Restrictions.xlsx',\n",
       " 'Label Report - Third Party Beneficiary.xlsx',\n",
       " 'Label Report - Liquidated Damages.xlsx',\n",
       " 'Label Report - Dates (Group 1).xlsx',\n",
       " 'Label Report - Unlimited-All-You-Can-Eat License.xlsx',\n",
       " 'Label Report - Anti-assignment, CIC (Group 3).xlsx',\n",
       " 'Label Report - IP Ownership Assignment.xlsx',\n",
       " 'Label Report - Termination for Convenience.xlsx',\n",
       " 'Label Report - Volume Restriction.xlsx',\n",
       " 'Label Report - Post-Termination Services.xlsx',\n",
       " 'Label Report - Parties.xlsx',\n",
       " 'Label Report - Most Favored Nation.xlsx',\n",
       " 'Label Report - Joint IP Ownership.xlsx',\n",
       " 'Label Report - Warranty Duration.xlsx',\n",
       " 'Label Report - Document Name.xlsx',\n",
       " 'Label Report - Insurance.xlsx',\n",
       " 'Label Report - Licenses (Group 4).xlsx',\n",
       " 'Label Report - Non-Compete, Exclusivity, No-Solicit of Customers (Group 2).xlsx',\n",
       " 'Label Report - Uncapped Liability (Group 5).xlsx']"
      ]
     },
     "execution_count": 15,
     "metadata": {},
     "output_type": "execute_result"
    }
   ],
   "source": [
    "clause_spreadsheets = os.listdir(clause_spreadsheet_dir)\n",
    "clause_spreadsheets"
   ]
  },
  {
   "cell_type": "code",
   "execution_count": 16,
   "id": "1092ca6a-883b-4f19-98c7-2fda88b20f14",
   "metadata": {
    "tags": []
   },
   "outputs": [
    {
     "name": "stderr",
     "output_type": "stream",
     "text": [
      " 25%|███████▎                     | 7/28 [00:00<00:00, 33.46it/s]"
     ]
    },
    {
     "name": "stdout",
     "output_type": "stream",
     "text": [
      "reading ./CUAD_v1/label_group_xlsx/Label Report - Covenant not to Sue_ Release of Claims.xlsx\n",
      "100\n",
      "reading ./CUAD_v1/label_group_xlsx/Label Report - Audit Rights.xlsx\n",
      "271\n",
      "reading ./CUAD_v1/label_group_xlsx/Label Report - Non-Disparagement.xlsx\n",
      "38\n",
      "reading ./CUAD_v1/label_group_xlsx/Label Report - Minimum Commitment.xlsx\n",
      "165\n",
      "reading ./CUAD_v1/label_group_xlsx/Label Report - No-Solicit of Employees.xlsx\n",
      "59\n",
      "reading ./CUAD_v1/label_group_xlsx/Label Report - Governing Law.xlsx\n",
      "510\n",
      "reading ./CUAD_v1/label_group_xlsx/Label Report - Source Code Escrow.xlsx\n",
      "13\n",
      "reading ./CUAD_v1/label_group_xlsx/Label Report - Price Restrictions.xlsx\n",
      "15\n",
      "reading ./CUAD_v1/label_group_xlsx/Label Report - Third Party Beneficiary.xlsx\n",
      "33\n",
      "reading ./CUAD_v1/label_group_xlsx/Label Report - Liquidated Damages.xlsx\n",
      "61\n",
      "reading ./CUAD_v1/label_group_xlsx/Label Report - Dates (Group 1).xlsx\n"
     ]
    },
    {
     "name": "stderr",
     "output_type": "stream",
     "text": [
      " 64%|██████████████████          | 18/28 [00:00<00:00, 40.92it/s]"
     ]
    },
    {
     "name": "stdout",
     "output_type": "stream",
     "text": [
      "501\n",
      "reading ./CUAD_v1/label_group_xlsx/Label Report - Anti-assignment, CIC (Group 3).xlsx\n",
      "376\n",
      "reading ./CUAD_v1/label_group_xlsx/Label Report - IP Ownership Assignment.xlsx\n",
      "124\n",
      "reading ./CUAD_v1/label_group_xlsx/Label Report - Termination for Convenience.xlsx\n",
      "183\n",
      "reading ./CUAD_v1/label_group_xlsx/Label Report - Volume Restriction.xlsx\n",
      "82\n",
      "reading ./CUAD_v1/label_group_xlsx/Label Report - Post-Termination Services.xlsx\n",
      "271\n",
      "reading ./CUAD_v1/label_group_xlsx/Label Report - Parties.xlsx\n",
      "510\n",
      "reading ./CUAD_v1/label_group_xlsx/Label Report - Most Favored Nation.xlsx\n",
      "28\n",
      "reading ./CUAD_v1/label_group_xlsx/Label Report - Joint IP Ownership.xlsx\n",
      "46\n",
      "reading ./CUAD_v1/label_group_xlsx/Label Report - Warranty Duration.xlsx\n"
     ]
    },
    {
     "name": "stderr",
     "output_type": "stream",
     "text": [
      "100%|████████████████████████████| 28/28 [00:00<00:00, 37.37it/s]"
     ]
    },
    {
     "name": "stdout",
     "output_type": "stream",
     "text": [
      "75\n",
      "reading ./CUAD_v1/label_group_xlsx/Label Report - Document Name.xlsx\n",
      "510\n",
      "reading ./CUAD_v1/label_group_xlsx/Label Report - Insurance.xlsx\n",
      "167\n",
      "reading ./CUAD_v1/label_group_xlsx/Label Report - Licenses (Group 4).xlsx\n",
      "261\n",
      "reading ./CUAD_v1/label_group_xlsx/Label Report - Non-Compete, Exclusivity, No-Solicit of Customers (Group 2).xlsx\n",
      "241\n",
      "reading ./CUAD_v1/label_group_xlsx/Label Report - Uncapped Liability (Group 5).xlsx\n",
      "275\n"
     ]
    },
    {
     "name": "stderr",
     "output_type": "stream",
     "text": [
      "\n"
     ]
    }
   ],
   "source": [
    "# Concatenate excel spreadsheets into one df\n",
    "clause_dfs = []\n",
    "all_column_names = []\n",
    "counter = 0\n",
    "for clause_spreadsheet in tqdm(clause_spreadsheets):\n",
    "    \n",
    "    # few exceptions because the names are formatted differently\n",
    "    if clause_spreadsheet == \"Label Report - ROFR-ROFO-ROFN.xlsx\":\n",
    "        \n",
    "        df = pd.read_excel(os.path.join(clause_spreadsheet_dir, clause_spreadsheet), index_col=0)\n",
    "        df = df.rename(columns={\"ROFR-ROFO-ROFN\": \"rofr/rofo/rofn\"})\n",
    "        column_name = \"rofr/rofo/rofn\"\n",
    "        # queries = [clause_type_to_query[column_name]]*len(df)\n",
    "        \n",
    "        clause_df = pd.DataFrame(\n",
    "            {\n",
    "                \"clause_type\": column_name.lower(),\n",
    "                \"query\": clause_type_to_query[column_name],\n",
    "                \"raw_text\": list(df[column_name])\n",
    "            }\n",
    "        )\n",
    "        \n",
    "        clause_dfs.append(clause_df)\n",
    "        \n",
    "    elif clause_spreadsheet == \"Label Report - Unlimited-All-You-Can-Eat License.xlsx\":\n",
    "        \n",
    "        df = pd.read_excel(os.path.join(clause_spreadsheet_dir, clause_spreadsheet), index_col=0)\n",
    "        df = df.rename(columns={\"Unlimited/All-You-Can-Eat License\": \"unlimited/all-you-can-eat-license\"})\n",
    "        column_name = \"unlimited/all-you-can-eat-license\"\n",
    "        # queries = [clause_type_to_query[column_name]]*len(df)\n",
    "        \n",
    "        clause_df = pd.DataFrame(\n",
    "            {\n",
    "                \"clause_type\": column_name.lower(),\n",
    "                \"query\": clause_type_to_query[column_name],\n",
    "                \"raw_text\": list(df[column_name])\n",
    "            }\n",
    "        )\n",
    "        \n",
    "        clause_dfs.append(clause_df)\n",
    "    \n",
    "    elif clause_spreadsheet == \"Label Report - Revenue-Profit Sharing.xlsx\":\n",
    "        \n",
    "        df = pd.read_excel(os.path.join(clause_spreadsheet_dir, clause_spreadsheet), index_col=0)\n",
    "        df = df.rename(columns={\"Revenue-Profit Sharing\": \"revenue/profit sharing\"})\n",
    "        column_name = \"revenue/profit sharing\"\n",
    "        \n",
    "        clause_df = pd.DataFrame(\n",
    "            {\n",
    "                \"clause_type\": column_name.lower(),\n",
    "                \"query\": clause_type_to_query[column_name],\n",
    "                \"raw_text\": list(df[column_name])\n",
    "            }\n",
    "        )\n",
    "        \n",
    "        clause_dfs.append(clause_df)\n",
    "    \n",
    "    else:\n",
    "        print(f\"reading {os.path.join(clause_spreadsheet_dir, clause_spreadsheet)}\")\n",
    "        df = pd.read_excel(os.path.join(clause_spreadsheet_dir, clause_spreadsheet), index_col=0)\n",
    "        print(len(df))\n",
    "        counter += len(df)\n",
    "        column_names = list(df.columns)\n",
    "        # column_names = [el.lower() for el in list(df.columns)]\n",
    "\n",
    "        for column_name in column_names:\n",
    "            if column_name.lower() in all_clause_categories:\n",
    "                queries = [clause_type_to_query[column_name.lower()]]*len(df)\n",
    "\n",
    "                clause_df = pd.DataFrame(\n",
    "                    {\n",
    "                        \"clause_type\": column_name.lower(),\n",
    "                        \"query\": clause_type_to_query[column_name.lower()],\n",
    "                        \"raw_text\": list(df[column_name])\n",
    "                    }\n",
    "                )\n",
    "                clause_dfs.append(clause_df)\n",
    "                all_column_names.append(column_name.lower())\n",
    "        #\n",
    "\n",
    "    "
   ]
  },
  {
   "cell_type": "code",
   "execution_count": 17,
   "id": "c665ca62-564f-4277-bf43-631a0b55c828",
   "metadata": {},
   "outputs": [
    {
     "data": {
      "text/plain": [
       "41"
      ]
     },
     "execution_count": 17,
     "metadata": {},
     "output_type": "execute_result"
    }
   ],
   "source": [
    "len(clause_dfs)"
   ]
  },
  {
   "cell_type": "code",
   "execution_count": 18,
   "id": "76212862-67a1-49e8-b82d-cb0a09457568",
   "metadata": {},
   "outputs": [
    {
     "data": {
      "text/plain": [
       "9605"
      ]
     },
     "execution_count": 18,
     "metadata": {},
     "output_type": "execute_result"
    }
   ],
   "source": [
    "all_cuad_data = pd.concat(clause_dfs).reset_index()\n",
    "len(all_cuad_data)"
   ]
  },
  {
   "cell_type": "code",
   "execution_count": 20,
   "id": "29c7950a-0945-4e84-bba1-f61b50bfa202",
   "metadata": {},
   "outputs": [
    {
     "data": {
      "text/plain": [
       "6702"
      ]
     },
     "execution_count": 20,
     "metadata": {},
     "output_type": "execute_result"
    }
   ],
   "source": [
    "all_cuad_data = all_cuad_data.dropna()\n",
    "len(all_cuad_data)"
   ]
  },
  {
   "cell_type": "code",
   "execution_count": 21,
   "id": "b3cf5cb7-252d-488f-b806-0f459d92ad3c",
   "metadata": {},
   "outputs": [
    {
     "data": {
      "text/html": [
       "<div>\n",
       "<style scoped>\n",
       "    .dataframe tbody tr th:only-of-type {\n",
       "        vertical-align: middle;\n",
       "    }\n",
       "\n",
       "    .dataframe tbody tr th {\n",
       "        vertical-align: top;\n",
       "    }\n",
       "\n",
       "    .dataframe thead th {\n",
       "        text-align: right;\n",
       "    }\n",
       "</style>\n",
       "<table border=\"1\" class=\"dataframe\">\n",
       "  <thead>\n",
       "    <tr style=\"text-align: right;\">\n",
       "      <th></th>\n",
       "      <th>index</th>\n",
       "      <th>clause_type</th>\n",
       "      <th>query</th>\n",
       "      <th>raw_text</th>\n",
       "    </tr>\n",
       "  </thead>\n",
       "  <tbody>\n",
       "    <tr>\n",
       "      <th>0</th>\n",
       "      <td>0</td>\n",
       "      <td>rofr/rofo/rofn</td>\n",
       "      <td>highlight the parts (if any) of this contract ...</td>\n",
       "      <td>If, during the Term, Licensor develops or obta...</td>\n",
       "    </tr>\n",
       "    <tr>\n",
       "      <th>1</th>\n",
       "      <td>1</td>\n",
       "      <td>rofr/rofo/rofn</td>\n",
       "      <td>highlight the parts (if any) of this contract ...</td>\n",
       "      <td>During the Term, Women.com agrees to give eDie...</td>\n",
       "    </tr>\n",
       "    <tr>\n",
       "      <th>2</th>\n",
       "      <td>2</td>\n",
       "      <td>rofr/rofo/rofn</td>\n",
       "      <td>highlight the parts (if any) of this contract ...</td>\n",
       "      <td>During the Term (including any renewal Term, i...</td>\n",
       "    </tr>\n",
       "    <tr>\n",
       "      <th>3</th>\n",
       "      <td>3</td>\n",
       "      <td>rofr/rofo/rofn</td>\n",
       "      <td>highlight the parts (if any) of this contract ...</td>\n",
       "      <td>Notwithstanding the foregoing, in the event th...</td>\n",
       "    </tr>\n",
       "    <tr>\n",
       "      <th>4</th>\n",
       "      <td>4</td>\n",
       "      <td>rofr/rofo/rofn</td>\n",
       "      <td>highlight the parts (if any) of this contract ...</td>\n",
       "      <td>Notwithstanding the foregoing, in the event Ex...</td>\n",
       "    </tr>\n",
       "  </tbody>\n",
       "</table>\n",
       "</div>"
      ],
      "text/plain": [
       "   index     clause_type                                              query  \\\n",
       "0      0  rofr/rofo/rofn  highlight the parts (if any) of this contract ...   \n",
       "1      1  rofr/rofo/rofn  highlight the parts (if any) of this contract ...   \n",
       "2      2  rofr/rofo/rofn  highlight the parts (if any) of this contract ...   \n",
       "3      3  rofr/rofo/rofn  highlight the parts (if any) of this contract ...   \n",
       "4      4  rofr/rofo/rofn  highlight the parts (if any) of this contract ...   \n",
       "\n",
       "                                            raw_text  \n",
       "0  If, during the Term, Licensor develops or obta...  \n",
       "1  During the Term, Women.com agrees to give eDie...  \n",
       "2  During the Term (including any renewal Term, i...  \n",
       "3  Notwithstanding the foregoing, in the event th...  \n",
       "4  Notwithstanding the foregoing, in the event Ex...  "
      ]
     },
     "execution_count": 21,
     "metadata": {},
     "output_type": "execute_result"
    }
   ],
   "source": [
    "all_cuad_data.head()"
   ]
  },
  {
   "cell_type": "code",
   "execution_count": 22,
   "id": "edee7ec1-47c6-4ec2-ad5e-b75616259fc9",
   "metadata": {},
   "outputs": [],
   "source": [
    "all_cuad_data[\"text\"] = all_cuad_data[\"raw_text\"].apply(lambda row: ' '.join(row.replace('\\n',' ').split()).lower())\n"
   ]
  },
  {
   "cell_type": "code",
   "execution_count": 23,
   "id": "1c7965b6-299d-4ac9-8624-e9f80f758681",
   "metadata": {},
   "outputs": [
    {
     "data": {
      "text/html": [
       "<div>\n",
       "<style scoped>\n",
       "    .dataframe tbody tr th:only-of-type {\n",
       "        vertical-align: middle;\n",
       "    }\n",
       "\n",
       "    .dataframe tbody tr th {\n",
       "        vertical-align: top;\n",
       "    }\n",
       "\n",
       "    .dataframe thead th {\n",
       "        text-align: right;\n",
       "    }\n",
       "</style>\n",
       "<table border=\"1\" class=\"dataframe\">\n",
       "  <thead>\n",
       "    <tr style=\"text-align: right;\">\n",
       "      <th></th>\n",
       "      <th>index</th>\n",
       "      <th>clause_type</th>\n",
       "      <th>query</th>\n",
       "      <th>raw_text</th>\n",
       "      <th>text</th>\n",
       "    </tr>\n",
       "  </thead>\n",
       "  <tbody>\n",
       "    <tr>\n",
       "      <th>0</th>\n",
       "      <td>0</td>\n",
       "      <td>rofr/rofo/rofn</td>\n",
       "      <td>highlight the parts (if any) of this contract ...</td>\n",
       "      <td>If, during the Term, Licensor develops or obta...</td>\n",
       "      <td>if, during the term, licensor develops or obta...</td>\n",
       "    </tr>\n",
       "    <tr>\n",
       "      <th>1</th>\n",
       "      <td>1</td>\n",
       "      <td>rofr/rofo/rofn</td>\n",
       "      <td>highlight the parts (if any) of this contract ...</td>\n",
       "      <td>During the Term, Women.com agrees to give eDie...</td>\n",
       "      <td>during the term, women.com agrees to give edie...</td>\n",
       "    </tr>\n",
       "    <tr>\n",
       "      <th>2</th>\n",
       "      <td>2</td>\n",
       "      <td>rofr/rofo/rofn</td>\n",
       "      <td>highlight the parts (if any) of this contract ...</td>\n",
       "      <td>During the Term (including any renewal Term, i...</td>\n",
       "      <td>during the term (including any renewal term, i...</td>\n",
       "    </tr>\n",
       "    <tr>\n",
       "      <th>3</th>\n",
       "      <td>3</td>\n",
       "      <td>rofr/rofo/rofn</td>\n",
       "      <td>highlight the parts (if any) of this contract ...</td>\n",
       "      <td>Notwithstanding the foregoing, in the event th...</td>\n",
       "      <td>notwithstanding the foregoing, in the event th...</td>\n",
       "    </tr>\n",
       "    <tr>\n",
       "      <th>4</th>\n",
       "      <td>4</td>\n",
       "      <td>rofr/rofo/rofn</td>\n",
       "      <td>highlight the parts (if any) of this contract ...</td>\n",
       "      <td>Notwithstanding the foregoing, in the event Ex...</td>\n",
       "      <td>notwithstanding the foregoing, in the event ex...</td>\n",
       "    </tr>\n",
       "  </tbody>\n",
       "</table>\n",
       "</div>"
      ],
      "text/plain": [
       "   index     clause_type                                              query  \\\n",
       "0      0  rofr/rofo/rofn  highlight the parts (if any) of this contract ...   \n",
       "1      1  rofr/rofo/rofn  highlight the parts (if any) of this contract ...   \n",
       "2      2  rofr/rofo/rofn  highlight the parts (if any) of this contract ...   \n",
       "3      3  rofr/rofo/rofn  highlight the parts (if any) of this contract ...   \n",
       "4      4  rofr/rofo/rofn  highlight the parts (if any) of this contract ...   \n",
       "\n",
       "                                            raw_text  \\\n",
       "0  If, during the Term, Licensor develops or obta...   \n",
       "1  During the Term, Women.com agrees to give eDie...   \n",
       "2  During the Term (including any renewal Term, i...   \n",
       "3  Notwithstanding the foregoing, in the event th...   \n",
       "4  Notwithstanding the foregoing, in the event Ex...   \n",
       "\n",
       "                                                text  \n",
       "0  if, during the term, licensor develops or obta...  \n",
       "1  during the term, women.com agrees to give edie...  \n",
       "2  during the term (including any renewal term, i...  \n",
       "3  notwithstanding the foregoing, in the event th...  \n",
       "4  notwithstanding the foregoing, in the event ex...  "
      ]
     },
     "execution_count": 23,
     "metadata": {},
     "output_type": "execute_result"
    }
   ],
   "source": [
    "all_cuad_data.head()"
   ]
  },
  {
   "cell_type": "code",
   "execution_count": 24,
   "id": "8f6e4530-6dc7-40c2-b40a-da79c697e601",
   "metadata": {
    "tags": []
   },
   "outputs": [],
   "source": [
    "all_cuad_data.to_csv(\"./data/original_cuad_data/cuad_data_full_clauses.csv\")"
   ]
  },
  {
   "cell_type": "code",
   "execution_count": 38,
   "id": "aef96d5e-8864-4c9e-ac39-8e197c1dafdb",
   "metadata": {},
   "outputs": [],
   "source": [
    "all_cuad_data = pd.read_csv(\"./data/original_cuad_data/cuad_data_full_clauses.csv\")"
   ]
  },
  {
   "cell_type": "code",
   "execution_count": 39,
   "id": "038e95f7-3437-42ba-ab92-fffd4edd807d",
   "metadata": {},
   "outputs": [
    {
     "data": {
      "text/plain": [
       "6702"
      ]
     },
     "execution_count": 39,
     "metadata": {},
     "output_type": "execute_result"
    }
   ],
   "source": [
    "len(all_cuad_data)"
   ]
  },
  {
   "cell_type": "code",
   "execution_count": null,
   "id": "c9c431b5-af56-48ed-a5dd-35575cce7527",
   "metadata": {},
   "outputs": [],
   "source": []
  },
  {
   "cell_type": "markdown",
   "id": "37bbdefc-796b-428e-a125-e4866ec7ac50",
   "metadata": {
    "tags": []
   },
   "source": [
    "# Make a train/test split -- different clause categories in train/test"
   ]
  },
  {
   "cell_type": "code",
   "execution_count": null,
   "id": "87451514-42aa-416f-9a5a-400db31987ae",
   "metadata": {},
   "outputs": [],
   "source": [
    "all_cuad_data = pd.read_csv(\"./data/original_cuad_data/cuad_data_full_clauses.csv\")"
   ]
  },
  {
   "cell_type": "code",
   "execution_count": 52,
   "id": "85deac6a-4afe-4b60-b3b5-8fc95f5777c5",
   "metadata": {},
   "outputs": [],
   "source": [
    "all_clause_types = list(all_cuad_data.groupby([\"clause_type\"]).count().index)\n",
    "clause_type_to_label_dict = {clause_type: i for clause_type, i in zip(all_clause_types, list(range(len(all_clause_types))))}\n",
    "all_cuad_data[\"label\"] = all_cuad_data[\"clause_type\"].map(clause_type_to_label_dict)"
   ]
  },
  {
   "cell_type": "code",
   "execution_count": 56,
   "id": "f4757619-4bff-4844-a940-a209df446689",
   "metadata": {
    "collapsed": true,
    "jupyter": {
     "outputs_hidden": true
    },
    "tags": []
   },
   "outputs": [
    {
     "name": "stdout",
     "output_type": "stream",
     "text": [
      "41\n"
     ]
    },
    {
     "data": {
      "text/html": [
       "<div>\n",
       "<style scoped>\n",
       "    .dataframe tbody tr th:only-of-type {\n",
       "        vertical-align: middle;\n",
       "    }\n",
       "\n",
       "    .dataframe tbody tr th {\n",
       "        vertical-align: top;\n",
       "    }\n",
       "\n",
       "    .dataframe thead th {\n",
       "        text-align: right;\n",
       "    }\n",
       "</style>\n",
       "<table border=\"1\" class=\"dataframe\">\n",
       "  <thead>\n",
       "    <tr style=\"text-align: right;\">\n",
       "      <th></th>\n",
       "      <th>Unnamed: 0</th>\n",
       "      <th>index</th>\n",
       "      <th>query</th>\n",
       "      <th>raw_text</th>\n",
       "      <th>text</th>\n",
       "      <th>label</th>\n",
       "    </tr>\n",
       "    <tr>\n",
       "      <th>clause_type</th>\n",
       "      <th></th>\n",
       "      <th></th>\n",
       "      <th></th>\n",
       "      <th></th>\n",
       "      <th></th>\n",
       "      <th></th>\n",
       "    </tr>\n",
       "  </thead>\n",
       "  <tbody>\n",
       "    <tr>\n",
       "      <th>document name</th>\n",
       "      <td>510</td>\n",
       "      <td>510</td>\n",
       "      <td>510</td>\n",
       "      <td>510</td>\n",
       "      <td>510</td>\n",
       "      <td>510</td>\n",
       "    </tr>\n",
       "    <tr>\n",
       "      <th>parties</th>\n",
       "      <td>509</td>\n",
       "      <td>509</td>\n",
       "      <td>509</td>\n",
       "      <td>509</td>\n",
       "      <td>509</td>\n",
       "      <td>509</td>\n",
       "    </tr>\n",
       "    <tr>\n",
       "      <th>agreement date</th>\n",
       "      <td>470</td>\n",
       "      <td>470</td>\n",
       "      <td>470</td>\n",
       "      <td>470</td>\n",
       "      <td>470</td>\n",
       "      <td>470</td>\n",
       "    </tr>\n",
       "    <tr>\n",
       "      <th>governing law</th>\n",
       "      <td>437</td>\n",
       "      <td>437</td>\n",
       "      <td>437</td>\n",
       "      <td>437</td>\n",
       "      <td>437</td>\n",
       "      <td>437</td>\n",
       "    </tr>\n",
       "    <tr>\n",
       "      <th>expiration date</th>\n",
       "      <td>413</td>\n",
       "      <td>413</td>\n",
       "      <td>413</td>\n",
       "      <td>413</td>\n",
       "      <td>413</td>\n",
       "      <td>413</td>\n",
       "    </tr>\n",
       "    <tr>\n",
       "      <th>effective date</th>\n",
       "      <td>390</td>\n",
       "      <td>390</td>\n",
       "      <td>390</td>\n",
       "      <td>390</td>\n",
       "      <td>390</td>\n",
       "      <td>390</td>\n",
       "    </tr>\n",
       "    <tr>\n",
       "      <th>anti-assignment</th>\n",
       "      <td>374</td>\n",
       "      <td>374</td>\n",
       "      <td>374</td>\n",
       "      <td>374</td>\n",
       "      <td>374</td>\n",
       "      <td>374</td>\n",
       "    </tr>\n",
       "    <tr>\n",
       "      <th>cap on liability</th>\n",
       "      <td>275</td>\n",
       "      <td>275</td>\n",
       "      <td>275</td>\n",
       "      <td>275</td>\n",
       "      <td>275</td>\n",
       "      <td>275</td>\n",
       "    </tr>\n",
       "    <tr>\n",
       "      <th>license grant</th>\n",
       "      <td>255</td>\n",
       "      <td>255</td>\n",
       "      <td>255</td>\n",
       "      <td>255</td>\n",
       "      <td>255</td>\n",
       "      <td>255</td>\n",
       "    </tr>\n",
       "    <tr>\n",
       "      <th>audit rights</th>\n",
       "      <td>214</td>\n",
       "      <td>214</td>\n",
       "      <td>214</td>\n",
       "      <td>214</td>\n",
       "      <td>214</td>\n",
       "      <td>214</td>\n",
       "    </tr>\n",
       "    <tr>\n",
       "      <th>termination for convenience</th>\n",
       "      <td>183</td>\n",
       "      <td>183</td>\n",
       "      <td>183</td>\n",
       "      <td>183</td>\n",
       "      <td>183</td>\n",
       "      <td>183</td>\n",
       "    </tr>\n",
       "    <tr>\n",
       "      <th>post-termination services</th>\n",
       "      <td>182</td>\n",
       "      <td>182</td>\n",
       "      <td>182</td>\n",
       "      <td>182</td>\n",
       "      <td>182</td>\n",
       "      <td>182</td>\n",
       "    </tr>\n",
       "    <tr>\n",
       "      <th>exclusivity</th>\n",
       "      <td>180</td>\n",
       "      <td>180</td>\n",
       "      <td>180</td>\n",
       "      <td>180</td>\n",
       "      <td>180</td>\n",
       "      <td>180</td>\n",
       "    </tr>\n",
       "    <tr>\n",
       "      <th>renewal term</th>\n",
       "      <td>176</td>\n",
       "      <td>176</td>\n",
       "      <td>176</td>\n",
       "      <td>176</td>\n",
       "      <td>176</td>\n",
       "      <td>176</td>\n",
       "    </tr>\n",
       "    <tr>\n",
       "      <th>revenue/profit sharing</th>\n",
       "      <td>166</td>\n",
       "      <td>166</td>\n",
       "      <td>166</td>\n",
       "      <td>166</td>\n",
       "      <td>166</td>\n",
       "      <td>166</td>\n",
       "    </tr>\n",
       "    <tr>\n",
       "      <th>insurance</th>\n",
       "      <td>166</td>\n",
       "      <td>166</td>\n",
       "      <td>166</td>\n",
       "      <td>166</td>\n",
       "      <td>166</td>\n",
       "      <td>166</td>\n",
       "    </tr>\n",
       "    <tr>\n",
       "      <th>minimum commitment</th>\n",
       "      <td>165</td>\n",
       "      <td>165</td>\n",
       "      <td>165</td>\n",
       "      <td>165</td>\n",
       "      <td>165</td>\n",
       "      <td>165</td>\n",
       "    </tr>\n",
       "    <tr>\n",
       "      <th>non-transferable license</th>\n",
       "      <td>138</td>\n",
       "      <td>138</td>\n",
       "      <td>138</td>\n",
       "      <td>138</td>\n",
       "      <td>138</td>\n",
       "      <td>138</td>\n",
       "    </tr>\n",
       "    <tr>\n",
       "      <th>ip ownership assignment</th>\n",
       "      <td>124</td>\n",
       "      <td>124</td>\n",
       "      <td>124</td>\n",
       "      <td>124</td>\n",
       "      <td>124</td>\n",
       "      <td>124</td>\n",
       "    </tr>\n",
       "    <tr>\n",
       "      <th>change of control</th>\n",
       "      <td>121</td>\n",
       "      <td>121</td>\n",
       "      <td>121</td>\n",
       "      <td>121</td>\n",
       "      <td>121</td>\n",
       "      <td>121</td>\n",
       "    </tr>\n",
       "    <tr>\n",
       "      <th>non-compete</th>\n",
       "      <td>119</td>\n",
       "      <td>119</td>\n",
       "      <td>119</td>\n",
       "      <td>119</td>\n",
       "      <td>119</td>\n",
       "      <td>119</td>\n",
       "    </tr>\n",
       "    <tr>\n",
       "      <th>uncapped liability</th>\n",
       "      <td>111</td>\n",
       "      <td>111</td>\n",
       "      <td>111</td>\n",
       "      <td>111</td>\n",
       "      <td>111</td>\n",
       "      <td>111</td>\n",
       "    </tr>\n",
       "    <tr>\n",
       "      <th>notice period to terminate renewal</th>\n",
       "      <td>111</td>\n",
       "      <td>111</td>\n",
       "      <td>111</td>\n",
       "      <td>111</td>\n",
       "      <td>111</td>\n",
       "      <td>111</td>\n",
       "    </tr>\n",
       "    <tr>\n",
       "      <th>covenant not to sue</th>\n",
       "      <td>100</td>\n",
       "      <td>100</td>\n",
       "      <td>100</td>\n",
       "      <td>100</td>\n",
       "      <td>100</td>\n",
       "      <td>100</td>\n",
       "    </tr>\n",
       "    <tr>\n",
       "      <th>rofr/rofo/rofn</th>\n",
       "      <td>85</td>\n",
       "      <td>85</td>\n",
       "      <td>85</td>\n",
       "      <td>85</td>\n",
       "      <td>85</td>\n",
       "      <td>85</td>\n",
       "    </tr>\n",
       "    <tr>\n",
       "      <th>volume restriction</th>\n",
       "      <td>82</td>\n",
       "      <td>82</td>\n",
       "      <td>82</td>\n",
       "      <td>82</td>\n",
       "      <td>82</td>\n",
       "      <td>82</td>\n",
       "    </tr>\n",
       "    <tr>\n",
       "      <th>competitive restriction exception</th>\n",
       "      <td>76</td>\n",
       "      <td>76</td>\n",
       "      <td>76</td>\n",
       "      <td>76</td>\n",
       "      <td>76</td>\n",
       "      <td>76</td>\n",
       "    </tr>\n",
       "    <tr>\n",
       "      <th>warranty duration</th>\n",
       "      <td>75</td>\n",
       "      <td>75</td>\n",
       "      <td>75</td>\n",
       "      <td>75</td>\n",
       "      <td>75</td>\n",
       "      <td>75</td>\n",
       "    </tr>\n",
       "    <tr>\n",
       "      <th>irrevocable or perpetual license</th>\n",
       "      <td>70</td>\n",
       "      <td>70</td>\n",
       "      <td>70</td>\n",
       "      <td>70</td>\n",
       "      <td>70</td>\n",
       "      <td>70</td>\n",
       "    </tr>\n",
       "    <tr>\n",
       "      <th>liquidated damages</th>\n",
       "      <td>61</td>\n",
       "      <td>61</td>\n",
       "      <td>61</td>\n",
       "      <td>61</td>\n",
       "      <td>61</td>\n",
       "      <td>61</td>\n",
       "    </tr>\n",
       "    <tr>\n",
       "      <th>no-solicit of employees</th>\n",
       "      <td>59</td>\n",
       "      <td>59</td>\n",
       "      <td>59</td>\n",
       "      <td>59</td>\n",
       "      <td>59</td>\n",
       "      <td>59</td>\n",
       "    </tr>\n",
       "    <tr>\n",
       "      <th>affiliate license-licensee</th>\n",
       "      <td>59</td>\n",
       "      <td>59</td>\n",
       "      <td>59</td>\n",
       "      <td>59</td>\n",
       "      <td>59</td>\n",
       "      <td>59</td>\n",
       "    </tr>\n",
       "    <tr>\n",
       "      <th>joint ip ownership</th>\n",
       "      <td>46</td>\n",
       "      <td>46</td>\n",
       "      <td>46</td>\n",
       "      <td>46</td>\n",
       "      <td>46</td>\n",
       "      <td>46</td>\n",
       "    </tr>\n",
       "    <tr>\n",
       "      <th>non-disparagement</th>\n",
       "      <td>38</td>\n",
       "      <td>38</td>\n",
       "      <td>38</td>\n",
       "      <td>38</td>\n",
       "      <td>38</td>\n",
       "      <td>38</td>\n",
       "    </tr>\n",
       "    <tr>\n",
       "      <th>no-solicit of customers</th>\n",
       "      <td>34</td>\n",
       "      <td>34</td>\n",
       "      <td>34</td>\n",
       "      <td>34</td>\n",
       "      <td>34</td>\n",
       "      <td>34</td>\n",
       "    </tr>\n",
       "    <tr>\n",
       "      <th>third party beneficiary</th>\n",
       "      <td>32</td>\n",
       "      <td>32</td>\n",
       "      <td>32</td>\n",
       "      <td>32</td>\n",
       "      <td>32</td>\n",
       "      <td>32</td>\n",
       "    </tr>\n",
       "    <tr>\n",
       "      <th>most favored nation</th>\n",
       "      <td>28</td>\n",
       "      <td>28</td>\n",
       "      <td>28</td>\n",
       "      <td>28</td>\n",
       "      <td>28</td>\n",
       "      <td>28</td>\n",
       "    </tr>\n",
       "    <tr>\n",
       "      <th>affiliate license-licensor</th>\n",
       "      <td>23</td>\n",
       "      <td>23</td>\n",
       "      <td>23</td>\n",
       "      <td>23</td>\n",
       "      <td>23</td>\n",
       "      <td>23</td>\n",
       "    </tr>\n",
       "    <tr>\n",
       "      <th>unlimited/all-you-can-eat-license</th>\n",
       "      <td>17</td>\n",
       "      <td>17</td>\n",
       "      <td>17</td>\n",
       "      <td>17</td>\n",
       "      <td>17</td>\n",
       "      <td>17</td>\n",
       "    </tr>\n",
       "    <tr>\n",
       "      <th>price restrictions</th>\n",
       "      <td>15</td>\n",
       "      <td>15</td>\n",
       "      <td>15</td>\n",
       "      <td>15</td>\n",
       "      <td>15</td>\n",
       "      <td>15</td>\n",
       "    </tr>\n",
       "    <tr>\n",
       "      <th>source code escrow</th>\n",
       "      <td>13</td>\n",
       "      <td>13</td>\n",
       "      <td>13</td>\n",
       "      <td>13</td>\n",
       "      <td>13</td>\n",
       "      <td>13</td>\n",
       "    </tr>\n",
       "  </tbody>\n",
       "</table>\n",
       "</div>"
      ],
      "text/plain": [
       "                                    Unnamed: 0  index  query  raw_text  text  \\\n",
       "clause_type                                                                    \n",
       "document name                              510    510    510       510   510   \n",
       "parties                                    509    509    509       509   509   \n",
       "agreement date                             470    470    470       470   470   \n",
       "governing law                              437    437    437       437   437   \n",
       "expiration date                            413    413    413       413   413   \n",
       "effective date                             390    390    390       390   390   \n",
       "anti-assignment                            374    374    374       374   374   \n",
       "cap on liability                           275    275    275       275   275   \n",
       "license grant                              255    255    255       255   255   \n",
       "audit rights                               214    214    214       214   214   \n",
       "termination for convenience                183    183    183       183   183   \n",
       "post-termination services                  182    182    182       182   182   \n",
       "exclusivity                                180    180    180       180   180   \n",
       "renewal term                               176    176    176       176   176   \n",
       "revenue/profit sharing                     166    166    166       166   166   \n",
       "insurance                                  166    166    166       166   166   \n",
       "minimum commitment                         165    165    165       165   165   \n",
       "non-transferable license                   138    138    138       138   138   \n",
       "ip ownership assignment                    124    124    124       124   124   \n",
       "change of control                          121    121    121       121   121   \n",
       "non-compete                                119    119    119       119   119   \n",
       "uncapped liability                         111    111    111       111   111   \n",
       "notice period to terminate renewal         111    111    111       111   111   \n",
       "covenant not to sue                        100    100    100       100   100   \n",
       "rofr/rofo/rofn                              85     85     85        85    85   \n",
       "volume restriction                          82     82     82        82    82   \n",
       "competitive restriction exception           76     76     76        76    76   \n",
       "warranty duration                           75     75     75        75    75   \n",
       "irrevocable or perpetual license            70     70     70        70    70   \n",
       "liquidated damages                          61     61     61        61    61   \n",
       "no-solicit of employees                     59     59     59        59    59   \n",
       "affiliate license-licensee                  59     59     59        59    59   \n",
       "joint ip ownership                          46     46     46        46    46   \n",
       "non-disparagement                           38     38     38        38    38   \n",
       "no-solicit of customers                     34     34     34        34    34   \n",
       "third party beneficiary                     32     32     32        32    32   \n",
       "most favored nation                         28     28     28        28    28   \n",
       "affiliate license-licensor                  23     23     23        23    23   \n",
       "unlimited/all-you-can-eat-license           17     17     17        17    17   \n",
       "price restrictions                          15     15     15        15    15   \n",
       "source code escrow                          13     13     13        13    13   \n",
       "\n",
       "                                    label  \n",
       "clause_type                                \n",
       "document name                         510  \n",
       "parties                               509  \n",
       "agreement date                        470  \n",
       "governing law                         437  \n",
       "expiration date                       413  \n",
       "effective date                        390  \n",
       "anti-assignment                       374  \n",
       "cap on liability                      275  \n",
       "license grant                         255  \n",
       "audit rights                          214  \n",
       "termination for convenience           183  \n",
       "post-termination services             182  \n",
       "exclusivity                           180  \n",
       "renewal term                          176  \n",
       "revenue/profit sharing                166  \n",
       "insurance                             166  \n",
       "minimum commitment                    165  \n",
       "non-transferable license              138  \n",
       "ip ownership assignment               124  \n",
       "change of control                     121  \n",
       "non-compete                           119  \n",
       "uncapped liability                    111  \n",
       "notice period to terminate renewal    111  \n",
       "covenant not to sue                   100  \n",
       "rofr/rofo/rofn                         85  \n",
       "volume restriction                     82  \n",
       "competitive restriction exception      76  \n",
       "warranty duration                      75  \n",
       "irrevocable or perpetual license       70  \n",
       "liquidated damages                     61  \n",
       "no-solicit of employees                59  \n",
       "affiliate license-licensee             59  \n",
       "joint ip ownership                     46  \n",
       "non-disparagement                      38  \n",
       "no-solicit of customers                34  \n",
       "third party beneficiary                32  \n",
       "most favored nation                    28  \n",
       "affiliate license-licensor             23  \n",
       "unlimited/all-you-can-eat-license      17  \n",
       "price restrictions                     15  \n",
       "source code escrow                     13  "
      ]
     },
     "execution_count": 56,
     "metadata": {},
     "output_type": "execute_result"
    }
   ],
   "source": [
    "sorted_grouped_data = all_cuad_data.groupby([\"clause_type\"]).count().sort_values(by='label', ascending=False)\n",
    "print(len(sorted_grouped_data))\n",
    "sorted_grouped_data"
   ]
  },
  {
   "cell_type": "code",
   "execution_count": 59,
   "id": "d73e5d27-2a6b-4a83-b372-c61bcd7a3e88",
   "metadata": {},
   "outputs": [
    {
     "data": {
      "text/plain": [
       "10"
      ]
     },
     "execution_count": 59,
     "metadata": {},
     "output_type": "execute_result"
    }
   ],
   "source": [
    "test_set_categories = list(sorted_grouped_data.index)[3::4]\n",
    "len(test_set_categories)"
   ]
  },
  {
   "cell_type": "code",
   "execution_count": 60,
   "id": "212ca1ad-57e8-4fd1-a6e1-e72d6cf3f55e",
   "metadata": {},
   "outputs": [
    {
     "data": {
      "text/plain": [
       "31"
      ]
     },
     "execution_count": 60,
     "metadata": {},
     "output_type": "execute_result"
    }
   ],
   "source": [
    "train_set_categories = list(set(list(sorted_grouped_data.index)) - set(test_set_categories))\n",
    "len(train_set_categories)"
   ]
  },
  {
   "cell_type": "code",
   "execution_count": 62,
   "id": "75932ee5-1060-46bb-b16f-7218f52abfec",
   "metadata": {},
   "outputs": [],
   "source": [
    "train_cuad_data = all_cuad_data[all_cuad_data[\"clause_type\"].isin(train_set_categories)]\n",
    "test_cuad_data = all_cuad_data[all_cuad_data[\"clause_type\"].isin(test_set_categories)]\n"
   ]
  },
  {
   "cell_type": "code",
   "execution_count": 66,
   "id": "24fbe630-63f5-4334-ac4b-a162e43ca1eb",
   "metadata": {},
   "outputs": [
    {
     "data": {
      "text/plain": [
       "5240"
      ]
     },
     "execution_count": 66,
     "metadata": {},
     "output_type": "execute_result"
    }
   ],
   "source": [
    "len(train_cuad_data)"
   ]
  },
  {
   "cell_type": "code",
   "execution_count": 67,
   "id": "b8871c5b-317f-4f82-9b33-8b5c83fa3e4e",
   "metadata": {},
   "outputs": [
    {
     "data": {
      "text/plain": [
       "1462"
      ]
     },
     "execution_count": 67,
     "metadata": {},
     "output_type": "execute_result"
    }
   ],
   "source": [
    "len(test_cuad_data)"
   ]
  },
  {
   "cell_type": "code",
   "execution_count": 68,
   "id": "5807f3eb-0cce-48fe-8688-7329e97c0854",
   "metadata": {},
   "outputs": [
    {
     "name": "stdout",
     "output_type": "stream",
     "text": [
      "train/test split passed\n"
     ]
    }
   ],
   "source": [
    "assert len(train_cuad_data) + len(test_cuad_data) == len(all_cuad_data)\n",
    "print(\"train/test split passed\")"
   ]
  },
  {
   "cell_type": "code",
   "execution_count": 101,
   "id": "e4ff243b-6624-4082-b8b5-44729b7fc14c",
   "metadata": {},
   "outputs": [],
   "source": [
    "train_cuad_data = train_cuad_data[[\"clause_type\",\"query\", \"raw_text\", \"text\", \"label\"]]\n",
    "test_cuad_data = test_cuad_data[[\"clause_type\",\"query\", \"raw_text\", \"text\", \"label\"]]"
   ]
  },
  {
   "cell_type": "code",
   "execution_count": null,
   "id": "ea6b64e4-760e-4cb2-b766-c9ddd8b8b560",
   "metadata": {},
   "outputs": [],
   "source": [
    "if not os.path.exists('./data/cuad_data_different_clauses'):\n",
    "    os.makedirs('./data/cuad_data_different_clauses')"
   ]
  },
  {
   "cell_type": "code",
   "execution_count": 102,
   "id": "e8f15e84-1c58-4fd9-809f-f596cf13a935",
   "metadata": {},
   "outputs": [],
   "source": [
    "train_cuad_data.to_csv(\"./data/cuad_data_different_clauses/train_cuad_data.csv\")"
   ]
  },
  {
   "cell_type": "code",
   "execution_count": 103,
   "id": "e58d2870-7f7d-47fb-a34b-87b04bd029e8",
   "metadata": {},
   "outputs": [],
   "source": [
    "test_cuad_data.to_csv(\"./data/cuad_data_different_clauses/test_cuad_data.csv\")\n",
    "test_cuad_data.to_csv(\"./data/test_sets/test_cuad_data_different_clauses.csv\")"
   ]
  },
  {
   "cell_type": "code",
   "execution_count": 94,
   "id": "0a529188-df43-4d29-8d10-a3348e5b6585",
   "metadata": {},
   "outputs": [
    {
     "data": {
      "text/html": [
       "<div>\n",
       "<style scoped>\n",
       "    .dataframe tbody tr th:only-of-type {\n",
       "        vertical-align: middle;\n",
       "    }\n",
       "\n",
       "    .dataframe tbody tr th {\n",
       "        vertical-align: top;\n",
       "    }\n",
       "\n",
       "    .dataframe thead th {\n",
       "        text-align: right;\n",
       "    }\n",
       "</style>\n",
       "<table border=\"1\" class=\"dataframe\">\n",
       "  <thead>\n",
       "    <tr style=\"text-align: right;\">\n",
       "      <th></th>\n",
       "      <th>clause_type</th>\n",
       "      <th>query</th>\n",
       "      <th>raw_text</th>\n",
       "      <th>text</th>\n",
       "      <th>label</th>\n",
       "    </tr>\n",
       "  </thead>\n",
       "  <tbody>\n",
       "    <tr>\n",
       "      <th>0</th>\n",
       "      <td>agreement date</td>\n",
       "      <td>highlight the parts (if any) of this contract ...</td>\n",
       "      <td>October 1, 1999 (Page 1)</td>\n",
       "      <td>october 1, 1999 (page 1)</td>\n",
       "      <td>2</td>\n",
       "    </tr>\n",
       "    <tr>\n",
       "      <th>1</th>\n",
       "      <td>agreement date</td>\n",
       "      <td>highlight the parts (if any) of this contract ...</td>\n",
       "      <td>7th day of September, 1999. (Page 1)</td>\n",
       "      <td>7th day of september, 1999. (page 1)</td>\n",
       "      <td>2</td>\n",
       "    </tr>\n",
       "    <tr>\n",
       "      <th>2</th>\n",
       "      <td>document name</td>\n",
       "      <td>highlight the parts (if any) of this contract ...</td>\n",
       "      <td>SUPPLY AGREEMENT (Page 1)</td>\n",
       "      <td>supply agreement (page 1)</td>\n",
       "      <td>9</td>\n",
       "    </tr>\n",
       "    <tr>\n",
       "      <th>3</th>\n",
       "      <td>anti-assignment</td>\n",
       "      <td>highlight the parts (if any) of this contract ...</td>\n",
       "      <td>Developer may not assign or transfer this Agre...</td>\n",
       "      <td>developer may not assign or transfer this agre...</td>\n",
       "      <td>3</td>\n",
       "    </tr>\n",
       "    <tr>\n",
       "      <th>4</th>\n",
       "      <td>agreement date</td>\n",
       "      <td>highlight the parts (if any) of this contract ...</td>\n",
       "      <td>March 12,1999 (Page 1)</td>\n",
       "      <td>march 12,1999 (page 1)</td>\n",
       "      <td>2</td>\n",
       "    </tr>\n",
       "  </tbody>\n",
       "</table>\n",
       "</div>"
      ],
      "text/plain": [
       "       clause_type                                              query  \\\n",
       "0   agreement date  highlight the parts (if any) of this contract ...   \n",
       "1   agreement date  highlight the parts (if any) of this contract ...   \n",
       "2    document name  highlight the parts (if any) of this contract ...   \n",
       "3  anti-assignment  highlight the parts (if any) of this contract ...   \n",
       "4   agreement date  highlight the parts (if any) of this contract ...   \n",
       "\n",
       "                                            raw_text  \\\n",
       "0                           October 1, 1999 (Page 1)   \n",
       "1               7th day of September, 1999. (Page 1)   \n",
       "2                          SUPPLY AGREEMENT (Page 1)   \n",
       "3  Developer may not assign or transfer this Agre...   \n",
       "4                             March 12,1999 (Page 1)   \n",
       "\n",
       "                                                text  label  \n",
       "0                           october 1, 1999 (page 1)      2  \n",
       "1               7th day of september, 1999. (page 1)      2  \n",
       "2                          supply agreement (page 1)      9  \n",
       "3  developer may not assign or transfer this agre...      3  \n",
       "4                             march 12,1999 (page 1)      2  "
      ]
     },
     "execution_count": 94,
     "metadata": {},
     "output_type": "execute_result"
    }
   ],
   "source": [
    "train_cuad_data.head()"
   ]
  },
  {
   "cell_type": "code",
   "execution_count": 95,
   "id": "9ba47825-6be5-4ffc-a976-62401bdbdd0a",
   "metadata": {},
   "outputs": [
    {
     "data": {
      "text/html": [
       "<div>\n",
       "<style scoped>\n",
       "    .dataframe tbody tr th:only-of-type {\n",
       "        vertical-align: middle;\n",
       "    }\n",
       "\n",
       "    .dataframe tbody tr th {\n",
       "        vertical-align: top;\n",
       "    }\n",
       "\n",
       "    .dataframe thead th {\n",
       "        text-align: right;\n",
       "    }\n",
       "</style>\n",
       "<table border=\"1\" class=\"dataframe\">\n",
       "  <thead>\n",
       "    <tr style=\"text-align: right;\">\n",
       "      <th></th>\n",
       "      <th>clause_type</th>\n",
       "      <th>query</th>\n",
       "      <th>raw_text</th>\n",
       "      <th>text</th>\n",
       "      <th>label</th>\n",
       "    </tr>\n",
       "  </thead>\n",
       "  <tbody>\n",
       "    <tr>\n",
       "      <th>0</th>\n",
       "      <td>change of control</td>\n",
       "      <td>highlight the parts (if any) of this contract ...</td>\n",
       "      <td>The BSP may after giving due consideration to ...</td>\n",
       "      <td>the bsp may after giving due consideration to ...</td>\n",
       "      <td>6</td>\n",
       "    </tr>\n",
       "    <tr>\n",
       "      <th>1</th>\n",
       "      <td>governing law</td>\n",
       "      <td>highlight the parts (if any) of this contract ...</td>\n",
       "      <td>This Agreement shall be governed by and interp...</td>\n",
       "      <td>this agreement shall be governed by and interp...</td>\n",
       "      <td>13</td>\n",
       "    </tr>\n",
       "    <tr>\n",
       "      <th>2</th>\n",
       "      <td>governing law</td>\n",
       "      <td>highlight the parts (if any) of this contract ...</td>\n",
       "      <td>This  Agreement is governed by, and will be co...</td>\n",
       "      <td>this agreement is governed by, and will be con...</td>\n",
       "      <td>13</td>\n",
       "    </tr>\n",
       "    <tr>\n",
       "      <th>3</th>\n",
       "      <td>post-termination services</td>\n",
       "      <td>highlight the parts (if any) of this contract ...</td>\n",
       "      <td>In the event of termination of this Agreement ...</td>\n",
       "      <td>in the event of termination of this agreement ...</td>\n",
       "      <td>29</td>\n",
       "    </tr>\n",
       "    <tr>\n",
       "      <th>4</th>\n",
       "      <td>covenant not to sue</td>\n",
       "      <td>highlight the parts (if any) of this contract ...</td>\n",
       "      <td>Company agrees that it will not at any time co...</td>\n",
       "      <td>company agrees that it will not at any time co...</td>\n",
       "      <td>8</td>\n",
       "    </tr>\n",
       "  </tbody>\n",
       "</table>\n",
       "</div>"
      ],
      "text/plain": [
       "                 clause_type  \\\n",
       "0          change of control   \n",
       "1              governing law   \n",
       "2              governing law   \n",
       "3  post-termination services   \n",
       "4        covenant not to sue   \n",
       "\n",
       "                                               query  \\\n",
       "0  highlight the parts (if any) of this contract ...   \n",
       "1  highlight the parts (if any) of this contract ...   \n",
       "2  highlight the parts (if any) of this contract ...   \n",
       "3  highlight the parts (if any) of this contract ...   \n",
       "4  highlight the parts (if any) of this contract ...   \n",
       "\n",
       "                                            raw_text  \\\n",
       "0  The BSP may after giving due consideration to ...   \n",
       "1  This Agreement shall be governed by and interp...   \n",
       "2  This  Agreement is governed by, and will be co...   \n",
       "3  In the event of termination of this Agreement ...   \n",
       "4  Company agrees that it will not at any time co...   \n",
       "\n",
       "                                                text  label  \n",
       "0  the bsp may after giving due consideration to ...      6  \n",
       "1  this agreement shall be governed by and interp...     13  \n",
       "2  this agreement is governed by, and will be con...     13  \n",
       "3  in the event of termination of this agreement ...     29  \n",
       "4  company agrees that it will not at any time co...      8  "
      ]
     },
     "execution_count": 95,
     "metadata": {},
     "output_type": "execute_result"
    }
   ],
   "source": [
    "test_cuad_data.head()"
   ]
  },
  {
   "cell_type": "code",
   "execution_count": null,
   "id": "8847a251-a312-4487-a391-2eebff35b24e",
   "metadata": {},
   "outputs": [],
   "source": []
  },
  {
   "cell_type": "markdown",
   "id": "e5c97c8f-5168-47d8-bc83-d64c4fd5bf30",
   "metadata": {
    "tags": []
   },
   "source": [
    "## Read in train/test data to make sure everything checks out"
   ]
  },
  {
   "cell_type": "code",
   "execution_count": 108,
   "id": "d187ecfb-017b-499a-adb3-ff460371c38d",
   "metadata": {},
   "outputs": [
    {
     "name": "stdout",
     "output_type": "stream",
     "text": [
      "5240\n"
     ]
    },
    {
     "data": {
      "text/html": [
       "<div>\n",
       "<style scoped>\n",
       "    .dataframe tbody tr th:only-of-type {\n",
       "        vertical-align: middle;\n",
       "    }\n",
       "\n",
       "    .dataframe tbody tr th {\n",
       "        vertical-align: top;\n",
       "    }\n",
       "\n",
       "    .dataframe thead th {\n",
       "        text-align: right;\n",
       "    }\n",
       "</style>\n",
       "<table border=\"1\" class=\"dataframe\">\n",
       "  <thead>\n",
       "    <tr style=\"text-align: right;\">\n",
       "      <th></th>\n",
       "      <th>Unnamed: 0</th>\n",
       "      <th>clause_type</th>\n",
       "      <th>query</th>\n",
       "      <th>raw_text</th>\n",
       "      <th>text</th>\n",
       "      <th>label</th>\n",
       "    </tr>\n",
       "  </thead>\n",
       "  <tbody>\n",
       "    <tr>\n",
       "      <th>0</th>\n",
       "      <td>0</td>\n",
       "      <td>agreement date</td>\n",
       "      <td>highlight the parts (if any) of this contract ...</td>\n",
       "      <td>October 1, 1999 (Page 1)</td>\n",
       "      <td>october 1, 1999 (page 1)</td>\n",
       "      <td>2</td>\n",
       "    </tr>\n",
       "    <tr>\n",
       "      <th>1</th>\n",
       "      <td>1</td>\n",
       "      <td>agreement date</td>\n",
       "      <td>highlight the parts (if any) of this contract ...</td>\n",
       "      <td>7th day of September, 1999. (Page 1)</td>\n",
       "      <td>7th day of september, 1999. (page 1)</td>\n",
       "      <td>2</td>\n",
       "    </tr>\n",
       "    <tr>\n",
       "      <th>2</th>\n",
       "      <td>2</td>\n",
       "      <td>document name</td>\n",
       "      <td>highlight the parts (if any) of this contract ...</td>\n",
       "      <td>SUPPLY AGREEMENT (Page 1)</td>\n",
       "      <td>supply agreement (page 1)</td>\n",
       "      <td>9</td>\n",
       "    </tr>\n",
       "    <tr>\n",
       "      <th>3</th>\n",
       "      <td>3</td>\n",
       "      <td>anti-assignment</td>\n",
       "      <td>highlight the parts (if any) of this contract ...</td>\n",
       "      <td>Developer may not assign or transfer this Agre...</td>\n",
       "      <td>developer may not assign or transfer this agre...</td>\n",
       "      <td>3</td>\n",
       "    </tr>\n",
       "    <tr>\n",
       "      <th>4</th>\n",
       "      <td>4</td>\n",
       "      <td>agreement date</td>\n",
       "      <td>highlight the parts (if any) of this contract ...</td>\n",
       "      <td>March 12,1999 (Page 1)</td>\n",
       "      <td>march 12,1999 (page 1)</td>\n",
       "      <td>2</td>\n",
       "    </tr>\n",
       "  </tbody>\n",
       "</table>\n",
       "</div>"
      ],
      "text/plain": [
       "   Unnamed: 0      clause_type  \\\n",
       "0           0   agreement date   \n",
       "1           1   agreement date   \n",
       "2           2    document name   \n",
       "3           3  anti-assignment   \n",
       "4           4   agreement date   \n",
       "\n",
       "                                               query  \\\n",
       "0  highlight the parts (if any) of this contract ...   \n",
       "1  highlight the parts (if any) of this contract ...   \n",
       "2  highlight the parts (if any) of this contract ...   \n",
       "3  highlight the parts (if any) of this contract ...   \n",
       "4  highlight the parts (if any) of this contract ...   \n",
       "\n",
       "                                            raw_text  \\\n",
       "0                           October 1, 1999 (Page 1)   \n",
       "1               7th day of September, 1999. (Page 1)   \n",
       "2                          SUPPLY AGREEMENT (Page 1)   \n",
       "3  Developer may not assign or transfer this Agre...   \n",
       "4                             March 12,1999 (Page 1)   \n",
       "\n",
       "                                                text  label  \n",
       "0                           october 1, 1999 (page 1)      2  \n",
       "1               7th day of september, 1999. (page 1)      2  \n",
       "2                          supply agreement (page 1)      9  \n",
       "3  developer may not assign or transfer this agre...      3  \n",
       "4                             march 12,1999 (page 1)      2  "
      ]
     },
     "execution_count": 108,
     "metadata": {},
     "output_type": "execute_result"
    }
   ],
   "source": [
    "train_cuad_data = pd.read_csv(\"./data/cuad_data_different_clauses/train_cuad_data.csv\")\n",
    "print(len(train_cuad_data))\n",
    "train_cuad_data.head()"
   ]
  },
  {
   "cell_type": "code",
   "execution_count": 109,
   "id": "440b6622-5677-46a2-bd2d-541ab5ac1493",
   "metadata": {},
   "outputs": [
    {
     "name": "stdout",
     "output_type": "stream",
     "text": [
      "1462\n"
     ]
    },
    {
     "data": {
      "text/html": [
       "<div>\n",
       "<style scoped>\n",
       "    .dataframe tbody tr th:only-of-type {\n",
       "        vertical-align: middle;\n",
       "    }\n",
       "\n",
       "    .dataframe tbody tr th {\n",
       "        vertical-align: top;\n",
       "    }\n",
       "\n",
       "    .dataframe thead th {\n",
       "        text-align: right;\n",
       "    }\n",
       "</style>\n",
       "<table border=\"1\" class=\"dataframe\">\n",
       "  <thead>\n",
       "    <tr style=\"text-align: right;\">\n",
       "      <th></th>\n",
       "      <th>Unnamed: 0</th>\n",
       "      <th>clause_type</th>\n",
       "      <th>query</th>\n",
       "      <th>raw_text</th>\n",
       "      <th>text</th>\n",
       "      <th>label</th>\n",
       "    </tr>\n",
       "  </thead>\n",
       "  <tbody>\n",
       "    <tr>\n",
       "      <th>0</th>\n",
       "      <td>0</td>\n",
       "      <td>change of control</td>\n",
       "      <td>highlight the parts (if any) of this contract ...</td>\n",
       "      <td>The BSP may after giving due consideration to ...</td>\n",
       "      <td>the bsp may after giving due consideration to ...</td>\n",
       "      <td>6</td>\n",
       "    </tr>\n",
       "    <tr>\n",
       "      <th>1</th>\n",
       "      <td>1</td>\n",
       "      <td>governing law</td>\n",
       "      <td>highlight the parts (if any) of this contract ...</td>\n",
       "      <td>This Agreement shall be governed by and interp...</td>\n",
       "      <td>this agreement shall be governed by and interp...</td>\n",
       "      <td>13</td>\n",
       "    </tr>\n",
       "    <tr>\n",
       "      <th>2</th>\n",
       "      <td>2</td>\n",
       "      <td>governing law</td>\n",
       "      <td>highlight the parts (if any) of this contract ...</td>\n",
       "      <td>This  Agreement is governed by, and will be co...</td>\n",
       "      <td>this agreement is governed by, and will be con...</td>\n",
       "      <td>13</td>\n",
       "    </tr>\n",
       "    <tr>\n",
       "      <th>3</th>\n",
       "      <td>3</td>\n",
       "      <td>post-termination services</td>\n",
       "      <td>highlight the parts (if any) of this contract ...</td>\n",
       "      <td>In the event of termination of this Agreement ...</td>\n",
       "      <td>in the event of termination of this agreement ...</td>\n",
       "      <td>29</td>\n",
       "    </tr>\n",
       "    <tr>\n",
       "      <th>4</th>\n",
       "      <td>4</td>\n",
       "      <td>covenant not to sue</td>\n",
       "      <td>highlight the parts (if any) of this contract ...</td>\n",
       "      <td>Company agrees that it will not at any time co...</td>\n",
       "      <td>company agrees that it will not at any time co...</td>\n",
       "      <td>8</td>\n",
       "    </tr>\n",
       "  </tbody>\n",
       "</table>\n",
       "</div>"
      ],
      "text/plain": [
       "   Unnamed: 0                clause_type  \\\n",
       "0           0          change of control   \n",
       "1           1              governing law   \n",
       "2           2              governing law   \n",
       "3           3  post-termination services   \n",
       "4           4        covenant not to sue   \n",
       "\n",
       "                                               query  \\\n",
       "0  highlight the parts (if any) of this contract ...   \n",
       "1  highlight the parts (if any) of this contract ...   \n",
       "2  highlight the parts (if any) of this contract ...   \n",
       "3  highlight the parts (if any) of this contract ...   \n",
       "4  highlight the parts (if any) of this contract ...   \n",
       "\n",
       "                                            raw_text  \\\n",
       "0  The BSP may after giving due consideration to ...   \n",
       "1  This Agreement shall be governed by and interp...   \n",
       "2  This  Agreement is governed by, and will be co...   \n",
       "3  In the event of termination of this Agreement ...   \n",
       "4  Company agrees that it will not at any time co...   \n",
       "\n",
       "                                                text  label  \n",
       "0  the bsp may after giving due consideration to ...      6  \n",
       "1  this agreement shall be governed by and interp...     13  \n",
       "2  this agreement is governed by, and will be con...     13  \n",
       "3  in the event of termination of this agreement ...     29  \n",
       "4  company agrees that it will not at any time co...      8  "
      ]
     },
     "execution_count": 109,
     "metadata": {},
     "output_type": "execute_result"
    }
   ],
   "source": [
    "test_cuad_data = pd.read_csv(\"data/cuad_data_different_clauses/test_cuad_data.csv\")\n",
    "print(len(test_cuad_data))\n",
    "test_cuad_data.head()"
   ]
  },
  {
   "cell_type": "code",
   "execution_count": 113,
   "id": "7b1d90da-fd2b-4823-93b8-466589218693",
   "metadata": {},
   "outputs": [
    {
     "name": "stdout",
     "output_type": "stream",
     "text": [
      "31\n"
     ]
    },
    {
     "data": {
      "text/plain": [
       "{'affiliate license-licensor',\n",
       " 'agreement date',\n",
       " 'anti-assignment',\n",
       " 'audit rights',\n",
       " 'competitive restriction exception',\n",
       " 'document name',\n",
       " 'effective date',\n",
       " 'exclusivity',\n",
       " 'expiration date',\n",
       " 'ip ownership assignment',\n",
       " 'irrevocable or perpetual license',\n",
       " 'joint ip ownership',\n",
       " 'license grant',\n",
       " 'liquidated damages',\n",
       " 'minimum commitment',\n",
       " 'most favored nation',\n",
       " 'no-solicit of customers',\n",
       " 'no-solicit of employees',\n",
       " 'non-compete',\n",
       " 'non-disparagement',\n",
       " 'non-transferable license',\n",
       " 'notice period to terminate renewal',\n",
       " 'parties',\n",
       " 'renewal term',\n",
       " 'revenue/profit sharing',\n",
       " 'rofr/rofo/rofn',\n",
       " 'source code escrow',\n",
       " 'termination for convenience',\n",
       " 'uncapped liability',\n",
       " 'unlimited/all-you-can-eat-license',\n",
       " 'volume restriction'}"
      ]
     },
     "execution_count": 113,
     "metadata": {},
     "output_type": "execute_result"
    }
   ],
   "source": [
    "print(len(set(train_cuad_data[\"clause_type\"])))\n",
    "set(train_cuad_data[\"clause_type\"])"
   ]
  },
  {
   "cell_type": "code",
   "execution_count": 114,
   "id": "642cc618-c366-4b32-8a39-f275a37751a2",
   "metadata": {},
   "outputs": [
    {
     "name": "stdout",
     "output_type": "stream",
     "text": [
      "10\n"
     ]
    },
    {
     "data": {
      "text/plain": [
       "{'affiliate license-licensee',\n",
       " 'cap on liability',\n",
       " 'change of control',\n",
       " 'covenant not to sue',\n",
       " 'governing law',\n",
       " 'insurance',\n",
       " 'post-termination services',\n",
       " 'price restrictions',\n",
       " 'third party beneficiary',\n",
       " 'warranty duration'}"
      ]
     },
     "execution_count": 114,
     "metadata": {},
     "output_type": "execute_result"
    }
   ],
   "source": [
    "print(len(set(test_cuad_data[\"clause_type\"])))\n",
    "set(test_cuad_data[\"clause_type\"])"
   ]
  },
  {
   "cell_type": "code",
   "execution_count": 112,
   "id": "929b54a8-b813-4e46-b32d-9af2630354db",
   "metadata": {},
   "outputs": [
    {
     "data": {
      "text/plain": [
       "set()"
      ]
     },
     "execution_count": 112,
     "metadata": {},
     "output_type": "execute_result"
    }
   ],
   "source": [
    "set(test_cuad_data[\"clause_type\"]).intersection(set(train_cuad_data[\"clause_type\"]))"
   ]
  },
  {
   "cell_type": "code",
   "execution_count": null,
   "id": "712cb43b-a2aa-4899-bde0-7ebeb87113b6",
   "metadata": {},
   "outputs": [],
   "source": []
  },
  {
   "cell_type": "markdown",
   "id": "e265f0cd-8150-4e89-88a3-e680bbf3ec37",
   "metadata": {
    "jp-MarkdownHeadingCollapsed": true,
    "tags": []
   },
   "source": [
    "## Format train datasets for cross/dual encoders"
   ]
  },
  {
   "cell_type": "markdown",
   "id": "b1936026-48ac-44de-97a4-2b65adaa28b7",
   "metadata": {},
   "source": [
    "Cross encoder is trained with `[anchor, positive]` binary cross entropy loss while the dual encoder is trained `[anchor, positive, negative]` with a triplet cross entropy loss."
   ]
  },
  {
   "cell_type": "code",
   "execution_count": 3,
   "id": "c3f6945a-9dac-463b-96ec-ab673d589f36",
   "metadata": {
    "tags": []
   },
   "outputs": [],
   "source": [
    "train_cuad_data = pd.read_csv(\"./data/cuad_data_different_clauses/train_cuad_data.csv\")"
   ]
  },
  {
   "cell_type": "code",
   "execution_count": 4,
   "id": "add660b7-90f4-497a-a189-bb7da0c100db",
   "metadata": {},
   "outputs": [],
   "source": [
    "test_cuad_data = pd.read_csv(\"data/cuad_data_different_clauses/test_cuad_data.csv\")\n"
   ]
  },
  {
   "cell_type": "code",
   "execution_count": null,
   "id": "69cbc4cd-08ef-426c-8a5a-f698ae66ac9a",
   "metadata": {},
   "outputs": [],
   "source": []
  },
  {
   "cell_type": "markdown",
   "id": "6ed88ffd-fa86-49da-807f-d1372f8b41c1",
   "metadata": {},
   "source": [
    "Create query, positive, negative triplets from the dataframe -- the below code cells for creating the data for the dual/cross encoders is repeated many times. Sample three negatives for each positive."
   ]
  },
  {
   "cell_type": "code",
   "execution_count": 10,
   "id": "7a516fd8-d31c-4b14-804a-afb80b8701d9",
   "metadata": {},
   "outputs": [
    {
     "name": "stderr",
     "output_type": "stream",
     "text": [
      "100%|████████████████████████████████████████████████████████████████████████████| 5240/5240 [00:10<00:00, 487.41it/s]\n"
     ]
    }
   ],
   "source": [
    "num_negatives = 3\n",
    "\n",
    "anchors_train = []\n",
    "positives_train = []\n",
    "negatives_train = []\n",
    "\n",
    "positive_categories_train = []\n",
    "negative_categories_train = []\n",
    "\n",
    "for row in tqdm(range(len(train_cuad_data))):\n",
    "    \n",
    "    category = train_cuad_data.iloc[row][\"clause_type\"]\n",
    "    \n",
    "    query = train_cuad_data.iloc[row][\"query\"].replace(\"\\xa0\", \"\").lower()\n",
    "    anchors_train.append(query)\n",
    "    \n",
    "    # clean up the text\n",
    "    positive_sample = train_cuad_data.iloc[row][\"text\"].lower()\n",
    "    positive_sample = ' '.join(positive_sample.replace('\\n',' ').split())\n",
    "    \n",
    "    positives_train.append(positive_sample)\n",
    "    \n",
    "    # get the negative sample and category\n",
    "    potential_negative_samples = train_cuad_data[train_cuad_data[\"clause_type\"] != category].sample(num_negatives)\n",
    "    \n",
    "    negative_samples = [el.lower() for el in list(potential_negative_samples[\"text\"])]\n",
    "    negative_samples = [' '.join(negative_sample.replace('\\n',' ').split()) for negative_sample in negative_samples]\n",
    "    \n",
    "    negative_categories = list(potential_negative_samples[\"clause_type\"])\n",
    "    \n",
    "    negatives_train.append(negative_samples)\n",
    "    \n",
    "    # get the categories of the positive and negative samples\n",
    "    positive_categories_train.append(category)\n",
    "    negative_categories_train.append(negative_categories)"
   ]
  },
  {
   "cell_type": "code",
   "execution_count": 11,
   "id": "b995844a-1d1e-487c-908a-3dcb84055b29",
   "metadata": {},
   "outputs": [
    {
     "name": "stdout",
     "output_type": "stream",
     "text": [
      "5240\n"
     ]
    },
    {
     "data": {
      "text/html": [
       "<div>\n",
       "<style scoped>\n",
       "    .dataframe tbody tr th:only-of-type {\n",
       "        vertical-align: middle;\n",
       "    }\n",
       "\n",
       "    .dataframe tbody tr th {\n",
       "        vertical-align: top;\n",
       "    }\n",
       "\n",
       "    .dataframe thead th {\n",
       "        text-align: right;\n",
       "    }\n",
       "</style>\n",
       "<table border=\"1\" class=\"dataframe\">\n",
       "  <thead>\n",
       "    <tr style=\"text-align: right;\">\n",
       "      <th></th>\n",
       "      <th>anchor</th>\n",
       "      <th>positive</th>\n",
       "      <th>negatives</th>\n",
       "    </tr>\n",
       "  </thead>\n",
       "  <tbody>\n",
       "    <tr>\n",
       "      <th>0</th>\n",
       "      <td>highlight the parts (if any) of this contract ...</td>\n",
       "      <td>october 1, 1999 (page 1)</td>\n",
       "      <td>[distributor agreement (page 1), subject to th...</td>\n",
       "    </tr>\n",
       "    <tr>\n",
       "      <th>1</th>\n",
       "      <td>highlight the parts (if any) of this contract ...</td>\n",
       "      <td>7th day of september, 1999. (page 1)</td>\n",
       "      <td>[neither this agreement nor any right created ...</td>\n",
       "    </tr>\n",
       "    <tr>\n",
       "      <th>2</th>\n",
       "      <td>highlight the parts (if any) of this contract ...</td>\n",
       "      <td>supply agreement (page 1)</td>\n",
       "      <td>[the parties hereby acknowledge and agree that...</td>\n",
       "    </tr>\n",
       "    <tr>\n",
       "      <th>3</th>\n",
       "      <td>highlight the parts (if any) of this contract ...</td>\n",
       "      <td>developer may not assign or transfer this agre...</td>\n",
       "      <td>[upon [ * ] days advance notice or such shorte...</td>\n",
       "    </tr>\n",
       "    <tr>\n",
       "      <th>4</th>\n",
       "      <td>highlight the parts (if any) of this contract ...</td>\n",
       "      <td>march 12,1999 (page 1)</td>\n",
       "      <td>[joint filing agreement (page 1), all rights t...</td>\n",
       "    </tr>\n",
       "  </tbody>\n",
       "</table>\n",
       "</div>"
      ],
      "text/plain": [
       "                                              anchor  \\\n",
       "0  highlight the parts (if any) of this contract ...   \n",
       "1  highlight the parts (if any) of this contract ...   \n",
       "2  highlight the parts (if any) of this contract ...   \n",
       "3  highlight the parts (if any) of this contract ...   \n",
       "4  highlight the parts (if any) of this contract ...   \n",
       "\n",
       "                                            positive  \\\n",
       "0                           october 1, 1999 (page 1)   \n",
       "1               7th day of september, 1999. (page 1)   \n",
       "2                          supply agreement (page 1)   \n",
       "3  developer may not assign or transfer this agre...   \n",
       "4                             march 12,1999 (page 1)   \n",
       "\n",
       "                                           negatives  \n",
       "0  [distributor agreement (page 1), subject to th...  \n",
       "1  [neither this agreement nor any right created ...  \n",
       "2  [the parties hereby acknowledge and agree that...  \n",
       "3  [upon [ * ] days advance notice or such shorte...  \n",
       "4  [joint filing agreement (page 1), all rights t...  "
      ]
     },
     "execution_count": 11,
     "metadata": {},
     "output_type": "execute_result"
    }
   ],
   "source": [
    "triplet_train_dataframe = pd.DataFrame(list(zip(anchors_train, positives_train, negatives_train)),\n",
    "                                    columns=[\"anchor\", \"positive\", \"negatives\"])\n",
    "\n",
    "print(len(triplet_train_dataframe))\n",
    "triplet_train_dataframe.head()"
   ]
  },
  {
   "cell_type": "code",
   "execution_count": null,
   "id": "5672eda9-0a21-4358-948b-23f5feb53cf1",
   "metadata": {},
   "outputs": [],
   "source": []
  },
  {
   "cell_type": "markdown",
   "id": "73a33c84-7510-4673-9d1f-4b62da34932d",
   "metadata": {
    "tags": []
   },
   "source": [
    "### Dual encoder"
   ]
  },
  {
   "cell_type": "markdown",
   "id": "340a9339-8a07-4dad-ba39-de13dc3a8ccc",
   "metadata": {},
   "source": [
    "Create `[anchor, positive, negative triplets]` for the dual encoder"
   ]
  },
  {
   "cell_type": "code",
   "execution_count": 12,
   "id": "3d86729f-290e-40ef-8687-7b7d9a066495",
   "metadata": {},
   "outputs": [
    {
     "data": {
      "text/plain": [
       "15720"
      ]
     },
     "execution_count": 12,
     "metadata": {},
     "output_type": "execute_result"
    }
   ],
   "source": [
    "triplet_train_exploded_df = (\n",
    "    triplet_train_dataframe\n",
    "    .explode('negatives')\n",
    "    .reset_index()[[\"anchor\", \"positive\", \"negatives\"]]\n",
    "    .rename({\"positive\" : \"positive_match\", \"negatives\": \"negative_match\"}, axis=1)\n",
    ")  \n",
    "\n",
    "len(triplet_train_exploded_df)\n"
   ]
  },
  {
   "cell_type": "code",
   "execution_count": 13,
   "id": "0e7ae501-6609-488e-a353-2c8e0e860de8",
   "metadata": {},
   "outputs": [
    {
     "data": {
      "text/html": [
       "<div>\n",
       "<style scoped>\n",
       "    .dataframe tbody tr th:only-of-type {\n",
       "        vertical-align: middle;\n",
       "    }\n",
       "\n",
       "    .dataframe tbody tr th {\n",
       "        vertical-align: top;\n",
       "    }\n",
       "\n",
       "    .dataframe thead th {\n",
       "        text-align: right;\n",
       "    }\n",
       "</style>\n",
       "<table border=\"1\" class=\"dataframe\">\n",
       "  <thead>\n",
       "    <tr style=\"text-align: right;\">\n",
       "      <th></th>\n",
       "      <th>anchor</th>\n",
       "      <th>positive_match</th>\n",
       "      <th>negative_match</th>\n",
       "    </tr>\n",
       "  </thead>\n",
       "  <tbody>\n",
       "    <tr>\n",
       "      <th>0</th>\n",
       "      <td>highlight the parts (if any) of this contract ...</td>\n",
       "      <td>october 1, 1999 (page 1)</td>\n",
       "      <td>distributor agreement (page 1)</td>\n",
       "    </tr>\n",
       "    <tr>\n",
       "      <th>1</th>\n",
       "      <td>highlight the parts (if any) of this contract ...</td>\n",
       "      <td>october 1, 1999 (page 1)</td>\n",
       "      <td>subject to the terms and conditions of this ag...</td>\n",
       "    </tr>\n",
       "    <tr>\n",
       "      <th>2</th>\n",
       "      <td>highlight the parts (if any) of this contract ...</td>\n",
       "      <td>october 1, 1999 (page 1)</td>\n",
       "      <td>ppg shanghai shall have the right to terminate...</td>\n",
       "    </tr>\n",
       "    <tr>\n",
       "      <th>3</th>\n",
       "      <td>highlight the parts (if any) of this contract ...</td>\n",
       "      <td>7th day of september, 1999. (page 1)</td>\n",
       "      <td>neither this agreement nor any right created b...</td>\n",
       "    </tr>\n",
       "    <tr>\n",
       "      <th>4</th>\n",
       "      <td>highlight the parts (if any) of this contract ...</td>\n",
       "      <td>7th day of september, 1999. (page 1)</td>\n",
       "      <td>neither party may assign this agreement, in wh...</td>\n",
       "    </tr>\n",
       "  </tbody>\n",
       "</table>\n",
       "</div>"
      ],
      "text/plain": [
       "                                              anchor  \\\n",
       "0  highlight the parts (if any) of this contract ...   \n",
       "1  highlight the parts (if any) of this contract ...   \n",
       "2  highlight the parts (if any) of this contract ...   \n",
       "3  highlight the parts (if any) of this contract ...   \n",
       "4  highlight the parts (if any) of this contract ...   \n",
       "\n",
       "                         positive_match  \\\n",
       "0              october 1, 1999 (page 1)   \n",
       "1              october 1, 1999 (page 1)   \n",
       "2              october 1, 1999 (page 1)   \n",
       "3  7th day of september, 1999. (page 1)   \n",
       "4  7th day of september, 1999. (page 1)   \n",
       "\n",
       "                                      negative_match  \n",
       "0                     distributor agreement (page 1)  \n",
       "1  subject to the terms and conditions of this ag...  \n",
       "2  ppg shanghai shall have the right to terminate...  \n",
       "3  neither this agreement nor any right created b...  \n",
       "4  neither party may assign this agreement, in wh...  "
      ]
     },
     "execution_count": 13,
     "metadata": {},
     "output_type": "execute_result"
    }
   ],
   "source": [
    "triplet_train_exploded_df.head()"
   ]
  },
  {
   "cell_type": "code",
   "execution_count": 14,
   "id": "7c032b38-991c-4e7f-8250-db1db9c15772",
   "metadata": {},
   "outputs": [],
   "source": [
    "triplet_train_exploded_df.to_csv(\"./data/train_cuad_dual_encoder.csv\")\n"
   ]
  },
  {
   "cell_type": "code",
   "execution_count": null,
   "id": "203715c1-a503-4fb4-a26b-dc12b6f35d70",
   "metadata": {},
   "outputs": [],
   "source": []
  },
  {
   "cell_type": "markdown",
   "id": "45f35062-a225-46ca-8dbd-412542342069",
   "metadata": {
    "tags": []
   },
   "source": [
    "### Cross encoder"
   ]
  },
  {
   "cell_type": "markdown",
   "id": "d69aaa3d-6dd1-4800-8c51-c59a4df4123f",
   "metadata": {},
   "source": [
    "Create `[query, result, label]` examples for cross encoder"
   ]
  },
  {
   "cell_type": "code",
   "execution_count": 15,
   "id": "32cd80c3-6058-4609-a1a8-41aeff714040",
   "metadata": {},
   "outputs": [],
   "source": [
    "anchor_positive = triplet_train_dataframe[[\"anchor\", \"positive\"]]\n",
    "anchor_negatives = triplet_train_dataframe[[\"anchor\", \"negatives\"]]"
   ]
  },
  {
   "cell_type": "code",
   "execution_count": 16,
   "id": "26beb591-0b1d-46f0-9f57-ced87e1e2de4",
   "metadata": {},
   "outputs": [],
   "source": [
    "anchor_positive = anchor_positive.rename(columns={\"anchor\": \"query\", \"positive\": \"text\"})\n",
    "anchor_positive[\"label\"] = 1"
   ]
  },
  {
   "cell_type": "code",
   "execution_count": 17,
   "id": "abbe7b7d-e771-4c11-9fa2-cf2586c01265",
   "metadata": {},
   "outputs": [],
   "source": [
    "anchor_negatives_exploded = (\n",
    "    anchor_negatives\n",
    "    .explode('negatives')\n",
    "    .reset_index()[[\"anchor\", \"negatives\"]]\n",
    "    .rename({\"anchor\" : \"query\", \"negatives\": \"text\"}, axis=1)\n",
    ")    \n",
    "\n",
    "anchor_negatives_exploded['label'] = 0"
   ]
  },
  {
   "cell_type": "code",
   "execution_count": 18,
   "id": "913d5c70-aa23-4bbf-b114-3e007cc48a51",
   "metadata": {},
   "outputs": [],
   "source": [
    "cross_encoder_train_data = pd.concat([anchor_positive, anchor_negatives_exploded]).reset_index()\n"
   ]
  },
  {
   "cell_type": "code",
   "execution_count": 19,
   "id": "dec7494c-c2c2-4472-9be4-3ff3e7a90e0f",
   "metadata": {},
   "outputs": [
    {
     "data": {
      "text/plain": [
       "20960"
      ]
     },
     "execution_count": 19,
     "metadata": {},
     "output_type": "execute_result"
    }
   ],
   "source": [
    "len(cross_encoder_train_data)"
   ]
  },
  {
   "cell_type": "code",
   "execution_count": 20,
   "id": "603e8fd5-5253-4243-a085-21e30005f5f5",
   "metadata": {},
   "outputs": [
    {
     "data": {
      "text/html": [
       "<div>\n",
       "<style scoped>\n",
       "    .dataframe tbody tr th:only-of-type {\n",
       "        vertical-align: middle;\n",
       "    }\n",
       "\n",
       "    .dataframe tbody tr th {\n",
       "        vertical-align: top;\n",
       "    }\n",
       "\n",
       "    .dataframe thead th {\n",
       "        text-align: right;\n",
       "    }\n",
       "</style>\n",
       "<table border=\"1\" class=\"dataframe\">\n",
       "  <thead>\n",
       "    <tr style=\"text-align: right;\">\n",
       "      <th></th>\n",
       "      <th>index</th>\n",
       "      <th>query</th>\n",
       "      <th>text</th>\n",
       "      <th>label</th>\n",
       "    </tr>\n",
       "  </thead>\n",
       "  <tbody>\n",
       "    <tr>\n",
       "      <th>0</th>\n",
       "      <td>0</td>\n",
       "      <td>highlight the parts (if any) of this contract ...</td>\n",
       "      <td>october 1, 1999 (page 1)</td>\n",
       "      <td>1</td>\n",
       "    </tr>\n",
       "    <tr>\n",
       "      <th>1</th>\n",
       "      <td>1</td>\n",
       "      <td>highlight the parts (if any) of this contract ...</td>\n",
       "      <td>7th day of september, 1999. (page 1)</td>\n",
       "      <td>1</td>\n",
       "    </tr>\n",
       "    <tr>\n",
       "      <th>2</th>\n",
       "      <td>2</td>\n",
       "      <td>highlight the parts (if any) of this contract ...</td>\n",
       "      <td>supply agreement (page 1)</td>\n",
       "      <td>1</td>\n",
       "    </tr>\n",
       "    <tr>\n",
       "      <th>3</th>\n",
       "      <td>3</td>\n",
       "      <td>highlight the parts (if any) of this contract ...</td>\n",
       "      <td>developer may not assign or transfer this agre...</td>\n",
       "      <td>1</td>\n",
       "    </tr>\n",
       "    <tr>\n",
       "      <th>4</th>\n",
       "      <td>4</td>\n",
       "      <td>highlight the parts (if any) of this contract ...</td>\n",
       "      <td>march 12,1999 (page 1)</td>\n",
       "      <td>1</td>\n",
       "    </tr>\n",
       "  </tbody>\n",
       "</table>\n",
       "</div>"
      ],
      "text/plain": [
       "   index                                              query  \\\n",
       "0      0  highlight the parts (if any) of this contract ...   \n",
       "1      1  highlight the parts (if any) of this contract ...   \n",
       "2      2  highlight the parts (if any) of this contract ...   \n",
       "3      3  highlight the parts (if any) of this contract ...   \n",
       "4      4  highlight the parts (if any) of this contract ...   \n",
       "\n",
       "                                                text  label  \n",
       "0                           october 1, 1999 (page 1)      1  \n",
       "1               7th day of september, 1999. (page 1)      1  \n",
       "2                          supply agreement (page 1)      1  \n",
       "3  developer may not assign or transfer this agre...      1  \n",
       "4                             march 12,1999 (page 1)      1  "
      ]
     },
     "execution_count": 20,
     "metadata": {},
     "output_type": "execute_result"
    }
   ],
   "source": [
    "cross_encoder_train_data.head()"
   ]
  },
  {
   "cell_type": "code",
   "execution_count": 21,
   "id": "0b7b9342-8c28-40bd-b2d7-84a27904ba8c",
   "metadata": {},
   "outputs": [
    {
     "data": {
      "text/html": [
       "<div>\n",
       "<style scoped>\n",
       "    .dataframe tbody tr th:only-of-type {\n",
       "        vertical-align: middle;\n",
       "    }\n",
       "\n",
       "    .dataframe tbody tr th {\n",
       "        vertical-align: top;\n",
       "    }\n",
       "\n",
       "    .dataframe thead th {\n",
       "        text-align: right;\n",
       "    }\n",
       "</style>\n",
       "<table border=\"1\" class=\"dataframe\">\n",
       "  <thead>\n",
       "    <tr style=\"text-align: right;\">\n",
       "      <th></th>\n",
       "      <th>index</th>\n",
       "      <th>query</th>\n",
       "      <th>text</th>\n",
       "      <th>label</th>\n",
       "    </tr>\n",
       "  </thead>\n",
       "  <tbody>\n",
       "    <tr>\n",
       "      <th>5239</th>\n",
       "      <td>5239</td>\n",
       "      <td>highlight the parts (if any) of this contract ...</td>\n",
       "      <td>thereafter, bellicum shall have consecutive se...</td>\n",
       "      <td>1</td>\n",
       "    </tr>\n",
       "    <tr>\n",
       "      <th>5240</th>\n",
       "      <td>0</td>\n",
       "      <td>highlight the parts (if any) of this contract ...</td>\n",
       "      <td>distributor agreement (page 1)</td>\n",
       "      <td>0</td>\n",
       "    </tr>\n",
       "    <tr>\n",
       "      <th>5241</th>\n",
       "      <td>1</td>\n",
       "      <td>highlight the parts (if any) of this contract ...</td>\n",
       "      <td>subject to the terms and conditions of this ag...</td>\n",
       "      <td>0</td>\n",
       "    </tr>\n",
       "    <tr>\n",
       "      <th>5242</th>\n",
       "      <td>2</td>\n",
       "      <td>highlight the parts (if any) of this contract ...</td>\n",
       "      <td>ppg shanghai shall have the right to terminate...</td>\n",
       "      <td>0</td>\n",
       "    </tr>\n",
       "    <tr>\n",
       "      <th>5243</th>\n",
       "      <td>3</td>\n",
       "      <td>highlight the parts (if any) of this contract ...</td>\n",
       "      <td>neither this agreement nor any right created b...</td>\n",
       "      <td>0</td>\n",
       "    </tr>\n",
       "  </tbody>\n",
       "</table>\n",
       "</div>"
      ],
      "text/plain": [
       "      index                                              query  \\\n",
       "5239   5239  highlight the parts (if any) of this contract ...   \n",
       "5240      0  highlight the parts (if any) of this contract ...   \n",
       "5241      1  highlight the parts (if any) of this contract ...   \n",
       "5242      2  highlight the parts (if any) of this contract ...   \n",
       "5243      3  highlight the parts (if any) of this contract ...   \n",
       "\n",
       "                                                   text  label  \n",
       "5239  thereafter, bellicum shall have consecutive se...      1  \n",
       "5240                     distributor agreement (page 1)      0  \n",
       "5241  subject to the terms and conditions of this ag...      0  \n",
       "5242  ppg shanghai shall have the right to terminate...      0  \n",
       "5243  neither this agreement nor any right created b...      0  "
      ]
     },
     "execution_count": 21,
     "metadata": {},
     "output_type": "execute_result"
    }
   ],
   "source": [
    "cross_encoder_train_data[5239:].head()"
   ]
  },
  {
   "cell_type": "code",
   "execution_count": 22,
   "id": "1aba8c0b-eb97-4b89-a988-4511ad27782f",
   "metadata": {},
   "outputs": [],
   "source": [
    "cross_encoder_train_data.to_csv(\"./data/train_cuad_cross_encoder.csv\")"
   ]
  },
  {
   "cell_type": "code",
   "execution_count": null,
   "id": "713252f6-a809-4737-9f6f-ada15e04441e",
   "metadata": {},
   "outputs": [],
   "source": []
  },
  {
   "cell_type": "markdown",
   "id": "88440b60-59b7-4305-977b-0587e44927ef",
   "metadata": {},
   "source": [
    "Final check"
   ]
  },
  {
   "cell_type": "code",
   "execution_count": 23,
   "id": "b8ed98c4-4b8e-4555-88ef-679a42438ec4",
   "metadata": {},
   "outputs": [],
   "source": [
    "train_cuad_cross_encoder = pd.read_csv(\"./data/train_cuad_cross_encoder.csv\")"
   ]
  },
  {
   "cell_type": "code",
   "execution_count": 24,
   "id": "11209155-d1e4-4c2d-ab57-41bd292084c4",
   "metadata": {},
   "outputs": [],
   "source": [
    "train_cuad_dual_encoder = pd.read_csv(\"./data/train_cuad_dual_encoder.csv\")"
   ]
  },
  {
   "cell_type": "code",
   "execution_count": 25,
   "id": "133b75f8-1bc5-4132-b120-90a5d52eb102",
   "metadata": {},
   "outputs": [
    {
     "data": {
      "text/plain": [
       "20960"
      ]
     },
     "execution_count": 25,
     "metadata": {},
     "output_type": "execute_result"
    }
   ],
   "source": [
    "len(train_cuad_cross_encoder)"
   ]
  },
  {
   "cell_type": "code",
   "execution_count": 26,
   "id": "a9ec30ae-dd7a-4345-8501-286df820d35c",
   "metadata": {},
   "outputs": [
    {
     "data": {
      "text/plain": [
       "15720"
      ]
     },
     "execution_count": 26,
     "metadata": {},
     "output_type": "execute_result"
    }
   ],
   "source": [
    "len(train_cuad_dual_encoder)"
   ]
  },
  {
   "cell_type": "code",
   "execution_count": null,
   "id": "c763e6bc-79a4-49f1-b559-c145bd65d95f",
   "metadata": {},
   "outputs": [],
   "source": []
  },
  {
   "cell_type": "markdown",
   "id": "f3a8dc69-f60a-49df-b396-eea7f193f9da",
   "metadata": {
    "jp-MarkdownHeadingCollapsed": true,
    "tags": []
   },
   "source": [
    "# Make a train/test split -- same clause categories in train/test"
   ]
  },
  {
   "cell_type": "code",
   "execution_count": 5,
   "id": "7834c9e3-3203-4c0d-8da4-af214e33d301",
   "metadata": {},
   "outputs": [],
   "source": [
    "from sklearn.model_selection import train_test_split"
   ]
  },
  {
   "cell_type": "code",
   "execution_count": 19,
   "id": "c9f28691-193a-49de-8f95-f331fce935c3",
   "metadata": {},
   "outputs": [
    {
     "data": {
      "text/plain": [
       "6702"
      ]
     },
     "execution_count": 19,
     "metadata": {},
     "output_type": "execute_result"
    }
   ],
   "source": [
    "all_cuad_data = pd.read_csv(\"./data/original_cuad_data/cuad_data_full_clauses.csv\")\n",
    "len(all_cuad_data)"
   ]
  },
  {
   "cell_type": "code",
   "execution_count": 20,
   "id": "81d0e9cb-daa9-4545-90b9-9dbe60aeaf83",
   "metadata": {},
   "outputs": [
    {
     "data": {
      "text/html": [
       "<div>\n",
       "<style scoped>\n",
       "    .dataframe tbody tr th:only-of-type {\n",
       "        vertical-align: middle;\n",
       "    }\n",
       "\n",
       "    .dataframe tbody tr th {\n",
       "        vertical-align: top;\n",
       "    }\n",
       "\n",
       "    .dataframe thead th {\n",
       "        text-align: right;\n",
       "    }\n",
       "</style>\n",
       "<table border=\"1\" class=\"dataframe\">\n",
       "  <thead>\n",
       "    <tr style=\"text-align: right;\">\n",
       "      <th></th>\n",
       "      <th>Unnamed: 0</th>\n",
       "      <th>index</th>\n",
       "      <th>clause_type</th>\n",
       "      <th>query</th>\n",
       "      <th>raw_text</th>\n",
       "      <th>text</th>\n",
       "    </tr>\n",
       "  </thead>\n",
       "  <tbody>\n",
       "    <tr>\n",
       "      <th>0</th>\n",
       "      <td>0</td>\n",
       "      <td>0</td>\n",
       "      <td>rofr/rofo/rofn</td>\n",
       "      <td>highlight the parts (if any) of this contract ...</td>\n",
       "      <td>If, during the Term, Licensor develops or obta...</td>\n",
       "      <td>if, during the term, licensor develops or obta...</td>\n",
       "    </tr>\n",
       "    <tr>\n",
       "      <th>1</th>\n",
       "      <td>1</td>\n",
       "      <td>1</td>\n",
       "      <td>rofr/rofo/rofn</td>\n",
       "      <td>highlight the parts (if any) of this contract ...</td>\n",
       "      <td>During the Term, Women.com agrees to give eDie...</td>\n",
       "      <td>during the term, women.com agrees to give edie...</td>\n",
       "    </tr>\n",
       "    <tr>\n",
       "      <th>2</th>\n",
       "      <td>2</td>\n",
       "      <td>2</td>\n",
       "      <td>rofr/rofo/rofn</td>\n",
       "      <td>highlight the parts (if any) of this contract ...</td>\n",
       "      <td>During the Term (including any renewal Term, i...</td>\n",
       "      <td>during the term (including any renewal term, i...</td>\n",
       "    </tr>\n",
       "    <tr>\n",
       "      <th>3</th>\n",
       "      <td>3</td>\n",
       "      <td>3</td>\n",
       "      <td>rofr/rofo/rofn</td>\n",
       "      <td>highlight the parts (if any) of this contract ...</td>\n",
       "      <td>Notwithstanding the foregoing, in the event th...</td>\n",
       "      <td>notwithstanding the foregoing, in the event th...</td>\n",
       "    </tr>\n",
       "    <tr>\n",
       "      <th>4</th>\n",
       "      <td>4</td>\n",
       "      <td>4</td>\n",
       "      <td>rofr/rofo/rofn</td>\n",
       "      <td>highlight the parts (if any) of this contract ...</td>\n",
       "      <td>Notwithstanding the foregoing, in the event Ex...</td>\n",
       "      <td>notwithstanding the foregoing, in the event ex...</td>\n",
       "    </tr>\n",
       "  </tbody>\n",
       "</table>\n",
       "</div>"
      ],
      "text/plain": [
       "   Unnamed: 0  index     clause_type  \\\n",
       "0           0      0  rofr/rofo/rofn   \n",
       "1           1      1  rofr/rofo/rofn   \n",
       "2           2      2  rofr/rofo/rofn   \n",
       "3           3      3  rofr/rofo/rofn   \n",
       "4           4      4  rofr/rofo/rofn   \n",
       "\n",
       "                                               query  \\\n",
       "0  highlight the parts (if any) of this contract ...   \n",
       "1  highlight the parts (if any) of this contract ...   \n",
       "2  highlight the parts (if any) of this contract ...   \n",
       "3  highlight the parts (if any) of this contract ...   \n",
       "4  highlight the parts (if any) of this contract ...   \n",
       "\n",
       "                                            raw_text  \\\n",
       "0  If, during the Term, Licensor develops or obta...   \n",
       "1  During the Term, Women.com agrees to give eDie...   \n",
       "2  During the Term (including any renewal Term, i...   \n",
       "3  Notwithstanding the foregoing, in the event th...   \n",
       "4  Notwithstanding the foregoing, in the event Ex...   \n",
       "\n",
       "                                                text  \n",
       "0  if, during the term, licensor develops or obta...  \n",
       "1  during the term, women.com agrees to give edie...  \n",
       "2  during the term (including any renewal term, i...  \n",
       "3  notwithstanding the foregoing, in the event th...  \n",
       "4  notwithstanding the foregoing, in the event ex...  "
      ]
     },
     "execution_count": 20,
     "metadata": {},
     "output_type": "execute_result"
    }
   ],
   "source": [
    "all_cuad_data.head()"
   ]
  },
  {
   "cell_type": "code",
   "execution_count": 21,
   "id": "6638f7db-aaff-4f68-9141-0fbebf220e8f",
   "metadata": {},
   "outputs": [],
   "source": [
    "train, test = train_test_split(all_cuad_data, test_size=0.21814383766)"
   ]
  },
  {
   "cell_type": "code",
   "execution_count": 24,
   "id": "19f356c8-d86b-4a4a-9910-b6a4bf68853b",
   "metadata": {},
   "outputs": [
    {
     "data": {
      "text/plain": [
       "5240"
      ]
     },
     "execution_count": 24,
     "metadata": {},
     "output_type": "execute_result"
    }
   ],
   "source": [
    "len(train)"
   ]
  },
  {
   "cell_type": "code",
   "execution_count": 25,
   "id": "fa98e64a-e157-4c37-b757-c39c4365633b",
   "metadata": {},
   "outputs": [
    {
     "data": {
      "text/plain": [
       "1462"
      ]
     },
     "execution_count": 25,
     "metadata": {},
     "output_type": "execute_result"
    }
   ],
   "source": [
    "len(test)"
   ]
  },
  {
   "cell_type": "code",
   "execution_count": 26,
   "id": "ec53bacf-e9d9-4bd7-9fe0-5e7263bd2f2f",
   "metadata": {},
   "outputs": [],
   "source": [
    "if not os.path.exists(\"./data/cuad_data_same_clauses\"):\n",
    "    os.makedirs(\"./data/cuad_data_same_clauses\")"
   ]
  },
  {
   "cell_type": "code",
   "execution_count": 27,
   "id": "de4328cf-f14d-4545-bbd8-4a094e5417d1",
   "metadata": {},
   "outputs": [
    {
     "data": {
      "text/plain": [
       "41"
      ]
     },
     "execution_count": 27,
     "metadata": {},
     "output_type": "execute_result"
    }
   ],
   "source": [
    "len(list(set(train[\"clause_type\"])))"
   ]
  },
  {
   "cell_type": "code",
   "execution_count": 28,
   "id": "e995b2fb-44e6-4c09-9f6f-6fa597a85514",
   "metadata": {},
   "outputs": [
    {
     "data": {
      "text/plain": [
       "41"
      ]
     },
     "execution_count": 28,
     "metadata": {},
     "output_type": "execute_result"
    }
   ],
   "source": [
    "len(list(set(test[\"clause_type\"])))"
   ]
  },
  {
   "cell_type": "code",
   "execution_count": 29,
   "id": "bd68c50a-a238-42ec-a1ec-d0048ee38aac",
   "metadata": {},
   "outputs": [],
   "source": [
    "train.to_csv(\"./data/cuad_data_same_clauses/train_cuad_data.csv\")\n",
    "test.to_csv(\"./data/cuad_data_same_clauses/test_cuad_data.csv\")\n",
    "test.to_csv(\"./data/test_sets/test_cuad_data_same_clauses.csv\")\n"
   ]
  },
  {
   "cell_type": "code",
   "execution_count": null,
   "id": "c36f50ff-452c-4b7d-91ef-b4db43d4224c",
   "metadata": {},
   "outputs": [],
   "source": []
  },
  {
   "cell_type": "markdown",
   "id": "19785f58-fb8f-4008-8308-4827731639ae",
   "metadata": {},
   "source": [
    "## Read in train/test data to make sure everything checks out"
   ]
  },
  {
   "cell_type": "code",
   "execution_count": 44,
   "id": "f3d6221e-422c-452d-aa68-ea75375e4321",
   "metadata": {},
   "outputs": [
    {
     "name": "stdout",
     "output_type": "stream",
     "text": [
      "5240\n"
     ]
    },
    {
     "data": {
      "text/html": [
       "<div>\n",
       "<style scoped>\n",
       "    .dataframe tbody tr th:only-of-type {\n",
       "        vertical-align: middle;\n",
       "    }\n",
       "\n",
       "    .dataframe tbody tr th {\n",
       "        vertical-align: top;\n",
       "    }\n",
       "\n",
       "    .dataframe thead th {\n",
       "        text-align: right;\n",
       "    }\n",
       "</style>\n",
       "<table border=\"1\" class=\"dataframe\">\n",
       "  <thead>\n",
       "    <tr style=\"text-align: right;\">\n",
       "      <th></th>\n",
       "      <th>Unnamed: 0.1</th>\n",
       "      <th>Unnamed: 0</th>\n",
       "      <th>index</th>\n",
       "      <th>clause_type</th>\n",
       "      <th>query</th>\n",
       "      <th>raw_text</th>\n",
       "      <th>text</th>\n",
       "    </tr>\n",
       "  </thead>\n",
       "  <tbody>\n",
       "    <tr>\n",
       "      <th>0</th>\n",
       "      <td>1800</td>\n",
       "      <td>1959</td>\n",
       "      <td>443</td>\n",
       "      <td>agreement date</td>\n",
       "      <td>highlight the parts (if any) of this contract ...</td>\n",
       "      <td>March 30, 2011 (Page 1)</td>\n",
       "      <td>march 30, 2011 (page 1)</td>\n",
       "    </tr>\n",
       "    <tr>\n",
       "      <th>1</th>\n",
       "      <td>1059</td>\n",
       "      <td>1149</td>\n",
       "      <td>265</td>\n",
       "      <td>governing law</td>\n",
       "      <td>highlight the parts (if any) of this contract ...</td>\n",
       "      <td>Effective legislation of the Republic of Kazak...</td>\n",
       "      <td>effective legislation of the republic of kazak...</td>\n",
       "    </tr>\n",
       "    <tr>\n",
       "      <th>2</th>\n",
       "      <td>3080</td>\n",
       "      <td>4407</td>\n",
       "      <td>369</td>\n",
       "      <td>change of control</td>\n",
       "      <td>highlight the parts (if any) of this contract ...</td>\n",
       "      <td>If there is a change in Control of the first p...</td>\n",
       "      <td>if there is a change in control of the first p...</td>\n",
       "    </tr>\n",
       "    <tr>\n",
       "      <th>3</th>\n",
       "      <td>2436</td>\n",
       "      <td>2731</td>\n",
       "      <td>213</td>\n",
       "      <td>expiration date</td>\n",
       "      <td>highlight the parts (if any) of this contract ...</td>\n",
       "      <td>This Agreement shall automatically terminate a...</td>\n",
       "      <td>this agreement shall automatically terminate a...</td>\n",
       "    </tr>\n",
       "    <tr>\n",
       "      <th>4</th>\n",
       "      <td>4118</td>\n",
       "      <td>5540</td>\n",
       "      <td>90</td>\n",
       "      <td>parties</td>\n",
       "      <td>highlight the parts (if any) of this contract ...</td>\n",
       "      <td>VerticalNet, Inc. (Page 1)\\n\\n\"VerticalNet\" (P...</td>\n",
       "      <td>verticalnet, inc. (page 1) \"verticalnet\" (page...</td>\n",
       "    </tr>\n",
       "  </tbody>\n",
       "</table>\n",
       "</div>"
      ],
      "text/plain": [
       "   Unnamed: 0.1  Unnamed: 0  index        clause_type  \\\n",
       "0          1800        1959    443     agreement date   \n",
       "1          1059        1149    265      governing law   \n",
       "2          3080        4407    369  change of control   \n",
       "3          2436        2731    213    expiration date   \n",
       "4          4118        5540     90            parties   \n",
       "\n",
       "                                               query  \\\n",
       "0  highlight the parts (if any) of this contract ...   \n",
       "1  highlight the parts (if any) of this contract ...   \n",
       "2  highlight the parts (if any) of this contract ...   \n",
       "3  highlight the parts (if any) of this contract ...   \n",
       "4  highlight the parts (if any) of this contract ...   \n",
       "\n",
       "                                            raw_text  \\\n",
       "0                            March 30, 2011 (Page 1)   \n",
       "1  Effective legislation of the Republic of Kazak...   \n",
       "2  If there is a change in Control of the first p...   \n",
       "3  This Agreement shall automatically terminate a...   \n",
       "4  VerticalNet, Inc. (Page 1)\\n\\n\"VerticalNet\" (P...   \n",
       "\n",
       "                                                text  \n",
       "0                            march 30, 2011 (page 1)  \n",
       "1  effective legislation of the republic of kazak...  \n",
       "2  if there is a change in control of the first p...  \n",
       "3  this agreement shall automatically terminate a...  \n",
       "4  verticalnet, inc. (page 1) \"verticalnet\" (page...  "
      ]
     },
     "execution_count": 44,
     "metadata": {},
     "output_type": "execute_result"
    }
   ],
   "source": [
    "train_cuad_data = pd.read_csv(\"./data/cuad_data_same_clauses/train_cuad_data.csv\")\n",
    "print(len(train_cuad_data))\n",
    "train_cuad_data.head()"
   ]
  },
  {
   "cell_type": "code",
   "execution_count": 45,
   "id": "30eabd3c-c650-4284-8879-9c13a3b3afff",
   "metadata": {},
   "outputs": [
    {
     "name": "stdout",
     "output_type": "stream",
     "text": [
      "1462\n"
     ]
    },
    {
     "data": {
      "text/html": [
       "<div>\n",
       "<style scoped>\n",
       "    .dataframe tbody tr th:only-of-type {\n",
       "        vertical-align: middle;\n",
       "    }\n",
       "\n",
       "    .dataframe tbody tr th {\n",
       "        vertical-align: top;\n",
       "    }\n",
       "\n",
       "    .dataframe thead th {\n",
       "        text-align: right;\n",
       "    }\n",
       "</style>\n",
       "<table border=\"1\" class=\"dataframe\">\n",
       "  <thead>\n",
       "    <tr style=\"text-align: right;\">\n",
       "      <th></th>\n",
       "      <th>Unnamed: 0.1</th>\n",
       "      <th>Unnamed: 0</th>\n",
       "      <th>index</th>\n",
       "      <th>clause_type</th>\n",
       "      <th>query</th>\n",
       "      <th>raw_text</th>\n",
       "      <th>text</th>\n",
       "    </tr>\n",
       "  </thead>\n",
       "  <tbody>\n",
       "    <tr>\n",
       "      <th>0</th>\n",
       "      <td>4773</td>\n",
       "      <td>6196</td>\n",
       "      <td>87</td>\n",
       "      <td>document name</td>\n",
       "      <td>highlight the parts (if any) of this contract ...</td>\n",
       "      <td>CO-BRANDING AGREEMENT (Page 1)</td>\n",
       "      <td>co-branding agreement (page 1)</td>\n",
       "    </tr>\n",
       "    <tr>\n",
       "      <th>1</th>\n",
       "      <td>1828</td>\n",
       "      <td>1989</td>\n",
       "      <td>473</td>\n",
       "      <td>agreement date</td>\n",
       "      <td>highlight the parts (if any) of this contract ...</td>\n",
       "      <td>April 14, 2000 (Page 1)</td>\n",
       "      <td>april 14, 2000 (page 1)</td>\n",
       "    </tr>\n",
       "    <tr>\n",
       "      <th>2</th>\n",
       "      <td>1527</td>\n",
       "      <td>1671</td>\n",
       "      <td>155</td>\n",
       "      <td>agreement date</td>\n",
       "      <td>highlight the parts (if any) of this contract ...</td>\n",
       "      <td>March 15, 2019 (Page 1)</td>\n",
       "      <td>march 15, 2019 (page 1)</td>\n",
       "    </tr>\n",
       "    <tr>\n",
       "      <th>3</th>\n",
       "      <td>2783</td>\n",
       "      <td>3409</td>\n",
       "      <td>390</td>\n",
       "      <td>renewal term</td>\n",
       "      <td>highlight the parts (if any) of this contract ...</td>\n",
       "      <td>As provided for in this Section 1, the term of...</td>\n",
       "      <td>as provided for in this section 1, the term of...</td>\n",
       "    </tr>\n",
       "    <tr>\n",
       "      <th>4</th>\n",
       "      <td>1412</td>\n",
       "      <td>1545</td>\n",
       "      <td>29</td>\n",
       "      <td>agreement date</td>\n",
       "      <td>highlight the parts (if any) of this contract ...</td>\n",
       "      <td>September 27, 2018 (Page 5)</td>\n",
       "      <td>september 27, 2018 (page 5)</td>\n",
       "    </tr>\n",
       "  </tbody>\n",
       "</table>\n",
       "</div>"
      ],
      "text/plain": [
       "   Unnamed: 0.1  Unnamed: 0  index     clause_type  \\\n",
       "0          4773        6196     87   document name   \n",
       "1          1828        1989    473  agreement date   \n",
       "2          1527        1671    155  agreement date   \n",
       "3          2783        3409    390    renewal term   \n",
       "4          1412        1545     29  agreement date   \n",
       "\n",
       "                                               query  \\\n",
       "0  highlight the parts (if any) of this contract ...   \n",
       "1  highlight the parts (if any) of this contract ...   \n",
       "2  highlight the parts (if any) of this contract ...   \n",
       "3  highlight the parts (if any) of this contract ...   \n",
       "4  highlight the parts (if any) of this contract ...   \n",
       "\n",
       "                                            raw_text  \\\n",
       "0                     CO-BRANDING AGREEMENT (Page 1)   \n",
       "1                            April 14, 2000 (Page 1)   \n",
       "2                            March 15, 2019 (Page 1)   \n",
       "3  As provided for in this Section 1, the term of...   \n",
       "4                        September 27, 2018 (Page 5)   \n",
       "\n",
       "                                                text  \n",
       "0                     co-branding agreement (page 1)  \n",
       "1                            april 14, 2000 (page 1)  \n",
       "2                            march 15, 2019 (page 1)  \n",
       "3  as provided for in this section 1, the term of...  \n",
       "4                        september 27, 2018 (page 5)  "
      ]
     },
     "execution_count": 45,
     "metadata": {},
     "output_type": "execute_result"
    }
   ],
   "source": [
    "train_cuad_data = pd.read_csv(\"./data/cuad_data_same_clauses/test_cuad_data.csv\")\n",
    "print(len(train_cuad_data))\n",
    "train_cuad_data.head()"
   ]
  },
  {
   "cell_type": "code",
   "execution_count": 50,
   "id": "e625e108-3c78-477e-8c16-ac80fa9d93f5",
   "metadata": {},
   "outputs": [
    {
     "name": "stdout",
     "output_type": "stream",
     "text": [
      "41\n"
     ]
    },
    {
     "data": {
      "text/plain": [
       "{'affiliate license-licensee',\n",
       " 'affiliate license-licensor',\n",
       " 'agreement date',\n",
       " 'anti-assignment',\n",
       " 'audit rights',\n",
       " 'cap on liability',\n",
       " 'change of control',\n",
       " 'competitive restriction exception',\n",
       " 'covenant not to sue',\n",
       " 'document name',\n",
       " 'effective date',\n",
       " 'exclusivity',\n",
       " 'expiration date',\n",
       " 'governing law',\n",
       " 'insurance',\n",
       " 'ip ownership assignment',\n",
       " 'irrevocable or perpetual license',\n",
       " 'joint ip ownership',\n",
       " 'license grant',\n",
       " 'liquidated damages',\n",
       " 'minimum commitment',\n",
       " 'most favored nation',\n",
       " 'no-solicit of customers',\n",
       " 'no-solicit of employees',\n",
       " 'non-compete',\n",
       " 'non-disparagement',\n",
       " 'non-transferable license',\n",
       " 'notice period to terminate renewal',\n",
       " 'parties',\n",
       " 'post-termination services',\n",
       " 'price restrictions',\n",
       " 'renewal term',\n",
       " 'revenue/profit sharing',\n",
       " 'rofr/rofo/rofn',\n",
       " 'source code escrow',\n",
       " 'termination for convenience',\n",
       " 'third party beneficiary',\n",
       " 'uncapped liability',\n",
       " 'unlimited/all-you-can-eat-license',\n",
       " 'volume restriction',\n",
       " 'warranty duration'}"
      ]
     },
     "execution_count": 50,
     "metadata": {},
     "output_type": "execute_result"
    }
   ],
   "source": [
    "print(len(set(train_cuad_data[\"clause_type\"])))\n",
    "set(train_cuad_data[\"clause_type\"])"
   ]
  },
  {
   "cell_type": "code",
   "execution_count": 51,
   "id": "ef30f0bb-a326-4d93-8f4a-ada89cfee996",
   "metadata": {},
   "outputs": [
    {
     "name": "stdout",
     "output_type": "stream",
     "text": [
      "1462\n"
     ]
    },
    {
     "data": {
      "text/html": [
       "<div>\n",
       "<style scoped>\n",
       "    .dataframe tbody tr th:only-of-type {\n",
       "        vertical-align: middle;\n",
       "    }\n",
       "\n",
       "    .dataframe tbody tr th {\n",
       "        vertical-align: top;\n",
       "    }\n",
       "\n",
       "    .dataframe thead th {\n",
       "        text-align: right;\n",
       "    }\n",
       "</style>\n",
       "<table border=\"1\" class=\"dataframe\">\n",
       "  <thead>\n",
       "    <tr style=\"text-align: right;\">\n",
       "      <th></th>\n",
       "      <th>Unnamed: 0.1</th>\n",
       "      <th>Unnamed: 0</th>\n",
       "      <th>index</th>\n",
       "      <th>clause_type</th>\n",
       "      <th>query</th>\n",
       "      <th>raw_text</th>\n",
       "      <th>text</th>\n",
       "    </tr>\n",
       "  </thead>\n",
       "  <tbody>\n",
       "    <tr>\n",
       "      <th>0</th>\n",
       "      <td>4773</td>\n",
       "      <td>6196</td>\n",
       "      <td>87</td>\n",
       "      <td>document name</td>\n",
       "      <td>highlight the parts (if any) of this contract ...</td>\n",
       "      <td>CO-BRANDING AGREEMENT (Page 1)</td>\n",
       "      <td>co-branding agreement (page 1)</td>\n",
       "    </tr>\n",
       "    <tr>\n",
       "      <th>1</th>\n",
       "      <td>1828</td>\n",
       "      <td>1989</td>\n",
       "      <td>473</td>\n",
       "      <td>agreement date</td>\n",
       "      <td>highlight the parts (if any) of this contract ...</td>\n",
       "      <td>April 14, 2000 (Page 1)</td>\n",
       "      <td>april 14, 2000 (page 1)</td>\n",
       "    </tr>\n",
       "    <tr>\n",
       "      <th>2</th>\n",
       "      <td>1527</td>\n",
       "      <td>1671</td>\n",
       "      <td>155</td>\n",
       "      <td>agreement date</td>\n",
       "      <td>highlight the parts (if any) of this contract ...</td>\n",
       "      <td>March 15, 2019 (Page 1)</td>\n",
       "      <td>march 15, 2019 (page 1)</td>\n",
       "    </tr>\n",
       "    <tr>\n",
       "      <th>3</th>\n",
       "      <td>2783</td>\n",
       "      <td>3409</td>\n",
       "      <td>390</td>\n",
       "      <td>renewal term</td>\n",
       "      <td>highlight the parts (if any) of this contract ...</td>\n",
       "      <td>As provided for in this Section 1, the term of...</td>\n",
       "      <td>as provided for in this section 1, the term of...</td>\n",
       "    </tr>\n",
       "    <tr>\n",
       "      <th>4</th>\n",
       "      <td>1412</td>\n",
       "      <td>1545</td>\n",
       "      <td>29</td>\n",
       "      <td>agreement date</td>\n",
       "      <td>highlight the parts (if any) of this contract ...</td>\n",
       "      <td>September 27, 2018 (Page 5)</td>\n",
       "      <td>september 27, 2018 (page 5)</td>\n",
       "    </tr>\n",
       "  </tbody>\n",
       "</table>\n",
       "</div>"
      ],
      "text/plain": [
       "   Unnamed: 0.1  Unnamed: 0  index     clause_type  \\\n",
       "0          4773        6196     87   document name   \n",
       "1          1828        1989    473  agreement date   \n",
       "2          1527        1671    155  agreement date   \n",
       "3          2783        3409    390    renewal term   \n",
       "4          1412        1545     29  agreement date   \n",
       "\n",
       "                                               query  \\\n",
       "0  highlight the parts (if any) of this contract ...   \n",
       "1  highlight the parts (if any) of this contract ...   \n",
       "2  highlight the parts (if any) of this contract ...   \n",
       "3  highlight the parts (if any) of this contract ...   \n",
       "4  highlight the parts (if any) of this contract ...   \n",
       "\n",
       "                                            raw_text  \\\n",
       "0                     CO-BRANDING AGREEMENT (Page 1)   \n",
       "1                            April 14, 2000 (Page 1)   \n",
       "2                            March 15, 2019 (Page 1)   \n",
       "3  As provided for in this Section 1, the term of...   \n",
       "4                        September 27, 2018 (Page 5)   \n",
       "\n",
       "                                                text  \n",
       "0                     co-branding agreement (page 1)  \n",
       "1                            april 14, 2000 (page 1)  \n",
       "2                            march 15, 2019 (page 1)  \n",
       "3  as provided for in this section 1, the term of...  \n",
       "4                        september 27, 2018 (page 5)  "
      ]
     },
     "execution_count": 51,
     "metadata": {},
     "output_type": "execute_result"
    }
   ],
   "source": [
    "test_cuad_data = pd.read_csv(\"./data/cuad_data_same_clauses/test_cuad_data.csv\")\n",
    "print(len(train_cuad_data))\n",
    "train_cuad_data.head()"
   ]
  },
  {
   "cell_type": "code",
   "execution_count": 52,
   "id": "6b2598b4-d6bd-4ed9-8424-6fca8968720a",
   "metadata": {},
   "outputs": [
    {
     "name": "stdout",
     "output_type": "stream",
     "text": [
      "41\n"
     ]
    },
    {
     "data": {
      "text/plain": [
       "{'affiliate license-licensee',\n",
       " 'affiliate license-licensor',\n",
       " 'agreement date',\n",
       " 'anti-assignment',\n",
       " 'audit rights',\n",
       " 'cap on liability',\n",
       " 'change of control',\n",
       " 'competitive restriction exception',\n",
       " 'covenant not to sue',\n",
       " 'document name',\n",
       " 'effective date',\n",
       " 'exclusivity',\n",
       " 'expiration date',\n",
       " 'governing law',\n",
       " 'insurance',\n",
       " 'ip ownership assignment',\n",
       " 'irrevocable or perpetual license',\n",
       " 'joint ip ownership',\n",
       " 'license grant',\n",
       " 'liquidated damages',\n",
       " 'minimum commitment',\n",
       " 'most favored nation',\n",
       " 'no-solicit of customers',\n",
       " 'no-solicit of employees',\n",
       " 'non-compete',\n",
       " 'non-disparagement',\n",
       " 'non-transferable license',\n",
       " 'notice period to terminate renewal',\n",
       " 'parties',\n",
       " 'post-termination services',\n",
       " 'price restrictions',\n",
       " 'renewal term',\n",
       " 'revenue/profit sharing',\n",
       " 'rofr/rofo/rofn',\n",
       " 'source code escrow',\n",
       " 'termination for convenience',\n",
       " 'third party beneficiary',\n",
       " 'uncapped liability',\n",
       " 'unlimited/all-you-can-eat-license',\n",
       " 'volume restriction',\n",
       " 'warranty duration'}"
      ]
     },
     "execution_count": 52,
     "metadata": {},
     "output_type": "execute_result"
    }
   ],
   "source": [
    "print(len(set(test_cuad_data[\"clause_type\"])))\n",
    "set(test_cuad_data[\"clause_type\"])"
   ]
  },
  {
   "cell_type": "code",
   "execution_count": null,
   "id": "79fe2ab0-5af5-472a-9221-70ee1475a854",
   "metadata": {},
   "outputs": [],
   "source": []
  },
  {
   "cell_type": "markdown",
   "id": "08061d46-7e1d-4e24-b2e0-213ea568048e",
   "metadata": {
    "tags": []
   },
   "source": [
    "## Format train datasets for cross/dual encoders"
   ]
  },
  {
   "cell_type": "markdown",
   "id": "49f9c66c-4e2f-42b9-bd47-c2a688269421",
   "metadata": {},
   "source": [
    "Cross encoder is trained with `[anchor, positive]` binary cross entropy loss while the dual encoder is trained `[anchor, positive, negative]` with a triplet cross entropy loss."
   ]
  },
  {
   "cell_type": "code",
   "execution_count": 56,
   "id": "6ec5e917-71ee-445f-8e34-999a7aa94afc",
   "metadata": {},
   "outputs": [],
   "source": [
    "train_cuad_data = pd.read_csv(\"./data/cuad_data_same_clauses/train_cuad_data.csv\")\n",
    "test_cuad_data = pd.read_csv(\"./data/cuad_data_same_clauses/test_cuad_data.csv\")\n"
   ]
  },
  {
   "cell_type": "markdown",
   "id": "19607e84-8d92-40bd-acb5-23fbde94d659",
   "metadata": {},
   "source": [
    "Sample three negatives for each positive"
   ]
  },
  {
   "cell_type": "code",
   "execution_count": 57,
   "id": "4d2e15c9-9eab-40f4-9f50-8a377f2f5257",
   "metadata": {},
   "outputs": [
    {
     "name": "stderr",
     "output_type": "stream",
     "text": [
      "100%|████████████████████████████████████████████████████████████████| 5240/5240 [00:04<00:00, 1153.09it/s]\n"
     ]
    }
   ],
   "source": [
    "num_negatives = 3\n",
    "\n",
    "anchors_train = []\n",
    "positives_train = []\n",
    "negatives_train = []\n",
    "\n",
    "positive_categories_train = []\n",
    "negative_categories_train = []\n",
    "\n",
    "for row in tqdm(range(len(train_cuad_data))):\n",
    "    \n",
    "    category = train_cuad_data.iloc[row][\"clause_type\"]\n",
    "    \n",
    "    query = train_cuad_data.iloc[row][\"query\"].replace(\"\\xa0\", \"\").lower()\n",
    "    anchors_train.append(query)\n",
    "    \n",
    "    # clean up the text\n",
    "    positive_sample = train_cuad_data.iloc[row][\"text\"].lower()\n",
    "    positive_sample = ' '.join(positive_sample.replace('\\n',' ').split())\n",
    "    \n",
    "    positives_train.append(positive_sample)\n",
    "    \n",
    "    # get the negative sample and category\n",
    "    potential_negative_samples = train_cuad_data[train_cuad_data[\"clause_type\"] != category].sample(num_negatives)\n",
    "    \n",
    "    negative_samples = [el.lower() for el in list(potential_negative_samples[\"text\"])]\n",
    "    negative_samples = [' '.join(negative_sample.replace('\\n',' ').split()) for negative_sample in negative_samples]\n",
    "    \n",
    "    negative_categories = list(potential_negative_samples[\"clause_type\"])\n",
    "    \n",
    "    negatives_train.append(negative_samples)\n",
    "    \n",
    "    # get the categories of the positive and negative samples\n",
    "    positive_categories_train.append(category)\n",
    "    negative_categories_train.append(negative_categories)"
   ]
  },
  {
   "cell_type": "code",
   "execution_count": 58,
   "id": "d208053b-a494-438f-9ca2-527806838329",
   "metadata": {},
   "outputs": [
    {
     "name": "stdout",
     "output_type": "stream",
     "text": [
      "5240\n"
     ]
    },
    {
     "data": {
      "text/html": [
       "<div>\n",
       "<style scoped>\n",
       "    .dataframe tbody tr th:only-of-type {\n",
       "        vertical-align: middle;\n",
       "    }\n",
       "\n",
       "    .dataframe tbody tr th {\n",
       "        vertical-align: top;\n",
       "    }\n",
       "\n",
       "    .dataframe thead th {\n",
       "        text-align: right;\n",
       "    }\n",
       "</style>\n",
       "<table border=\"1\" class=\"dataframe\">\n",
       "  <thead>\n",
       "    <tr style=\"text-align: right;\">\n",
       "      <th></th>\n",
       "      <th>anchor</th>\n",
       "      <th>positive</th>\n",
       "      <th>negatives</th>\n",
       "    </tr>\n",
       "  </thead>\n",
       "  <tbody>\n",
       "    <tr>\n",
       "      <th>0</th>\n",
       "      <td>highlight the parts (if any) of this contract ...</td>\n",
       "      <td>march 30, 2011 (page 1)</td>\n",
       "      <td>[the celebrity will be limited to six speaking...</td>\n",
       "    </tr>\n",
       "    <tr>\n",
       "      <th>1</th>\n",
       "      <td>highlight the parts (if any) of this contract ...</td>\n",
       "      <td>effective legislation of the republic of kazak...</td>\n",
       "      <td>[utk agrees to provide the following distinct ...</td>\n",
       "    </tr>\n",
       "    <tr>\n",
       "      <th>2</th>\n",
       "      <td>highlight the parts (if any) of this contract ...</td>\n",
       "      <td>if there is a change in control of the first p...</td>\n",
       "      <td>[the liability cap set forth under section 6.5...</td>\n",
       "    </tr>\n",
       "    <tr>\n",
       "      <th>3</th>\n",
       "      <td>highlight the parts (if any) of this contract ...</td>\n",
       "      <td>this agreement shall automatically terminate a...</td>\n",
       "      <td>[this agreement shall be governed by and const...</td>\n",
       "    </tr>\n",
       "    <tr>\n",
       "      <th>4</th>\n",
       "      <td>highlight the parts (if any) of this contract ...</td>\n",
       "      <td>verticalnet, inc. (page 1) \"verticalnet\" (page...</td>\n",
       "      <td>[each party shall obtain and maintain commerci...</td>\n",
       "    </tr>\n",
       "  </tbody>\n",
       "</table>\n",
       "</div>"
      ],
      "text/plain": [
       "                                              anchor  \\\n",
       "0  highlight the parts (if any) of this contract ...   \n",
       "1  highlight the parts (if any) of this contract ...   \n",
       "2  highlight the parts (if any) of this contract ...   \n",
       "3  highlight the parts (if any) of this contract ...   \n",
       "4  highlight the parts (if any) of this contract ...   \n",
       "\n",
       "                                            positive  \\\n",
       "0                            march 30, 2011 (page 1)   \n",
       "1  effective legislation of the republic of kazak...   \n",
       "2  if there is a change in control of the first p...   \n",
       "3  this agreement shall automatically terminate a...   \n",
       "4  verticalnet, inc. (page 1) \"verticalnet\" (page...   \n",
       "\n",
       "                                           negatives  \n",
       "0  [the celebrity will be limited to six speaking...  \n",
       "1  [utk agrees to provide the following distinct ...  \n",
       "2  [the liability cap set forth under section 6.5...  \n",
       "3  [this agreement shall be governed by and const...  \n",
       "4  [each party shall obtain and maintain commerci...  "
      ]
     },
     "execution_count": 58,
     "metadata": {},
     "output_type": "execute_result"
    }
   ],
   "source": [
    "triplet_train_dataframe = pd.DataFrame(list(zip(anchors_train, positives_train, negatives_train)),\n",
    "                                    columns=[\"anchor\", \"positive\", \"negatives\"])\n",
    "\n",
    "print(len(triplet_train_dataframe))\n",
    "triplet_train_dataframe.head()"
   ]
  },
  {
   "cell_type": "code",
   "execution_count": null,
   "id": "2c9a00de-8301-48ef-855a-4d0d6b27f403",
   "metadata": {},
   "outputs": [],
   "source": []
  },
  {
   "cell_type": "markdown",
   "id": "18445675-0bac-4916-b1a0-1d950bf33af0",
   "metadata": {
    "tags": []
   },
   "source": [
    "## Dual encoder"
   ]
  },
  {
   "cell_type": "code",
   "execution_count": 59,
   "id": "7781d8d8-f6fa-4feb-9d2f-616be8ba18c0",
   "metadata": {},
   "outputs": [
    {
     "data": {
      "text/plain": [
       "15720"
      ]
     },
     "execution_count": 59,
     "metadata": {},
     "output_type": "execute_result"
    }
   ],
   "source": [
    "triplet_train_exploded_df = (\n",
    "    triplet_train_dataframe\n",
    "    .explode('negatives')\n",
    "    .reset_index()[[\"anchor\", \"positive\", \"negatives\"]]\n",
    "    .rename({\"positive\" : \"positive_match\", \"negatives\": \"negative_match\"}, axis=1)\n",
    ")  \n",
    "\n",
    "len(triplet_train_exploded_df)"
   ]
  },
  {
   "cell_type": "code",
   "execution_count": 60,
   "id": "0f6553b6-ce35-4d59-974a-7c78565842ab",
   "metadata": {},
   "outputs": [
    {
     "data": {
      "text/html": [
       "<div>\n",
       "<style scoped>\n",
       "    .dataframe tbody tr th:only-of-type {\n",
       "        vertical-align: middle;\n",
       "    }\n",
       "\n",
       "    .dataframe tbody tr th {\n",
       "        vertical-align: top;\n",
       "    }\n",
       "\n",
       "    .dataframe thead th {\n",
       "        text-align: right;\n",
       "    }\n",
       "</style>\n",
       "<table border=\"1\" class=\"dataframe\">\n",
       "  <thead>\n",
       "    <tr style=\"text-align: right;\">\n",
       "      <th></th>\n",
       "      <th>anchor</th>\n",
       "      <th>positive_match</th>\n",
       "      <th>negative_match</th>\n",
       "    </tr>\n",
       "  </thead>\n",
       "  <tbody>\n",
       "    <tr>\n",
       "      <th>0</th>\n",
       "      <td>highlight the parts (if any) of this contract ...</td>\n",
       "      <td>march 30, 2011 (page 1)</td>\n",
       "      <td>the celebrity will be limited to six speaking ...</td>\n",
       "    </tr>\n",
       "    <tr>\n",
       "      <th>1</th>\n",
       "      <td>highlight the parts (if any) of this contract ...</td>\n",
       "      <td>march 30, 2011 (page 1)</td>\n",
       "      <td>february 21, 2011 (page 1)</td>\n",
       "    </tr>\n",
       "    <tr>\n",
       "      <th>2</th>\n",
       "      <td>highlight the parts (if any) of this contract ...</td>\n",
       "      <td>march 30, 2011 (page 1)</td>\n",
       "      <td>airspan warrants that during the term of this ...</td>\n",
       "    </tr>\n",
       "    <tr>\n",
       "      <th>3</th>\n",
       "      <td>highlight the parts (if any) of this contract ...</td>\n",
       "      <td>effective legislation of the republic of kazak...</td>\n",
       "      <td>utk agrees to provide the following distinct s...</td>\n",
       "    </tr>\n",
       "    <tr>\n",
       "      <th>4</th>\n",
       "      <td>highlight the parts (if any) of this contract ...</td>\n",
       "      <td>effective legislation of the republic of kazak...</td>\n",
       "      <td>throughout the term of this agreement, the par...</td>\n",
       "    </tr>\n",
       "  </tbody>\n",
       "</table>\n",
       "</div>"
      ],
      "text/plain": [
       "                                              anchor  \\\n",
       "0  highlight the parts (if any) of this contract ...   \n",
       "1  highlight the parts (if any) of this contract ...   \n",
       "2  highlight the parts (if any) of this contract ...   \n",
       "3  highlight the parts (if any) of this contract ...   \n",
       "4  highlight the parts (if any) of this contract ...   \n",
       "\n",
       "                                      positive_match  \\\n",
       "0                            march 30, 2011 (page 1)   \n",
       "1                            march 30, 2011 (page 1)   \n",
       "2                            march 30, 2011 (page 1)   \n",
       "3  effective legislation of the republic of kazak...   \n",
       "4  effective legislation of the republic of kazak...   \n",
       "\n",
       "                                      negative_match  \n",
       "0  the celebrity will be limited to six speaking ...  \n",
       "1                         february 21, 2011 (page 1)  \n",
       "2  airspan warrants that during the term of this ...  \n",
       "3  utk agrees to provide the following distinct s...  \n",
       "4  throughout the term of this agreement, the par...  "
      ]
     },
     "execution_count": 60,
     "metadata": {},
     "output_type": "execute_result"
    }
   ],
   "source": [
    "triplet_train_exploded_df.head()"
   ]
  },
  {
   "cell_type": "code",
   "execution_count": 61,
   "id": "2fb5d56c-f017-4619-856a-6cc9d13a8ce8",
   "metadata": {},
   "outputs": [],
   "source": [
    "triplet_train_exploded_df.to_csv(\"./data/cuad_data_same_clauses/train_cuad_dual_encoder.csv\")\n"
   ]
  },
  {
   "cell_type": "code",
   "execution_count": null,
   "id": "75b18677-df71-472a-870c-b2bf75a56744",
   "metadata": {},
   "outputs": [],
   "source": []
  },
  {
   "cell_type": "markdown",
   "id": "c2779cd6-6ef0-41d3-b902-0a66f9b54e3d",
   "metadata": {
    "tags": []
   },
   "source": [
    "## Cross encoder"
   ]
  },
  {
   "cell_type": "code",
   "execution_count": 62,
   "id": "4650b69c-5710-4e7c-8c69-18ca67167e5c",
   "metadata": {},
   "outputs": [],
   "source": [
    "anchor_positive = triplet_train_dataframe[[\"anchor\", \"positive\"]]\n",
    "anchor_negatives = triplet_train_dataframe[[\"anchor\", \"negatives\"]]"
   ]
  },
  {
   "cell_type": "code",
   "execution_count": 63,
   "id": "9c6be81f-43f3-4d46-b430-5f6f63ea9211",
   "metadata": {},
   "outputs": [],
   "source": [
    "anchor_positive = anchor_positive.rename(columns={\"anchor\": \"query\", \"positive\": \"text\"})\n",
    "anchor_positive[\"label\"] = 1"
   ]
  },
  {
   "cell_type": "code",
   "execution_count": 64,
   "id": "2927d404-70e7-4238-9cd0-6229ad3bad4d",
   "metadata": {},
   "outputs": [],
   "source": [
    "anchor_negatives_exploded = (\n",
    "    anchor_negatives\n",
    "    .explode('negatives')\n",
    "    .reset_index()[[\"anchor\", \"negatives\"]]\n",
    "    .rename({\"anchor\" : \"query\", \"negatives\": \"text\"}, axis=1)\n",
    ")    \n",
    "\n",
    "anchor_negatives_exploded['label'] = 0"
   ]
  },
  {
   "cell_type": "code",
   "execution_count": 65,
   "id": "f075fa2a-5e7b-4a99-aa9e-0dbfaf9bbc6e",
   "metadata": {},
   "outputs": [],
   "source": [
    "cross_encoder_train_data = pd.concat([anchor_positive, anchor_negatives_exploded]).reset_index()\n"
   ]
  },
  {
   "cell_type": "code",
   "execution_count": 66,
   "id": "51958507-e4fc-42c7-9a77-df8c0c3c5e56",
   "metadata": {},
   "outputs": [
    {
     "data": {
      "text/plain": [
       "20960"
      ]
     },
     "execution_count": 66,
     "metadata": {},
     "output_type": "execute_result"
    }
   ],
   "source": [
    "len(cross_encoder_train_data)"
   ]
  },
  {
   "cell_type": "code",
   "execution_count": 67,
   "id": "72155113-c5b7-4574-b96a-c77625b3c360",
   "metadata": {},
   "outputs": [
    {
     "data": {
      "text/html": [
       "<div>\n",
       "<style scoped>\n",
       "    .dataframe tbody tr th:only-of-type {\n",
       "        vertical-align: middle;\n",
       "    }\n",
       "\n",
       "    .dataframe tbody tr th {\n",
       "        vertical-align: top;\n",
       "    }\n",
       "\n",
       "    .dataframe thead th {\n",
       "        text-align: right;\n",
       "    }\n",
       "</style>\n",
       "<table border=\"1\" class=\"dataframe\">\n",
       "  <thead>\n",
       "    <tr style=\"text-align: right;\">\n",
       "      <th></th>\n",
       "      <th>index</th>\n",
       "      <th>query</th>\n",
       "      <th>text</th>\n",
       "      <th>label</th>\n",
       "    </tr>\n",
       "  </thead>\n",
       "  <tbody>\n",
       "    <tr>\n",
       "      <th>0</th>\n",
       "      <td>0</td>\n",
       "      <td>highlight the parts (if any) of this contract ...</td>\n",
       "      <td>march 30, 2011 (page 1)</td>\n",
       "      <td>1</td>\n",
       "    </tr>\n",
       "    <tr>\n",
       "      <th>1</th>\n",
       "      <td>1</td>\n",
       "      <td>highlight the parts (if any) of this contract ...</td>\n",
       "      <td>effective legislation of the republic of kazak...</td>\n",
       "      <td>1</td>\n",
       "    </tr>\n",
       "    <tr>\n",
       "      <th>2</th>\n",
       "      <td>2</td>\n",
       "      <td>highlight the parts (if any) of this contract ...</td>\n",
       "      <td>if there is a change in control of the first p...</td>\n",
       "      <td>1</td>\n",
       "    </tr>\n",
       "    <tr>\n",
       "      <th>3</th>\n",
       "      <td>3</td>\n",
       "      <td>highlight the parts (if any) of this contract ...</td>\n",
       "      <td>this agreement shall automatically terminate a...</td>\n",
       "      <td>1</td>\n",
       "    </tr>\n",
       "    <tr>\n",
       "      <th>4</th>\n",
       "      <td>4</td>\n",
       "      <td>highlight the parts (if any) of this contract ...</td>\n",
       "      <td>verticalnet, inc. (page 1) \"verticalnet\" (page...</td>\n",
       "      <td>1</td>\n",
       "    </tr>\n",
       "  </tbody>\n",
       "</table>\n",
       "</div>"
      ],
      "text/plain": [
       "   index                                              query  \\\n",
       "0      0  highlight the parts (if any) of this contract ...   \n",
       "1      1  highlight the parts (if any) of this contract ...   \n",
       "2      2  highlight the parts (if any) of this contract ...   \n",
       "3      3  highlight the parts (if any) of this contract ...   \n",
       "4      4  highlight the parts (if any) of this contract ...   \n",
       "\n",
       "                                                text  label  \n",
       "0                            march 30, 2011 (page 1)      1  \n",
       "1  effective legislation of the republic of kazak...      1  \n",
       "2  if there is a change in control of the first p...      1  \n",
       "3  this agreement shall automatically terminate a...      1  \n",
       "4  verticalnet, inc. (page 1) \"verticalnet\" (page...      1  "
      ]
     },
     "execution_count": 67,
     "metadata": {},
     "output_type": "execute_result"
    }
   ],
   "source": [
    "cross_encoder_train_data.head()"
   ]
  },
  {
   "cell_type": "code",
   "execution_count": 68,
   "id": "e4abe4a5-2315-466c-8ff8-0f91d1646926",
   "metadata": {},
   "outputs": [
    {
     "data": {
      "text/html": [
       "<div>\n",
       "<style scoped>\n",
       "    .dataframe tbody tr th:only-of-type {\n",
       "        vertical-align: middle;\n",
       "    }\n",
       "\n",
       "    .dataframe tbody tr th {\n",
       "        vertical-align: top;\n",
       "    }\n",
       "\n",
       "    .dataframe thead th {\n",
       "        text-align: right;\n",
       "    }\n",
       "</style>\n",
       "<table border=\"1\" class=\"dataframe\">\n",
       "  <thead>\n",
       "    <tr style=\"text-align: right;\">\n",
       "      <th></th>\n",
       "      <th>index</th>\n",
       "      <th>query</th>\n",
       "      <th>text</th>\n",
       "      <th>label</th>\n",
       "    </tr>\n",
       "  </thead>\n",
       "  <tbody>\n",
       "    <tr>\n",
       "      <th>5239</th>\n",
       "      <td>5239</td>\n",
       "      <td>highlight the parts (if any) of this contract ...</td>\n",
       "      <td>furthermore, without derogating from nice' und...</td>\n",
       "      <td>1</td>\n",
       "    </tr>\n",
       "    <tr>\n",
       "      <th>5240</th>\n",
       "      <td>0</td>\n",
       "      <td>highlight the parts (if any) of this contract ...</td>\n",
       "      <td>the celebrity will be limited to six speaking ...</td>\n",
       "      <td>0</td>\n",
       "    </tr>\n",
       "    <tr>\n",
       "      <th>5241</th>\n",
       "      <td>1</td>\n",
       "      <td>highlight the parts (if any) of this contract ...</td>\n",
       "      <td>february 21, 2011 (page 1)</td>\n",
       "      <td>0</td>\n",
       "    </tr>\n",
       "    <tr>\n",
       "      <th>5242</th>\n",
       "      <td>2</td>\n",
       "      <td>highlight the parts (if any) of this contract ...</td>\n",
       "      <td>airspan warrants that during the term of this ...</td>\n",
       "      <td>0</td>\n",
       "    </tr>\n",
       "    <tr>\n",
       "      <th>5243</th>\n",
       "      <td>3</td>\n",
       "      <td>highlight the parts (if any) of this contract ...</td>\n",
       "      <td>utk agrees to provide the following distinct s...</td>\n",
       "      <td>0</td>\n",
       "    </tr>\n",
       "  </tbody>\n",
       "</table>\n",
       "</div>"
      ],
      "text/plain": [
       "      index                                              query  \\\n",
       "5239   5239  highlight the parts (if any) of this contract ...   \n",
       "5240      0  highlight the parts (if any) of this contract ...   \n",
       "5241      1  highlight the parts (if any) of this contract ...   \n",
       "5242      2  highlight the parts (if any) of this contract ...   \n",
       "5243      3  highlight the parts (if any) of this contract ...   \n",
       "\n",
       "                                                   text  label  \n",
       "5239  furthermore, without derogating from nice' und...      1  \n",
       "5240  the celebrity will be limited to six speaking ...      0  \n",
       "5241                         february 21, 2011 (page 1)      0  \n",
       "5242  airspan warrants that during the term of this ...      0  \n",
       "5243  utk agrees to provide the following distinct s...      0  "
      ]
     },
     "execution_count": 68,
     "metadata": {},
     "output_type": "execute_result"
    }
   ],
   "source": [
    "cross_encoder_train_data[5239:].head()"
   ]
  },
  {
   "cell_type": "code",
   "execution_count": 69,
   "id": "b95a99c7-48e7-41db-8296-7a9c4c3f8cfc",
   "metadata": {},
   "outputs": [],
   "source": [
    "cross_encoder_train_data.to_csv(\"./data/cuad_data_same_clauses/train_cuad_cross_encoder.csv\")\n"
   ]
  },
  {
   "cell_type": "code",
   "execution_count": null,
   "id": "6ddd18ef-6a21-4cfa-ba3e-fd98f155ec04",
   "metadata": {},
   "outputs": [],
   "source": []
  },
  {
   "cell_type": "markdown",
   "id": "3fbc2099-1177-4a55-9940-a794d0c03c16",
   "metadata": {},
   "source": [
    "Final check"
   ]
  },
  {
   "cell_type": "code",
   "execution_count": 70,
   "id": "8d99deee-801c-4718-a97f-ccbb7451cff4",
   "metadata": {},
   "outputs": [],
   "source": [
    "train_cuad_cross_encoder = pd.read_csv(\"./data/cuad_data_same_clauses/train_cuad_cross_encoder.csv\")\n"
   ]
  },
  {
   "cell_type": "code",
   "execution_count": 75,
   "id": "62c9ac71-7f98-4a7e-aac1-0c568a691643",
   "metadata": {},
   "outputs": [],
   "source": [
    "train_cuad_dual_encoder = pd.read_csv(\"./data/cuad_data_same_clauses/train_cuad_dual_encoder.csv\")\n"
   ]
  },
  {
   "cell_type": "code",
   "execution_count": 76,
   "id": "9a59a4e8-1420-418f-b636-60920a2a0b98",
   "metadata": {},
   "outputs": [
    {
     "data": {
      "text/plain": [
       "20960"
      ]
     },
     "execution_count": 76,
     "metadata": {},
     "output_type": "execute_result"
    }
   ],
   "source": [
    "len(train_cuad_cross_encoder)"
   ]
  },
  {
   "cell_type": "code",
   "execution_count": 77,
   "id": "509ccfbc-4b7f-4ddb-b9e1-f1c7894109bb",
   "metadata": {},
   "outputs": [
    {
     "data": {
      "text/plain": [
       "15720"
      ]
     },
     "execution_count": 77,
     "metadata": {},
     "output_type": "execute_result"
    }
   ],
   "source": [
    "len(train_cuad_dual_encoder)"
   ]
  },
  {
   "cell_type": "code",
   "execution_count": null,
   "id": "e2fde1e9-9327-45d6-b1ce-c34a868a8d51",
   "metadata": {},
   "outputs": [],
   "source": []
  },
  {
   "cell_type": "markdown",
   "id": "c55b336a-49fd-4bd4-aaf8-aec5c49a23d2",
   "metadata": {
    "jp-MarkdownHeadingCollapsed": true,
    "tags": []
   },
   "source": [
    "## ApplicaAI CUAD training set"
   ]
  },
  {
   "cell_type": "markdown",
   "id": "be9e552e-31df-4017-87dd-f57ea5232fde",
   "metadata": {},
   "source": [
    "Remove the overlapping categories between `CUAD` and `ApplicaAI` datasets"
   ]
  },
  {
   "cell_type": "code",
   "execution_count": 2,
   "id": "906ea00d-2eba-4e3c-b262-28127cb60c87",
   "metadata": {},
   "outputs": [],
   "source": [
    "data_path = \"./data/original_cuad_data/cuad_data_applica_ai_excluded_clauses.csv\""
   ]
  },
  {
   "cell_type": "code",
   "execution_count": 3,
   "id": "189f91ee-9ab1-429d-88e9-5f423a64b509",
   "metadata": {},
   "outputs": [
    {
     "data": {
      "text/plain": [
       "5661"
      ]
     },
     "execution_count": 3,
     "metadata": {},
     "output_type": "execute_result"
    }
   ],
   "source": [
    "df = pd.read_csv(data_path)\n",
    "len(df)"
   ]
  },
  {
   "cell_type": "code",
   "execution_count": 4,
   "id": "9abc2fcc-0d49-41ab-b5c8-ac00c36fbe71",
   "metadata": {},
   "outputs": [
    {
     "data": {
      "text/html": [
       "<div>\n",
       "<style scoped>\n",
       "    .dataframe tbody tr th:only-of-type {\n",
       "        vertical-align: middle;\n",
       "    }\n",
       "\n",
       "    .dataframe tbody tr th {\n",
       "        vertical-align: top;\n",
       "    }\n",
       "\n",
       "    .dataframe thead th {\n",
       "        text-align: right;\n",
       "    }\n",
       "</style>\n",
       "<table border=\"1\" class=\"dataframe\">\n",
       "  <thead>\n",
       "    <tr style=\"text-align: right;\">\n",
       "      <th></th>\n",
       "      <th>Unnamed: 0.1</th>\n",
       "      <th>Unnamed: 0</th>\n",
       "      <th>index</th>\n",
       "      <th>clause_type</th>\n",
       "      <th>query</th>\n",
       "      <th>raw_text</th>\n",
       "      <th>text</th>\n",
       "    </tr>\n",
       "  </thead>\n",
       "  <tbody>\n",
       "    <tr>\n",
       "      <th>0</th>\n",
       "      <td>0</td>\n",
       "      <td>0</td>\n",
       "      <td>0</td>\n",
       "      <td>rofr/rofo/rofn</td>\n",
       "      <td>highlight the parts (if any) of this contract ...</td>\n",
       "      <td>If, during the Term, Licensor develops or obta...</td>\n",
       "      <td>if, during the term, licensor develops or obta...</td>\n",
       "    </tr>\n",
       "    <tr>\n",
       "      <th>1</th>\n",
       "      <td>1</td>\n",
       "      <td>1</td>\n",
       "      <td>1</td>\n",
       "      <td>rofr/rofo/rofn</td>\n",
       "      <td>highlight the parts (if any) of this contract ...</td>\n",
       "      <td>During the Term, Women.com agrees to give eDie...</td>\n",
       "      <td>during the term, women.com agrees to give edie...</td>\n",
       "    </tr>\n",
       "    <tr>\n",
       "      <th>2</th>\n",
       "      <td>2</td>\n",
       "      <td>2</td>\n",
       "      <td>2</td>\n",
       "      <td>rofr/rofo/rofn</td>\n",
       "      <td>highlight the parts (if any) of this contract ...</td>\n",
       "      <td>During the Term (including any renewal Term, i...</td>\n",
       "      <td>during the term (including any renewal term, i...</td>\n",
       "    </tr>\n",
       "    <tr>\n",
       "      <th>3</th>\n",
       "      <td>3</td>\n",
       "      <td>3</td>\n",
       "      <td>3</td>\n",
       "      <td>rofr/rofo/rofn</td>\n",
       "      <td>highlight the parts (if any) of this contract ...</td>\n",
       "      <td>Notwithstanding the foregoing, in the event th...</td>\n",
       "      <td>notwithstanding the foregoing, in the event th...</td>\n",
       "    </tr>\n",
       "    <tr>\n",
       "      <th>4</th>\n",
       "      <td>4</td>\n",
       "      <td>4</td>\n",
       "      <td>4</td>\n",
       "      <td>rofr/rofo/rofn</td>\n",
       "      <td>highlight the parts (if any) of this contract ...</td>\n",
       "      <td>Notwithstanding the foregoing, in the event Ex...</td>\n",
       "      <td>notwithstanding the foregoing, in the event ex...</td>\n",
       "    </tr>\n",
       "  </tbody>\n",
       "</table>\n",
       "</div>"
      ],
      "text/plain": [
       "   Unnamed: 0.1  Unnamed: 0  index     clause_type  \\\n",
       "0             0           0      0  rofr/rofo/rofn   \n",
       "1             1           1      1  rofr/rofo/rofn   \n",
       "2             2           2      2  rofr/rofo/rofn   \n",
       "3             3           3      3  rofr/rofo/rofn   \n",
       "4             4           4      4  rofr/rofo/rofn   \n",
       "\n",
       "                                               query  \\\n",
       "0  highlight the parts (if any) of this contract ...   \n",
       "1  highlight the parts (if any) of this contract ...   \n",
       "2  highlight the parts (if any) of this contract ...   \n",
       "3  highlight the parts (if any) of this contract ...   \n",
       "4  highlight the parts (if any) of this contract ...   \n",
       "\n",
       "                                            raw_text  \\\n",
       "0  If, during the Term, Licensor develops or obta...   \n",
       "1  During the Term, Women.com agrees to give eDie...   \n",
       "2  During the Term (including any renewal Term, i...   \n",
       "3  Notwithstanding the foregoing, in the event th...   \n",
       "4  Notwithstanding the foregoing, in the event Ex...   \n",
       "\n",
       "                                                text  \n",
       "0  if, during the term, licensor develops or obta...  \n",
       "1  during the term, women.com agrees to give edie...  \n",
       "2  during the term (including any renewal term, i...  \n",
       "3  notwithstanding the foregoing, in the event th...  \n",
       "4  notwithstanding the foregoing, in the event ex...  "
      ]
     },
     "execution_count": 4,
     "metadata": {},
     "output_type": "execute_result"
    }
   ],
   "source": [
    "df.head()"
   ]
  },
  {
   "cell_type": "code",
   "execution_count": 10,
   "id": "410dde84-5448-4330-9a3b-c9cd9a26707f",
   "metadata": {},
   "outputs": [
    {
     "data": {
      "text/plain": [
       "'highlight the parts (if any) of this contract related to \"audit rights\" that should be reviewed by a lawyer. details: does a party have the right to audit the books, records, or physical locations of the counterparty to ensure compliance with the contract?'"
      ]
     },
     "execution_count": 10,
     "metadata": {},
     "output_type": "execute_result"
    }
   ],
   "source": [
    "df.iloc[560][\"query\"]"
   ]
  },
  {
   "cell_type": "code",
   "execution_count": 12,
   "id": "70787a88-9966-40a6-be92-8ba7f54054c4",
   "metadata": {},
   "outputs": [
    {
     "name": "stderr",
     "output_type": "stream",
     "text": [
      "100%|███████████████████████████████████████████████████████████████████████████████████████████████████| 5661/5661 [00:08<00:00, 679.53it/s]\n"
     ]
    }
   ],
   "source": [
    "num_negatives = 3\n",
    "\n",
    "anchors_train = []\n",
    "positives_train = []\n",
    "negatives_train = []\n",
    "\n",
    "positive_categories_train = []\n",
    "negative_categories_train = []\n",
    "\n",
    "for row in tqdm(range(len(df))):\n",
    "    \n",
    "    category = df.iloc[row][\"clause_type\"]\n",
    "    \n",
    "    query = df.iloc[row][\"query\"].replace(\"\\xa0\", \"\").strip().lower()\n",
    "    anchors_train.append(query)\n",
    "    \n",
    "    # clean up the text\n",
    "    positive_sample = df.iloc[row][\"text\"]\n",
    "    postive_sample = ' '.join(positive_sample.replace('\\n',' ').split())\n",
    "    positive_sample = positive_sample.lower()\n",
    "\n",
    "    positives_train.append(positive_sample)\n",
    "    \n",
    "    # get the negative sample and category\n",
    "    potential_negative_samples = df[df[\"text\"] != category].sample(num_negatives)\n",
    "    \n",
    "    negative_samples = [el.lower() for el in list(potential_negative_samples[\"text\"])]\n",
    "    negative_samples = [' '.join(negative_sample.replace('\\n',' ').split()) for negative_sample in negative_samples]\n",
    "    \n",
    "    negative_categories = list(potential_negative_samples[\"clause_type\"])\n",
    "    \n",
    "    negatives_train.append(negative_samples)\n",
    "    \n",
    "    # get the categories of the positive and negative samples\n",
    "    positive_categories_train.append(category)\n",
    "    negative_categories_train.append(negative_categories)"
   ]
  },
  {
   "cell_type": "code",
   "execution_count": 13,
   "id": "b5e3d0cb-bd14-4229-a6a5-61eb0b28084f",
   "metadata": {},
   "outputs": [
    {
     "name": "stdout",
     "output_type": "stream",
     "text": [
      "5661\n"
     ]
    },
    {
     "data": {
      "text/html": [
       "<div>\n",
       "<style scoped>\n",
       "    .dataframe tbody tr th:only-of-type {\n",
       "        vertical-align: middle;\n",
       "    }\n",
       "\n",
       "    .dataframe tbody tr th {\n",
       "        vertical-align: top;\n",
       "    }\n",
       "\n",
       "    .dataframe thead th {\n",
       "        text-align: right;\n",
       "    }\n",
       "</style>\n",
       "<table border=\"1\" class=\"dataframe\">\n",
       "  <thead>\n",
       "    <tr style=\"text-align: right;\">\n",
       "      <th></th>\n",
       "      <th>anchor</th>\n",
       "      <th>positive</th>\n",
       "      <th>negatives</th>\n",
       "    </tr>\n",
       "  </thead>\n",
       "  <tbody>\n",
       "    <tr>\n",
       "      <th>0</th>\n",
       "      <td>highlight the parts (if any) of this contract ...</td>\n",
       "      <td>if, during the term, licensor develops or obta...</td>\n",
       "      <td>[during the term of this agreement, and for a ...</td>\n",
       "    </tr>\n",
       "    <tr>\n",
       "      <th>1</th>\n",
       "      <td>highlight the parts (if any) of this contract ...</td>\n",
       "      <td>during the term, women.com agrees to give edie...</td>\n",
       "      <td>[without the prior written consent of the othe...</td>\n",
       "    </tr>\n",
       "    <tr>\n",
       "      <th>2</th>\n",
       "      <td>highlight the parts (if any) of this contract ...</td>\n",
       "      <td>during the term (including any renewal term, i...</td>\n",
       "      <td>[startengine crowdfunding, inc. (page 1) “comp...</td>\n",
       "    </tr>\n",
       "    <tr>\n",
       "      <th>3</th>\n",
       "      <td>highlight the parts (if any) of this contract ...</td>\n",
       "      <td>notwithstanding the foregoing, in the event th...</td>\n",
       "      <td>[subject to the terms of this agreement, ppi h...</td>\n",
       "    </tr>\n",
       "    <tr>\n",
       "      <th>4</th>\n",
       "      <td>highlight the parts (if any) of this contract ...</td>\n",
       "      <td>notwithstanding the foregoing, in the event ex...</td>\n",
       "      <td>[the parties will ensure that marketing, promo...</td>\n",
       "    </tr>\n",
       "  </tbody>\n",
       "</table>\n",
       "</div>"
      ],
      "text/plain": [
       "                                              anchor  \\\n",
       "0  highlight the parts (if any) of this contract ...   \n",
       "1  highlight the parts (if any) of this contract ...   \n",
       "2  highlight the parts (if any) of this contract ...   \n",
       "3  highlight the parts (if any) of this contract ...   \n",
       "4  highlight the parts (if any) of this contract ...   \n",
       "\n",
       "                                            positive  \\\n",
       "0  if, during the term, licensor develops or obta...   \n",
       "1  during the term, women.com agrees to give edie...   \n",
       "2  during the term (including any renewal term, i...   \n",
       "3  notwithstanding the foregoing, in the event th...   \n",
       "4  notwithstanding the foregoing, in the event ex...   \n",
       "\n",
       "                                           negatives  \n",
       "0  [during the term of this agreement, and for a ...  \n",
       "1  [without the prior written consent of the othe...  \n",
       "2  [startengine crowdfunding, inc. (page 1) “comp...  \n",
       "3  [subject to the terms of this agreement, ppi h...  \n",
       "4  [the parties will ensure that marketing, promo...  "
      ]
     },
     "execution_count": 13,
     "metadata": {},
     "output_type": "execute_result"
    }
   ],
   "source": [
    "triplet_train_dataframe = pd.DataFrame(list(zip(anchors_train, positives_train, negatives_train)),\n",
    "                                    columns=[\"anchor\", \"positive\", \"negatives\"])\n",
    "\n",
    "print(len(triplet_train_dataframe))\n",
    "triplet_train_dataframe.head()"
   ]
  },
  {
   "cell_type": "code",
   "execution_count": null,
   "id": "d3be7b9a-4a6f-4059-8eb2-f6302066e8d5",
   "metadata": {},
   "outputs": [],
   "source": []
  },
  {
   "cell_type": "markdown",
   "id": "06cbb767-c93d-437f-a1fb-654c15823778",
   "metadata": {
    "jp-MarkdownHeadingCollapsed": true,
    "tags": []
   },
   "source": [
    "### Dual encoder"
   ]
  },
  {
   "cell_type": "code",
   "execution_count": 14,
   "id": "0af3ca43-58b4-4b40-86be-b96b08753d2e",
   "metadata": {},
   "outputs": [
    {
     "data": {
      "text/plain": [
       "16983"
      ]
     },
     "execution_count": 14,
     "metadata": {},
     "output_type": "execute_result"
    }
   ],
   "source": [
    "triplet_train_exploded_df = (\n",
    "    triplet_train_dataframe\n",
    "    .explode('negatives')\n",
    "    .reset_index()[[\"anchor\", \"positive\", \"negatives\"]]\n",
    "    .rename({\"positive\" : \"positive_match\", \"negatives\": \"negative_match\"}, axis=1)\n",
    ")  \n",
    "\n",
    "len(triplet_train_exploded_df)"
   ]
  },
  {
   "cell_type": "code",
   "execution_count": 15,
   "id": "7ecce0bb-d934-405e-bfb5-e43f65741c0d",
   "metadata": {},
   "outputs": [
    {
     "data": {
      "text/html": [
       "<div>\n",
       "<style scoped>\n",
       "    .dataframe tbody tr th:only-of-type {\n",
       "        vertical-align: middle;\n",
       "    }\n",
       "\n",
       "    .dataframe tbody tr th {\n",
       "        vertical-align: top;\n",
       "    }\n",
       "\n",
       "    .dataframe thead th {\n",
       "        text-align: right;\n",
       "    }\n",
       "</style>\n",
       "<table border=\"1\" class=\"dataframe\">\n",
       "  <thead>\n",
       "    <tr style=\"text-align: right;\">\n",
       "      <th></th>\n",
       "      <th>anchor</th>\n",
       "      <th>positive_match</th>\n",
       "      <th>negative_match</th>\n",
       "    </tr>\n",
       "  </thead>\n",
       "  <tbody>\n",
       "    <tr>\n",
       "      <th>0</th>\n",
       "      <td>highlight the parts (if any) of this contract ...</td>\n",
       "      <td>if, during the term, licensor develops or obta...</td>\n",
       "      <td>during the term of this agreement, and for a p...</td>\n",
       "    </tr>\n",
       "    <tr>\n",
       "      <th>1</th>\n",
       "      <td>highlight the parts (if any) of this contract ...</td>\n",
       "      <td>if, during the term, licensor develops or obta...</td>\n",
       "      <td>notwithstanding anything herein to the contrar...</td>\n",
       "    </tr>\n",
       "    <tr>\n",
       "      <th>2</th>\n",
       "      <td>highlight the parts (if any) of this contract ...</td>\n",
       "      <td>if, during the term, licensor develops or obta...</td>\n",
       "      <td>r. c. boyd enterprises, llc (page 1) \"company\"...</td>\n",
       "    </tr>\n",
       "    <tr>\n",
       "      <th>3</th>\n",
       "      <td>highlight the parts (if any) of this contract ...</td>\n",
       "      <td>during the term, women.com agrees to give edie...</td>\n",
       "      <td>without the prior written consent of the other...</td>\n",
       "    </tr>\n",
       "    <tr>\n",
       "      <th>4</th>\n",
       "      <td>highlight the parts (if any) of this contract ...</td>\n",
       "      <td>during the term, women.com agrees to give edie...</td>\n",
       "      <td>during the term, each party hereby provides a ...</td>\n",
       "    </tr>\n",
       "  </tbody>\n",
       "</table>\n",
       "</div>"
      ],
      "text/plain": [
       "                                              anchor  \\\n",
       "0  highlight the parts (if any) of this contract ...   \n",
       "1  highlight the parts (if any) of this contract ...   \n",
       "2  highlight the parts (if any) of this contract ...   \n",
       "3  highlight the parts (if any) of this contract ...   \n",
       "4  highlight the parts (if any) of this contract ...   \n",
       "\n",
       "                                      positive_match  \\\n",
       "0  if, during the term, licensor develops or obta...   \n",
       "1  if, during the term, licensor develops or obta...   \n",
       "2  if, during the term, licensor develops or obta...   \n",
       "3  during the term, women.com agrees to give edie...   \n",
       "4  during the term, women.com agrees to give edie...   \n",
       "\n",
       "                                      negative_match  \n",
       "0  during the term of this agreement, and for a p...  \n",
       "1  notwithstanding anything herein to the contrar...  \n",
       "2  r. c. boyd enterprises, llc (page 1) \"company\"...  \n",
       "3  without the prior written consent of the other...  \n",
       "4  during the term, each party hereby provides a ...  "
      ]
     },
     "execution_count": 15,
     "metadata": {},
     "output_type": "execute_result"
    }
   ],
   "source": [
    "triplet_train_exploded_df.head()"
   ]
  },
  {
   "cell_type": "code",
   "execution_count": 16,
   "id": "9088f9e7-c4d1-43aa-90ee-79d998bc2eb3",
   "metadata": {},
   "outputs": [],
   "source": [
    "triplet_train_exploded_df.to_csv(\"./data/original_cuad_data/train_cuad_data_applica_ai_dual_encoder.csv\")\n"
   ]
  },
  {
   "cell_type": "code",
   "execution_count": null,
   "id": "6a393bf1-0293-4a93-8a90-9cf5f4ed3312",
   "metadata": {},
   "outputs": [],
   "source": []
  },
  {
   "cell_type": "markdown",
   "id": "9dba60a6-07a4-4701-a4fd-e538fddfe40f",
   "metadata": {
    "tags": []
   },
   "source": [
    "### Cross encoder"
   ]
  },
  {
   "cell_type": "code",
   "execution_count": 17,
   "id": "19a39e6b-e45c-42e9-9a6a-476275a32e3c",
   "metadata": {},
   "outputs": [],
   "source": [
    "anchor_positive = triplet_train_dataframe[[\"anchor\", \"positive\"]]\n",
    "anchor_negatives = triplet_train_dataframe[[\"anchor\", \"negatives\"]]"
   ]
  },
  {
   "cell_type": "code",
   "execution_count": 18,
   "id": "bac71208-2325-493f-a198-6dfbce0b7051",
   "metadata": {},
   "outputs": [],
   "source": [
    "anchor_positive = anchor_positive.rename(columns={\"anchor\": \"query\", \"positive\": \"text\"})\n",
    "anchor_positive[\"label\"] = 1"
   ]
  },
  {
   "cell_type": "code",
   "execution_count": 19,
   "id": "2a9a8e76-2546-4e7e-98a0-b27fa24ab8a7",
   "metadata": {},
   "outputs": [],
   "source": [
    "anchor_negatives_exploded = (\n",
    "    anchor_negatives\n",
    "    .explode('negatives')\n",
    "    .reset_index()[[\"anchor\", \"negatives\"]]\n",
    "    .rename({\"anchor\" : \"query\", \"negatives\": \"text\"}, axis=1)\n",
    ")    \n",
    "\n",
    "anchor_negatives_exploded[\"label\"] = 0"
   ]
  },
  {
   "cell_type": "code",
   "execution_count": 20,
   "id": "cae599c7-b227-47ff-ae03-e1268190061f",
   "metadata": {},
   "outputs": [],
   "source": [
    "cross_encoder_train_data = pd.concat([anchor_positive, anchor_negatives_exploded]).reset_index()"
   ]
  },
  {
   "cell_type": "code",
   "execution_count": 21,
   "id": "e5fbe100-4006-4790-b4a9-39c6d5f7766f",
   "metadata": {},
   "outputs": [
    {
     "data": {
      "text/html": [
       "<div>\n",
       "<style scoped>\n",
       "    .dataframe tbody tr th:only-of-type {\n",
       "        vertical-align: middle;\n",
       "    }\n",
       "\n",
       "    .dataframe tbody tr th {\n",
       "        vertical-align: top;\n",
       "    }\n",
       "\n",
       "    .dataframe thead th {\n",
       "        text-align: right;\n",
       "    }\n",
       "</style>\n",
       "<table border=\"1\" class=\"dataframe\">\n",
       "  <thead>\n",
       "    <tr style=\"text-align: right;\">\n",
       "      <th></th>\n",
       "      <th>index</th>\n",
       "      <th>query</th>\n",
       "      <th>text</th>\n",
       "      <th>label</th>\n",
       "    </tr>\n",
       "  </thead>\n",
       "  <tbody>\n",
       "    <tr>\n",
       "      <th>5660</th>\n",
       "      <td>5660</td>\n",
       "      <td>highlight the parts (if any) of this contract ...</td>\n",
       "      <td>except with respect to the parties' liability ...</td>\n",
       "      <td>1</td>\n",
       "    </tr>\n",
       "    <tr>\n",
       "      <th>5661</th>\n",
       "      <td>0</td>\n",
       "      <td>highlight the parts (if any) of this contract ...</td>\n",
       "      <td>during the term of this agreement, and for a p...</td>\n",
       "      <td>0</td>\n",
       "    </tr>\n",
       "    <tr>\n",
       "      <th>5662</th>\n",
       "      <td>1</td>\n",
       "      <td>highlight the parts (if any) of this contract ...</td>\n",
       "      <td>notwithstanding anything herein to the contrar...</td>\n",
       "      <td>0</td>\n",
       "    </tr>\n",
       "    <tr>\n",
       "      <th>5663</th>\n",
       "      <td>2</td>\n",
       "      <td>highlight the parts (if any) of this contract ...</td>\n",
       "      <td>r. c. boyd enterprises, llc (page 1) \"company\"...</td>\n",
       "      <td>0</td>\n",
       "    </tr>\n",
       "    <tr>\n",
       "      <th>5664</th>\n",
       "      <td>3</td>\n",
       "      <td>highlight the parts (if any) of this contract ...</td>\n",
       "      <td>without the prior written consent of the other...</td>\n",
       "      <td>0</td>\n",
       "    </tr>\n",
       "  </tbody>\n",
       "</table>\n",
       "</div>"
      ],
      "text/plain": [
       "      index                                              query  \\\n",
       "5660   5660  highlight the parts (if any) of this contract ...   \n",
       "5661      0  highlight the parts (if any) of this contract ...   \n",
       "5662      1  highlight the parts (if any) of this contract ...   \n",
       "5663      2  highlight the parts (if any) of this contract ...   \n",
       "5664      3  highlight the parts (if any) of this contract ...   \n",
       "\n",
       "                                                   text  label  \n",
       "5660  except with respect to the parties' liability ...      1  \n",
       "5661  during the term of this agreement, and for a p...      0  \n",
       "5662  notwithstanding anything herein to the contrar...      0  \n",
       "5663  r. c. boyd enterprises, llc (page 1) \"company\"...      0  \n",
       "5664  without the prior written consent of the other...      0  "
      ]
     },
     "execution_count": 21,
     "metadata": {},
     "output_type": "execute_result"
    }
   ],
   "source": [
    "cross_encoder_train_data[5660:].head()"
   ]
  },
  {
   "cell_type": "code",
   "execution_count": 22,
   "id": "28006274-6a34-4ec9-8df1-54bc6e317fa9",
   "metadata": {},
   "outputs": [
    {
     "data": {
      "text/plain": [
       "22644"
      ]
     },
     "execution_count": 22,
     "metadata": {},
     "output_type": "execute_result"
    }
   ],
   "source": [
    " len(cross_encoder_train_data)"
   ]
  },
  {
   "cell_type": "code",
   "execution_count": 23,
   "id": "f284fcee-2748-48f9-a7bb-7f80ef202460",
   "metadata": {},
   "outputs": [],
   "source": [
    "cross_encoder_train_data.to_csv(\"./data/original_cuad_data/train_cuad_data_applica_ai_cross_encoder.csv\")"
   ]
  },
  {
   "cell_type": "code",
   "execution_count": null,
   "id": "e50e09a0-3864-4016-a0d7-c2d6e30e3a13",
   "metadata": {},
   "outputs": [],
   "source": []
  },
  {
   "cell_type": "markdown",
   "id": "d2418494-1d94-4de0-a193-e8325df6b9a3",
   "metadata": {},
   "source": [
    "final check"
   ]
  },
  {
   "cell_type": "code",
   "execution_count": 24,
   "id": "4b35a44f-5e0d-4e7d-af05-c91185214fe9",
   "metadata": {
    "tags": []
   },
   "outputs": [],
   "source": [
    "df1 = pd.read_csv(\"./data/original_cuad_data/train_cuad_data_applica_ai_dual_encoder.csv\")"
   ]
  },
  {
   "cell_type": "code",
   "execution_count": 25,
   "id": "659d361f-8392-4fd4-9555-1cce7d7ba376",
   "metadata": {},
   "outputs": [],
   "source": [
    "df2 = pd.read_csv(\"./data/original_cuad_data/train_cuad_data_applica_ai_cross_encoder.csv\")"
   ]
  },
  {
   "cell_type": "code",
   "execution_count": 26,
   "id": "86a14628-adc8-43d6-8eb8-0632befa55a7",
   "metadata": {},
   "outputs": [
    {
     "data": {
      "text/plain": [
       "16983"
      ]
     },
     "execution_count": 26,
     "metadata": {},
     "output_type": "execute_result"
    }
   ],
   "source": [
    "len(df1)"
   ]
  },
  {
   "cell_type": "code",
   "execution_count": 27,
   "id": "97a25a48-5964-4834-94c2-2af76e25820a",
   "metadata": {},
   "outputs": [
    {
     "data": {
      "text/plain": [
       "22644"
      ]
     },
     "execution_count": 27,
     "metadata": {},
     "output_type": "execute_result"
    }
   ],
   "source": [
    "len(df2)"
   ]
  },
  {
   "cell_type": "code",
   "execution_count": 28,
   "id": "d99b2593-1c18-48a0-a9fc-636388ce46d3",
   "metadata": {},
   "outputs": [
    {
     "data": {
      "text/plain": [
       "Index(['Unnamed: 0', 'anchor', 'positive_match', 'negative_match'], dtype='object')"
      ]
     },
     "execution_count": 28,
     "metadata": {},
     "output_type": "execute_result"
    }
   ],
   "source": [
    "df1.columns"
   ]
  },
  {
   "cell_type": "code",
   "execution_count": 29,
   "id": "4762d817-7fe1-46f5-a12f-5b7a4188274e",
   "metadata": {},
   "outputs": [
    {
     "data": {
      "text/plain": [
       "Index(['Unnamed: 0', 'index', 'query', 'text', 'label'], dtype='object')"
      ]
     },
     "execution_count": 29,
     "metadata": {},
     "output_type": "execute_result"
    }
   ],
   "source": [
    "df2.columns"
   ]
  },
  {
   "cell_type": "code",
   "execution_count": 30,
   "id": "878de0c4-6b84-4d97-811a-61b435f787ae",
   "metadata": {},
   "outputs": [
    {
     "data": {
      "text/plain": [
       "36"
      ]
     },
     "execution_count": 30,
     "metadata": {},
     "output_type": "execute_result"
    }
   ],
   "source": [
    "len(set(df1[\"anchor\"]))"
   ]
  },
  {
   "cell_type": "code",
   "execution_count": 32,
   "id": "826b4711-4778-474f-a93d-504d1758553d",
   "metadata": {},
   "outputs": [
    {
     "data": {
      "text/plain": [
       "36"
      ]
     },
     "execution_count": 32,
     "metadata": {},
     "output_type": "execute_result"
    }
   ],
   "source": [
    "len(set(df2[\"query\"]))"
   ]
  },
  {
   "cell_type": "code",
   "execution_count": null,
   "id": "15239602-8765-43e9-abe4-87bffb286768",
   "metadata": {},
   "outputs": [],
   "source": []
  }
 ],
 "metadata": {
  "kernelspec": {
   "display_name": "Python 3 (ipykernel)",
   "language": "python",
   "name": "python3"
  },
  "language_info": {
   "codemirror_mode": {
    "name": "ipython",
    "version": 3
   },
   "file_extension": ".py",
   "mimetype": "text/x-python",
   "name": "python",
   "nbconvert_exporter": "python",
   "pygments_lexer": "ipython3",
   "version": "3.9.15"
  }
 },
 "nbformat": 4,
 "nbformat_minor": 5
}
