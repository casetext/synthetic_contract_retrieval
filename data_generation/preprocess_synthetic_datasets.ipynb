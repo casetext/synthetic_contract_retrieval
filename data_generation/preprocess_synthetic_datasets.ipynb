{
 "cells": [
  {
   "cell_type": "code",
   "execution_count": 1,
   "id": "85e2b636-3fbc-4845-af2b-759f8d79e59a",
   "metadata": {},
   "outputs": [],
   "source": [
    "import pandas as pd\n",
    "from sklearn.model_selection import train_test_split\n",
    "import numpy as np\n",
    "import json\n",
    "import jsonlines\n",
    "from glob import glob\n",
    "import os\n",
    "import re\n",
    "from tqdm import tqdm\n",
    "import os\n",
    "import ipdb"
   ]
  },
  {
   "cell_type": "code",
   "execution_count": null,
   "id": "9f6b0ed5-6c32-4606-a48e-13d263124ca2",
   "metadata": {},
   "outputs": [],
   "source": []
  },
  {
   "cell_type": "code",
   "execution_count": null,
   "id": "e7e0dcbf-2149-487f-9f2b-e7e92c7bd87f",
   "metadata": {},
   "outputs": [],
   "source": []
  },
  {
   "cell_type": "markdown",
   "id": "b318c300-c396-45c2-a2e3-be070e7f1f46",
   "metadata": {
    "tags": []
   },
   "source": [
    "# Synthetic CUAD"
   ]
  },
  {
   "cell_type": "markdown",
   "id": "eb4faa7c-bb7f-42ae-b746-fe5544d4b627",
   "metadata": {
    "jp-MarkdownHeadingCollapsed": true,
    "tags": []
   },
   "source": [
    "## Read in `jsonl`"
   ]
  },
  {
   "cell_type": "code",
   "execution_count": 32,
   "id": "70a923d5-b8de-4e47-8000-7acb760a6b73",
   "metadata": {},
   "outputs": [],
   "source": [
    "data_path = \"./data/cuad_data_synthetic/synthetic_contracts_cuad.jsonl\""
   ]
  },
  {
   "cell_type": "code",
   "execution_count": 33,
   "id": "f02c5f23-4f39-4800-8ff4-a69d1bc40ec8",
   "metadata": {},
   "outputs": [],
   "source": [
    "all_query_clauses = []\n",
    "with open(data_path, \"r\") as reader:\n",
    "    for obj in reader:\n",
    "        all_query_clauses.append(obj)\n",
    "\n",
    "all_query_clauses = [json.loads(el) for el in all_query_clauses]"
   ]
  },
  {
   "cell_type": "code",
   "execution_count": 34,
   "id": "81ad8a8c-c5e9-4c46-b723-3cfa4835b487",
   "metadata": {},
   "outputs": [
    {
     "data": {
      "text/plain": [
       "34661"
      ]
     },
     "execution_count": 34,
     "metadata": {},
     "output_type": "execute_result"
    }
   ],
   "source": [
    "len(all_query_clauses)"
   ]
  },
  {
   "cell_type": "code",
   "execution_count": 35,
   "id": "7b1ebb9f-f6dd-4e90-9b50-e1788b56e35b",
   "metadata": {},
   "outputs": [
    {
     "data": {
      "text/html": [
       "<div>\n",
       "<style scoped>\n",
       "    .dataframe tbody tr th:only-of-type {\n",
       "        vertical-align: middle;\n",
       "    }\n",
       "\n",
       "    .dataframe tbody tr th {\n",
       "        vertical-align: top;\n",
       "    }\n",
       "\n",
       "    .dataframe thead th {\n",
       "        text-align: right;\n",
       "    }\n",
       "</style>\n",
       "<table border=\"1\" class=\"dataframe\">\n",
       "  <thead>\n",
       "    <tr style=\"text-align: right;\">\n",
       "      <th></th>\n",
       "      <th>question</th>\n",
       "      <th>clause</th>\n",
       "    </tr>\n",
       "  </thead>\n",
       "  <tbody>\n",
       "    <tr>\n",
       "      <th>0</th>\n",
       "      <td>highlight the parts (if any) of this contract ...</td>\n",
       "      <td>(e)      The Company shall furnish to the Inve...</td>\n",
       "    </tr>\n",
       "    <tr>\n",
       "      <th>1</th>\n",
       "      <td>highlight the parts (if any) of this contract ...</td>\n",
       "      <td>(b) The worth, at the time of the award, of th...</td>\n",
       "    </tr>\n",
       "    <tr>\n",
       "      <th>2</th>\n",
       "      <td>highlight the parts (if any) of this contract ...</td>\n",
       "      <td>The Operator shall elect pursuant to Section 2...</td>\n",
       "    </tr>\n",
       "    <tr>\n",
       "      <th>3</th>\n",
       "      <td>highlight the parts (if any) of this contract ...</td>\n",
       "      <td>Except as set forth on the attached UCC Filing...</td>\n",
       "    </tr>\n",
       "    <tr>\n",
       "      <th>4</th>\n",
       "      <td>highlight the parts (if any) of this contract ...</td>\n",
       "      <td>sales proceeds and all other income, issues, p...</td>\n",
       "    </tr>\n",
       "    <tr>\n",
       "      <th>...</th>\n",
       "      <td>...</td>\n",
       "      <td>...</td>\n",
       "    </tr>\n",
       "    <tr>\n",
       "      <th>34656</th>\n",
       "      <td>highlight the parts (if any) of this contract ...</td>\n",
       "      <td>7. Notices. Any notices or other communication...</td>\n",
       "    </tr>\n",
       "    <tr>\n",
       "      <th>34657</th>\n",
       "      <td>highlight the parts (if any) of this contract ...</td>\n",
       "      <td>The invalidity or unenforceability of any prov...</td>\n",
       "    </tr>\n",
       "    <tr>\n",
       "      <th>34658</th>\n",
       "      <td>highlight the parts (if any) of this contract ...</td>\n",
       "      <td>“Obligations” means any costs, expenses or lia...</td>\n",
       "    </tr>\n",
       "    <tr>\n",
       "      <th>34659</th>\n",
       "      <td>highlight the parts (if any) of this contract ...</td>\n",
       "      <td>(a) It is duly organized, validly existing, an...</td>\n",
       "    </tr>\n",
       "    <tr>\n",
       "      <th>34660</th>\n",
       "      <td>highlight the parts (if any) of this contract ...</td>\n",
       "      <td>(e) Independent Lender Obligations. The failur...</td>\n",
       "    </tr>\n",
       "  </tbody>\n",
       "</table>\n",
       "<p>34661 rows × 2 columns</p>\n",
       "</div>"
      ],
      "text/plain": [
       "                                                question  \\\n",
       "0      highlight the parts (if any) of this contract ...   \n",
       "1      highlight the parts (if any) of this contract ...   \n",
       "2      highlight the parts (if any) of this contract ...   \n",
       "3      highlight the parts (if any) of this contract ...   \n",
       "4      highlight the parts (if any) of this contract ...   \n",
       "...                                                  ...   \n",
       "34656  highlight the parts (if any) of this contract ...   \n",
       "34657  highlight the parts (if any) of this contract ...   \n",
       "34658  highlight the parts (if any) of this contract ...   \n",
       "34659  highlight the parts (if any) of this contract ...   \n",
       "34660  highlight the parts (if any) of this contract ...   \n",
       "\n",
       "                                                  clause  \n",
       "0      (e)      The Company shall furnish to the Inve...  \n",
       "1      (b) The worth, at the time of the award, of th...  \n",
       "2      The Operator shall elect pursuant to Section 2...  \n",
       "3      Except as set forth on the attached UCC Filing...  \n",
       "4      sales proceeds and all other income, issues, p...  \n",
       "...                                                  ...  \n",
       "34656  7. Notices. Any notices or other communication...  \n",
       "34657  The invalidity or unenforceability of any prov...  \n",
       "34658  “Obligations” means any costs, expenses or lia...  \n",
       "34659  (a) It is duly organized, validly existing, an...  \n",
       "34660  (e) Independent Lender Obligations. The failur...  \n",
       "\n",
       "[34661 rows x 2 columns]"
      ]
     },
     "execution_count": 35,
     "metadata": {},
     "output_type": "execute_result"
    }
   ],
   "source": [
    "df = pd.DataFrame.from_dict(all_query_clauses)\n",
    "df"
   ]
  },
  {
   "cell_type": "code",
   "execution_count": 41,
   "id": "fd8ed759-b2d5-4ecd-a326-e73531dc1c6d",
   "metadata": {},
   "outputs": [],
   "source": [
    "df[\"clause_type\"] = df[\"question\"].apply(lambda row: re.findall('\"([^\"]*)\"', row)[0])"
   ]
  },
  {
   "cell_type": "code",
   "execution_count": 42,
   "id": "9fceaaba-7714-448c-a385-cc07a4656eff",
   "metadata": {},
   "outputs": [],
   "source": [
    "# Create smaller training sets to test effects of training size\n",
    "df_5k = df.sample(5000)\n",
    "df_10k = df.sample(10000)\n",
    "df_20k = df.sample(20000)"
   ]
  },
  {
   "cell_type": "code",
   "execution_count": 43,
   "id": "1aca743c-1f4f-463b-9ae1-d25b654f1f93",
   "metadata": {},
   "outputs": [
    {
     "data": {
      "text/html": [
       "<div>\n",
       "<style scoped>\n",
       "    .dataframe tbody tr th:only-of-type {\n",
       "        vertical-align: middle;\n",
       "    }\n",
       "\n",
       "    .dataframe tbody tr th {\n",
       "        vertical-align: top;\n",
       "    }\n",
       "\n",
       "    .dataframe thead th {\n",
       "        text-align: right;\n",
       "    }\n",
       "</style>\n",
       "<table border=\"1\" class=\"dataframe\">\n",
       "  <thead>\n",
       "    <tr style=\"text-align: right;\">\n",
       "      <th></th>\n",
       "      <th>question</th>\n",
       "      <th>clause</th>\n",
       "      <th>clause_type</th>\n",
       "    </tr>\n",
       "  </thead>\n",
       "  <tbody>\n",
       "    <tr>\n",
       "      <th>2813</th>\n",
       "      <td>highlight the parts (if any) of this contract ...</td>\n",
       "      <td>Except as provided in Sections 4 and 5 above, ...</td>\n",
       "      <td>survival of prior agreement</td>\n",
       "    </tr>\n",
       "    <tr>\n",
       "      <th>9369</th>\n",
       "      <td>highlight the parts (if any) of this contract ...</td>\n",
       "      <td>c. The cleaning solution should not be sprayed...</td>\n",
       "      <td>maintenance instructions</td>\n",
       "    </tr>\n",
       "    <tr>\n",
       "      <th>29462</th>\n",
       "      <td>highlight the parts (if any) of this contract ...</td>\n",
       "      <td>Award Recipient’s estate, personal representat...</td>\n",
       "      <td>tax withholding</td>\n",
       "    </tr>\n",
       "    <tr>\n",
       "      <th>10026</th>\n",
       "      <td>highlight the parts (if any) of this contract ...</td>\n",
       "      <td>On September 30, 2005, Purchaser and Seller en...</td>\n",
       "      <td>asset purchase</td>\n",
       "    </tr>\n",
       "    <tr>\n",
       "      <th>5550</th>\n",
       "      <td>highlight the parts (if any) of this contract ...</td>\n",
       "      <td>1. Tenant Improvements.  Reference herein to “...</td>\n",
       "      <td>tenant improvements</td>\n",
       "    </tr>\n",
       "    <tr>\n",
       "      <th>...</th>\n",
       "      <td>...</td>\n",
       "      <td>...</td>\n",
       "      <td>...</td>\n",
       "    </tr>\n",
       "    <tr>\n",
       "      <th>32369</th>\n",
       "      <td>highlight the parts (if any) of this contract ...</td>\n",
       "      <td>(c) Comply in all respects with all statutes, ...</td>\n",
       "      <td>statutory compliance</td>\n",
       "    </tr>\n",
       "    <tr>\n",
       "      <th>2301</th>\n",
       "      <td>highlight the parts (if any) of this contract ...</td>\n",
       "      <td>(b)recoup from the Participant if, in the Comm...</td>\n",
       "      <td>clawback provision</td>\n",
       "    </tr>\n",
       "    <tr>\n",
       "      <th>16721</th>\n",
       "      <td>highlight the parts (if any) of this contract ...</td>\n",
       "      <td>(c)       If the Borrower shall be required to...</td>\n",
       "      <td>tax gross-up</td>\n",
       "    </tr>\n",
       "    <tr>\n",
       "      <th>33143</th>\n",
       "      <td>highlight the parts (if any) of this contract ...</td>\n",
       "      <td>WHEREAS, Assignor, on August 15, 2001, entered...</td>\n",
       "      <td>incorporation by reference</td>\n",
       "    </tr>\n",
       "    <tr>\n",
       "      <th>5267</th>\n",
       "      <td>highlight the parts (if any) of this contract ...</td>\n",
       "      <td>23.Right to Terminate Employment.  Nothing in ...</td>\n",
       "      <td>termination of employment</td>\n",
       "    </tr>\n",
       "  </tbody>\n",
       "</table>\n",
       "<p>20000 rows × 3 columns</p>\n",
       "</div>"
      ],
      "text/plain": [
       "                                                question  \\\n",
       "2813   highlight the parts (if any) of this contract ...   \n",
       "9369   highlight the parts (if any) of this contract ...   \n",
       "29462  highlight the parts (if any) of this contract ...   \n",
       "10026  highlight the parts (if any) of this contract ...   \n",
       "5550   highlight the parts (if any) of this contract ...   \n",
       "...                                                  ...   \n",
       "32369  highlight the parts (if any) of this contract ...   \n",
       "2301   highlight the parts (if any) of this contract ...   \n",
       "16721  highlight the parts (if any) of this contract ...   \n",
       "33143  highlight the parts (if any) of this contract ...   \n",
       "5267   highlight the parts (if any) of this contract ...   \n",
       "\n",
       "                                                  clause  \\\n",
       "2813   Except as provided in Sections 4 and 5 above, ...   \n",
       "9369   c. The cleaning solution should not be sprayed...   \n",
       "29462  Award Recipient’s estate, personal representat...   \n",
       "10026  On September 30, 2005, Purchaser and Seller en...   \n",
       "5550   1. Tenant Improvements.  Reference herein to “...   \n",
       "...                                                  ...   \n",
       "32369  (c) Comply in all respects with all statutes, ...   \n",
       "2301   (b)recoup from the Participant if, in the Comm...   \n",
       "16721  (c)       If the Borrower shall be required to...   \n",
       "33143  WHEREAS, Assignor, on August 15, 2001, entered...   \n",
       "5267   23.Right to Terminate Employment.  Nothing in ...   \n",
       "\n",
       "                       clause_type  \n",
       "2813   survival of prior agreement  \n",
       "9369      maintenance instructions  \n",
       "29462              tax withholding  \n",
       "10026               asset purchase  \n",
       "5550           tenant improvements  \n",
       "...                            ...  \n",
       "32369         statutory compliance  \n",
       "2301            clawback provision  \n",
       "16721                 tax gross-up  \n",
       "33143   incorporation by reference  \n",
       "5267     termination of employment  \n",
       "\n",
       "[20000 rows x 3 columns]"
      ]
     },
     "execution_count": 43,
     "metadata": {},
     "output_type": "execute_result"
    }
   ],
   "source": [
    "df_20k"
   ]
  },
  {
   "cell_type": "code",
   "execution_count": 44,
   "id": "a56f84fd-d54d-49a1-a1fd-c646fb2a07d2",
   "metadata": {},
   "outputs": [
    {
     "data": {
      "text/plain": [
       "'highlight the parts (if any) of this contract related to \"indemnification\" that should be reviewed by a lawyer. details: is there an indemnification provision that requires one party to indemnify the counterparty for certain losses or liabilities?'"
      ]
     },
     "execution_count": 44,
     "metadata": {},
     "output_type": "execute_result"
    }
   ],
   "source": [
    "df[df[\"clause_type\"] == \"indemnification\"].iloc[50][\"question\"]"
   ]
  },
  {
   "cell_type": "code",
   "execution_count": 45,
   "id": "129044d3-42b9-47c6-be0e-b8100722a322",
   "metadata": {},
   "outputs": [
    {
     "data": {
      "text/plain": [
       "'supply of documents'"
      ]
     },
     "execution_count": 45,
     "metadata": {},
     "output_type": "execute_result"
    }
   ],
   "source": [
    "df.iloc[0][\"clause_type\"]"
   ]
  },
  {
   "cell_type": "code",
   "execution_count": 88,
   "id": "960f5910-7658-4f83-b036-32b528fdcd4f",
   "metadata": {},
   "outputs": [
    {
     "data": {
      "text/html": [
       "<div>\n",
       "<style scoped>\n",
       "    .dataframe tbody tr th:only-of-type {\n",
       "        vertical-align: middle;\n",
       "    }\n",
       "\n",
       "    .dataframe tbody tr th {\n",
       "        vertical-align: top;\n",
       "    }\n",
       "\n",
       "    .dataframe thead th {\n",
       "        text-align: right;\n",
       "    }\n",
       "</style>\n",
       "<table border=\"1\" class=\"dataframe\">\n",
       "  <thead>\n",
       "    <tr style=\"text-align: right;\">\n",
       "      <th></th>\n",
       "      <th>question</th>\n",
       "      <th>clause</th>\n",
       "    </tr>\n",
       "    <tr>\n",
       "      <th>clause_type</th>\n",
       "      <th></th>\n",
       "      <th></th>\n",
       "    </tr>\n",
       "  </thead>\n",
       "  <tbody>\n",
       "    <tr>\n",
       "      <th>stock options</th>\n",
       "      <td>483</td>\n",
       "      <td>483</td>\n",
       "    </tr>\n",
       "    <tr>\n",
       "      <th>severability</th>\n",
       "      <td>267</td>\n",
       "      <td>267</td>\n",
       "    </tr>\n",
       "    <tr>\n",
       "      <th>termination for cause</th>\n",
       "      <td>240</td>\n",
       "      <td>240</td>\n",
       "    </tr>\n",
       "    <tr>\n",
       "      <th>indemnification</th>\n",
       "      <td>212</td>\n",
       "      <td>212</td>\n",
       "    </tr>\n",
       "    <tr>\n",
       "      <th>termination of employment</th>\n",
       "      <td>208</td>\n",
       "      <td>208</td>\n",
       "    </tr>\n",
       "    <tr>\n",
       "      <th>...</th>\n",
       "      <td>...</td>\n",
       "      <td>...</td>\n",
       "    </tr>\n",
       "    <tr>\n",
       "      <th>stock options adjustment</th>\n",
       "      <td>1</td>\n",
       "      <td>1</td>\n",
       "    </tr>\n",
       "    <tr>\n",
       "      <th>stock options after death</th>\n",
       "      <td>1</td>\n",
       "      <td>1</td>\n",
       "    </tr>\n",
       "    <tr>\n",
       "      <th>stock options and RSUs</th>\n",
       "      <td>1</td>\n",
       "      <td>1</td>\n",
       "    </tr>\n",
       "    <tr>\n",
       "      <th>stock options and employment</th>\n",
       "      <td>1</td>\n",
       "      <td>1</td>\n",
       "    </tr>\n",
       "    <tr>\n",
       "      <th>401(a) qualified plans</th>\n",
       "      <td>1</td>\n",
       "      <td>1</td>\n",
       "    </tr>\n",
       "  </tbody>\n",
       "</table>\n",
       "<p>6020 rows × 2 columns</p>\n",
       "</div>"
      ],
      "text/plain": [
       "                              question  clause\n",
       "clause_type                                   \n",
       "stock options                      483     483\n",
       "severability                       267     267\n",
       "termination for cause              240     240\n",
       "indemnification                    212     212\n",
       "termination of employment          208     208\n",
       "...                                ...     ...\n",
       "stock options adjustment             1       1\n",
       "stock options after death            1       1\n",
       "stock options and RSUs               1       1\n",
       "stock options and employment         1       1\n",
       "401(a) qualified plans               1       1\n",
       "\n",
       "[6020 rows x 2 columns]"
      ]
     },
     "execution_count": 88,
     "metadata": {},
     "output_type": "execute_result"
    }
   ],
   "source": [
    "df_20k.groupby(['clause_type']).count().sort_values(by='clause', ascending=False)"
   ]
  },
  {
   "cell_type": "code",
   "execution_count": null,
   "id": "14788ab6-dcdc-4274-949f-b3ccbca05b26",
   "metadata": {},
   "outputs": [],
   "source": []
  },
  {
   "cell_type": "markdown",
   "id": "4e42e69a-3ffd-4ea4-b0ba-36da4e152e35",
   "metadata": {
    "jp-MarkdownHeadingCollapsed": true,
    "tags": []
   },
   "source": [
    "## Create dual/cross encoder training sets"
   ]
  },
  {
   "cell_type": "markdown",
   "id": "6f24d275-5fb4-48da-b7d4-3b228fa20dac",
   "metadata": {
    "jp-MarkdownHeadingCollapsed": true,
    "tags": []
   },
   "source": [
    "## orig"
   ]
  },
  {
   "cell_type": "markdown",
   "id": "39a729eb-4be4-41b4-9371-9a60a06218aa",
   "metadata": {},
   "source": [
    "Create query, positive, negative triplets from the dataframe -- the below code cells for creating the data for the dual/cross encoders is repeated many times. Sample three negatives for each positive."
   ]
  },
  {
   "cell_type": "code",
   "execution_count": 14,
   "id": "7b8bab59-ae7b-4476-86f3-41cfc6bbf797",
   "metadata": {},
   "outputs": [
    {
     "name": "stderr",
     "output_type": "stream",
     "text": [
      "100%|██████████████████████████████████████████████████████████████| 34661/34661 [02:55<00:00, 197.93it/s]\n"
     ]
    }
   ],
   "source": [
    "num_negatives = 3\n",
    "\n",
    "anchors_train = []\n",
    "positives_train = []\n",
    "negatives_train = []\n",
    "\n",
    "positive_categories_train = []\n",
    "negative_categories_train = []\n",
    "\n",
    "for row in tqdm(range(len(df))):\n",
    "    \n",
    "    category = df.iloc[row][\"clause_type\"]\n",
    "    \n",
    "    query = df.iloc[row][\"question\"].replace(\"\\xa0\", \"\").lower()\n",
    "    anchors_train.append(query)\n",
    "    \n",
    "    # clean up the text\n",
    "    positive_sample = df.iloc[row][\"clause\"]\n",
    "    postive_sample = ' '.join(positive_sample.replace('\\n',' ').split()).lower()\n",
    "    \n",
    "    positives_train.append(positive_sample)\n",
    "    \n",
    "    # get the negative sample and category\n",
    "    potential_negative_samples = df[df[\"clause_type\"] != category].sample(num_negatives)\n",
    "    \n",
    "    negative_samples = [el.lower() for el in list(potential_negative_samples[\"clause\"])]\n",
    "    negative_samples = [' '.join(negative_sample.replace('\\n',' ').split()) for negative_sample in negative_samples]\n",
    "    \n",
    "    negative_categories = list(potential_negative_samples[\"clause_type\"])\n",
    "    \n",
    "    negatives_train.append(negative_samples)\n",
    "    \n",
    "    # get the categories of the positive and negative samples\n",
    "    positive_categories_train.append(category)\n",
    "    negative_categories_train.append(negative_categories)"
   ]
  },
  {
   "cell_type": "code",
   "execution_count": 15,
   "id": "03697cf6-31b8-4e10-bc5b-001a7a6b9156",
   "metadata": {},
   "outputs": [
    {
     "name": "stdout",
     "output_type": "stream",
     "text": [
      "34661\n"
     ]
    },
    {
     "data": {
      "text/html": [
       "<div>\n",
       "<style scoped>\n",
       "    .dataframe tbody tr th:only-of-type {\n",
       "        vertical-align: middle;\n",
       "    }\n",
       "\n",
       "    .dataframe tbody tr th {\n",
       "        vertical-align: top;\n",
       "    }\n",
       "\n",
       "    .dataframe thead th {\n",
       "        text-align: right;\n",
       "    }\n",
       "</style>\n",
       "<table border=\"1\" class=\"dataframe\">\n",
       "  <thead>\n",
       "    <tr style=\"text-align: right;\">\n",
       "      <th></th>\n",
       "      <th>anchor</th>\n",
       "      <th>positive</th>\n",
       "      <th>negatives</th>\n",
       "    </tr>\n",
       "  </thead>\n",
       "  <tbody>\n",
       "    <tr>\n",
       "      <th>0</th>\n",
       "      <td>highlight the parts (if any) of this contract ...</td>\n",
       "      <td>(e)      The Company shall furnish to the Inve...</td>\n",
       "      <td>[this lock-up and leak-out and release agreeme...</td>\n",
       "    </tr>\n",
       "    <tr>\n",
       "      <th>1</th>\n",
       "      <td>highlight the parts (if any) of this contract ...</td>\n",
       "      <td>(b) The worth, at the time of the award, of th...</td>\n",
       "      <td>[5. rights of grantee during restricted period...</td>\n",
       "    </tr>\n",
       "    <tr>\n",
       "      <th>2</th>\n",
       "      <td>highlight the parts (if any) of this contract ...</td>\n",
       "      <td>The Operator shall elect pursuant to Section 2...</td>\n",
       "      <td>[(iv) use of funds in accordance with operatin...</td>\n",
       "    </tr>\n",
       "    <tr>\n",
       "      <th>3</th>\n",
       "      <td>highlight the parts (if any) of this contract ...</td>\n",
       "      <td>Except as set forth on the attached UCC Filing...</td>\n",
       "      <td>[l. breach of representations and warranties b...</td>\n",
       "    </tr>\n",
       "    <tr>\n",
       "      <th>4</th>\n",
       "      <td>highlight the parts (if any) of this contract ...</td>\n",
       "      <td>sales proceeds and all other income, issues, p...</td>\n",
       "      <td>[to landlord: landlord understands that collie...</td>\n",
       "    </tr>\n",
       "  </tbody>\n",
       "</table>\n",
       "</div>"
      ],
      "text/plain": [
       "                                              anchor  \\\n",
       "0  highlight the parts (if any) of this contract ...   \n",
       "1  highlight the parts (if any) of this contract ...   \n",
       "2  highlight the parts (if any) of this contract ...   \n",
       "3  highlight the parts (if any) of this contract ...   \n",
       "4  highlight the parts (if any) of this contract ...   \n",
       "\n",
       "                                            positive  \\\n",
       "0  (e)      The Company shall furnish to the Inve...   \n",
       "1  (b) The worth, at the time of the award, of th...   \n",
       "2  The Operator shall elect pursuant to Section 2...   \n",
       "3  Except as set forth on the attached UCC Filing...   \n",
       "4  sales proceeds and all other income, issues, p...   \n",
       "\n",
       "                                           negatives  \n",
       "0  [this lock-up and leak-out and release agreeme...  \n",
       "1  [5. rights of grantee during restricted period...  \n",
       "2  [(iv) use of funds in accordance with operatin...  \n",
       "3  [l. breach of representations and warranties b...  \n",
       "4  [to landlord: landlord understands that collie...  "
      ]
     },
     "execution_count": 15,
     "metadata": {},
     "output_type": "execute_result"
    }
   ],
   "source": [
    "triplet_train_dataframe = pd.DataFrame(list(zip(anchors_train, positives_train, negatives_train)),\n",
    "                                    columns=[\"anchor\", \"positive\", \"negatives\"])\n",
    "\n",
    "print(len(triplet_train_dataframe))\n",
    "triplet_train_dataframe.head()"
   ]
  },
  {
   "cell_type": "code",
   "execution_count": null,
   "id": "b79b9588-790a-432a-8ae5-b7dfbdb28440",
   "metadata": {},
   "outputs": [],
   "source": []
  },
  {
   "cell_type": "markdown",
   "id": "76f7ee0a-0445-4d6a-b223-8d9fb89e3182",
   "metadata": {
    "tags": []
   },
   "source": [
    "### Dual encoder"
   ]
  },
  {
   "cell_type": "markdown",
   "id": "aa7b4f8d-b7e6-4526-9830-e3cad42c62d7",
   "metadata": {},
   "source": [
    "Create `[anchor, positive, negative triplets]` for the dual encoder"
   ]
  },
  {
   "cell_type": "code",
   "execution_count": 16,
   "id": "2dbbae8f-c15f-4ef4-a1be-339d7e5e2491",
   "metadata": {},
   "outputs": [
    {
     "data": {
      "text/plain": [
       "103983"
      ]
     },
     "execution_count": 16,
     "metadata": {},
     "output_type": "execute_result"
    }
   ],
   "source": [
    "triplet_train_exploded_df = (\n",
    "    triplet_train_dataframe\n",
    "    .explode('negatives')\n",
    "    .reset_index()[[\"anchor\", \"positive\", \"negatives\"]]\n",
    "    .rename({\"positive\" : \"positive_match\", \"negatives\": \"negative_match\"}, axis=1)\n",
    ")  \n",
    "\n",
    "len(triplet_train_exploded_df)\n"
   ]
  },
  {
   "cell_type": "code",
   "execution_count": 17,
   "id": "60d191ba-3124-4127-bc24-713c24ef7b03",
   "metadata": {},
   "outputs": [
    {
     "data": {
      "text/html": [
       "<div>\n",
       "<style scoped>\n",
       "    .dataframe tbody tr th:only-of-type {\n",
       "        vertical-align: middle;\n",
       "    }\n",
       "\n",
       "    .dataframe tbody tr th {\n",
       "        vertical-align: top;\n",
       "    }\n",
       "\n",
       "    .dataframe thead th {\n",
       "        text-align: right;\n",
       "    }\n",
       "</style>\n",
       "<table border=\"1\" class=\"dataframe\">\n",
       "  <thead>\n",
       "    <tr style=\"text-align: right;\">\n",
       "      <th></th>\n",
       "      <th>anchor</th>\n",
       "      <th>positive_match</th>\n",
       "      <th>negative_match</th>\n",
       "    </tr>\n",
       "  </thead>\n",
       "  <tbody>\n",
       "    <tr>\n",
       "      <th>0</th>\n",
       "      <td>highlight the parts (if any) of this contract ...</td>\n",
       "      <td>(e)      The Company shall furnish to the Inve...</td>\n",
       "      <td>this lock-up and leak-out and release agreemen...</td>\n",
       "    </tr>\n",
       "    <tr>\n",
       "      <th>1</th>\n",
       "      <td>highlight the parts (if any) of this contract ...</td>\n",
       "      <td>(e)      The Company shall furnish to the Inve...</td>\n",
       "      <td>7.6 headings. the headings and captions used i...</td>\n",
       "    </tr>\n",
       "    <tr>\n",
       "      <th>2</th>\n",
       "      <td>highlight the parts (if any) of this contract ...</td>\n",
       "      <td>(e)      The Company shall furnish to the Inve...</td>\n",
       "      <td>he has seven (7) days following the date of hi...</td>\n",
       "    </tr>\n",
       "    <tr>\n",
       "      <th>3</th>\n",
       "      <td>highlight the parts (if any) of this contract ...</td>\n",
       "      <td>(b) The worth, at the time of the award, of th...</td>\n",
       "      <td>5. rights of grantee during restricted period....</td>\n",
       "    </tr>\n",
       "    <tr>\n",
       "      <th>4</th>\n",
       "      <td>highlight the parts (if any) of this contract ...</td>\n",
       "      <td>(b) The worth, at the time of the award, of th...</td>\n",
       "      <td>23. no exculpatory provisions which may be con...</td>\n",
       "    </tr>\n",
       "  </tbody>\n",
       "</table>\n",
       "</div>"
      ],
      "text/plain": [
       "                                              anchor  \\\n",
       "0  highlight the parts (if any) of this contract ...   \n",
       "1  highlight the parts (if any) of this contract ...   \n",
       "2  highlight the parts (if any) of this contract ...   \n",
       "3  highlight the parts (if any) of this contract ...   \n",
       "4  highlight the parts (if any) of this contract ...   \n",
       "\n",
       "                                      positive_match  \\\n",
       "0  (e)      The Company shall furnish to the Inve...   \n",
       "1  (e)      The Company shall furnish to the Inve...   \n",
       "2  (e)      The Company shall furnish to the Inve...   \n",
       "3  (b) The worth, at the time of the award, of th...   \n",
       "4  (b) The worth, at the time of the award, of th...   \n",
       "\n",
       "                                      negative_match  \n",
       "0  this lock-up and leak-out and release agreemen...  \n",
       "1  7.6 headings. the headings and captions used i...  \n",
       "2  he has seven (7) days following the date of hi...  \n",
       "3  5. rights of grantee during restricted period....  \n",
       "4  23. no exculpatory provisions which may be con...  "
      ]
     },
     "execution_count": 17,
     "metadata": {},
     "output_type": "execute_result"
    }
   ],
   "source": [
    "triplet_train_exploded_df.head()"
   ]
  },
  {
   "cell_type": "code",
   "execution_count": 19,
   "id": "a66a42ea-0671-420a-8b2e-e73b8f5c732c",
   "metadata": {},
   "outputs": [],
   "source": [
    "triplet_train_exploded_df[\"clause_type\"] = triplet_train_exploded_df[\"anchor\"].apply(lambda row: re.findall('\"([^\"]*)\"', row)[0])"
   ]
  },
  {
   "cell_type": "code",
   "execution_count": 70,
   "id": "54b7eeca-0a05-4a93-a93a-865758cc2892",
   "metadata": {},
   "outputs": [],
   "source": [
    "triplet_train_exploded_df.to_csv(\"./data/train_synthetic_cuad_dual_encoder.csv\")"
   ]
  },
  {
   "cell_type": "code",
   "execution_count": null,
   "id": "45c14ce6-71da-4435-acc1-5dfc5ee13836",
   "metadata": {},
   "outputs": [],
   "source": []
  },
  {
   "cell_type": "markdown",
   "id": "a3e28bef-478e-437c-a8c1-0dd6c2234532",
   "metadata": {
    "tags": []
   },
   "source": [
    "### Cross encoder"
   ]
  },
  {
   "cell_type": "markdown",
   "id": "e05fc8b6-297b-43ee-970b-29f6aa14c742",
   "metadata": {},
   "source": [
    "Create `[query, result, label]` examples for cross encoder"
   ]
  },
  {
   "cell_type": "code",
   "execution_count": 72,
   "id": "96b9e49d-272d-4dd9-a393-9fb0f4c73f36",
   "metadata": {},
   "outputs": [],
   "source": [
    "anchor_positive = triplet_train_dataframe[[\"anchor\", \"positive\"]]\n",
    "anchor_negatives = triplet_train_dataframe[[\"anchor\", \"negatives\"]]"
   ]
  },
  {
   "cell_type": "code",
   "execution_count": 73,
   "id": "07d6db65-a807-4cb4-99f6-188af0e5671a",
   "metadata": {},
   "outputs": [],
   "source": [
    "anchor_positive = anchor_positive.rename(columns={\"anchor\": \"query\", \"positive\": \"text\"})\n",
    "anchor_positive[\"label\"] = 1"
   ]
  },
  {
   "cell_type": "code",
   "execution_count": 76,
   "id": "5d6b30ae-152e-47a4-9837-72ec71575e09",
   "metadata": {},
   "outputs": [],
   "source": [
    "anchor_negatives_exploded = (\n",
    "    anchor_negatives\n",
    "    .explode('negatives')\n",
    "    .reset_index()[[\"anchor\", \"negatives\"]]\n",
    "    .rename({\"anchor\" : \"query\", \"negatives\": \"text\"}, axis=1)\n",
    ")    \n",
    "\n",
    "anchor_negatives_exploded[\"label\"] = 0"
   ]
  },
  {
   "cell_type": "code",
   "execution_count": 77,
   "id": "85d26e89-e291-4bb4-9481-5d25534e9789",
   "metadata": {},
   "outputs": [
    {
     "data": {
      "text/plain": [
       "103983"
      ]
     },
     "execution_count": 77,
     "metadata": {},
     "output_type": "execute_result"
    }
   ],
   "source": [
    "len(anchor_negatives_exploded)"
   ]
  },
  {
   "cell_type": "code",
   "execution_count": 78,
   "id": "6aa5feae-7015-4db7-b79a-763e90d0c560",
   "metadata": {},
   "outputs": [],
   "source": [
    "cross_encoder_train_data = pd.concat([anchor_positive, anchor_negatives_exploded]).reset_index()"
   ]
  },
  {
   "cell_type": "code",
   "execution_count": 79,
   "id": "77972b81-96b9-4052-a397-bede36b2763e",
   "metadata": {},
   "outputs": [
    {
     "data": {
      "text/html": [
       "<div>\n",
       "<style scoped>\n",
       "    .dataframe tbody tr th:only-of-type {\n",
       "        vertical-align: middle;\n",
       "    }\n",
       "\n",
       "    .dataframe tbody tr th {\n",
       "        vertical-align: top;\n",
       "    }\n",
       "\n",
       "    .dataframe thead th {\n",
       "        text-align: right;\n",
       "    }\n",
       "</style>\n",
       "<table border=\"1\" class=\"dataframe\">\n",
       "  <thead>\n",
       "    <tr style=\"text-align: right;\">\n",
       "      <th></th>\n",
       "      <th>index</th>\n",
       "      <th>query</th>\n",
       "      <th>text</th>\n",
       "      <th>label</th>\n",
       "    </tr>\n",
       "  </thead>\n",
       "  <tbody>\n",
       "    <tr>\n",
       "      <th>34659</th>\n",
       "      <td>34659</td>\n",
       "      <td>highlight the parts (if any) of this contract ...</td>\n",
       "      <td>(a) It is duly organized, validly existing, an...</td>\n",
       "      <td>1</td>\n",
       "    </tr>\n",
       "    <tr>\n",
       "      <th>34660</th>\n",
       "      <td>34660</td>\n",
       "      <td>highlight the parts (if any) of this contract ...</td>\n",
       "      <td>(e) Independent Lender Obligations. The failur...</td>\n",
       "      <td>1</td>\n",
       "    </tr>\n",
       "    <tr>\n",
       "      <th>34661</th>\n",
       "      <td>0</td>\n",
       "      <td>highlight the parts (if any) of this contract ...</td>\n",
       "      <td>12. all demands, notices and communications re...</td>\n",
       "      <td>0</td>\n",
       "    </tr>\n",
       "    <tr>\n",
       "      <th>34662</th>\n",
       "      <td>1</td>\n",
       "      <td>highlight the parts (if any) of this contract ...</td>\n",
       "      <td>4.1.1 the term “basic rent” for any month duri...</td>\n",
       "      <td>0</td>\n",
       "    </tr>\n",
       "    <tr>\n",
       "      <th>34663</th>\n",
       "      <td>2</td>\n",
       "      <td>highlight the parts (if any) of this contract ...</td>\n",
       "      <td>(b) the execution, delivery and performance of...</td>\n",
       "      <td>0</td>\n",
       "    </tr>\n",
       "  </tbody>\n",
       "</table>\n",
       "</div>"
      ],
      "text/plain": [
       "       index                                              query  \\\n",
       "34659  34659  highlight the parts (if any) of this contract ...   \n",
       "34660  34660  highlight the parts (if any) of this contract ...   \n",
       "34661      0  highlight the parts (if any) of this contract ...   \n",
       "34662      1  highlight the parts (if any) of this contract ...   \n",
       "34663      2  highlight the parts (if any) of this contract ...   \n",
       "\n",
       "                                                    text  label  \n",
       "34659  (a) It is duly organized, validly existing, an...      1  \n",
       "34660  (e) Independent Lender Obligations. The failur...      1  \n",
       "34661  12. all demands, notices and communications re...      0  \n",
       "34662  4.1.1 the term “basic rent” for any month duri...      0  \n",
       "34663  (b) the execution, delivery and performance of...      0  "
      ]
     },
     "execution_count": 79,
     "metadata": {},
     "output_type": "execute_result"
    }
   ],
   "source": [
    "cross_encoder_train_data[34659:].head()"
   ]
  },
  {
   "cell_type": "code",
   "execution_count": 80,
   "id": "3c2b4112-dd35-4432-98e2-dace734a07ca",
   "metadata": {},
   "outputs": [],
   "source": [
    "cross_encoder_train_data.to_csv(\"./data/train_synthetic_cuad_cross_encoder.csv\")"
   ]
  },
  {
   "cell_type": "markdown",
   "id": "52beb608-c8b3-404e-9408-cc89865511dd",
   "metadata": {},
   "source": [
    "Final check"
   ]
  },
  {
   "cell_type": "code",
   "execution_count": 81,
   "id": "a2bd4061-ca86-47bd-807f-4833e4e594e7",
   "metadata": {},
   "outputs": [],
   "source": [
    "train_cuad_cross_encoder = pd.read_csv(\"./data/train_synthetic_cuad_cross_encoder.csv\")"
   ]
  },
  {
   "cell_type": "code",
   "execution_count": 2,
   "id": "461cfc21-27fc-4864-94aa-e44b7108644f",
   "metadata": {},
   "outputs": [],
   "source": [
    "train_cuad_dual_encoder = pd.read_csv(\"./data/train_synthetic_cuad_dual_encoder.csv\")"
   ]
  },
  {
   "cell_type": "code",
   "execution_count": 83,
   "id": "3bb40d5f-ee17-434f-b431-3615a8176167",
   "metadata": {},
   "outputs": [
    {
     "data": {
      "text/plain": [
       "138644"
      ]
     },
     "execution_count": 83,
     "metadata": {},
     "output_type": "execute_result"
    }
   ],
   "source": [
    "len(train_cuad_cross_encoder)"
   ]
  },
  {
   "cell_type": "code",
   "execution_count": 3,
   "id": "e2afe26d-6db7-43ea-9f9b-497127bfc650",
   "metadata": {},
   "outputs": [
    {
     "data": {
      "text/plain": [
       "103983"
      ]
     },
     "execution_count": 3,
     "metadata": {},
     "output_type": "execute_result"
    }
   ],
   "source": [
    "len(train_cuad_dual_encoder)"
   ]
  },
  {
   "cell_type": "code",
   "execution_count": null,
   "id": "0183658e-3cf0-4e40-8290-f16c650a0f09",
   "metadata": {},
   "outputs": [],
   "source": []
  },
  {
   "cell_type": "markdown",
   "id": "b99d2a64-a7dc-4df1-af6f-503b538ede50",
   "metadata": {
    "jp-MarkdownHeadingCollapsed": true,
    "tags": []
   },
   "source": [
    "## 5k training set"
   ]
  },
  {
   "cell_type": "code",
   "execution_count": 50,
   "id": "61f848d2-eb3c-4488-b35a-9ebfc8e2abd7",
   "metadata": {},
   "outputs": [
    {
     "name": "stderr",
     "output_type": "stream",
     "text": [
      "100%|███████████████████████████████████████████████| 5000/5000 [00:11<00:00, 448.91it/s]\n"
     ]
    }
   ],
   "source": [
    "num_negatives = 3\n",
    "\n",
    "anchors_train = []\n",
    "positives_train = []\n",
    "negatives_train = []\n",
    "\n",
    "positive_categories_train = []\n",
    "negative_categories_train = []\n",
    "\n",
    "for row in tqdm(range(len(df_5k))):\n",
    "    \n",
    "    category = df_5k.iloc[row][\"clause_type\"]\n",
    "    \n",
    "    query = df_5k.iloc[row][\"question\"].replace(\"\\xa0\", \"\").lower()\n",
    "    anchors_train.append(query)\n",
    "    \n",
    "    # clean up the text\n",
    "    positive_sample = df_5k.iloc[row][\"clause\"]\n",
    "    postive_sample = ' '.join(positive_sample.replace('\\n',' ').split()).lower()\n",
    "    \n",
    "    positives_train.append(positive_sample)\n",
    "    \n",
    "    # get the negative sample and category\n",
    "    potential_negative_samples = df_5k[df_5k[\"clause_type\"] != category].sample(num_negatives)\n",
    "    \n",
    "    negative_samples = [el.lower() for el in list(potential_negative_samples[\"clause\"])]\n",
    "    negative_samples = [' '.join(negative_sample.replace('\\n',' ').split()) for negative_sample in negative_samples]\n",
    "    \n",
    "    negative_categories = list(potential_negative_samples[\"clause_type\"])\n",
    "    \n",
    "    negatives_train.append(negative_samples)\n",
    "    \n",
    "    # get the categories of the positive and negative samples\n",
    "    positive_categories_train.append(category)\n",
    "    negative_categories_train.append(negative_categories)"
   ]
  },
  {
   "cell_type": "code",
   "execution_count": 51,
   "id": "d1c3cdbd-5408-42cf-87db-f5aeea020534",
   "metadata": {},
   "outputs": [
    {
     "name": "stdout",
     "output_type": "stream",
     "text": [
      "5000\n"
     ]
    },
    {
     "data": {
      "text/html": [
       "<div>\n",
       "<style scoped>\n",
       "    .dataframe tbody tr th:only-of-type {\n",
       "        vertical-align: middle;\n",
       "    }\n",
       "\n",
       "    .dataframe tbody tr th {\n",
       "        vertical-align: top;\n",
       "    }\n",
       "\n",
       "    .dataframe thead th {\n",
       "        text-align: right;\n",
       "    }\n",
       "</style>\n",
       "<table border=\"1\" class=\"dataframe\">\n",
       "  <thead>\n",
       "    <tr style=\"text-align: right;\">\n",
       "      <th></th>\n",
       "      <th>anchor</th>\n",
       "      <th>positive</th>\n",
       "      <th>negatives</th>\n",
       "    </tr>\n",
       "  </thead>\n",
       "  <tbody>\n",
       "    <tr>\n",
       "      <th>0</th>\n",
       "      <td>highlight the parts (if any) of this contract ...</td>\n",
       "      <td>3. Tax Rates — For purposes of determining the...</td>\n",
       "      <td>[2.3.1 price and invoicing. provider will invo...</td>\n",
       "    </tr>\n",
       "    <tr>\n",
       "      <th>1</th>\n",
       "      <td>highlight the parts (if any) of this contract ...</td>\n",
       "      <td>(c)   the financial statements of the Company ...</td>\n",
       "      <td>[3 section 2.1 grant of security interest. 3 s...</td>\n",
       "    </tr>\n",
       "    <tr>\n",
       "      <th>2</th>\n",
       "      <td>highlight the parts (if any) of this contract ...</td>\n",
       "      <td>(B) prior to the vote contemplated by section ...</td>\n",
       "      <td>[principal life insurance company by: /s/ chri...</td>\n",
       "    </tr>\n",
       "    <tr>\n",
       "      <th>3</th>\n",
       "      <td>highlight the parts (if any) of this contract ...</td>\n",
       "      <td>3. Conflicting Employment. I agree that, durin...</td>\n",
       "      <td>[(3) “good reason” means a material breach by ...</td>\n",
       "    </tr>\n",
       "    <tr>\n",
       "      <th>4</th>\n",
       "      <td>highlight the parts (if any) of this contract ...</td>\n",
       "      <td>(2)       Lack of Good Faith. To indemnify Ind...</td>\n",
       "      <td>[ii) delivery of common stock upon conversion....</td>\n",
       "    </tr>\n",
       "  </tbody>\n",
       "</table>\n",
       "</div>"
      ],
      "text/plain": [
       "                                              anchor  \\\n",
       "0  highlight the parts (if any) of this contract ...   \n",
       "1  highlight the parts (if any) of this contract ...   \n",
       "2  highlight the parts (if any) of this contract ...   \n",
       "3  highlight the parts (if any) of this contract ...   \n",
       "4  highlight the parts (if any) of this contract ...   \n",
       "\n",
       "                                            positive  \\\n",
       "0  3. Tax Rates — For purposes of determining the...   \n",
       "1  (c)   the financial statements of the Company ...   \n",
       "2  (B) prior to the vote contemplated by section ...   \n",
       "3  3. Conflicting Employment. I agree that, durin...   \n",
       "4  (2)       Lack of Good Faith. To indemnify Ind...   \n",
       "\n",
       "                                           negatives  \n",
       "0  [2.3.1 price and invoicing. provider will invo...  \n",
       "1  [3 section 2.1 grant of security interest. 3 s...  \n",
       "2  [principal life insurance company by: /s/ chri...  \n",
       "3  [(3) “good reason” means a material breach by ...  \n",
       "4  [ii) delivery of common stock upon conversion....  "
      ]
     },
     "execution_count": 51,
     "metadata": {},
     "output_type": "execute_result"
    }
   ],
   "source": [
    "triplet_train_dataframe = pd.DataFrame(list(zip(anchors_train, positives_train, negatives_train)),\n",
    "                                    columns=[\"anchor\", \"positive\", \"negatives\"])\n",
    "\n",
    "print(len(triplet_train_dataframe))\n",
    "triplet_train_dataframe.head()"
   ]
  },
  {
   "cell_type": "code",
   "execution_count": null,
   "id": "a601fe51-edd6-438d-93a3-d4f22f048c23",
   "metadata": {},
   "outputs": [],
   "source": []
  },
  {
   "cell_type": "markdown",
   "id": "13662e03-b1c7-46fa-94de-ea17364b7704",
   "metadata": {},
   "source": [
    "### Dual encoder"
   ]
  },
  {
   "cell_type": "code",
   "execution_count": 52,
   "id": "538a5981-cd89-4122-8595-5e583a58f110",
   "metadata": {},
   "outputs": [
    {
     "data": {
      "text/plain": [
       "15000"
      ]
     },
     "execution_count": 52,
     "metadata": {},
     "output_type": "execute_result"
    }
   ],
   "source": [
    "triplet_train_exploded_df = (\n",
    "    triplet_train_dataframe\n",
    "    .explode('negatives')\n",
    "    .reset_index()[[\"anchor\", \"positive\", \"negatives\"]]\n",
    "    .rename({\"positive\" : \"positive_match\", \"negatives\": \"negative_match\"}, axis=1)\n",
    ")  \n",
    "\n",
    "len(triplet_train_exploded_df)"
   ]
  },
  {
   "cell_type": "code",
   "execution_count": 53,
   "id": "37a19d1d-9446-4149-95eb-84e3c4a9fb3f",
   "metadata": {},
   "outputs": [],
   "source": [
    "triplet_train_exploded_df[\"clause_type\"] = triplet_train_exploded_df[\"anchor\"].apply(lambda row: re.findall('\"([^\"]*)\"', row)[0])"
   ]
  },
  {
   "cell_type": "code",
   "execution_count": 58,
   "id": "9c9eb4db-909e-4be7-b7f5-b1510e7a30fb",
   "metadata": {},
   "outputs": [
    {
     "data": {
      "text/html": [
       "<div>\n",
       "<style scoped>\n",
       "    .dataframe tbody tr th:only-of-type {\n",
       "        vertical-align: middle;\n",
       "    }\n",
       "\n",
       "    .dataframe tbody tr th {\n",
       "        vertical-align: top;\n",
       "    }\n",
       "\n",
       "    .dataframe thead th {\n",
       "        text-align: right;\n",
       "    }\n",
       "</style>\n",
       "<table border=\"1\" class=\"dataframe\">\n",
       "  <thead>\n",
       "    <tr style=\"text-align: right;\">\n",
       "      <th></th>\n",
       "      <th>anchor</th>\n",
       "      <th>positive_match</th>\n",
       "      <th>negative_match</th>\n",
       "    </tr>\n",
       "    <tr>\n",
       "      <th>clause_type</th>\n",
       "      <th></th>\n",
       "      <th></th>\n",
       "      <th></th>\n",
       "    </tr>\n",
       "  </thead>\n",
       "  <tbody>\n",
       "    <tr>\n",
       "      <th>stock options</th>\n",
       "      <td>366</td>\n",
       "      <td>366</td>\n",
       "      <td>366</td>\n",
       "    </tr>\n",
       "    <tr>\n",
       "      <th>severability</th>\n",
       "      <td>231</td>\n",
       "      <td>231</td>\n",
       "      <td>231</td>\n",
       "    </tr>\n",
       "    <tr>\n",
       "      <th>indemnification</th>\n",
       "      <td>168</td>\n",
       "      <td>168</td>\n",
       "      <td>168</td>\n",
       "    </tr>\n",
       "    <tr>\n",
       "      <th>termination for cause</th>\n",
       "      <td>168</td>\n",
       "      <td>168</td>\n",
       "      <td>168</td>\n",
       "    </tr>\n",
       "    <tr>\n",
       "      <th>termination of employment</th>\n",
       "      <td>162</td>\n",
       "      <td>162</td>\n",
       "      <td>162</td>\n",
       "    </tr>\n",
       "    <tr>\n",
       "      <th>...</th>\n",
       "      <td>...</td>\n",
       "      <td>...</td>\n",
       "      <td>...</td>\n",
       "    </tr>\n",
       "    <tr>\n",
       "      <th>salary review</th>\n",
       "      <td>3</td>\n",
       "      <td>3</td>\n",
       "      <td>3</td>\n",
       "    </tr>\n",
       "    <tr>\n",
       "      <th>salary and stock options</th>\n",
       "      <td>3</td>\n",
       "      <td>3</td>\n",
       "      <td>3</td>\n",
       "    </tr>\n",
       "    <tr>\n",
       "      <th>salary and bonus</th>\n",
       "      <td>3</td>\n",
       "      <td>3</td>\n",
       "      <td>3</td>\n",
       "    </tr>\n",
       "    <tr>\n",
       "      <th>salary adjustment</th>\n",
       "      <td>3</td>\n",
       "      <td>3</td>\n",
       "      <td>3</td>\n",
       "    </tr>\n",
       "    <tr>\n",
       "      <th>zoning restrictions</th>\n",
       "      <td>3</td>\n",
       "      <td>3</td>\n",
       "      <td>3</td>\n",
       "    </tr>\n",
       "  </tbody>\n",
       "</table>\n",
       "<p>2255 rows × 3 columns</p>\n",
       "</div>"
      ],
      "text/plain": [
       "                           anchor  positive_match  negative_match\n",
       "clause_type                                                      \n",
       "stock options                 366             366             366\n",
       "severability                  231             231             231\n",
       "indemnification               168             168             168\n",
       "termination for cause         168             168             168\n",
       "termination of employment     162             162             162\n",
       "...                           ...             ...             ...\n",
       "salary review                   3               3               3\n",
       "salary and stock options        3               3               3\n",
       "salary and bonus                3               3               3\n",
       "salary adjustment               3               3               3\n",
       "zoning restrictions             3               3               3\n",
       "\n",
       "[2255 rows x 3 columns]"
      ]
     },
     "execution_count": 58,
     "metadata": {},
     "output_type": "execute_result"
    }
   ],
   "source": [
    "triplet_train_exploded_df.groupby([\"clause_type\"]).count().sort_values(by=\"anchor\", ascending=False)"
   ]
  },
  {
   "cell_type": "code",
   "execution_count": 59,
   "id": "dbf273d6-a8d2-4aa8-8eb2-88ae47cfc821",
   "metadata": {},
   "outputs": [],
   "source": [
    "triplet_train_exploded_df.to_csv(\"./data/cuad_data_synthetic/train_cuad_dual_encoder_5k.csv\")"
   ]
  },
  {
   "cell_type": "code",
   "execution_count": null,
   "id": "d996e74b-1b59-4c38-9d16-9c449892f088",
   "metadata": {},
   "outputs": [],
   "source": []
  },
  {
   "cell_type": "markdown",
   "id": "c704c5cf-dfb8-4466-a0a4-bf186315c40a",
   "metadata": {
    "tags": []
   },
   "source": [
    "### Cross encoder"
   ]
  },
  {
   "cell_type": "code",
   "execution_count": 60,
   "id": "6f3b4b10-0063-453d-b414-97ead9ac5259",
   "metadata": {},
   "outputs": [],
   "source": [
    "anchor_positive = triplet_train_dataframe[[\"anchor\", \"positive\"]]\n",
    "anchor_negatives = triplet_train_dataframe[[\"anchor\", \"negatives\"]]"
   ]
  },
  {
   "cell_type": "code",
   "execution_count": 61,
   "id": "51e138ce-41c4-49a1-99e8-7ef0831272a7",
   "metadata": {},
   "outputs": [],
   "source": [
    "anchor_positive = anchor_positive.rename(columns={\"anchor\": \"query\", \"positive\": \"text\"})\n",
    "anchor_positive[\"label\"] = 1"
   ]
  },
  {
   "cell_type": "code",
   "execution_count": 62,
   "id": "7f7e2427-afc4-4e3a-9761-b194948f9d27",
   "metadata": {},
   "outputs": [],
   "source": [
    "anchor_negatives_exploded = (\n",
    "    anchor_negatives\n",
    "    .explode('negatives')\n",
    "    .reset_index()[[\"anchor\", \"negatives\"]]\n",
    "    .rename({\"anchor\" : \"query\", \"negatives\": \"text\"}, axis=1)\n",
    ")    \n",
    "\n",
    "anchor_negatives_exploded[\"label\"] = 0\n"
   ]
  },
  {
   "cell_type": "code",
   "execution_count": 63,
   "id": "f3e1df6e-1119-4071-849e-dff7d54b25d3",
   "metadata": {},
   "outputs": [
    {
     "data": {
      "text/plain": [
       "15000"
      ]
     },
     "execution_count": 63,
     "metadata": {},
     "output_type": "execute_result"
    }
   ],
   "source": [
    "len(anchor_negatives_exploded)"
   ]
  },
  {
   "cell_type": "code",
   "execution_count": 64,
   "id": "f411a7c9-d39a-453b-953c-8928e7eed4a7",
   "metadata": {},
   "outputs": [],
   "source": [
    "cross_encoder_train_data = pd.concat([anchor_positive, anchor_negatives_exploded]).reset_index()"
   ]
  },
  {
   "cell_type": "code",
   "execution_count": 65,
   "id": "611c5044-bc18-4998-9056-3c665f155009",
   "metadata": {},
   "outputs": [
    {
     "data": {
      "text/html": [
       "<div>\n",
       "<style scoped>\n",
       "    .dataframe tbody tr th:only-of-type {\n",
       "        vertical-align: middle;\n",
       "    }\n",
       "\n",
       "    .dataframe tbody tr th {\n",
       "        vertical-align: top;\n",
       "    }\n",
       "\n",
       "    .dataframe thead th {\n",
       "        text-align: right;\n",
       "    }\n",
       "</style>\n",
       "<table border=\"1\" class=\"dataframe\">\n",
       "  <thead>\n",
       "    <tr style=\"text-align: right;\">\n",
       "      <th></th>\n",
       "      <th>index</th>\n",
       "      <th>query</th>\n",
       "      <th>text</th>\n",
       "      <th>label</th>\n",
       "    </tr>\n",
       "  </thead>\n",
       "  <tbody>\n",
       "    <tr>\n",
       "      <th>4999</th>\n",
       "      <td>4999</td>\n",
       "      <td>highlight the parts (if any) of this contract ...</td>\n",
       "      <td>.  To the extent permitted by law, (i) all of ...</td>\n",
       "      <td>1</td>\n",
       "    </tr>\n",
       "    <tr>\n",
       "      <th>5000</th>\n",
       "      <td>0</td>\n",
       "      <td>highlight the parts (if any) of this contract ...</td>\n",
       "      <td>2.3.1 price and invoicing. provider will invoi...</td>\n",
       "      <td>0</td>\n",
       "    </tr>\n",
       "    <tr>\n",
       "      <th>5001</th>\n",
       "      <td>1</td>\n",
       "      <td>highlight the parts (if any) of this contract ...</td>\n",
       "      <td>(b) full legal name of registered holder (if n...</td>\n",
       "      <td>0</td>\n",
       "    </tr>\n",
       "    <tr>\n",
       "      <th>5002</th>\n",
       "      <td>2</td>\n",
       "      <td>highlight the parts (if any) of this contract ...</td>\n",
       "      <td>(a) all corporate and other actions required t...</td>\n",
       "      <td>0</td>\n",
       "    </tr>\n",
       "    <tr>\n",
       "      <th>5003</th>\n",
       "      <td>3</td>\n",
       "      <td>highlight the parts (if any) of this contract ...</td>\n",
       "      <td>3 section 2.1 grant of security interest. 3 se...</td>\n",
       "      <td>0</td>\n",
       "    </tr>\n",
       "  </tbody>\n",
       "</table>\n",
       "</div>"
      ],
      "text/plain": [
       "      index                                              query  \\\n",
       "4999   4999  highlight the parts (if any) of this contract ...   \n",
       "5000      0  highlight the parts (if any) of this contract ...   \n",
       "5001      1  highlight the parts (if any) of this contract ...   \n",
       "5002      2  highlight the parts (if any) of this contract ...   \n",
       "5003      3  highlight the parts (if any) of this contract ...   \n",
       "\n",
       "                                                   text  label  \n",
       "4999  .  To the extent permitted by law, (i) all of ...      1  \n",
       "5000  2.3.1 price and invoicing. provider will invoi...      0  \n",
       "5001  (b) full legal name of registered holder (if n...      0  \n",
       "5002  (a) all corporate and other actions required t...      0  \n",
       "5003  3 section 2.1 grant of security interest. 3 se...      0  "
      ]
     },
     "execution_count": 65,
     "metadata": {},
     "output_type": "execute_result"
    }
   ],
   "source": [
    "cross_encoder_train_data[4999:].head()"
   ]
  },
  {
   "cell_type": "code",
   "execution_count": 66,
   "id": "dc5d8c56-8584-4488-a92e-2a82a847eee8",
   "metadata": {},
   "outputs": [],
   "source": [
    "cross_encoder_train_data.to_csv(\"./data/cuad_data_synthetic/train_cuad_cross_encoder_5k.csv\")"
   ]
  },
  {
   "cell_type": "code",
   "execution_count": null,
   "id": "9615a4b5-8382-4216-80f8-5fd5708922e6",
   "metadata": {},
   "outputs": [],
   "source": []
  },
  {
   "cell_type": "markdown",
   "id": "76e261b0-2327-4276-87b7-48183db70175",
   "metadata": {
    "jp-MarkdownHeadingCollapsed": true,
    "tags": []
   },
   "source": [
    "## 10k training set"
   ]
  },
  {
   "cell_type": "code",
   "execution_count": 67,
   "id": "d3fb9039-6f30-44dc-abde-40249be5caec",
   "metadata": {},
   "outputs": [
    {
     "name": "stderr",
     "output_type": "stream",
     "text": [
      "100%|█████████████████████████████████████████████| 10000/10000 [00:23<00:00, 421.18it/s]\n"
     ]
    }
   ],
   "source": [
    "num_negatives = 3\n",
    "\n",
    "anchors_train = []\n",
    "positives_train = []\n",
    "negatives_train = []\n",
    "\n",
    "positive_categories_train = []\n",
    "negative_categories_train = []\n",
    "\n",
    "for row in tqdm(range(len(df_10k))):\n",
    "    \n",
    "    category = df_10k.iloc[row][\"clause_type\"]\n",
    "    \n",
    "    query = df_10k.iloc[row][\"question\"].replace(\"\\xa0\", \"\").lower()\n",
    "    anchors_train.append(query)\n",
    "    \n",
    "    # clean up the text\n",
    "    positive_sample = df_10k.iloc[row][\"clause\"]\n",
    "    postive_sample = ' '.join(positive_sample.replace('\\n',' ').split()).lower()\n",
    "    \n",
    "    positives_train.append(positive_sample)\n",
    "    \n",
    "    # get the negative sample and category\n",
    "    potential_negative_samples = df_10k[df_10k[\"clause_type\"] != category].sample(num_negatives)\n",
    "    \n",
    "    negative_samples = [el.lower() for el in list(potential_negative_samples[\"clause\"])]\n",
    "    negative_samples = [' '.join(negative_sample.replace('\\n',' ').split()) for negative_sample in negative_samples]\n",
    "    \n",
    "    negative_categories = list(potential_negative_samples[\"clause_type\"])\n",
    "    \n",
    "    negatives_train.append(negative_samples)\n",
    "    \n",
    "    # get the categories of the positive and negative samples\n",
    "    positive_categories_train.append(category)\n",
    "    negative_categories_train.append(negative_categories)"
   ]
  },
  {
   "cell_type": "code",
   "execution_count": 68,
   "id": "21522571-d704-4b58-9786-9fc7708bd41b",
   "metadata": {},
   "outputs": [
    {
     "name": "stdout",
     "output_type": "stream",
     "text": [
      "10000\n"
     ]
    },
    {
     "data": {
      "text/html": [
       "<div>\n",
       "<style scoped>\n",
       "    .dataframe tbody tr th:only-of-type {\n",
       "        vertical-align: middle;\n",
       "    }\n",
       "\n",
       "    .dataframe tbody tr th {\n",
       "        vertical-align: top;\n",
       "    }\n",
       "\n",
       "    .dataframe thead th {\n",
       "        text-align: right;\n",
       "    }\n",
       "</style>\n",
       "<table border=\"1\" class=\"dataframe\">\n",
       "  <thead>\n",
       "    <tr style=\"text-align: right;\">\n",
       "      <th></th>\n",
       "      <th>anchor</th>\n",
       "      <th>positive</th>\n",
       "      <th>negatives</th>\n",
       "    </tr>\n",
       "  </thead>\n",
       "  <tbody>\n",
       "    <tr>\n",
       "      <th>0</th>\n",
       "      <td>highlight the parts (if any) of this contract ...</td>\n",
       "      <td>(2) An “eligible retirement plan” is an indivi...</td>\n",
       "      <td>[(e) reimbursement of business expenses. the c...</td>\n",
       "    </tr>\n",
       "    <tr>\n",
       "      <th>1</th>\n",
       "      <td>highlight the parts (if any) of this contract ...</td>\n",
       "      <td>d.      No Seller or the Acquired Company, or ...</td>\n",
       "      <td>[now, therefore, as a material inducement to l...</td>\n",
       "    </tr>\n",
       "    <tr>\n",
       "      <th>2</th>\n",
       "      <td>highlight the parts (if any) of this contract ...</td>\n",
       "      <td>provided that the Company shall not be require...</td>\n",
       "      <td>[subsidiary jurisdiction of organization perce...</td>\n",
       "    </tr>\n",
       "    <tr>\n",
       "      <th>3</th>\n",
       "      <td>highlight the parts (if any) of this contract ...</td>\n",
       "      <td>This Award and the rights and privileges confe...</td>\n",
       "      <td>[at no time can employees use internet bulleti...</td>\n",
       "    </tr>\n",
       "    <tr>\n",
       "      <th>4</th>\n",
       "      <td>highlight the parts (if any) of this contract ...</td>\n",
       "      <td>3.              The Benefit shall be earned, a...</td>\n",
       "      <td>[(f) governing law. this agreement shall be go...</td>\n",
       "    </tr>\n",
       "  </tbody>\n",
       "</table>\n",
       "</div>"
      ],
      "text/plain": [
       "                                              anchor  \\\n",
       "0  highlight the parts (if any) of this contract ...   \n",
       "1  highlight the parts (if any) of this contract ...   \n",
       "2  highlight the parts (if any) of this contract ...   \n",
       "3  highlight the parts (if any) of this contract ...   \n",
       "4  highlight the parts (if any) of this contract ...   \n",
       "\n",
       "                                            positive  \\\n",
       "0  (2) An “eligible retirement plan” is an indivi...   \n",
       "1  d.      No Seller or the Acquired Company, or ...   \n",
       "2  provided that the Company shall not be require...   \n",
       "3  This Award and the rights and privileges confe...   \n",
       "4  3.              The Benefit shall be earned, a...   \n",
       "\n",
       "                                           negatives  \n",
       "0  [(e) reimbursement of business expenses. the c...  \n",
       "1  [now, therefore, as a material inducement to l...  \n",
       "2  [subsidiary jurisdiction of organization perce...  \n",
       "3  [at no time can employees use internet bulleti...  \n",
       "4  [(f) governing law. this agreement shall be go...  "
      ]
     },
     "execution_count": 68,
     "metadata": {},
     "output_type": "execute_result"
    }
   ],
   "source": [
    "triplet_train_dataframe = pd.DataFrame(list(zip(anchors_train, positives_train, negatives_train)),\n",
    "                                    columns=[\"anchor\", \"positive\", \"negatives\"])\n",
    "\n",
    "print(len(triplet_train_dataframe))\n",
    "triplet_train_dataframe.head()"
   ]
  },
  {
   "cell_type": "code",
   "execution_count": null,
   "id": "a0a2c7ce-c037-446f-b250-f779d088b4c3",
   "metadata": {},
   "outputs": [],
   "source": []
  },
  {
   "cell_type": "markdown",
   "id": "741664d9-4dc1-4f48-95ca-e7abe6406036",
   "metadata": {},
   "source": [
    "### Dual encoder"
   ]
  },
  {
   "cell_type": "code",
   "execution_count": 69,
   "id": "70a11afa-5622-4c57-990a-5caa0078ed1f",
   "metadata": {},
   "outputs": [
    {
     "data": {
      "text/plain": [
       "30000"
      ]
     },
     "execution_count": 69,
     "metadata": {},
     "output_type": "execute_result"
    }
   ],
   "source": [
    "triplet_train_exploded_df = (\n",
    "    triplet_train_dataframe\n",
    "    .explode('negatives')\n",
    "    .reset_index()[[\"anchor\", \"positive\", \"negatives\"]]\n",
    "    .rename({\"positive\" : \"positive_match\", \"negatives\": \"negative_match\"}, axis=1)\n",
    ")  \n",
    "\n",
    "len(triplet_train_exploded_df)"
   ]
  },
  {
   "cell_type": "code",
   "execution_count": 70,
   "id": "b5267abe-0f3e-4761-b6ac-9448af32f563",
   "metadata": {},
   "outputs": [],
   "source": [
    "triplet_train_exploded_df[\"clause_type\"] = triplet_train_exploded_df[\"anchor\"].apply(lambda row: re.findall('\"([^\"]*)\"', row)[0])"
   ]
  },
  {
   "cell_type": "code",
   "execution_count": 73,
   "id": "062a4115-32b4-4fda-a60d-95949a2d12e8",
   "metadata": {},
   "outputs": [
    {
     "data": {
      "text/html": [
       "<div>\n",
       "<style scoped>\n",
       "    .dataframe tbody tr th:only-of-type {\n",
       "        vertical-align: middle;\n",
       "    }\n",
       "\n",
       "    .dataframe tbody tr th {\n",
       "        vertical-align: top;\n",
       "    }\n",
       "\n",
       "    .dataframe thead th {\n",
       "        text-align: right;\n",
       "    }\n",
       "</style>\n",
       "<table border=\"1\" class=\"dataframe\">\n",
       "  <thead>\n",
       "    <tr style=\"text-align: right;\">\n",
       "      <th></th>\n",
       "      <th>anchor</th>\n",
       "      <th>positive_match</th>\n",
       "      <th>negative_match</th>\n",
       "    </tr>\n",
       "    <tr>\n",
       "      <th>clause_type</th>\n",
       "      <th></th>\n",
       "      <th></th>\n",
       "      <th></th>\n",
       "    </tr>\n",
       "  </thead>\n",
       "  <tbody>\n",
       "    <tr>\n",
       "      <th>stock options</th>\n",
       "      <td>756</td>\n",
       "      <td>756</td>\n",
       "      <td>756</td>\n",
       "    </tr>\n",
       "    <tr>\n",
       "      <th>severability</th>\n",
       "      <td>420</td>\n",
       "      <td>420</td>\n",
       "      <td>420</td>\n",
       "    </tr>\n",
       "    <tr>\n",
       "      <th>termination for cause</th>\n",
       "      <td>348</td>\n",
       "      <td>348</td>\n",
       "      <td>348</td>\n",
       "    </tr>\n",
       "    <tr>\n",
       "      <th>termination of employment</th>\n",
       "      <td>336</td>\n",
       "      <td>336</td>\n",
       "      <td>336</td>\n",
       "    </tr>\n",
       "    <tr>\n",
       "      <th>indemnification</th>\n",
       "      <td>327</td>\n",
       "      <td>327</td>\n",
       "      <td>327</td>\n",
       "    </tr>\n",
       "    <tr>\n",
       "      <th>...</th>\n",
       "      <td>...</td>\n",
       "      <td>...</td>\n",
       "      <td>...</td>\n",
       "    </tr>\n",
       "    <tr>\n",
       "      <th>revolving loan</th>\n",
       "      <td>3</td>\n",
       "      <td>3</td>\n",
       "      <td>3</td>\n",
       "    </tr>\n",
       "    <tr>\n",
       "      <th>right of entry</th>\n",
       "      <td>3</td>\n",
       "      <td>3</td>\n",
       "      <td>3</td>\n",
       "    </tr>\n",
       "    <tr>\n",
       "      <th>right of future funding</th>\n",
       "      <td>3</td>\n",
       "      <td>3</td>\n",
       "      <td>3</td>\n",
       "    </tr>\n",
       "    <tr>\n",
       "      <th>right of way and access</th>\n",
       "      <td>3</td>\n",
       "      <td>3</td>\n",
       "      <td>3</td>\n",
       "    </tr>\n",
       "    <tr>\n",
       "      <th>zoning restrictions</th>\n",
       "      <td>3</td>\n",
       "      <td>3</td>\n",
       "      <td>3</td>\n",
       "    </tr>\n",
       "  </tbody>\n",
       "</table>\n",
       "<p>3666 rows × 3 columns</p>\n",
       "</div>"
      ],
      "text/plain": [
       "                           anchor  positive_match  negative_match\n",
       "clause_type                                                      \n",
       "stock options                 756             756             756\n",
       "severability                  420             420             420\n",
       "termination for cause         348             348             348\n",
       "termination of employment     336             336             336\n",
       "indemnification               327             327             327\n",
       "...                           ...             ...             ...\n",
       "revolving loan                  3               3               3\n",
       "right of entry                  3               3               3\n",
       "right of future funding         3               3               3\n",
       "right of way and access         3               3               3\n",
       "zoning restrictions             3               3               3\n",
       "\n",
       "[3666 rows x 3 columns]"
      ]
     },
     "execution_count": 73,
     "metadata": {},
     "output_type": "execute_result"
    }
   ],
   "source": [
    "triplet_train_exploded_df.groupby([\"clause_type\"]).count().sort_values(by=\"anchor\", ascending=False)"
   ]
  },
  {
   "cell_type": "code",
   "execution_count": 74,
   "id": "bcc6585a-b121-4507-a325-9ec37cdb737b",
   "metadata": {},
   "outputs": [],
   "source": [
    "triplet_train_exploded_df.to_csv(\"./data/cuad_data_synthetic/train_cuad_dual_encoder_10k.csv\")\n"
   ]
  },
  {
   "cell_type": "code",
   "execution_count": null,
   "id": "140f40aa-93ea-4c9c-9ac9-ad129496880e",
   "metadata": {},
   "outputs": [],
   "source": []
  },
  {
   "cell_type": "markdown",
   "id": "f60ac0fe-975f-4b83-b8ff-4205c444a2be",
   "metadata": {},
   "source": [
    "### Cross encoder"
   ]
  },
  {
   "cell_type": "code",
   "execution_count": 75,
   "id": "a8b93e58-8c3f-465b-997d-786f37461a45",
   "metadata": {},
   "outputs": [],
   "source": [
    "anchor_positive = triplet_train_dataframe[[\"anchor\", \"positive\"]]\n",
    "anchor_negatives = triplet_train_dataframe[[\"anchor\", \"negatives\"]]"
   ]
  },
  {
   "cell_type": "code",
   "execution_count": 76,
   "id": "dd5bd13f-6103-4da8-bcf3-4aee4cef22c2",
   "metadata": {},
   "outputs": [],
   "source": [
    "anchor_positive = anchor_positive.rename(columns={\"anchor\": \"query\", \"positive\": \"text\"})\n",
    "anchor_positive[\"label\"] = 1"
   ]
  },
  {
   "cell_type": "code",
   "execution_count": 77,
   "id": "ca66c264-590e-4db8-9b7b-ae6eb5a7c466",
   "metadata": {},
   "outputs": [],
   "source": [
    "anchor_negatives_exploded = (\n",
    "    anchor_negatives\n",
    "    .explode('negatives')\n",
    "    .reset_index()[[\"anchor\", \"negatives\"]]\n",
    "    .rename({\"anchor\" : \"query\", \"negatives\": \"text\"}, axis=1)\n",
    ")    \n",
    "\n",
    "anchor_negatives_exploded[\"label\"] = 0"
   ]
  },
  {
   "cell_type": "code",
   "execution_count": 78,
   "id": "aede1173-465b-4c5f-98ac-056519e2dd53",
   "metadata": {},
   "outputs": [
    {
     "data": {
      "text/plain": [
       "30000"
      ]
     },
     "execution_count": 78,
     "metadata": {},
     "output_type": "execute_result"
    }
   ],
   "source": [
    "len(anchor_negatives_exploded)"
   ]
  },
  {
   "cell_type": "code",
   "execution_count": 79,
   "id": "72656b39-0f6f-4fd5-bbc4-7a9cf9065839",
   "metadata": {},
   "outputs": [],
   "source": [
    "cross_encoder_train_data = pd.concat([anchor_positive, anchor_negatives_exploded]).reset_index()"
   ]
  },
  {
   "cell_type": "code",
   "execution_count": 80,
   "id": "401372df-d00e-4f15-bda3-962ea0dc4633",
   "metadata": {},
   "outputs": [
    {
     "data": {
      "text/html": [
       "<div>\n",
       "<style scoped>\n",
       "    .dataframe tbody tr th:only-of-type {\n",
       "        vertical-align: middle;\n",
       "    }\n",
       "\n",
       "    .dataframe tbody tr th {\n",
       "        vertical-align: top;\n",
       "    }\n",
       "\n",
       "    .dataframe thead th {\n",
       "        text-align: right;\n",
       "    }\n",
       "</style>\n",
       "<table border=\"1\" class=\"dataframe\">\n",
       "  <thead>\n",
       "    <tr style=\"text-align: right;\">\n",
       "      <th></th>\n",
       "      <th>index</th>\n",
       "      <th>query</th>\n",
       "      <th>text</th>\n",
       "      <th>label</th>\n",
       "    </tr>\n",
       "  </thead>\n",
       "  <tbody>\n",
       "    <tr>\n",
       "      <th>9999</th>\n",
       "      <td>9999</td>\n",
       "      <td>highlight the parts (if any) of this contract ...</td>\n",
       "      <td>(b) The Plan shall inure to the benefit of and...</td>\n",
       "      <td>1</td>\n",
       "    </tr>\n",
       "    <tr>\n",
       "      <th>10000</th>\n",
       "      <td>0</td>\n",
       "      <td>highlight the parts (if any) of this contract ...</td>\n",
       "      <td>(e) reimbursement of business expenses. the co...</td>\n",
       "      <td>0</td>\n",
       "    </tr>\n",
       "    <tr>\n",
       "      <th>10001</th>\n",
       "      <td>1</td>\n",
       "      <td>highlight the parts (if any) of this contract ...</td>\n",
       "      <td>amended and restated participation a-1 certifi...</td>\n",
       "      <td>0</td>\n",
       "    </tr>\n",
       "    <tr>\n",
       "      <th>10002</th>\n",
       "      <td>2</td>\n",
       "      <td>highlight the parts (if any) of this contract ...</td>\n",
       "      <td>11.effect of amendment. this amendment is effe...</td>\n",
       "      <td>0</td>\n",
       "    </tr>\n",
       "    <tr>\n",
       "      <th>10003</th>\n",
       "      <td>3</td>\n",
       "      <td>highlight the parts (if any) of this contract ...</td>\n",
       "      <td>now, therefore, as a material inducement to le...</td>\n",
       "      <td>0</td>\n",
       "    </tr>\n",
       "  </tbody>\n",
       "</table>\n",
       "</div>"
      ],
      "text/plain": [
       "       index                                              query  \\\n",
       "9999    9999  highlight the parts (if any) of this contract ...   \n",
       "10000      0  highlight the parts (if any) of this contract ...   \n",
       "10001      1  highlight the parts (if any) of this contract ...   \n",
       "10002      2  highlight the parts (if any) of this contract ...   \n",
       "10003      3  highlight the parts (if any) of this contract ...   \n",
       "\n",
       "                                                    text  label  \n",
       "9999   (b) The Plan shall inure to the benefit of and...      1  \n",
       "10000  (e) reimbursement of business expenses. the co...      0  \n",
       "10001  amended and restated participation a-1 certifi...      0  \n",
       "10002  11.effect of amendment. this amendment is effe...      0  \n",
       "10003  now, therefore, as a material inducement to le...      0  "
      ]
     },
     "execution_count": 80,
     "metadata": {},
     "output_type": "execute_result"
    }
   ],
   "source": [
    "cross_encoder_train_data[9999:].head()"
   ]
  },
  {
   "cell_type": "code",
   "execution_count": 81,
   "id": "6724f221-0708-483a-b1d6-21c4d0757543",
   "metadata": {},
   "outputs": [],
   "source": [
    "cross_encoder_train_data.to_csv(\"./data/cuad_data_synthetic/train_cuad_cross_encoder_10k.csv\")"
   ]
  },
  {
   "cell_type": "code",
   "execution_count": null,
   "id": "7636cb8f-a6e6-4d36-a6f1-6c1d8e8ccea4",
   "metadata": {},
   "outputs": [],
   "source": []
  },
  {
   "cell_type": "markdown",
   "id": "8914cf86-5839-4f85-9fb8-2a024ac04a18",
   "metadata": {
    "jp-MarkdownHeadingCollapsed": true,
    "tags": []
   },
   "source": [
    "## 20k training set"
   ]
  },
  {
   "cell_type": "code",
   "execution_count": 82,
   "id": "27d29593-dcf8-4d1a-918d-2f84c513dce9",
   "metadata": {},
   "outputs": [
    {
     "name": "stderr",
     "output_type": "stream",
     "text": [
      "100%|█████████████████████████████████████████████| 20000/20000 [01:07<00:00, 297.33it/s]\n"
     ]
    }
   ],
   "source": [
    "num_negatives = 3\n",
    "\n",
    "anchors_train = []\n",
    "positives_train = []\n",
    "negatives_train = []\n",
    "\n",
    "positive_categories_train = []\n",
    "negative_categories_train = []\n",
    "\n",
    "for row in tqdm(range(len(df_20k))):\n",
    "    \n",
    "    category = df_20k.iloc[row][\"clause_type\"]\n",
    "    \n",
    "    query = df_20k.iloc[row][\"question\"].replace(\"\\xa0\", \"\").lower()\n",
    "    anchors_train.append(query)\n",
    "    \n",
    "    # clean up the text\n",
    "    positive_sample = df_20k.iloc[row][\"clause\"]\n",
    "    postive_sample = ' '.join(positive_sample.replace('\\n',' ').split()).lower()\n",
    "    \n",
    "    positives_train.append(positive_sample)\n",
    "    \n",
    "    # get the negative sample and category\n",
    "    potential_negative_samples = df_20k[df_20k[\"clause_type\"] != category].sample(num_negatives)\n",
    "    \n",
    "    negative_samples = [el.lower() for el in list(potential_negative_samples[\"clause\"])]\n",
    "    negative_samples = [' '.join(negative_sample.replace('\\n',' ').split()) for negative_sample in negative_samples]\n",
    "    \n",
    "    negative_categories = list(potential_negative_samples[\"clause_type\"])\n",
    "    \n",
    "    negatives_train.append(negative_samples)\n",
    "    \n",
    "    # get the categories of the positive and negative samples\n",
    "    positive_categories_train.append(category)\n",
    "    negative_categories_train.append(negative_categories)"
   ]
  },
  {
   "cell_type": "code",
   "execution_count": 83,
   "id": "0b7aed1a-f84f-4e48-993a-5139b8a1cb9e",
   "metadata": {},
   "outputs": [
    {
     "name": "stdout",
     "output_type": "stream",
     "text": [
      "20000\n"
     ]
    },
    {
     "data": {
      "text/html": [
       "<div>\n",
       "<style scoped>\n",
       "    .dataframe tbody tr th:only-of-type {\n",
       "        vertical-align: middle;\n",
       "    }\n",
       "\n",
       "    .dataframe tbody tr th {\n",
       "        vertical-align: top;\n",
       "    }\n",
       "\n",
       "    .dataframe thead th {\n",
       "        text-align: right;\n",
       "    }\n",
       "</style>\n",
       "<table border=\"1\" class=\"dataframe\">\n",
       "  <thead>\n",
       "    <tr style=\"text-align: right;\">\n",
       "      <th></th>\n",
       "      <th>anchor</th>\n",
       "      <th>positive</th>\n",
       "      <th>negatives</th>\n",
       "    </tr>\n",
       "  </thead>\n",
       "  <tbody>\n",
       "    <tr>\n",
       "      <th>0</th>\n",
       "      <td>highlight the parts (if any) of this contract ...</td>\n",
       "      <td>Except as provided in Sections 4 and 5 above, ...</td>\n",
       "      <td>[(p) the undersigned is aware that no federal ...</td>\n",
       "    </tr>\n",
       "    <tr>\n",
       "      <th>1</th>\n",
       "      <td>highlight the parts (if any) of this contract ...</td>\n",
       "      <td>c. The cleaning solution should not be sprayed...</td>\n",
       "      <td>[(vi) the participant’s conviction of, or entr...</td>\n",
       "    </tr>\n",
       "    <tr>\n",
       "      <th>2</th>\n",
       "      <td>highlight the parts (if any) of this contract ...</td>\n",
       "      <td>Award Recipient’s estate, personal representat...</td>\n",
       "      <td>[8. non-solicitation; non-interference. employ...</td>\n",
       "    </tr>\n",
       "    <tr>\n",
       "      <th>3</th>\n",
       "      <td>highlight the parts (if any) of this contract ...</td>\n",
       "      <td>On September 30, 2005, Purchaser and Seller en...</td>\n",
       "      <td>[“phase iii clinical trials” shall mean, with ...</td>\n",
       "    </tr>\n",
       "    <tr>\n",
       "      <th>4</th>\n",
       "      <td>highlight the parts (if any) of this contract ...</td>\n",
       "      <td>1. Tenant Improvements.  Reference herein to “...</td>\n",
       "      <td>[2.6 the closing. subject to the fulfillment o...</td>\n",
       "    </tr>\n",
       "  </tbody>\n",
       "</table>\n",
       "</div>"
      ],
      "text/plain": [
       "                                              anchor  \\\n",
       "0  highlight the parts (if any) of this contract ...   \n",
       "1  highlight the parts (if any) of this contract ...   \n",
       "2  highlight the parts (if any) of this contract ...   \n",
       "3  highlight the parts (if any) of this contract ...   \n",
       "4  highlight the parts (if any) of this contract ...   \n",
       "\n",
       "                                            positive  \\\n",
       "0  Except as provided in Sections 4 and 5 above, ...   \n",
       "1  c. The cleaning solution should not be sprayed...   \n",
       "2  Award Recipient’s estate, personal representat...   \n",
       "3  On September 30, 2005, Purchaser and Seller en...   \n",
       "4  1. Tenant Improvements.  Reference herein to “...   \n",
       "\n",
       "                                           negatives  \n",
       "0  [(p) the undersigned is aware that no federal ...  \n",
       "1  [(vi) the participant’s conviction of, or entr...  \n",
       "2  [8. non-solicitation; non-interference. employ...  \n",
       "3  [“phase iii clinical trials” shall mean, with ...  \n",
       "4  [2.6 the closing. subject to the fulfillment o...  "
      ]
     },
     "execution_count": 83,
     "metadata": {},
     "output_type": "execute_result"
    }
   ],
   "source": [
    "triplet_train_dataframe = pd.DataFrame(list(zip(anchors_train, positives_train, negatives_train)),\n",
    "                                    columns=[\"anchor\", \"positive\", \"negatives\"])\n",
    "\n",
    "print(len(triplet_train_dataframe))\n",
    "triplet_train_dataframe.head()"
   ]
  },
  {
   "cell_type": "code",
   "execution_count": null,
   "id": "c35d3ac6-9bbe-4286-9494-b52965d3f564",
   "metadata": {},
   "outputs": [],
   "source": []
  },
  {
   "cell_type": "markdown",
   "id": "e173c6a3-16fc-4735-a9ea-18a0eff7b1e1",
   "metadata": {},
   "source": [
    "### Dual encoder"
   ]
  },
  {
   "cell_type": "code",
   "execution_count": 84,
   "id": "9eb01caa-6457-480d-ba9f-80cc5e012299",
   "metadata": {},
   "outputs": [
    {
     "data": {
      "text/plain": [
       "60000"
      ]
     },
     "execution_count": 84,
     "metadata": {},
     "output_type": "execute_result"
    }
   ],
   "source": [
    "triplet_train_exploded_df = (\n",
    "    triplet_train_dataframe\n",
    "    .explode('negatives')\n",
    "    .reset_index()[[\"anchor\", \"positive\", \"negatives\"]]\n",
    "    .rename({\"positive\" : \"positive_match\", \"negatives\": \"negative_match\"}, axis=1)\n",
    ")  \n",
    "\n",
    "len(triplet_train_exploded_df)"
   ]
  },
  {
   "cell_type": "code",
   "execution_count": 85,
   "id": "5d734d02-a544-4be2-8fdb-429331c954d3",
   "metadata": {},
   "outputs": [
    {
     "data": {
      "text/html": [
       "<div>\n",
       "<style scoped>\n",
       "    .dataframe tbody tr th:only-of-type {\n",
       "        vertical-align: middle;\n",
       "    }\n",
       "\n",
       "    .dataframe tbody tr th {\n",
       "        vertical-align: top;\n",
       "    }\n",
       "\n",
       "    .dataframe thead th {\n",
       "        text-align: right;\n",
       "    }\n",
       "</style>\n",
       "<table border=\"1\" class=\"dataframe\">\n",
       "  <thead>\n",
       "    <tr style=\"text-align: right;\">\n",
       "      <th></th>\n",
       "      <th>anchor</th>\n",
       "      <th>positive_match</th>\n",
       "      <th>negative_match</th>\n",
       "    </tr>\n",
       "  </thead>\n",
       "  <tbody>\n",
       "    <tr>\n",
       "      <th>0</th>\n",
       "      <td>highlight the parts (if any) of this contract ...</td>\n",
       "      <td>Except as provided in Sections 4 and 5 above, ...</td>\n",
       "      <td>(p) the undersigned is aware that no federal o...</td>\n",
       "    </tr>\n",
       "    <tr>\n",
       "      <th>1</th>\n",
       "      <td>highlight the parts (if any) of this contract ...</td>\n",
       "      <td>Except as provided in Sections 4 and 5 above, ...</td>\n",
       "      <td>“securities act” means the securities act of 1...</td>\n",
       "    </tr>\n",
       "    <tr>\n",
       "      <th>2</th>\n",
       "      <td>highlight the parts (if any) of this contract ...</td>\n",
       "      <td>Except as provided in Sections 4 and 5 above, ...</td>\n",
       "      <td>section 4.05 entire agreement; amendments. thi...</td>\n",
       "    </tr>\n",
       "    <tr>\n",
       "      <th>3</th>\n",
       "      <td>highlight the parts (if any) of this contract ...</td>\n",
       "      <td>c. The cleaning solution should not be sprayed...</td>\n",
       "      <td>(vi) the participant’s conviction of, or entry...</td>\n",
       "    </tr>\n",
       "    <tr>\n",
       "      <th>4</th>\n",
       "      <td>highlight the parts (if any) of this contract ...</td>\n",
       "      <td>c. The cleaning solution should not be sprayed...</td>\n",
       "      <td>ee. “person” means any individual, corporation...</td>\n",
       "    </tr>\n",
       "  </tbody>\n",
       "</table>\n",
       "</div>"
      ],
      "text/plain": [
       "                                              anchor  \\\n",
       "0  highlight the parts (if any) of this contract ...   \n",
       "1  highlight the parts (if any) of this contract ...   \n",
       "2  highlight the parts (if any) of this contract ...   \n",
       "3  highlight the parts (if any) of this contract ...   \n",
       "4  highlight the parts (if any) of this contract ...   \n",
       "\n",
       "                                      positive_match  \\\n",
       "0  Except as provided in Sections 4 and 5 above, ...   \n",
       "1  Except as provided in Sections 4 and 5 above, ...   \n",
       "2  Except as provided in Sections 4 and 5 above, ...   \n",
       "3  c. The cleaning solution should not be sprayed...   \n",
       "4  c. The cleaning solution should not be sprayed...   \n",
       "\n",
       "                                      negative_match  \n",
       "0  (p) the undersigned is aware that no federal o...  \n",
       "1  “securities act” means the securities act of 1...  \n",
       "2  section 4.05 entire agreement; amendments. thi...  \n",
       "3  (vi) the participant’s conviction of, or entry...  \n",
       "4  ee. “person” means any individual, corporation...  "
      ]
     },
     "execution_count": 85,
     "metadata": {},
     "output_type": "execute_result"
    }
   ],
   "source": [
    "triplet_train_exploded_df.head()"
   ]
  },
  {
   "cell_type": "code",
   "execution_count": 86,
   "id": "6d2a6fff-c044-473b-80aa-9445bd48a17d",
   "metadata": {},
   "outputs": [],
   "source": [
    "triplet_train_exploded_df[\"clause_type\"] = triplet_train_exploded_df[\"anchor\"].apply(lambda row: re.findall('\"([^\"]*)\"', row)[0])"
   ]
  },
  {
   "cell_type": "code",
   "execution_count": 89,
   "id": "3b4cbd0d-9d16-4be2-bb4c-ca1f64005c0b",
   "metadata": {},
   "outputs": [
    {
     "data": {
      "text/html": [
       "<div>\n",
       "<style scoped>\n",
       "    .dataframe tbody tr th:only-of-type {\n",
       "        vertical-align: middle;\n",
       "    }\n",
       "\n",
       "    .dataframe tbody tr th {\n",
       "        vertical-align: top;\n",
       "    }\n",
       "\n",
       "    .dataframe thead th {\n",
       "        text-align: right;\n",
       "    }\n",
       "</style>\n",
       "<table border=\"1\" class=\"dataframe\">\n",
       "  <thead>\n",
       "    <tr style=\"text-align: right;\">\n",
       "      <th></th>\n",
       "      <th>anchor</th>\n",
       "      <th>positive_match</th>\n",
       "      <th>negative_match</th>\n",
       "    </tr>\n",
       "    <tr>\n",
       "      <th>clause_type</th>\n",
       "      <th></th>\n",
       "      <th></th>\n",
       "      <th></th>\n",
       "    </tr>\n",
       "  </thead>\n",
       "  <tbody>\n",
       "    <tr>\n",
       "      <th>stock options</th>\n",
       "      <td>1449</td>\n",
       "      <td>1449</td>\n",
       "      <td>1449</td>\n",
       "    </tr>\n",
       "    <tr>\n",
       "      <th>severability</th>\n",
       "      <td>801</td>\n",
       "      <td>801</td>\n",
       "      <td>801</td>\n",
       "    </tr>\n",
       "    <tr>\n",
       "      <th>termination for cause</th>\n",
       "      <td>720</td>\n",
       "      <td>720</td>\n",
       "      <td>720</td>\n",
       "    </tr>\n",
       "    <tr>\n",
       "      <th>indemnification</th>\n",
       "      <td>636</td>\n",
       "      <td>636</td>\n",
       "      <td>636</td>\n",
       "    </tr>\n",
       "    <tr>\n",
       "      <th>termination of employment</th>\n",
       "      <td>624</td>\n",
       "      <td>624</td>\n",
       "      <td>624</td>\n",
       "    </tr>\n",
       "    <tr>\n",
       "      <th>...</th>\n",
       "      <td>...</td>\n",
       "      <td>...</td>\n",
       "      <td>...</td>\n",
       "    </tr>\n",
       "    <tr>\n",
       "      <th>stock plan administration</th>\n",
       "      <td>3</td>\n",
       "      <td>3</td>\n",
       "      <td>3</td>\n",
       "    </tr>\n",
       "    <tr>\n",
       "      <th>stock plan amendment</th>\n",
       "      <td>3</td>\n",
       "      <td>3</td>\n",
       "      <td>3</td>\n",
       "    </tr>\n",
       "    <tr>\n",
       "      <th>financial information disclosure</th>\n",
       "      <td>3</td>\n",
       "      <td>3</td>\n",
       "      <td>3</td>\n",
       "    </tr>\n",
       "    <tr>\n",
       "      <th>stock power</th>\n",
       "      <td>3</td>\n",
       "      <td>3</td>\n",
       "      <td>3</td>\n",
       "    </tr>\n",
       "    <tr>\n",
       "      <th>401(a) qualified plans</th>\n",
       "      <td>3</td>\n",
       "      <td>3</td>\n",
       "      <td>3</td>\n",
       "    </tr>\n",
       "  </tbody>\n",
       "</table>\n",
       "<p>6018 rows × 3 columns</p>\n",
       "</div>"
      ],
      "text/plain": [
       "                                  anchor  positive_match  negative_match\n",
       "clause_type                                                             \n",
       "stock options                       1449            1449            1449\n",
       "severability                         801             801             801\n",
       "termination for cause                720             720             720\n",
       "indemnification                      636             636             636\n",
       "termination of employment            624             624             624\n",
       "...                                  ...             ...             ...\n",
       "stock plan administration              3               3               3\n",
       "stock plan amendment                   3               3               3\n",
       "financial information disclosure       3               3               3\n",
       "stock power                            3               3               3\n",
       "401(a) qualified plans                 3               3               3\n",
       "\n",
       "[6018 rows x 3 columns]"
      ]
     },
     "execution_count": 89,
     "metadata": {},
     "output_type": "execute_result"
    }
   ],
   "source": [
    "triplet_train_exploded_df.groupby([\"clause_type\"]).count().sort_values(by=\"anchor\", ascending=False)"
   ]
  },
  {
   "cell_type": "code",
   "execution_count": 90,
   "id": "245fc9c1-e052-46e9-a810-2360d978c927",
   "metadata": {},
   "outputs": [],
   "source": [
    "triplet_train_exploded_df.to_csv(\"./data/cuad_data_synthetic/train_cuad_dual_encoder_20k.csv\")\n"
   ]
  },
  {
   "cell_type": "code",
   "execution_count": null,
   "id": "07ed20bf-c5c1-48fc-a731-08882ad2597f",
   "metadata": {},
   "outputs": [],
   "source": []
  },
  {
   "cell_type": "markdown",
   "id": "1518e552-8d93-459e-9209-b8a8afa12b46",
   "metadata": {},
   "source": [
    "### Cross encoder"
   ]
  },
  {
   "cell_type": "code",
   "execution_count": 91,
   "id": "85d532db-9162-4251-8143-0543163de5a0",
   "metadata": {},
   "outputs": [],
   "source": [
    "anchor_positive = triplet_train_dataframe[[\"anchor\", \"positive\"]]\n",
    "anchor_negatives = triplet_train_dataframe[[\"anchor\", \"negatives\"]]"
   ]
  },
  {
   "cell_type": "code",
   "execution_count": 92,
   "id": "3c93ecd9-5105-4d84-ab00-38426771b7d9",
   "metadata": {},
   "outputs": [],
   "source": [
    "anchor_positive = anchor_positive.rename(columns={\"anchor\": \"query\", \"positive\": \"text\"})\n",
    "anchor_positive[\"label\"] = 1"
   ]
  },
  {
   "cell_type": "code",
   "execution_count": 93,
   "id": "0b2104bd-35cc-4b32-a787-3d6c10a23806",
   "metadata": {},
   "outputs": [],
   "source": [
    "anchor_negatives_exploded = (\n",
    "    anchor_negatives\n",
    "    .explode('negatives')\n",
    "    .reset_index()[[\"anchor\", \"negatives\"]]\n",
    "    .rename({\"anchor\" : \"query\", \"negatives\": \"text\"}, axis=1)\n",
    ")    \n",
    "\n",
    "anchor_negatives_exploded[\"label\"] = 0\n"
   ]
  },
  {
   "cell_type": "code",
   "execution_count": 94,
   "id": "4121b5ab-7b1b-46b0-84dd-841ba1f0001e",
   "metadata": {},
   "outputs": [
    {
     "data": {
      "text/plain": [
       "60000"
      ]
     },
     "execution_count": 94,
     "metadata": {},
     "output_type": "execute_result"
    }
   ],
   "source": [
    "len(anchor_negatives_exploded)"
   ]
  },
  {
   "cell_type": "code",
   "execution_count": 95,
   "id": "d522cf2e-54d2-4c99-8725-49cc57ba92e3",
   "metadata": {},
   "outputs": [],
   "source": [
    "cross_encoder_train_data = pd.concat([anchor_positive, anchor_negatives_exploded]).reset_index()"
   ]
  },
  {
   "cell_type": "code",
   "execution_count": 96,
   "id": "3a28a1f9-14ec-49a4-9e1c-52f1c84e2fad",
   "metadata": {},
   "outputs": [
    {
     "data": {
      "text/html": [
       "<div>\n",
       "<style scoped>\n",
       "    .dataframe tbody tr th:only-of-type {\n",
       "        vertical-align: middle;\n",
       "    }\n",
       "\n",
       "    .dataframe tbody tr th {\n",
       "        vertical-align: top;\n",
       "    }\n",
       "\n",
       "    .dataframe thead th {\n",
       "        text-align: right;\n",
       "    }\n",
       "</style>\n",
       "<table border=\"1\" class=\"dataframe\">\n",
       "  <thead>\n",
       "    <tr style=\"text-align: right;\">\n",
       "      <th></th>\n",
       "      <th>index</th>\n",
       "      <th>query</th>\n",
       "      <th>text</th>\n",
       "      <th>label</th>\n",
       "    </tr>\n",
       "  </thead>\n",
       "  <tbody>\n",
       "    <tr>\n",
       "      <th>19999</th>\n",
       "      <td>19999</td>\n",
       "      <td>highlight the parts (if any) of this contract ...</td>\n",
       "      <td>23.Right to Terminate Employment.  Nothing in ...</td>\n",
       "      <td>1</td>\n",
       "    </tr>\n",
       "    <tr>\n",
       "      <th>20000</th>\n",
       "      <td>0</td>\n",
       "      <td>highlight the parts (if any) of this contract ...</td>\n",
       "      <td>(p) the undersigned is aware that no federal o...</td>\n",
       "      <td>0</td>\n",
       "    </tr>\n",
       "    <tr>\n",
       "      <th>20001</th>\n",
       "      <td>1</td>\n",
       "      <td>highlight the parts (if any) of this contract ...</td>\n",
       "      <td>“securities act” means the securities act of 1...</td>\n",
       "      <td>0</td>\n",
       "    </tr>\n",
       "    <tr>\n",
       "      <th>20002</th>\n",
       "      <td>2</td>\n",
       "      <td>highlight the parts (if any) of this contract ...</td>\n",
       "      <td>section 4.05 entire agreement; amendments. thi...</td>\n",
       "      <td>0</td>\n",
       "    </tr>\n",
       "    <tr>\n",
       "      <th>20003</th>\n",
       "      <td>3</td>\n",
       "      <td>highlight the parts (if any) of this contract ...</td>\n",
       "      <td>(vi) the participant’s conviction of, or entry...</td>\n",
       "      <td>0</td>\n",
       "    </tr>\n",
       "  </tbody>\n",
       "</table>\n",
       "</div>"
      ],
      "text/plain": [
       "       index                                              query  \\\n",
       "19999  19999  highlight the parts (if any) of this contract ...   \n",
       "20000      0  highlight the parts (if any) of this contract ...   \n",
       "20001      1  highlight the parts (if any) of this contract ...   \n",
       "20002      2  highlight the parts (if any) of this contract ...   \n",
       "20003      3  highlight the parts (if any) of this contract ...   \n",
       "\n",
       "                                                    text  label  \n",
       "19999  23.Right to Terminate Employment.  Nothing in ...      1  \n",
       "20000  (p) the undersigned is aware that no federal o...      0  \n",
       "20001  “securities act” means the securities act of 1...      0  \n",
       "20002  section 4.05 entire agreement; amendments. thi...      0  \n",
       "20003  (vi) the participant’s conviction of, or entry...      0  "
      ]
     },
     "execution_count": 96,
     "metadata": {},
     "output_type": "execute_result"
    }
   ],
   "source": [
    "cross_encoder_train_data[19999:].head()"
   ]
  },
  {
   "cell_type": "code",
   "execution_count": 97,
   "id": "afbda8de-0359-43da-9259-74a8099cbd07",
   "metadata": {},
   "outputs": [],
   "source": [
    "cross_encoder_train_data.to_csv(\"./data/cuad_data_synthetic/train_cuad_cross_encoder_20k.csv\")\n"
   ]
  },
  {
   "cell_type": "code",
   "execution_count": null,
   "id": "b96bde45-d9f6-4f0e-a0ed-6e93f747bb0c",
   "metadata": {},
   "outputs": [],
   "source": []
  },
  {
   "cell_type": "markdown",
   "id": "d10db363-84d9-4d18-a270-9837f9c818ad",
   "metadata": {
    "tags": []
   },
   "source": [
    "# Synthetic discriminative contracts"
   ]
  },
  {
   "cell_type": "code",
   "execution_count": 2,
   "id": "5b49f573-eb6e-40bb-a68d-2b45273e08ca",
   "metadata": {},
   "outputs": [],
   "source": [
    "data_path = \"./data/cuad_data_synthetic_discriminative/synthetic_contracts_discriminative.jsonl\""
   ]
  },
  {
   "cell_type": "code",
   "execution_count": 3,
   "id": "a2d43b8c-2fc2-4d04-a192-01d49f7b500c",
   "metadata": {},
   "outputs": [],
   "source": [
    "all_query_clauses = []\n",
    "with open(data_path, \"r\") as reader:\n",
    "    for obj in reader:\n",
    "        all_query_clauses.append(obj)\n",
    "\n",
    "all_query_clauses = [json.loads(el) for el in all_query_clauses]"
   ]
  },
  {
   "cell_type": "code",
   "execution_count": 4,
   "id": "edec7248-05d9-4cc7-ac34-26c46e269788",
   "metadata": {},
   "outputs": [
    {
     "data": {
      "text/plain": [
       "19058"
      ]
     },
     "execution_count": 4,
     "metadata": {},
     "output_type": "execute_result"
    }
   ],
   "source": [
    "len(all_query_clauses)"
   ]
  },
  {
   "cell_type": "code",
   "execution_count": 5,
   "id": "3b4e73d3-361d-4c62-a01c-a6f13b69e7a8",
   "metadata": {},
   "outputs": [
    {
     "data": {
      "text/html": [
       "<div>\n",
       "<style scoped>\n",
       "    .dataframe tbody tr th:only-of-type {\n",
       "        vertical-align: middle;\n",
       "    }\n",
       "\n",
       "    .dataframe tbody tr th {\n",
       "        vertical-align: top;\n",
       "    }\n",
       "\n",
       "    .dataframe thead th {\n",
       "        text-align: right;\n",
       "    }\n",
       "</style>\n",
       "<table border=\"1\" class=\"dataframe\">\n",
       "  <thead>\n",
       "    <tr style=\"text-align: right;\">\n",
       "      <th></th>\n",
       "      <th>question</th>\n",
       "      <th>clause</th>\n",
       "      <th>clause_type</th>\n",
       "    </tr>\n",
       "  </thead>\n",
       "  <tbody>\n",
       "    <tr>\n",
       "      <th>0</th>\n",
       "      <td>highlight the parts (if any) of this contract...</td>\n",
       "      <td>The Plan as set forth herein constitutes an am...</td>\n",
       "      <td>effective date reference</td>\n",
       "    </tr>\n",
       "    <tr>\n",
       "      <th>1</th>\n",
       "      <td>highlight the parts (if any) of this contract...</td>\n",
       "      <td>(b)    individuals who, as of the Effective Da...</td>\n",
       "      <td>change of control</td>\n",
       "    </tr>\n",
       "    <tr>\n",
       "      <th>2</th>\n",
       "      <td>highlight the parts (if any) of this contract...</td>\n",
       "      <td>(c)    consummation by the Company of a reorga...</td>\n",
       "      <td>merger restrictions</td>\n",
       "    </tr>\n",
       "    <tr>\n",
       "      <th>3</th>\n",
       "      <td>highlight the parts (if any) of this contract...</td>\n",
       "      <td>Notwithstanding the foregoing, with respect to...</td>\n",
       "      <td>change of control</td>\n",
       "    </tr>\n",
       "    <tr>\n",
       "      <th>4</th>\n",
       "      <td>highlight the parts (if any) of this contract...</td>\n",
       "      <td>Subject to Section 5.1(b), Section 5.1(d) and ...</td>\n",
       "      <td>effective date reference</td>\n",
       "    </tr>\n",
       "    <tr>\n",
       "      <th>...</th>\n",
       "      <td>...</td>\n",
       "      <td>...</td>\n",
       "      <td>...</td>\n",
       "    </tr>\n",
       "    <tr>\n",
       "      <th>19053</th>\n",
       "      <td>highlight the parts (if any) of this contract...</td>\n",
       "      <td>(m) Indebtedness consisting of (i) the financi...</td>\n",
       "      <td>insurance</td>\n",
       "    </tr>\n",
       "    <tr>\n",
       "      <th>19054</th>\n",
       "      <td>highlight the parts (if any) of this contract...</td>\n",
       "      <td>7.05 Fundamental Changes. Merge, dissolve, liq...</td>\n",
       "      <td>merger restrictions</td>\n",
       "    </tr>\n",
       "    <tr>\n",
       "      <th>19055</th>\n",
       "      <td>highlight the parts (if any) of this contract...</td>\n",
       "      <td>(a) any Restricted Subsidiary may merge with (...</td>\n",
       "      <td>merger restrictions</td>\n",
       "    </tr>\n",
       "    <tr>\n",
       "      <th>19056</th>\n",
       "      <td>highlight the parts (if any) of this contract...</td>\n",
       "      <td>(d) any Restricted Subsidiary may merge with a...</td>\n",
       "      <td>merger restrictions</td>\n",
       "    </tr>\n",
       "    <tr>\n",
       "      <th>19057</th>\n",
       "      <td>highlight the parts (if any) of this contract...</td>\n",
       "      <td>(e) each of the Borrower and any of its Restri...</td>\n",
       "      <td>merger restrictions</td>\n",
       "    </tr>\n",
       "  </tbody>\n",
       "</table>\n",
       "<p>19058 rows × 3 columns</p>\n",
       "</div>"
      ],
      "text/plain": [
       "                                                question  \\\n",
       "0       highlight the parts (if any) of this contract...   \n",
       "1       highlight the parts (if any) of this contract...   \n",
       "2       highlight the parts (if any) of this contract...   \n",
       "3       highlight the parts (if any) of this contract...   \n",
       "4       highlight the parts (if any) of this contract...   \n",
       "...                                                  ...   \n",
       "19053   highlight the parts (if any) of this contract...   \n",
       "19054   highlight the parts (if any) of this contract...   \n",
       "19055   highlight the parts (if any) of this contract...   \n",
       "19056   highlight the parts (if any) of this contract...   \n",
       "19057   highlight the parts (if any) of this contract...   \n",
       "\n",
       "                                                  clause  \\\n",
       "0      The Plan as set forth herein constitutes an am...   \n",
       "1      (b)    individuals who, as of the Effective Da...   \n",
       "2      (c)    consummation by the Company of a reorga...   \n",
       "3      Notwithstanding the foregoing, with respect to...   \n",
       "4      Subject to Section 5.1(b), Section 5.1(d) and ...   \n",
       "...                                                  ...   \n",
       "19053  (m) Indebtedness consisting of (i) the financi...   \n",
       "19054  7.05 Fundamental Changes. Merge, dissolve, liq...   \n",
       "19055  (a) any Restricted Subsidiary may merge with (...   \n",
       "19056  (d) any Restricted Subsidiary may merge with a...   \n",
       "19057  (e) each of the Borrower and any of its Restri...   \n",
       "\n",
       "                    clause_type  \n",
       "0      effective date reference  \n",
       "1             change of control  \n",
       "2           merger restrictions  \n",
       "3             change of control  \n",
       "4      effective date reference  \n",
       "...                         ...  \n",
       "19053                 insurance  \n",
       "19054       merger restrictions  \n",
       "19055       merger restrictions  \n",
       "19056       merger restrictions  \n",
       "19057       merger restrictions  \n",
       "\n",
       "[19058 rows x 3 columns]"
      ]
     },
     "execution_count": 5,
     "metadata": {},
     "output_type": "execute_result"
    }
   ],
   "source": [
    "df = pd.DataFrame.from_dict(all_query_clauses)\n",
    "df"
   ]
  },
  {
   "cell_type": "code",
   "execution_count": 6,
   "id": "1a3b34c2-3086-4152-8fe7-c7e97f767257",
   "metadata": {},
   "outputs": [
    {
     "data": {
      "text/plain": [
       "27"
      ]
     },
     "execution_count": 6,
     "metadata": {},
     "output_type": "execute_result"
    }
   ],
   "source": [
    "len(set(df[\"clause_type\"]))"
   ]
  },
  {
   "cell_type": "code",
   "execution_count": 7,
   "id": "ce2008e3-5c7b-4f38-8f98-42e64311ae70",
   "metadata": {},
   "outputs": [
    {
     "data": {
      "text/plain": [
       "{'affiliate license-licensee',\n",
       " 'auditor opinion',\n",
       " 'cap on liability',\n",
       " 'change of control',\n",
       " 'confidential information form',\n",
       " 'confidential period',\n",
       " 'covenant not to sue',\n",
       " 'cross default',\n",
       " 'dispute resolution',\n",
       " 'effective date main',\n",
       " 'effective date reference',\n",
       " 'financial statements',\n",
       " 'governing document',\n",
       " 'governing law',\n",
       " 'income summary',\n",
       " 'insurance',\n",
       " 'litigation default',\n",
       " 'main objective',\n",
       " 'merger restrictions',\n",
       " 'no solicitation',\n",
       " 'post-termination services',\n",
       " 'price restrictions',\n",
       " 'reserves policy',\n",
       " 'tax changes call',\n",
       " 'third party beneficiary',\n",
       " 'trustee appointment',\n",
       " 'warranty duration'}"
      ]
     },
     "execution_count": 7,
     "metadata": {},
     "output_type": "execute_result"
    }
   ],
   "source": [
    "set(df[\"clause_type\"])"
   ]
  },
  {
   "cell_type": "code",
   "execution_count": 8,
   "id": "e7c387f5-d336-4440-a5c5-a6a93a862d66",
   "metadata": {},
   "outputs": [
    {
     "data": {
      "text/plain": [
       "10966"
      ]
     },
     "execution_count": 8,
     "metadata": {},
     "output_type": "execute_result"
    }
   ],
   "source": [
    "len(set(df[\"question\"]))"
   ]
  },
  {
   "cell_type": "code",
   "execution_count": 9,
   "id": "ddfc9817-da03-497c-8eb7-463b7d4aae68",
   "metadata": {},
   "outputs": [],
   "source": [
    "df2 = df[df[\"clause_type\"] == \"merger restrictions\"]"
   ]
  },
  {
   "cell_type": "code",
   "execution_count": 10,
   "id": "f996c6af-cdee-4de0-ab86-12c0b22aad8a",
   "metadata": {},
   "outputs": [
    {
     "data": {
      "text/plain": [
       "' highlight the parts (if any) of this contract related to \"successor liability\" that should be reviewed by a lawyer. details: does the contract contain a clause that requires a successor entity to assume the obligations of the original contracting party in the event of a merger, acquisition, or other reorganization?'"
      ]
     },
     "execution_count": 10,
     "metadata": {},
     "output_type": "execute_result"
    }
   ],
   "source": [
    "df2.iloc[6][\"question\"]"
   ]
  },
  {
   "cell_type": "code",
   "execution_count": 11,
   "id": "e7e5f7cf-77d8-4a95-b885-f2754134abee",
   "metadata": {},
   "outputs": [
    {
     "data": {
      "text/plain": [
       "'highlight the parts (if any) of this contract related to \"transfer of assets\" that should be reviewed by a lawyer. details: is consent or notice required of a party if it transfers all or substantially all of its assets to a third party?'"
      ]
     },
     "execution_count": 11,
     "metadata": {},
     "output_type": "execute_result"
    }
   ],
   "source": [
    "' '.join(df2.iloc[8][\"question\"].split())"
   ]
  },
  {
   "cell_type": "code",
   "execution_count": null,
   "id": "a2352586-c269-4fe9-aebd-457a7efec723",
   "metadata": {},
   "outputs": [],
   "source": []
  },
  {
   "cell_type": "code",
   "execution_count": 34,
   "id": "381707c8-82a0-4bac-ae1b-2cdeb1b4b72d",
   "metadata": {},
   "outputs": [
    {
     "data": {
      "text/plain": [
       "'the plan as set forth herein constitutes an amendment and restatement of the company’s 2012 omnibus incentive compensation plan as in effect immediately prior to the effective date (the “prior plan”). the prior plan replaced the company’s 2008 omnibus incentive compensation plan effective as of may 15, 2012, and no further awards have or will be made under such 2008 omnibus incentive compensation plan from and after such date. the plan shall supersede and replace in its entirety the prior plan; provided, however, that, notwithstanding any provisions herein to the contrary, each award granted under the prior plan prior to the effective date shall be subject to the terms and provisions applicable to such award under the prior plan as in effect immediately prior to the effective date.'"
      ]
     },
     "execution_count": 34,
     "metadata": {},
     "output_type": "execute_result"
    }
   ],
   "source": [
    "' '.join(sample.replace('\\n',' ').split()).lower()"
   ]
  },
  {
   "cell_type": "code",
   "execution_count": 25,
   "id": "89b0375e-ea9f-457e-8e9b-10ee93e8c433",
   "metadata": {},
   "outputs": [
    {
     "data": {
      "text/plain": [
       "'highlight the parts (if any) of this contract related to \"term modification\" that should be reviewed by a lawyer. details: does the contract contain a modification or amendment to a term or condition from a prior agreement?'"
      ]
     },
     "execution_count": 25,
     "metadata": {},
     "output_type": "execute_result"
    }
   ],
   "source": [
    "query = df.iloc[33][\"question\"].strip()\n",
    "query\n"
   ]
  },
  {
   "cell_type": "code",
   "execution_count": 36,
   "id": "bf98e773-9c37-47da-be69-da3e7a893107",
   "metadata": {},
   "outputs": [
    {
     "name": "stderr",
     "output_type": "stream",
     "text": [
      "100%|███████████████████████████████████████████████████████████████| 19058/19058 [00:54<00:00, 352.73it/s]\n"
     ]
    }
   ],
   "source": [
    "num_negatives = 3\n",
    "\n",
    "anchors_train = []\n",
    "positives_train = []\n",
    "negatives_train = []\n",
    "\n",
    "positive_categories_train = []\n",
    "negative_categories_train = []\n",
    "\n",
    "for row in tqdm(range(len(df))):\n",
    "    \n",
    "    category = df.iloc[row][\"clause_type\"]\n",
    "    \n",
    "    query = df.iloc[row][\"question\"].replace(\"\\xa0\", \"\").strip().lower()\n",
    "    anchors_train.append(query)\n",
    "    \n",
    "    # clean up the text\n",
    "    positive_sample = df.iloc[row][\"clause\"]\n",
    "    postive_sample = ' '.join(positive_sample.replace('\\n',' ').split())\n",
    "    positive_sample = positive_sample.lower()\n",
    "\n",
    "    positives_train.append(positive_sample)\n",
    "    \n",
    "    # get the negative sample and category\n",
    "    potential_negative_samples = df[df[\"clause_type\"] != category].sample(num_negatives)\n",
    "    \n",
    "    negative_samples = [el.lower() for el in list(potential_negative_samples[\"clause\"])]\n",
    "    negative_samples = [' '.join(negative_sample.replace('\\n',' ').split()) for negative_sample in negative_samples]\n",
    "    \n",
    "    negative_categories = list(potential_negative_samples[\"clause_type\"])\n",
    "    \n",
    "    negatives_train.append(negative_samples)\n",
    "    \n",
    "    # get the categories of the positive and negative samples\n",
    "    positive_categories_train.append(category)\n",
    "    negative_categories_train.append(negative_categories)"
   ]
  },
  {
   "cell_type": "code",
   "execution_count": 37,
   "id": "0414a5a1-19db-46f2-850b-227e49cf419c",
   "metadata": {},
   "outputs": [
    {
     "name": "stdout",
     "output_type": "stream",
     "text": [
      "19058\n"
     ]
    },
    {
     "data": {
      "text/html": [
       "<div>\n",
       "<style scoped>\n",
       "    .dataframe tbody tr th:only-of-type {\n",
       "        vertical-align: middle;\n",
       "    }\n",
       "\n",
       "    .dataframe tbody tr th {\n",
       "        vertical-align: top;\n",
       "    }\n",
       "\n",
       "    .dataframe thead th {\n",
       "        text-align: right;\n",
       "    }\n",
       "</style>\n",
       "<table border=\"1\" class=\"dataframe\">\n",
       "  <thead>\n",
       "    <tr style=\"text-align: right;\">\n",
       "      <th></th>\n",
       "      <th>anchor</th>\n",
       "      <th>positive</th>\n",
       "      <th>negatives</th>\n",
       "    </tr>\n",
       "  </thead>\n",
       "  <tbody>\n",
       "    <tr>\n",
       "      <th>0</th>\n",
       "      <td>highlight the parts (if any) of this contract ...</td>\n",
       "      <td>the plan as set forth herein constitutes an am...</td>\n",
       "      <td>[no amendment to or modification or waiver of ...</td>\n",
       "    </tr>\n",
       "    <tr>\n",
       "      <th>1</th>\n",
       "      <td>highlight the parts (if any) of this contract ...</td>\n",
       "      <td>(b)    individuals who, as of the effective da...</td>\n",
       "      <td>[“total assets” means the total assets of the ...</td>\n",
       "    </tr>\n",
       "    <tr>\n",
       "      <th>2</th>\n",
       "      <td>highlight the parts (if any) of this contract ...</td>\n",
       "      <td>(c)    consummation by the company of a reorga...</td>\n",
       "      <td>[section 6.05. notice of adverse change. promp...</td>\n",
       "    </tr>\n",
       "    <tr>\n",
       "      <th>3</th>\n",
       "      <td>highlight the parts (if any) of this contract ...</td>\n",
       "      <td>notwithstanding the foregoing, with respect to...</td>\n",
       "      <td>[whereas the issuer is issuing the class a-1 1...</td>\n",
       "    </tr>\n",
       "    <tr>\n",
       "      <th>4</th>\n",
       "      <td>highlight the parts (if any) of this contract ...</td>\n",
       "      <td>subject to section 5.1(b), section 5.1(d) and ...</td>\n",
       "      <td>[(e) business interruption insurance caused by...</td>\n",
       "    </tr>\n",
       "  </tbody>\n",
       "</table>\n",
       "</div>"
      ],
      "text/plain": [
       "                                              anchor  \\\n",
       "0  highlight the parts (if any) of this contract ...   \n",
       "1  highlight the parts (if any) of this contract ...   \n",
       "2  highlight the parts (if any) of this contract ...   \n",
       "3  highlight the parts (if any) of this contract ...   \n",
       "4  highlight the parts (if any) of this contract ...   \n",
       "\n",
       "                                            positive  \\\n",
       "0  the plan as set forth herein constitutes an am...   \n",
       "1  (b)    individuals who, as of the effective da...   \n",
       "2  (c)    consummation by the company of a reorga...   \n",
       "3  notwithstanding the foregoing, with respect to...   \n",
       "4  subject to section 5.1(b), section 5.1(d) and ...   \n",
       "\n",
       "                                           negatives  \n",
       "0  [no amendment to or modification or waiver of ...  \n",
       "1  [“total assets” means the total assets of the ...  \n",
       "2  [section 6.05. notice of adverse change. promp...  \n",
       "3  [whereas the issuer is issuing the class a-1 1...  \n",
       "4  [(e) business interruption insurance caused by...  "
      ]
     },
     "execution_count": 37,
     "metadata": {},
     "output_type": "execute_result"
    }
   ],
   "source": [
    "triplet_train_dataframe = pd.DataFrame(list(zip(anchors_train, positives_train, negatives_train)),\n",
    "                                    columns=[\"anchor\", \"positive\", \"negatives\"])\n",
    "\n",
    "print(len(triplet_train_dataframe))\n",
    "triplet_train_dataframe.head()"
   ]
  },
  {
   "cell_type": "code",
   "execution_count": 28,
   "id": "bf9d5494-67ea-4916-9843-313dedf042ba",
   "metadata": {},
   "outputs": [
    {
     "data": {
      "text/plain": [
       "'highlight the parts (if any) of this contract related to \"superseding agreement\" that should be reviewed by a lawyer. details: does this contract supersede or replace a prior agreement between the parties?'"
      ]
     },
     "execution_count": 28,
     "metadata": {},
     "output_type": "execute_result"
    }
   ],
   "source": [
    "triplet_train_dataframe.iloc[0][\"anchor\"]"
   ]
  },
  {
   "cell_type": "code",
   "execution_count": null,
   "id": "c6e726c7-4016-459d-85af-003bfd7f65a5",
   "metadata": {},
   "outputs": [],
   "source": []
  },
  {
   "cell_type": "markdown",
   "id": "f8ccb0a9-967d-4aa4-bcf2-b0864041ae17",
   "metadata": {
    "tags": []
   },
   "source": [
    "## Generate queries using the original clause types"
   ]
  },
  {
   "cell_type": "code",
   "execution_count": 80,
   "id": "14155d3b-9408-4bc0-9b1e-f1f15454b647",
   "metadata": {},
   "outputs": [],
   "source": [
    "def create_query(clause):\n",
    "    \n",
    "    return f'highlight the parts (if any) of this contract related to \"{clause}\" that should be reviewed by a lawyer.'\n"
   ]
  },
  {
   "cell_type": "code",
   "execution_count": 68,
   "id": "60114b0f-3907-4f6c-ac0f-1a0fbbdb1b00",
   "metadata": {},
   "outputs": [
    {
     "data": {
      "text/plain": [
       "'highlight the parts (if any) of this contract related to \"test\" that should be reviewed by a lawyer.'"
      ]
     },
     "execution_count": 68,
     "metadata": {},
     "output_type": "execute_result"
    }
   ],
   "source": [
    "create_query('test')"
   ]
  },
  {
   "cell_type": "code",
   "execution_count": 78,
   "id": "8c479c6e-2f33-4ab9-b973-f43f4e37ef4f",
   "metadata": {},
   "outputs": [
    {
     "name": "stdout",
     "output_type": "stream",
     "text": [
      "19058\n"
     ]
    },
    {
     "data": {
      "text/html": [
       "<div>\n",
       "<style scoped>\n",
       "    .dataframe tbody tr th:only-of-type {\n",
       "        vertical-align: middle;\n",
       "    }\n",
       "\n",
       "    .dataframe tbody tr th {\n",
       "        vertical-align: top;\n",
       "    }\n",
       "\n",
       "    .dataframe thead th {\n",
       "        text-align: right;\n",
       "    }\n",
       "</style>\n",
       "<table border=\"1\" class=\"dataframe\">\n",
       "  <thead>\n",
       "    <tr style=\"text-align: right;\">\n",
       "      <th></th>\n",
       "      <th>question</th>\n",
       "      <th>clause</th>\n",
       "      <th>clause_type</th>\n",
       "      <th>query</th>\n",
       "    </tr>\n",
       "  </thead>\n",
       "  <tbody>\n",
       "    <tr>\n",
       "      <th>0</th>\n",
       "      <td>highlight the parts (if any) of this contract...</td>\n",
       "      <td>The Plan as set forth herein constitutes an am...</td>\n",
       "      <td>effective date reference</td>\n",
       "      <td>highlight the parts (if any) of this contract ...</td>\n",
       "    </tr>\n",
       "    <tr>\n",
       "      <th>1</th>\n",
       "      <td>highlight the parts (if any) of this contract...</td>\n",
       "      <td>(b)    individuals who, as of the Effective Da...</td>\n",
       "      <td>change of control</td>\n",
       "      <td>highlight the parts (if any) of this contract ...</td>\n",
       "    </tr>\n",
       "    <tr>\n",
       "      <th>2</th>\n",
       "      <td>highlight the parts (if any) of this contract...</td>\n",
       "      <td>(c)    consummation by the Company of a reorga...</td>\n",
       "      <td>merger restrictions</td>\n",
       "      <td>highlight the parts (if any) of this contract ...</td>\n",
       "    </tr>\n",
       "    <tr>\n",
       "      <th>3</th>\n",
       "      <td>highlight the parts (if any) of this contract...</td>\n",
       "      <td>Notwithstanding the foregoing, with respect to...</td>\n",
       "      <td>change of control</td>\n",
       "      <td>highlight the parts (if any) of this contract ...</td>\n",
       "    </tr>\n",
       "    <tr>\n",
       "      <th>4</th>\n",
       "      <td>highlight the parts (if any) of this contract...</td>\n",
       "      <td>Subject to Section 5.1(b), Section 5.1(d) and ...</td>\n",
       "      <td>effective date reference</td>\n",
       "      <td>highlight the parts (if any) of this contract ...</td>\n",
       "    </tr>\n",
       "    <tr>\n",
       "      <th>5</th>\n",
       "      <td>highlight the parts (if any) of this contract...</td>\n",
       "      <td>Each share of Common Stock subject to a Full V...</td>\n",
       "      <td>effective date reference</td>\n",
       "      <td>highlight the parts (if any) of this contract ...</td>\n",
       "    </tr>\n",
       "    <tr>\n",
       "      <th>6</th>\n",
       "      <td>highlight the parts (if any) of this contract...</td>\n",
       "      <td>Subject to adjustment as provided in Section 5...</td>\n",
       "      <td>effective date reference</td>\n",
       "      <td>highlight the parts (if any) of this contract ...</td>\n",
       "    </tr>\n",
       "    <tr>\n",
       "      <th>7</th>\n",
       "      <td>highlight the parts (if any) of this contract...</td>\n",
       "      <td>of Common Stock repurchased on the open market...</td>\n",
       "      <td>effective date reference</td>\n",
       "      <td>highlight the parts (if any) of this contract ...</td>\n",
       "    </tr>\n",
       "    <tr>\n",
       "      <th>8</th>\n",
       "      <td>highlight the parts (if any) of this contract...</td>\n",
       "      <td>Any shares of Common Stock that again become a...</td>\n",
       "      <td>effective date reference</td>\n",
       "      <td>highlight the parts (if any) of this contract ...</td>\n",
       "    </tr>\n",
       "    <tr>\n",
       "      <th>9</th>\n",
       "      <td>highlight the parts (if any) of this contract...</td>\n",
       "      <td>No Option or Stock Appreciation Right granted ...</td>\n",
       "      <td>change of control</td>\n",
       "      <td>highlight the parts (if any) of this contract ...</td>\n",
       "    </tr>\n",
       "  </tbody>\n",
       "</table>\n",
       "</div>"
      ],
      "text/plain": [
       "                                            question  \\\n",
       "0   highlight the parts (if any) of this contract...   \n",
       "1   highlight the parts (if any) of this contract...   \n",
       "2   highlight the parts (if any) of this contract...   \n",
       "3   highlight the parts (if any) of this contract...   \n",
       "4   highlight the parts (if any) of this contract...   \n",
       "5   highlight the parts (if any) of this contract...   \n",
       "6   highlight the parts (if any) of this contract...   \n",
       "7   highlight the parts (if any) of this contract...   \n",
       "8   highlight the parts (if any) of this contract...   \n",
       "9   highlight the parts (if any) of this contract...   \n",
       "\n",
       "                                              clause  \\\n",
       "0  The Plan as set forth herein constitutes an am...   \n",
       "1  (b)    individuals who, as of the Effective Da...   \n",
       "2  (c)    consummation by the Company of a reorga...   \n",
       "3  Notwithstanding the foregoing, with respect to...   \n",
       "4  Subject to Section 5.1(b), Section 5.1(d) and ...   \n",
       "5  Each share of Common Stock subject to a Full V...   \n",
       "6  Subject to adjustment as provided in Section 5...   \n",
       "7  of Common Stock repurchased on the open market...   \n",
       "8  Any shares of Common Stock that again become a...   \n",
       "9  No Option or Stock Appreciation Right granted ...   \n",
       "\n",
       "                clause_type                                              query  \n",
       "0  effective date reference  highlight the parts (if any) of this contract ...  \n",
       "1         change of control  highlight the parts (if any) of this contract ...  \n",
       "2       merger restrictions  highlight the parts (if any) of this contract ...  \n",
       "3         change of control  highlight the parts (if any) of this contract ...  \n",
       "4  effective date reference  highlight the parts (if any) of this contract ...  \n",
       "5  effective date reference  highlight the parts (if any) of this contract ...  \n",
       "6  effective date reference  highlight the parts (if any) of this contract ...  \n",
       "7  effective date reference  highlight the parts (if any) of this contract ...  \n",
       "8  effective date reference  highlight the parts (if any) of this contract ...  \n",
       "9         change of control  highlight the parts (if any) of this contract ...  "
      ]
     },
     "execution_count": 78,
     "metadata": {},
     "output_type": "execute_result"
    }
   ],
   "source": [
    "print(len(df))\n",
    "df[:10]"
   ]
  },
  {
   "cell_type": "code",
   "execution_count": 62,
   "id": "8adf50f1-dc00-486a-9fde-3ea898bdc05f",
   "metadata": {},
   "outputs": [
    {
     "data": {
      "text/plain": [
       "' highlight the parts (if any) of this contract related to \"superseding agreement\" that should be reviewed by a lawyer. details: does this contract supersede or replace a prior agreement between the parties?'"
      ]
     },
     "execution_count": 62,
     "metadata": {},
     "output_type": "execute_result"
    }
   ],
   "source": [
    "df.iloc[0][\"question\"]"
   ]
  },
  {
   "cell_type": "code",
   "execution_count": 69,
   "id": "9354fe20-84c5-4d67-b049-156327b18861",
   "metadata": {},
   "outputs": [],
   "source": [
    "df[\"query\"] = df[\"clause_type\"].apply(lambda row: create_query(row))"
   ]
  },
  {
   "cell_type": "code",
   "execution_count": 81,
   "id": "f6c75b7f-170c-4d44-b25f-9b27d64b08b2",
   "metadata": {},
   "outputs": [
    {
     "data": {
      "text/plain": [
       "'highlight the parts (if any) of this contract related to \"merger restrictions\" that should be reviewed by a lawyer.'"
      ]
     },
     "execution_count": 81,
     "metadata": {},
     "output_type": "execute_result"
    }
   ],
   "source": [
    "df.iloc[2][\"query\"]"
   ]
  },
  {
   "cell_type": "code",
   "execution_count": 83,
   "id": "acb0198b-3fea-4c31-a512-c6c970e40185",
   "metadata": {},
   "outputs": [
    {
     "name": "stderr",
     "output_type": "stream",
     "text": [
      "100%|██████████████████████████████████████████████████████████████| 19058/19058 [01:02<00:00, 305.27it/s]\n"
     ]
    }
   ],
   "source": [
    "num_negatives = 3\n",
    "\n",
    "anchors_train = []\n",
    "positives_train = []\n",
    "negatives_train = []\n",
    "\n",
    "positive_categories_train = []\n",
    "negative_categories_train = []\n",
    "\n",
    "for row in tqdm(range(len(df))):\n",
    "    \n",
    "    category = df.iloc[row][\"clause_type\"]\n",
    "    \n",
    "    query = df.iloc[row][\"query\"].replace(\"\\xa0\", \"\").strip().lower()\n",
    "    anchors_train.append(query)\n",
    "    \n",
    "    # clean up the text\n",
    "    positive_sample = df.iloc[row][\"clause\"]\n",
    "    postive_sample = ' '.join(positive_sample.replace('\\n',' ').split())\n",
    "    positive_sample = positive_sample.lower()\n",
    "\n",
    "    positives_train.append(positive_sample)\n",
    "    \n",
    "    # get the negative sample and category\n",
    "    potential_negative_samples = df[df[\"clause_type\"] != category].sample(num_negatives)\n",
    "    \n",
    "    negative_samples = [el.lower() for el in list(potential_negative_samples[\"clause\"])]\n",
    "    negative_samples = [' '.join(negative_sample.replace('\\n',' ').split()) for negative_sample in negative_samples]\n",
    "    \n",
    "    negative_categories = list(potential_negative_samples[\"clause_type\"])\n",
    "    \n",
    "    negatives_train.append(negative_samples)\n",
    "    \n",
    "    # get the categories of the positive and negative samples\n",
    "    positive_categories_train.append(category)\n",
    "    negative_categories_train.append(negative_categories)"
   ]
  },
  {
   "cell_type": "code",
   "execution_count": 85,
   "id": "cd648c56-9ea7-4430-bd31-96b685960b35",
   "metadata": {},
   "outputs": [
    {
     "name": "stdout",
     "output_type": "stream",
     "text": [
      "19058\n"
     ]
    },
    {
     "data": {
      "text/html": [
       "<div>\n",
       "<style scoped>\n",
       "    .dataframe tbody tr th:only-of-type {\n",
       "        vertical-align: middle;\n",
       "    }\n",
       "\n",
       "    .dataframe tbody tr th {\n",
       "        vertical-align: top;\n",
       "    }\n",
       "\n",
       "    .dataframe thead th {\n",
       "        text-align: right;\n",
       "    }\n",
       "</style>\n",
       "<table border=\"1\" class=\"dataframe\">\n",
       "  <thead>\n",
       "    <tr style=\"text-align: right;\">\n",
       "      <th></th>\n",
       "      <th>anchor</th>\n",
       "      <th>positive</th>\n",
       "      <th>negatives</th>\n",
       "    </tr>\n",
       "  </thead>\n",
       "  <tbody>\n",
       "    <tr>\n",
       "      <th>0</th>\n",
       "      <td>highlight the parts (if any) of this contract ...</td>\n",
       "      <td>the plan as set forth herein constitutes an am...</td>\n",
       "      <td>[the entering into and the performance of this...</td>\n",
       "    </tr>\n",
       "    <tr>\n",
       "      <th>1</th>\n",
       "      <td>highlight the parts (if any) of this contract ...</td>\n",
       "      <td>(b)    individuals who, as of the effective da...</td>\n",
       "      <td>[this amended endorsement split dollar agreeme...</td>\n",
       "    </tr>\n",
       "    <tr>\n",
       "      <th>2</th>\n",
       "      <td>highlight the parts (if any) of this contract ...</td>\n",
       "      <td>(c)    consummation by the company of a reorga...</td>\n",
       "      <td>[term. this agreement shall terminate, except ...</td>\n",
       "    </tr>\n",
       "    <tr>\n",
       "      <th>3</th>\n",
       "      <td>highlight the parts (if any) of this contract ...</td>\n",
       "      <td>notwithstanding the foregoing, with respect to...</td>\n",
       "      <td>[5.4 financial statements. the financial state...</td>\n",
       "    </tr>\n",
       "    <tr>\n",
       "      <th>4</th>\n",
       "      <td>highlight the parts (if any) of this contract ...</td>\n",
       "      <td>subject to section 5.1(b), section 5.1(d) and ...</td>\n",
       "      <td>[benefits as a full-time employee you will be ...</td>\n",
       "    </tr>\n",
       "  </tbody>\n",
       "</table>\n",
       "</div>"
      ],
      "text/plain": [
       "                                              anchor  \\\n",
       "0  highlight the parts (if any) of this contract ...   \n",
       "1  highlight the parts (if any) of this contract ...   \n",
       "2  highlight the parts (if any) of this contract ...   \n",
       "3  highlight the parts (if any) of this contract ...   \n",
       "4  highlight the parts (if any) of this contract ...   \n",
       "\n",
       "                                            positive  \\\n",
       "0  the plan as set forth herein constitutes an am...   \n",
       "1  (b)    individuals who, as of the effective da...   \n",
       "2  (c)    consummation by the company of a reorga...   \n",
       "3  notwithstanding the foregoing, with respect to...   \n",
       "4  subject to section 5.1(b), section 5.1(d) and ...   \n",
       "\n",
       "                                           negatives  \n",
       "0  [the entering into and the performance of this...  \n",
       "1  [this amended endorsement split dollar agreeme...  \n",
       "2  [term. this agreement shall terminate, except ...  \n",
       "3  [5.4 financial statements. the financial state...  \n",
       "4  [benefits as a full-time employee you will be ...  "
      ]
     },
     "execution_count": 85,
     "metadata": {},
     "output_type": "execute_result"
    }
   ],
   "source": [
    "triplet_train_dataframe = pd.DataFrame(list(zip(anchors_train, positives_train, negatives_train)),\n",
    "                                    columns=[\"anchor\", \"positive\", \"negatives\"])\n",
    "\n",
    "print(len(triplet_train_dataframe))\n",
    "triplet_train_dataframe.head()"
   ]
  },
  {
   "cell_type": "code",
   "execution_count": 88,
   "id": "b5ae5091-3cc2-4fc3-b066-d736f017db7f",
   "metadata": {},
   "outputs": [],
   "source": [
    "triplet_train_dataframe[\"clause_type\"] = triplet_train_dataframe[\"anchor\"].apply(lambda row: re.findall('\"([^\"]*)\"', row)[0])\n"
   ]
  },
  {
   "cell_type": "code",
   "execution_count": 90,
   "id": "da68ef6e-3e71-4684-b613-d7b6c020d169",
   "metadata": {},
   "outputs": [
    {
     "data": {
      "text/plain": [
       "'highlight the parts (if any) of this contract related to \"effective date reference\" that should be reviewed by a lawyer.'"
      ]
     },
     "execution_count": 90,
     "metadata": {},
     "output_type": "execute_result"
    }
   ],
   "source": [
    "triplet_train_dataframe.iloc[0][\"anchor\"]"
   ]
  },
  {
   "cell_type": "code",
   "execution_count": 132,
   "id": "b8193fb5-0515-43bd-805d-3b1a8c1ac372",
   "metadata": {},
   "outputs": [
    {
     "data": {
      "text/html": [
       "<div>\n",
       "<style scoped>\n",
       "    .dataframe tbody tr th:only-of-type {\n",
       "        vertical-align: middle;\n",
       "    }\n",
       "\n",
       "    .dataframe tbody tr th {\n",
       "        vertical-align: top;\n",
       "    }\n",
       "\n",
       "    .dataframe thead th {\n",
       "        text-align: right;\n",
       "    }\n",
       "</style>\n",
       "<table border=\"1\" class=\"dataframe\">\n",
       "  <thead>\n",
       "    <tr style=\"text-align: right;\">\n",
       "      <th></th>\n",
       "      <th>anchor</th>\n",
       "      <th>positive</th>\n",
       "      <th>negatives</th>\n",
       "      <th>clause_type</th>\n",
       "    </tr>\n",
       "  </thead>\n",
       "  <tbody>\n",
       "    <tr>\n",
       "      <th>0</th>\n",
       "      <td>highlight the parts (if any) of this contract ...</td>\n",
       "      <td>the plan as set forth herein constitutes an am...</td>\n",
       "      <td>[the entering into and the performance of this...</td>\n",
       "      <td>effective date reference</td>\n",
       "    </tr>\n",
       "    <tr>\n",
       "      <th>1</th>\n",
       "      <td>highlight the parts (if any) of this contract ...</td>\n",
       "      <td>(b)    individuals who, as of the effective da...</td>\n",
       "      <td>[this amended endorsement split dollar agreeme...</td>\n",
       "      <td>change of control</td>\n",
       "    </tr>\n",
       "    <tr>\n",
       "      <th>2</th>\n",
       "      <td>highlight the parts (if any) of this contract ...</td>\n",
       "      <td>(c)    consummation by the company of a reorga...</td>\n",
       "      <td>[term. this agreement shall terminate, except ...</td>\n",
       "      <td>merger restrictions</td>\n",
       "    </tr>\n",
       "    <tr>\n",
       "      <th>3</th>\n",
       "      <td>highlight the parts (if any) of this contract ...</td>\n",
       "      <td>notwithstanding the foregoing, with respect to...</td>\n",
       "      <td>[5.4 financial statements. the financial state...</td>\n",
       "      <td>change of control</td>\n",
       "    </tr>\n",
       "    <tr>\n",
       "      <th>4</th>\n",
       "      <td>highlight the parts (if any) of this contract ...</td>\n",
       "      <td>subject to section 5.1(b), section 5.1(d) and ...</td>\n",
       "      <td>[benefits as a full-time employee you will be ...</td>\n",
       "      <td>effective date reference</td>\n",
       "    </tr>\n",
       "  </tbody>\n",
       "</table>\n",
       "</div>"
      ],
      "text/plain": [
       "                                              anchor  \\\n",
       "0  highlight the parts (if any) of this contract ...   \n",
       "1  highlight the parts (if any) of this contract ...   \n",
       "2  highlight the parts (if any) of this contract ...   \n",
       "3  highlight the parts (if any) of this contract ...   \n",
       "4  highlight the parts (if any) of this contract ...   \n",
       "\n",
       "                                            positive  \\\n",
       "0  the plan as set forth herein constitutes an am...   \n",
       "1  (b)    individuals who, as of the effective da...   \n",
       "2  (c)    consummation by the company of a reorga...   \n",
       "3  notwithstanding the foregoing, with respect to...   \n",
       "4  subject to section 5.1(b), section 5.1(d) and ...   \n",
       "\n",
       "                                           negatives               clause_type  \n",
       "0  [the entering into and the performance of this...  effective date reference  \n",
       "1  [this amended endorsement split dollar agreeme...         change of control  \n",
       "2  [term. this agreement shall terminate, except ...       merger restrictions  \n",
       "3  [5.4 financial statements. the financial state...         change of control  \n",
       "4  [benefits as a full-time employee you will be ...  effective date reference  "
      ]
     },
     "execution_count": 132,
     "metadata": {},
     "output_type": "execute_result"
    }
   ],
   "source": [
    "triplet_train_dataframe.head()"
   ]
  },
  {
   "cell_type": "code",
   "execution_count": null,
   "id": "c93815d0-12c3-4896-9d23-97c8e0ea8d3c",
   "metadata": {},
   "outputs": [],
   "source": []
  },
  {
   "cell_type": "markdown",
   "id": "39646886-7e06-4d0c-b58a-5e7ea7f78279",
   "metadata": {
    "tags": []
   },
   "source": [
    "### Dual encoder"
   ]
  },
  {
   "cell_type": "code",
   "execution_count": 91,
   "id": "b27ac204-489d-4d8d-91a2-ac1d32e72913",
   "metadata": {},
   "outputs": [
    {
     "data": {
      "text/plain": [
       "57174"
      ]
     },
     "execution_count": 91,
     "metadata": {},
     "output_type": "execute_result"
    }
   ],
   "source": [
    "triplet_train_exploded_df = (\n",
    "    triplet_train_dataframe\n",
    "    .explode('negatives')\n",
    "    .reset_index()[[\"anchor\", \"positive\", \"negatives\"]]\n",
    "    .rename({\"positive\" : \"positive_match\", \"negatives\": \"negative_match\"}, axis=1)\n",
    ")  \n",
    "\n",
    "len(triplet_train_exploded_df)"
   ]
  },
  {
   "cell_type": "code",
   "execution_count": 92,
   "id": "b6ecbc48-c840-4ba3-900a-d3cd4d948639",
   "metadata": {},
   "outputs": [
    {
     "data": {
      "text/html": [
       "<div>\n",
       "<style scoped>\n",
       "    .dataframe tbody tr th:only-of-type {\n",
       "        vertical-align: middle;\n",
       "    }\n",
       "\n",
       "    .dataframe tbody tr th {\n",
       "        vertical-align: top;\n",
       "    }\n",
       "\n",
       "    .dataframe thead th {\n",
       "        text-align: right;\n",
       "    }\n",
       "</style>\n",
       "<table border=\"1\" class=\"dataframe\">\n",
       "  <thead>\n",
       "    <tr style=\"text-align: right;\">\n",
       "      <th></th>\n",
       "      <th>anchor</th>\n",
       "      <th>positive_match</th>\n",
       "      <th>negative_match</th>\n",
       "    </tr>\n",
       "  </thead>\n",
       "  <tbody>\n",
       "    <tr>\n",
       "      <th>0</th>\n",
       "      <td>highlight the parts (if any) of this contract ...</td>\n",
       "      <td>the plan as set forth herein constitutes an am...</td>\n",
       "      <td>the entering into and the performance of this ...</td>\n",
       "    </tr>\n",
       "    <tr>\n",
       "      <th>1</th>\n",
       "      <td>highlight the parts (if any) of this contract ...</td>\n",
       "      <td>the plan as set forth herein constitutes an am...</td>\n",
       "      <td>(c) individuals who, as of the date hereof, co...</td>\n",
       "    </tr>\n",
       "    <tr>\n",
       "      <th>2</th>\n",
       "      <td>highlight the parts (if any) of this contract ...</td>\n",
       "      <td>the plan as set forth herein constitutes an am...</td>\n",
       "      <td>for purposes of this plan, \"change in control ...</td>\n",
       "    </tr>\n",
       "    <tr>\n",
       "      <th>3</th>\n",
       "      <td>highlight the parts (if any) of this contract ...</td>\n",
       "      <td>(b)    individuals who, as of the effective da...</td>\n",
       "      <td>this amended endorsement split dollar agreemen...</td>\n",
       "    </tr>\n",
       "    <tr>\n",
       "      <th>4</th>\n",
       "      <td>highlight the parts (if any) of this contract ...</td>\n",
       "      <td>(b)    individuals who, as of the effective da...</td>\n",
       "      <td>a. the parties agree to modify their ongoing b...</td>\n",
       "    </tr>\n",
       "  </tbody>\n",
       "</table>\n",
       "</div>"
      ],
      "text/plain": [
       "                                              anchor  \\\n",
       "0  highlight the parts (if any) of this contract ...   \n",
       "1  highlight the parts (if any) of this contract ...   \n",
       "2  highlight the parts (if any) of this contract ...   \n",
       "3  highlight the parts (if any) of this contract ...   \n",
       "4  highlight the parts (if any) of this contract ...   \n",
       "\n",
       "                                      positive_match  \\\n",
       "0  the plan as set forth herein constitutes an am...   \n",
       "1  the plan as set forth herein constitutes an am...   \n",
       "2  the plan as set forth herein constitutes an am...   \n",
       "3  (b)    individuals who, as of the effective da...   \n",
       "4  (b)    individuals who, as of the effective da...   \n",
       "\n",
       "                                      negative_match  \n",
       "0  the entering into and the performance of this ...  \n",
       "1  (c) individuals who, as of the date hereof, co...  \n",
       "2  for purposes of this plan, \"change in control ...  \n",
       "3  this amended endorsement split dollar agreemen...  \n",
       "4  a. the parties agree to modify their ongoing b...  "
      ]
     },
     "execution_count": 92,
     "metadata": {},
     "output_type": "execute_result"
    }
   ],
   "source": [
    "triplet_train_exploded_df.head()"
   ]
  },
  {
   "cell_type": "code",
   "execution_count": 93,
   "id": "2a4ee248-1d73-4e13-8bf5-92654c64079b",
   "metadata": {},
   "outputs": [],
   "source": [
    "triplet_train_exploded_df.to_csv(\"./data/cuad_data_synthetic_discriminative/train_synthetic_discriminative_mod_query_orig_clause_cat_cuad_dual_encoder.csv\")\n"
   ]
  },
  {
   "cell_type": "code",
   "execution_count": null,
   "id": "e384e087-d355-49d9-a6fd-9924c19bc252",
   "metadata": {},
   "outputs": [],
   "source": []
  },
  {
   "cell_type": "markdown",
   "id": "231aef82-7690-43a2-a8ef-66e22968ef07",
   "metadata": {
    "tags": []
   },
   "source": [
    "### Cross encoder"
   ]
  },
  {
   "cell_type": "code",
   "execution_count": 94,
   "id": "f084f8dd-b7d6-4068-934f-09c29a607d26",
   "metadata": {},
   "outputs": [],
   "source": [
    "anchor_positive = triplet_train_dataframe[[\"anchor\", \"positive\"]]\n",
    "anchor_negatives = triplet_train_dataframe[[\"anchor\", \"negatives\"]]"
   ]
  },
  {
   "cell_type": "code",
   "execution_count": 95,
   "id": "b1cbccdb-ffe2-4971-ab80-37272fdbcad8",
   "metadata": {},
   "outputs": [],
   "source": [
    "anchor_positive = anchor_positive.rename(columns={\"anchor\": \"query\", \"positive\": \"text\"})\n",
    "anchor_positive[\"label\"] = 1"
   ]
  },
  {
   "cell_type": "code",
   "execution_count": 96,
   "id": "b2f0c844-e3cd-4674-a726-245faea475f0",
   "metadata": {},
   "outputs": [],
   "source": [
    "anchor_negatives_exploded = (\n",
    "    anchor_negatives\n",
    "    .explode('negatives')\n",
    "    .reset_index()[[\"anchor\", \"negatives\"]]\n",
    "    .rename({\"anchor\" : \"query\", \"negatives\": \"text\"}, axis=1)\n",
    ")    \n",
    "\n",
    "anchor_negatives_exploded[\"label\"] = 0"
   ]
  },
  {
   "cell_type": "code",
   "execution_count": 97,
   "id": "8df7a0de-ab1d-46ad-afb0-150eb77d43bb",
   "metadata": {},
   "outputs": [
    {
     "data": {
      "text/plain": [
       "57174"
      ]
     },
     "execution_count": 97,
     "metadata": {},
     "output_type": "execute_result"
    }
   ],
   "source": [
    "len(anchor_negatives_exploded)"
   ]
  },
  {
   "cell_type": "code",
   "execution_count": 98,
   "id": "207c6d79-2421-442d-9423-522784dd846c",
   "metadata": {},
   "outputs": [],
   "source": [
    "cross_encoder_train_data = pd.concat([anchor_positive, anchor_negatives_exploded]).reset_index()"
   ]
  },
  {
   "cell_type": "code",
   "execution_count": 99,
   "id": "abb9e2ad-0fba-4106-91f7-1bc5e7c65980",
   "metadata": {},
   "outputs": [
    {
     "data": {
      "text/html": [
       "<div>\n",
       "<style scoped>\n",
       "    .dataframe tbody tr th:only-of-type {\n",
       "        vertical-align: middle;\n",
       "    }\n",
       "\n",
       "    .dataframe tbody tr th {\n",
       "        vertical-align: top;\n",
       "    }\n",
       "\n",
       "    .dataframe thead th {\n",
       "        text-align: right;\n",
       "    }\n",
       "</style>\n",
       "<table border=\"1\" class=\"dataframe\">\n",
       "  <thead>\n",
       "    <tr style=\"text-align: right;\">\n",
       "      <th></th>\n",
       "      <th>index</th>\n",
       "      <th>query</th>\n",
       "      <th>text</th>\n",
       "      <th>label</th>\n",
       "    </tr>\n",
       "  </thead>\n",
       "  <tbody>\n",
       "    <tr>\n",
       "      <th>19057</th>\n",
       "      <td>19057</td>\n",
       "      <td>highlight the parts (if any) of this contract ...</td>\n",
       "      <td>(e) each of the borrower and any of its restri...</td>\n",
       "      <td>1</td>\n",
       "    </tr>\n",
       "    <tr>\n",
       "      <th>19058</th>\n",
       "      <td>0</td>\n",
       "      <td>highlight the parts (if any) of this contract ...</td>\n",
       "      <td>the entering into and the performance of this ...</td>\n",
       "      <td>0</td>\n",
       "    </tr>\n",
       "    <tr>\n",
       "      <th>19059</th>\n",
       "      <td>1</td>\n",
       "      <td>highlight the parts (if any) of this contract ...</td>\n",
       "      <td>(c) individuals who, as of the date hereof, co...</td>\n",
       "      <td>0</td>\n",
       "    </tr>\n",
       "    <tr>\n",
       "      <th>19060</th>\n",
       "      <td>2</td>\n",
       "      <td>highlight the parts (if any) of this contract ...</td>\n",
       "      <td>for purposes of this plan, \"change in control ...</td>\n",
       "      <td>0</td>\n",
       "    </tr>\n",
       "    <tr>\n",
       "      <th>19061</th>\n",
       "      <td>3</td>\n",
       "      <td>highlight the parts (if any) of this contract ...</td>\n",
       "      <td>this amended endorsement split dollar agreemen...</td>\n",
       "      <td>0</td>\n",
       "    </tr>\n",
       "  </tbody>\n",
       "</table>\n",
       "</div>"
      ],
      "text/plain": [
       "       index                                              query  \\\n",
       "19057  19057  highlight the parts (if any) of this contract ...   \n",
       "19058      0  highlight the parts (if any) of this contract ...   \n",
       "19059      1  highlight the parts (if any) of this contract ...   \n",
       "19060      2  highlight the parts (if any) of this contract ...   \n",
       "19061      3  highlight the parts (if any) of this contract ...   \n",
       "\n",
       "                                                    text  label  \n",
       "19057  (e) each of the borrower and any of its restri...      1  \n",
       "19058  the entering into and the performance of this ...      0  \n",
       "19059  (c) individuals who, as of the date hereof, co...      0  \n",
       "19060  for purposes of this plan, \"change in control ...      0  \n",
       "19061  this amended endorsement split dollar agreemen...      0  "
      ]
     },
     "execution_count": 99,
     "metadata": {},
     "output_type": "execute_result"
    }
   ],
   "source": [
    "cross_encoder_train_data[19057:].head()"
   ]
  },
  {
   "cell_type": "code",
   "execution_count": 109,
   "id": "65f73ec5-5b29-4550-9688-cb8218cf0ce8",
   "metadata": {},
   "outputs": [
    {
     "data": {
      "text/plain": [
       "76232"
      ]
     },
     "execution_count": 109,
     "metadata": {},
     "output_type": "execute_result"
    }
   ],
   "source": [
    "len(cross_encoder_train_data)"
   ]
  },
  {
   "cell_type": "code",
   "execution_count": 110,
   "id": "79ed7b0b-78c2-4b7c-b2a8-39edc7394de7",
   "metadata": {},
   "outputs": [],
   "source": [
    "cross_encoder_train_data.to_csv(\"./data/cuad_data_synthetic_discriminative/train_synthetic_discriminative_mod_query_orig_clause_cat_cuad_cross_encoder.csv\")\n"
   ]
  },
  {
   "cell_type": "code",
   "execution_count": null,
   "id": "fcbc6916-7988-4f28-aa11-5d26ce59c5a3",
   "metadata": {},
   "outputs": [],
   "source": []
  },
  {
   "cell_type": "markdown",
   "id": "679aa8b9-0b66-4cd0-bc2f-afd0edb1ce99",
   "metadata": {},
   "source": [
    "final check"
   ]
  },
  {
   "cell_type": "code",
   "execution_count": 115,
   "id": "f43e9c8e-eb0d-417a-ba06-99f1cad35767",
   "metadata": {},
   "outputs": [],
   "source": [
    "df1 = pd.read_csv(\"./data/cuad_data_synthetic_targeted/train_synthetic_discriminative_mod_query_orig_clause_cat_cuad_dual_encoder.csv\")\n",
    "\n",
    "df2 = pd.read_csv(\"./data/cuad_data_synthetic_targeted/train_synthetic_discriminative_mod_query_orig_clause_cat_cuad_cross_encoder.csv\")"
   ]
  },
  {
   "cell_type": "code",
   "execution_count": 116,
   "id": "0b3c89f3-4bbb-42ec-a249-5fe2b1ac1fba",
   "metadata": {},
   "outputs": [
    {
     "data": {
      "text/plain": [
       "57174"
      ]
     },
     "execution_count": 116,
     "metadata": {},
     "output_type": "execute_result"
    }
   ],
   "source": [
    "len(df1)"
   ]
  },
  {
   "cell_type": "code",
   "execution_count": 117,
   "id": "6b72b2ae-52a0-46b4-9d07-c2c2dacded95",
   "metadata": {},
   "outputs": [
    {
     "data": {
      "text/plain": [
       "76232"
      ]
     },
     "execution_count": 117,
     "metadata": {},
     "output_type": "execute_result"
    }
   ],
   "source": [
    "len(df2)"
   ]
  },
  {
   "cell_type": "code",
   "execution_count": 130,
   "id": "1b202362-646a-4e31-bc1c-04aa324f8a21",
   "metadata": {},
   "outputs": [
    {
     "data": {
      "text/plain": [
       "'highlight the parts (if any) of this contract related to \"change of control\" that should be reviewed by a lawyer.'"
      ]
     },
     "execution_count": 130,
     "metadata": {},
     "output_type": "execute_result"
    }
   ],
   "source": [
    "df1.iloc[5][\"anchor\"]"
   ]
  },
  {
   "cell_type": "code",
   "execution_count": 131,
   "id": "da565990-5f4c-476a-aa2f-435b4f1a4101",
   "metadata": {},
   "outputs": [
    {
     "data": {
      "text/plain": [
       "'highlight the parts (if any) of this contract related to \"change of control\" that should be reviewed by a lawyer.'"
      ]
     },
     "execution_count": 131,
     "metadata": {},
     "output_type": "execute_result"
    }
   ],
   "source": [
    "df2.iloc[3][\"query\"]"
   ]
  },
  {
   "cell_type": "code",
   "execution_count": null,
   "id": "b26d7e36-9beb-499e-b099-ae5be18e2777",
   "metadata": {},
   "outputs": [],
   "source": []
  },
  {
   "cell_type": "markdown",
   "id": "29e060eb-180d-4524-92a2-3fb0b67d5e5b",
   "metadata": {
    "jp-MarkdownHeadingCollapsed": true,
    "tags": []
   },
   "source": [
    "# Squad"
   ]
  },
  {
   "cell_type": "code",
   "execution_count": 2,
   "id": "4ff9bd87-a57b-4317-88ce-8e750c7dd8f1",
   "metadata": {},
   "outputs": [],
   "source": [
    "data_path = \"./data/squad_data/synthetic_contracts_squad.jsonl\""
   ]
  },
  {
   "cell_type": "code",
   "execution_count": 3,
   "id": "81495798-9908-41e5-9d50-f908072b3d2f",
   "metadata": {},
   "outputs": [],
   "source": [
    "all_query_clauses = []\n",
    "with open(data_path, \"r\") as reader:\n",
    "    for obj in reader:\n",
    "        all_query_clauses.append(obj)\n",
    "\n",
    "all_query_clauses = [json.loads(el) for el in all_query_clauses]"
   ]
  },
  {
   "cell_type": "code",
   "execution_count": 4,
   "id": "6d24de39-f210-4ea4-8016-2c3904a793f4",
   "metadata": {},
   "outputs": [
    {
     "data": {
      "text/plain": [
       "34661"
      ]
     },
     "execution_count": 4,
     "metadata": {},
     "output_type": "execute_result"
    }
   ],
   "source": [
    "len(all_query_clauses)"
   ]
  },
  {
   "cell_type": "code",
   "execution_count": 5,
   "id": "9155cde3-d50c-4a6c-8f6e-9434638c5e53",
   "metadata": {},
   "outputs": [
    {
     "data": {
      "text/html": [
       "<div>\n",
       "<style scoped>\n",
       "    .dataframe tbody tr th:only-of-type {\n",
       "        vertical-align: middle;\n",
       "    }\n",
       "\n",
       "    .dataframe tbody tr th {\n",
       "        vertical-align: top;\n",
       "    }\n",
       "\n",
       "    .dataframe thead th {\n",
       "        text-align: right;\n",
       "    }\n",
       "</style>\n",
       "<table border=\"1\" class=\"dataframe\">\n",
       "  <thead>\n",
       "    <tr style=\"text-align: right;\">\n",
       "      <th></th>\n",
       "      <th>question</th>\n",
       "      <th>clause</th>\n",
       "    </tr>\n",
       "  </thead>\n",
       "  <tbody>\n",
       "    <tr>\n",
       "      <th>0</th>\n",
       "      <td>Will the Company provide the Investor Represen...</td>\n",
       "      <td>(e)      The Company shall furnish to the Inve...</td>\n",
       "    </tr>\n",
       "    <tr>\n",
       "      <th>1</th>\n",
       "      <td>What is the worth of the award based on in thi...</td>\n",
       "      <td>(b) The worth, at the time of the award, of th...</td>\n",
       "    </tr>\n",
       "    <tr>\n",
       "      <th>2</th>\n",
       "      <td>Who is responsible for collecting and remittin...</td>\n",
       "      <td>The Operator shall elect pursuant to Section 2...</td>\n",
       "    </tr>\n",
       "    <tr>\n",
       "      <th>3</th>\n",
       "      <td>What is the total balance owing for the liens ...</td>\n",
       "      <td>Except as set forth on the attached UCC Filing...</td>\n",
       "    </tr>\n",
       "    <tr>\n",
       "      <th>4</th>\n",
       "      <td>What is the Assigned Property in this clause?</td>\n",
       "      <td>sales proceeds and all other income, issues, p...</td>\n",
       "    </tr>\n",
       "    <tr>\n",
       "      <th>...</th>\n",
       "      <td>...</td>\n",
       "      <td>...</td>\n",
       "    </tr>\n",
       "    <tr>\n",
       "      <th>34656</th>\n",
       "      <td>How should notices or communications be delive...</td>\n",
       "      <td>7. Notices. Any notices or other communication...</td>\n",
       "    </tr>\n",
       "    <tr>\n",
       "      <th>34657</th>\n",
       "      <td>What happens if a provision in this offer lett...</td>\n",
       "      <td>The invalidity or unenforceability of any prov...</td>\n",
       "    </tr>\n",
       "    <tr>\n",
       "      <th>34658</th>\n",
       "      <td>What does the term \"Obligations\" mean in the c...</td>\n",
       "      <td>“Obligations” means any costs, expenses or lia...</td>\n",
       "    </tr>\n",
       "    <tr>\n",
       "      <th>34659</th>\n",
       "      <td>Does the company have the authority to execute...</td>\n",
       "      <td>(a) It is duly organized, validly existing, an...</td>\n",
       "    </tr>\n",
       "    <tr>\n",
       "      <th>34660</th>\n",
       "      <td>Is any Lender responsible for the failure of a...</td>\n",
       "      <td>(e) Independent Lender Obligations. The failur...</td>\n",
       "    </tr>\n",
       "  </tbody>\n",
       "</table>\n",
       "<p>34661 rows × 2 columns</p>\n",
       "</div>"
      ],
      "text/plain": [
       "                                                question  \\\n",
       "0      Will the Company provide the Investor Represen...   \n",
       "1      What is the worth of the award based on in thi...   \n",
       "2      Who is responsible for collecting and remittin...   \n",
       "3      What is the total balance owing for the liens ...   \n",
       "4          What is the Assigned Property in this clause?   \n",
       "...                                                  ...   \n",
       "34656  How should notices or communications be delive...   \n",
       "34657  What happens if a provision in this offer lett...   \n",
       "34658  What does the term \"Obligations\" mean in the c...   \n",
       "34659  Does the company have the authority to execute...   \n",
       "34660  Is any Lender responsible for the failure of a...   \n",
       "\n",
       "                                                  clause  \n",
       "0      (e)      The Company shall furnish to the Inve...  \n",
       "1      (b) The worth, at the time of the award, of th...  \n",
       "2      The Operator shall elect pursuant to Section 2...  \n",
       "3      Except as set forth on the attached UCC Filing...  \n",
       "4      sales proceeds and all other income, issues, p...  \n",
       "...                                                  ...  \n",
       "34656  7. Notices. Any notices or other communication...  \n",
       "34657  The invalidity or unenforceability of any prov...  \n",
       "34658  “Obligations” means any costs, expenses or lia...  \n",
       "34659  (a) It is duly organized, validly existing, an...  \n",
       "34660  (e) Independent Lender Obligations. The failur...  \n",
       "\n",
       "[34661 rows x 2 columns]"
      ]
     },
     "execution_count": 5,
     "metadata": {},
     "output_type": "execute_result"
    }
   ],
   "source": [
    "df = pd.DataFrame.from_dict(all_query_clauses)\n",
    "df"
   ]
  },
  {
   "cell_type": "code",
   "execution_count": 7,
   "id": "eb2667ec-03cd-4247-bd74-4b9fd1f8bcf3",
   "metadata": {},
   "outputs": [
    {
     "data": {
      "text/plain": [
       "'Will the Company provide the Investor Representative with a copy of the Registration Statement and its amendments?'"
      ]
     },
     "execution_count": 7,
     "metadata": {},
     "output_type": "execute_result"
    }
   ],
   "source": [
    "df.iloc[0]['question']"
   ]
  },
  {
   "cell_type": "code",
   "execution_count": 9,
   "id": "cf5b69df-e9a5-44ca-a75b-5331fed004fa",
   "metadata": {},
   "outputs": [
    {
     "name": "stderr",
     "output_type": "stream",
     "text": [
      "100%|█████████████████████████████████████████████████████████████████████████████████████████████████| 34661/34661 [02:40<00:00, 215.74it/s]\n"
     ]
    }
   ],
   "source": [
    "num_negatives = 3\n",
    "\n",
    "anchors_train = []\n",
    "positives_train = []\n",
    "negatives_train = []\n",
    "\n",
    "\n",
    "for row in tqdm(range(len(df))):\n",
    "        \n",
    "    query = df.iloc[row][\"question\"].replace(\"\\xa0\", \"\").strip().lower()\n",
    "    anchors_train.append(query)\n",
    "    \n",
    "    # clean up the text\n",
    "    positive_sample = df.iloc[row][\"clause\"]\n",
    "    postive_sample = ' '.join(positive_sample.replace('\\n',' ').split())\n",
    "    positive_sample = positive_sample.lower()\n",
    "\n",
    "    positives_train.append(positive_sample)\n",
    "    \n",
    "    # get the negative sample and category\n",
    "    potential_negative_samples = df[df[\"clause\"] != positive_sample].sample(num_negatives)\n",
    "    \n",
    "    negative_samples = [el.lower() for el in list(potential_negative_samples[\"clause\"])]\n",
    "    negative_samples = [' '.join(negative_sample.replace('\\n',' ').split()) for negative_sample in negative_samples]\n",
    "        \n",
    "    negatives_train.append(negative_samples)\n",
    "    \n"
   ]
  },
  {
   "cell_type": "code",
   "execution_count": 10,
   "id": "65d61f3d-33b7-461e-837d-bd0f62ce3129",
   "metadata": {},
   "outputs": [
    {
     "name": "stdout",
     "output_type": "stream",
     "text": [
      "34661\n"
     ]
    },
    {
     "data": {
      "text/html": [
       "<div>\n",
       "<style scoped>\n",
       "    .dataframe tbody tr th:only-of-type {\n",
       "        vertical-align: middle;\n",
       "    }\n",
       "\n",
       "    .dataframe tbody tr th {\n",
       "        vertical-align: top;\n",
       "    }\n",
       "\n",
       "    .dataframe thead th {\n",
       "        text-align: right;\n",
       "    }\n",
       "</style>\n",
       "<table border=\"1\" class=\"dataframe\">\n",
       "  <thead>\n",
       "    <tr style=\"text-align: right;\">\n",
       "      <th></th>\n",
       "      <th>anchor</th>\n",
       "      <th>positive</th>\n",
       "      <th>negatives</th>\n",
       "    </tr>\n",
       "  </thead>\n",
       "  <tbody>\n",
       "    <tr>\n",
       "      <th>0</th>\n",
       "      <td>will the company provide the investor represen...</td>\n",
       "      <td>(e)      the company shall furnish to the inve...</td>\n",
       "      <td>[* accrued obligations paid within thirty (30)...</td>\n",
       "    </tr>\n",
       "    <tr>\n",
       "      <th>1</th>\n",
       "      <td>what is the worth of the award based on in thi...</td>\n",
       "      <td>(b) the worth, at the time of the award, of th...</td>\n",
       "      <td>[(f) perquisites. in addition to the other ben...</td>\n",
       "    </tr>\n",
       "    <tr>\n",
       "      <th>2</th>\n",
       "      <td>who is responsible for collecting and remittin...</td>\n",
       "      <td>the operator shall elect pursuant to section 2...</td>\n",
       "      <td>[in consideration of the agreement by harman i...</td>\n",
       "    </tr>\n",
       "    <tr>\n",
       "      <th>3</th>\n",
       "      <td>what is the total balance owing for the liens ...</td>\n",
       "      <td>except as set forth on the attached ucc filing...</td>\n",
       "      <td>[section 25.1 independent contractor. this agr...</td>\n",
       "    </tr>\n",
       "    <tr>\n",
       "      <th>4</th>\n",
       "      <td>what is the assigned property in this clause?</td>\n",
       "      <td>sales proceeds and all other income, issues, p...</td>\n",
       "      <td>[(v) if the executive states in the executive ...</td>\n",
       "    </tr>\n",
       "  </tbody>\n",
       "</table>\n",
       "</div>"
      ],
      "text/plain": [
       "                                              anchor  \\\n",
       "0  will the company provide the investor represen...   \n",
       "1  what is the worth of the award based on in thi...   \n",
       "2  who is responsible for collecting and remittin...   \n",
       "3  what is the total balance owing for the liens ...   \n",
       "4      what is the assigned property in this clause?   \n",
       "\n",
       "                                            positive  \\\n",
       "0  (e)      the company shall furnish to the inve...   \n",
       "1  (b) the worth, at the time of the award, of th...   \n",
       "2  the operator shall elect pursuant to section 2...   \n",
       "3  except as set forth on the attached ucc filing...   \n",
       "4  sales proceeds and all other income, issues, p...   \n",
       "\n",
       "                                           negatives  \n",
       "0  [* accrued obligations paid within thirty (30)...  \n",
       "1  [(f) perquisites. in addition to the other ben...  \n",
       "2  [in consideration of the agreement by harman i...  \n",
       "3  [section 25.1 independent contractor. this agr...  \n",
       "4  [(v) if the executive states in the executive ...  "
      ]
     },
     "execution_count": 10,
     "metadata": {},
     "output_type": "execute_result"
    }
   ],
   "source": [
    "triplet_train_dataframe = pd.DataFrame(list(zip(anchors_train, positives_train, negatives_train)),\n",
    "                                    columns=[\"anchor\", \"positive\", \"negatives\"])\n",
    "\n",
    "print(len(triplet_train_dataframe))\n",
    "triplet_train_dataframe.head()"
   ]
  },
  {
   "cell_type": "code",
   "execution_count": null,
   "id": "1c83d2b1-a872-4dec-bf3b-7f12165be872",
   "metadata": {},
   "outputs": [],
   "source": []
  },
  {
   "cell_type": "markdown",
   "id": "d3ed663b-c6ca-40ee-9116-85d47d234394",
   "metadata": {},
   "source": [
    "### Dual encoder"
   ]
  },
  {
   "cell_type": "code",
   "execution_count": 11,
   "id": "4fd3f3e1-bf9f-4002-acaf-f9ee176cc79e",
   "metadata": {},
   "outputs": [
    {
     "data": {
      "text/plain": [
       "103983"
      ]
     },
     "execution_count": 11,
     "metadata": {},
     "output_type": "execute_result"
    }
   ],
   "source": [
    "triplet_train_exploded_df = (\n",
    "    triplet_train_dataframe\n",
    "    .explode('negatives')\n",
    "    .reset_index()[[\"anchor\", \"positive\", \"negatives\"]]\n",
    "    .rename({\"positive\" : \"positive_match\", \"negatives\": \"negative_match\"}, axis=1)\n",
    ")  \n",
    "\n",
    "len(triplet_train_exploded_df)"
   ]
  },
  {
   "cell_type": "code",
   "execution_count": 12,
   "id": "16b9b980-56ba-454c-a1c1-41ce3439f0f1",
   "metadata": {},
   "outputs": [
    {
     "data": {
      "text/html": [
       "<div>\n",
       "<style scoped>\n",
       "    .dataframe tbody tr th:only-of-type {\n",
       "        vertical-align: middle;\n",
       "    }\n",
       "\n",
       "    .dataframe tbody tr th {\n",
       "        vertical-align: top;\n",
       "    }\n",
       "\n",
       "    .dataframe thead th {\n",
       "        text-align: right;\n",
       "    }\n",
       "</style>\n",
       "<table border=\"1\" class=\"dataframe\">\n",
       "  <thead>\n",
       "    <tr style=\"text-align: right;\">\n",
       "      <th></th>\n",
       "      <th>anchor</th>\n",
       "      <th>positive_match</th>\n",
       "      <th>negative_match</th>\n",
       "    </tr>\n",
       "  </thead>\n",
       "  <tbody>\n",
       "    <tr>\n",
       "      <th>0</th>\n",
       "      <td>will the company provide the investor represen...</td>\n",
       "      <td>(e)      the company shall furnish to the inve...</td>\n",
       "      <td>* accrued obligations paid within thirty (30) ...</td>\n",
       "    </tr>\n",
       "    <tr>\n",
       "      <th>1</th>\n",
       "      <td>will the company provide the investor represen...</td>\n",
       "      <td>(e)      the company shall furnish to the inve...</td>\n",
       "      <td>7.10 use of proceeds. the borrower shall use t...</td>\n",
       "    </tr>\n",
       "    <tr>\n",
       "      <th>2</th>\n",
       "      <td>will the company provide the investor represen...</td>\n",
       "      <td>(e)      the company shall furnish to the inve...</td>\n",
       "      <td>(b) stock units. the committee may, in its dis...</td>\n",
       "    </tr>\n",
       "    <tr>\n",
       "      <th>3</th>\n",
       "      <td>what is the worth of the award based on in thi...</td>\n",
       "      <td>(b) the worth, at the time of the award, of th...</td>\n",
       "      <td>(f) perquisites. in addition to the other bene...</td>\n",
       "    </tr>\n",
       "    <tr>\n",
       "      <th>4</th>\n",
       "      <td>what is the worth of the award based on in thi...</td>\n",
       "      <td>(b) the worth, at the time of the award, of th...</td>\n",
       "      <td>14. amendment. the committee may amend, modify...</td>\n",
       "    </tr>\n",
       "  </tbody>\n",
       "</table>\n",
       "</div>"
      ],
      "text/plain": [
       "                                              anchor  \\\n",
       "0  will the company provide the investor represen...   \n",
       "1  will the company provide the investor represen...   \n",
       "2  will the company provide the investor represen...   \n",
       "3  what is the worth of the award based on in thi...   \n",
       "4  what is the worth of the award based on in thi...   \n",
       "\n",
       "                                      positive_match  \\\n",
       "0  (e)      the company shall furnish to the inve...   \n",
       "1  (e)      the company shall furnish to the inve...   \n",
       "2  (e)      the company shall furnish to the inve...   \n",
       "3  (b) the worth, at the time of the award, of th...   \n",
       "4  (b) the worth, at the time of the award, of th...   \n",
       "\n",
       "                                      negative_match  \n",
       "0  * accrued obligations paid within thirty (30) ...  \n",
       "1  7.10 use of proceeds. the borrower shall use t...  \n",
       "2  (b) stock units. the committee may, in its dis...  \n",
       "3  (f) perquisites. in addition to the other bene...  \n",
       "4  14. amendment. the committee may amend, modify...  "
      ]
     },
     "execution_count": 12,
     "metadata": {},
     "output_type": "execute_result"
    }
   ],
   "source": [
    "triplet_train_exploded_df.head()"
   ]
  },
  {
   "cell_type": "code",
   "execution_count": 13,
   "id": "0f96ac2f-9aad-4dd8-9243-7acdb79809b6",
   "metadata": {},
   "outputs": [],
   "source": [
    "triplet_train_exploded_df.to_csv(\"./data/squad_data/train_squad_dual_encoder.csv\")\n"
   ]
  },
  {
   "cell_type": "code",
   "execution_count": null,
   "id": "35eb8f6e-c25c-42ef-8c56-956d1c0cf5b2",
   "metadata": {},
   "outputs": [],
   "source": []
  },
  {
   "cell_type": "markdown",
   "id": "716bc5cc-f50c-4bcc-8f98-c8b39289c4e0",
   "metadata": {
    "tags": []
   },
   "source": [
    "### Cross encoder"
   ]
  },
  {
   "cell_type": "code",
   "execution_count": 14,
   "id": "6a6f7148-8b1e-45cb-9cee-de31482b99c9",
   "metadata": {},
   "outputs": [],
   "source": [
    "anchor_positive = triplet_train_dataframe[[\"anchor\", \"positive\"]]\n",
    "anchor_negatives = triplet_train_dataframe[[\"anchor\", \"negatives\"]]"
   ]
  },
  {
   "cell_type": "code",
   "execution_count": 15,
   "id": "aae94c7e-137b-410e-aa4d-685bf886756a",
   "metadata": {},
   "outputs": [],
   "source": [
    "anchor_positive = anchor_positive.rename(columns={\"anchor\": \"query\", \"positive\": \"text\"})\n",
    "anchor_positive[\"label\"] = 1"
   ]
  },
  {
   "cell_type": "code",
   "execution_count": 16,
   "id": "39fbfe42-e19d-4171-82a7-c0afa7c8abb5",
   "metadata": {},
   "outputs": [],
   "source": [
    "anchor_negatives_exploded = (\n",
    "    anchor_negatives\n",
    "    .explode('negatives')\n",
    "    .reset_index()[[\"anchor\", \"negatives\"]]\n",
    "    .rename({\"anchor\" : \"query\", \"negatives\": \"text\"}, axis=1)\n",
    ")    \n",
    "\n",
    "anchor_negatives_exploded[\"label\"] = 0"
   ]
  },
  {
   "cell_type": "code",
   "execution_count": 17,
   "id": "19409db8-816d-44a8-82e5-45a5835390b9",
   "metadata": {},
   "outputs": [
    {
     "data": {
      "text/plain": [
       "103983"
      ]
     },
     "execution_count": 17,
     "metadata": {},
     "output_type": "execute_result"
    }
   ],
   "source": [
    "len(anchor_negatives_exploded)"
   ]
  },
  {
   "cell_type": "code",
   "execution_count": 18,
   "id": "7b3c9c63-13f1-4f43-a123-2d13533e4491",
   "metadata": {},
   "outputs": [],
   "source": [
    "cross_encoder_train_data = pd.concat([anchor_positive, anchor_negatives_exploded]).reset_index()"
   ]
  },
  {
   "cell_type": "code",
   "execution_count": 20,
   "id": "179c9e5b-f145-4d88-83ef-f7e3208317b1",
   "metadata": {},
   "outputs": [
    {
     "data": {
      "text/html": [
       "<div>\n",
       "<style scoped>\n",
       "    .dataframe tbody tr th:only-of-type {\n",
       "        vertical-align: middle;\n",
       "    }\n",
       "\n",
       "    .dataframe tbody tr th {\n",
       "        vertical-align: top;\n",
       "    }\n",
       "\n",
       "    .dataframe thead th {\n",
       "        text-align: right;\n",
       "    }\n",
       "</style>\n",
       "<table border=\"1\" class=\"dataframe\">\n",
       "  <thead>\n",
       "    <tr style=\"text-align: right;\">\n",
       "      <th></th>\n",
       "      <th>index</th>\n",
       "      <th>query</th>\n",
       "      <th>text</th>\n",
       "      <th>label</th>\n",
       "    </tr>\n",
       "  </thead>\n",
       "  <tbody>\n",
       "    <tr>\n",
       "      <th>34660</th>\n",
       "      <td>34660</td>\n",
       "      <td>is any lender responsible for the failure of a...</td>\n",
       "      <td>(e) independent lender obligations. the failur...</td>\n",
       "      <td>1</td>\n",
       "    </tr>\n",
       "    <tr>\n",
       "      <th>34661</th>\n",
       "      <td>0</td>\n",
       "      <td>will the company provide the investor represen...</td>\n",
       "      <td>* accrued obligations paid within thirty (30) ...</td>\n",
       "      <td>0</td>\n",
       "    </tr>\n",
       "    <tr>\n",
       "      <th>34662</th>\n",
       "      <td>1</td>\n",
       "      <td>will the company provide the investor represen...</td>\n",
       "      <td>7.10 use of proceeds. the borrower shall use t...</td>\n",
       "      <td>0</td>\n",
       "    </tr>\n",
       "    <tr>\n",
       "      <th>34663</th>\n",
       "      <td>2</td>\n",
       "      <td>will the company provide the investor represen...</td>\n",
       "      <td>(b) stock units. the committee may, in its dis...</td>\n",
       "      <td>0</td>\n",
       "    </tr>\n",
       "    <tr>\n",
       "      <th>34664</th>\n",
       "      <td>3</td>\n",
       "      <td>what is the worth of the award based on in thi...</td>\n",
       "      <td>(f) perquisites. in addition to the other bene...</td>\n",
       "      <td>0</td>\n",
       "    </tr>\n",
       "  </tbody>\n",
       "</table>\n",
       "</div>"
      ],
      "text/plain": [
       "       index                                              query  \\\n",
       "34660  34660  is any lender responsible for the failure of a...   \n",
       "34661      0  will the company provide the investor represen...   \n",
       "34662      1  will the company provide the investor represen...   \n",
       "34663      2  will the company provide the investor represen...   \n",
       "34664      3  what is the worth of the award based on in thi...   \n",
       "\n",
       "                                                    text  label  \n",
       "34660  (e) independent lender obligations. the failur...      1  \n",
       "34661  * accrued obligations paid within thirty (30) ...      0  \n",
       "34662  7.10 use of proceeds. the borrower shall use t...      0  \n",
       "34663  (b) stock units. the committee may, in its dis...      0  \n",
       "34664  (f) perquisites. in addition to the other bene...      0  "
      ]
     },
     "execution_count": 20,
     "metadata": {},
     "output_type": "execute_result"
    }
   ],
   "source": [
    "cross_encoder_train_data[34660:].head()"
   ]
  },
  {
   "cell_type": "code",
   "execution_count": 21,
   "id": "4d160509-3701-4902-83d8-ee8a567ab935",
   "metadata": {},
   "outputs": [
    {
     "data": {
      "text/plain": [
       "138644"
      ]
     },
     "execution_count": 21,
     "metadata": {},
     "output_type": "execute_result"
    }
   ],
   "source": [
    "len(cross_encoder_train_data)"
   ]
  },
  {
   "cell_type": "code",
   "execution_count": 22,
   "id": "2f9e59b1-ed76-4703-b99e-b7bdd72b6830",
   "metadata": {},
   "outputs": [],
   "source": [
    "cross_encoder_train_data.to_csv(\"./data/squad_data/train_squad_cross_encoder.csv\")\n"
   ]
  },
  {
   "cell_type": "code",
   "execution_count": null,
   "id": "46f5c4ec-227c-44d4-bd8c-03f08a3faf94",
   "metadata": {},
   "outputs": [],
   "source": []
  },
  {
   "cell_type": "markdown",
   "id": "d91891a0-39ba-42a3-92e5-b29881f6bcfa",
   "metadata": {},
   "source": [
    "final check"
   ]
  },
  {
   "cell_type": "code",
   "execution_count": 3,
   "id": "6967212f-a406-404b-b8d5-306340a05b56",
   "metadata": {},
   "outputs": [],
   "source": [
    "df1 = pd.read_csv(\"./data/squad_data/train_squad_cross_encoder.csv\")"
   ]
  },
  {
   "cell_type": "code",
   "execution_count": 4,
   "id": "25973f01-3f9e-423e-a84f-e404e010126c",
   "metadata": {},
   "outputs": [],
   "source": [
    "df2 = pd.read_csv(\"./data/squad_data/train_squad_dual_encoder.csv\")"
   ]
  },
  {
   "cell_type": "code",
   "execution_count": 5,
   "id": "905b6c1b-9d17-4894-a8f0-607f9590a3a8",
   "metadata": {},
   "outputs": [
    {
     "data": {
      "text/plain": [
       "138644"
      ]
     },
     "execution_count": 5,
     "metadata": {},
     "output_type": "execute_result"
    }
   ],
   "source": [
    "len(df1)"
   ]
  },
  {
   "cell_type": "code",
   "execution_count": 6,
   "id": "e8cbe7c8-c836-4a73-a1c3-bdd1cb0ef722",
   "metadata": {},
   "outputs": [
    {
     "data": {
      "text/plain": [
       "103983"
      ]
     },
     "execution_count": 6,
     "metadata": {},
     "output_type": "execute_result"
    }
   ],
   "source": [
    "len(df2)"
   ]
  },
  {
   "cell_type": "code",
   "execution_count": 7,
   "id": "db6dcc32-af6b-4d36-9454-6504ff38841c",
   "metadata": {},
   "outputs": [
    {
     "data": {
      "text/html": [
       "<div>\n",
       "<style scoped>\n",
       "    .dataframe tbody tr th:only-of-type {\n",
       "        vertical-align: middle;\n",
       "    }\n",
       "\n",
       "    .dataframe tbody tr th {\n",
       "        vertical-align: top;\n",
       "    }\n",
       "\n",
       "    .dataframe thead th {\n",
       "        text-align: right;\n",
       "    }\n",
       "</style>\n",
       "<table border=\"1\" class=\"dataframe\">\n",
       "  <thead>\n",
       "    <tr style=\"text-align: right;\">\n",
       "      <th></th>\n",
       "      <th>Unnamed: 0</th>\n",
       "      <th>index</th>\n",
       "      <th>query</th>\n",
       "      <th>text</th>\n",
       "      <th>label</th>\n",
       "    </tr>\n",
       "  </thead>\n",
       "  <tbody>\n",
       "    <tr>\n",
       "      <th>0</th>\n",
       "      <td>0</td>\n",
       "      <td>0</td>\n",
       "      <td>will the company provide the investor represen...</td>\n",
       "      <td>(e)      the company shall furnish to the inve...</td>\n",
       "      <td>1</td>\n",
       "    </tr>\n",
       "    <tr>\n",
       "      <th>1</th>\n",
       "      <td>1</td>\n",
       "      <td>1</td>\n",
       "      <td>what is the worth of the award based on in thi...</td>\n",
       "      <td>(b) the worth, at the time of the award, of th...</td>\n",
       "      <td>1</td>\n",
       "    </tr>\n",
       "    <tr>\n",
       "      <th>2</th>\n",
       "      <td>2</td>\n",
       "      <td>2</td>\n",
       "      <td>who is responsible for collecting and remittin...</td>\n",
       "      <td>the operator shall elect pursuant to section 2...</td>\n",
       "      <td>1</td>\n",
       "    </tr>\n",
       "    <tr>\n",
       "      <th>3</th>\n",
       "      <td>3</td>\n",
       "      <td>3</td>\n",
       "      <td>what is the total balance owing for the liens ...</td>\n",
       "      <td>except as set forth on the attached ucc filing...</td>\n",
       "      <td>1</td>\n",
       "    </tr>\n",
       "    <tr>\n",
       "      <th>4</th>\n",
       "      <td>4</td>\n",
       "      <td>4</td>\n",
       "      <td>what is the assigned property in this clause?</td>\n",
       "      <td>sales proceeds and all other income, issues, p...</td>\n",
       "      <td>1</td>\n",
       "    </tr>\n",
       "  </tbody>\n",
       "</table>\n",
       "</div>"
      ],
      "text/plain": [
       "   Unnamed: 0  index                                              query  \\\n",
       "0           0      0  will the company provide the investor represen...   \n",
       "1           1      1  what is the worth of the award based on in thi...   \n",
       "2           2      2  who is responsible for collecting and remittin...   \n",
       "3           3      3  what is the total balance owing for the liens ...   \n",
       "4           4      4      what is the assigned property in this clause?   \n",
       "\n",
       "                                                text  label  \n",
       "0  (e)      the company shall furnish to the inve...      1  \n",
       "1  (b) the worth, at the time of the award, of th...      1  \n",
       "2  the operator shall elect pursuant to section 2...      1  \n",
       "3  except as set forth on the attached ucc filing...      1  \n",
       "4  sales proceeds and all other income, issues, p...      1  "
      ]
     },
     "execution_count": 7,
     "metadata": {},
     "output_type": "execute_result"
    }
   ],
   "source": [
    "df1.head()"
   ]
  },
  {
   "cell_type": "code",
   "execution_count": 8,
   "id": "3fdf675c-3cc4-4554-9220-254a206382e7",
   "metadata": {},
   "outputs": [
    {
     "data": {
      "text/html": [
       "<div>\n",
       "<style scoped>\n",
       "    .dataframe tbody tr th:only-of-type {\n",
       "        vertical-align: middle;\n",
       "    }\n",
       "\n",
       "    .dataframe tbody tr th {\n",
       "        vertical-align: top;\n",
       "    }\n",
       "\n",
       "    .dataframe thead th {\n",
       "        text-align: right;\n",
       "    }\n",
       "</style>\n",
       "<table border=\"1\" class=\"dataframe\">\n",
       "  <thead>\n",
       "    <tr style=\"text-align: right;\">\n",
       "      <th></th>\n",
       "      <th>Unnamed: 0</th>\n",
       "      <th>anchor</th>\n",
       "      <th>positive_match</th>\n",
       "      <th>negative_match</th>\n",
       "    </tr>\n",
       "  </thead>\n",
       "  <tbody>\n",
       "    <tr>\n",
       "      <th>0</th>\n",
       "      <td>0</td>\n",
       "      <td>will the company provide the investor represen...</td>\n",
       "      <td>(e)      the company shall furnish to the inve...</td>\n",
       "      <td>* accrued obligations paid within thirty (30) ...</td>\n",
       "    </tr>\n",
       "    <tr>\n",
       "      <th>1</th>\n",
       "      <td>1</td>\n",
       "      <td>will the company provide the investor represen...</td>\n",
       "      <td>(e)      the company shall furnish to the inve...</td>\n",
       "      <td>7.10 use of proceeds. the borrower shall use t...</td>\n",
       "    </tr>\n",
       "    <tr>\n",
       "      <th>2</th>\n",
       "      <td>2</td>\n",
       "      <td>will the company provide the investor represen...</td>\n",
       "      <td>(e)      the company shall furnish to the inve...</td>\n",
       "      <td>(b) stock units. the committee may, in its dis...</td>\n",
       "    </tr>\n",
       "    <tr>\n",
       "      <th>3</th>\n",
       "      <td>3</td>\n",
       "      <td>what is the worth of the award based on in thi...</td>\n",
       "      <td>(b) the worth, at the time of the award, of th...</td>\n",
       "      <td>(f) perquisites. in addition to the other bene...</td>\n",
       "    </tr>\n",
       "    <tr>\n",
       "      <th>4</th>\n",
       "      <td>4</td>\n",
       "      <td>what is the worth of the award based on in thi...</td>\n",
       "      <td>(b) the worth, at the time of the award, of th...</td>\n",
       "      <td>14. amendment. the committee may amend, modify...</td>\n",
       "    </tr>\n",
       "  </tbody>\n",
       "</table>\n",
       "</div>"
      ],
      "text/plain": [
       "   Unnamed: 0                                             anchor  \\\n",
       "0           0  will the company provide the investor represen...   \n",
       "1           1  will the company provide the investor represen...   \n",
       "2           2  will the company provide the investor represen...   \n",
       "3           3  what is the worth of the award based on in thi...   \n",
       "4           4  what is the worth of the award based on in thi...   \n",
       "\n",
       "                                      positive_match  \\\n",
       "0  (e)      the company shall furnish to the inve...   \n",
       "1  (e)      the company shall furnish to the inve...   \n",
       "2  (e)      the company shall furnish to the inve...   \n",
       "3  (b) the worth, at the time of the award, of th...   \n",
       "4  (b) the worth, at the time of the award, of th...   \n",
       "\n",
       "                                      negative_match  \n",
       "0  * accrued obligations paid within thirty (30) ...  \n",
       "1  7.10 use of proceeds. the borrower shall use t...  \n",
       "2  (b) stock units. the committee may, in its dis...  \n",
       "3  (f) perquisites. in addition to the other bene...  \n",
       "4  14. amendment. the committee may amend, modify...  "
      ]
     },
     "execution_count": 8,
     "metadata": {},
     "output_type": "execute_result"
    }
   ],
   "source": [
    "df2.head()"
   ]
  },
  {
   "cell_type": "code",
   "execution_count": null,
   "id": "3e18f9ed-bb3a-4579-9d41-bd4123bb727e",
   "metadata": {},
   "outputs": [],
   "source": []
  },
  {
   "cell_type": "code",
   "execution_count": 9,
   "id": "a8947edb-0f3d-401a-a97e-380fbacb2baa",
   "metadata": {},
   "outputs": [
    {
     "data": {
      "text/html": [
       "<div>\n",
       "<style scoped>\n",
       "    .dataframe tbody tr th:only-of-type {\n",
       "        vertical-align: middle;\n",
       "    }\n",
       "\n",
       "    .dataframe tbody tr th {\n",
       "        vertical-align: top;\n",
       "    }\n",
       "\n",
       "    .dataframe thead th {\n",
       "        text-align: right;\n",
       "    }\n",
       "</style>\n",
       "<table border=\"1\" class=\"dataframe\">\n",
       "  <thead>\n",
       "    <tr style=\"text-align: right;\">\n",
       "      <th></th>\n",
       "      <th>Unnamed: 0</th>\n",
       "      <th>index</th>\n",
       "      <th>query</th>\n",
       "      <th>text</th>\n",
       "      <th>label</th>\n",
       "    </tr>\n",
       "  </thead>\n",
       "  <tbody>\n",
       "    <tr>\n",
       "      <th>34660</th>\n",
       "      <td>34660</td>\n",
       "      <td>34660</td>\n",
       "      <td>is any lender responsible for the failure of a...</td>\n",
       "      <td>(e) independent lender obligations. the failur...</td>\n",
       "      <td>1</td>\n",
       "    </tr>\n",
       "    <tr>\n",
       "      <th>34661</th>\n",
       "      <td>34661</td>\n",
       "      <td>0</td>\n",
       "      <td>will the company provide the investor represen...</td>\n",
       "      <td>* accrued obligations paid within thirty (30) ...</td>\n",
       "      <td>0</td>\n",
       "    </tr>\n",
       "    <tr>\n",
       "      <th>34662</th>\n",
       "      <td>34662</td>\n",
       "      <td>1</td>\n",
       "      <td>will the company provide the investor represen...</td>\n",
       "      <td>7.10 use of proceeds. the borrower shall use t...</td>\n",
       "      <td>0</td>\n",
       "    </tr>\n",
       "    <tr>\n",
       "      <th>34663</th>\n",
       "      <td>34663</td>\n",
       "      <td>2</td>\n",
       "      <td>will the company provide the investor represen...</td>\n",
       "      <td>(b) stock units. the committee may, in its dis...</td>\n",
       "      <td>0</td>\n",
       "    </tr>\n",
       "    <tr>\n",
       "      <th>34664</th>\n",
       "      <td>34664</td>\n",
       "      <td>3</td>\n",
       "      <td>what is the worth of the award based on in thi...</td>\n",
       "      <td>(f) perquisites. in addition to the other bene...</td>\n",
       "      <td>0</td>\n",
       "    </tr>\n",
       "    <tr>\n",
       "      <th>...</th>\n",
       "      <td>...</td>\n",
       "      <td>...</td>\n",
       "      <td>...</td>\n",
       "      <td>...</td>\n",
       "      <td>...</td>\n",
       "    </tr>\n",
       "    <tr>\n",
       "      <th>138639</th>\n",
       "      <td>138639</td>\n",
       "      <td>103978</td>\n",
       "      <td>does the company have the authority to execute...</td>\n",
       "      <td>name of lender: the bank of east asia, limited...</td>\n",
       "      <td>0</td>\n",
       "    </tr>\n",
       "    <tr>\n",
       "      <th>138640</th>\n",
       "      <td>138640</td>\n",
       "      <td>103979</td>\n",
       "      <td>does the company have the authority to execute...</td>\n",
       "      <td>(b) the provisions of this agreement, and any ...</td>\n",
       "      <td>0</td>\n",
       "    </tr>\n",
       "    <tr>\n",
       "      <th>138641</th>\n",
       "      <td>138641</td>\n",
       "      <td>103980</td>\n",
       "      <td>is any lender responsible for the failure of a...</td>\n",
       "      <td>(i) the sum payable shall be increased as may ...</td>\n",
       "      <td>0</td>\n",
       "    </tr>\n",
       "    <tr>\n",
       "      <th>138642</th>\n",
       "      <td>138642</td>\n",
       "      <td>103981</td>\n",
       "      <td>is any lender responsible for the failure of a...</td>\n",
       "      <td>section 14. governing law; jurisdiction. this ...</td>\n",
       "      <td>0</td>\n",
       "    </tr>\n",
       "    <tr>\n",
       "      <th>138643</th>\n",
       "      <td>138643</td>\n",
       "      <td>103982</td>\n",
       "      <td>is any lender responsible for the failure of a...</td>\n",
       "      <td>if you are a first-time user, you will need a ...</td>\n",
       "      <td>0</td>\n",
       "    </tr>\n",
       "  </tbody>\n",
       "</table>\n",
       "<p>103984 rows × 5 columns</p>\n",
       "</div>"
      ],
      "text/plain": [
       "        Unnamed: 0   index                                              query  \\\n",
       "34660        34660   34660  is any lender responsible for the failure of a...   \n",
       "34661        34661       0  will the company provide the investor represen...   \n",
       "34662        34662       1  will the company provide the investor represen...   \n",
       "34663        34663       2  will the company provide the investor represen...   \n",
       "34664        34664       3  what is the worth of the award based on in thi...   \n",
       "...            ...     ...                                                ...   \n",
       "138639      138639  103978  does the company have the authority to execute...   \n",
       "138640      138640  103979  does the company have the authority to execute...   \n",
       "138641      138641  103980  is any lender responsible for the failure of a...   \n",
       "138642      138642  103981  is any lender responsible for the failure of a...   \n",
       "138643      138643  103982  is any lender responsible for the failure of a...   \n",
       "\n",
       "                                                     text  label  \n",
       "34660   (e) independent lender obligations. the failur...      1  \n",
       "34661   * accrued obligations paid within thirty (30) ...      0  \n",
       "34662   7.10 use of proceeds. the borrower shall use t...      0  \n",
       "34663   (b) stock units. the committee may, in its dis...      0  \n",
       "34664   (f) perquisites. in addition to the other bene...      0  \n",
       "...                                                   ...    ...  \n",
       "138639  name of lender: the bank of east asia, limited...      0  \n",
       "138640  (b) the provisions of this agreement, and any ...      0  \n",
       "138641  (i) the sum payable shall be increased as may ...      0  \n",
       "138642  section 14. governing law; jurisdiction. this ...      0  \n",
       "138643  if you are a first-time user, you will need a ...      0  \n",
       "\n",
       "[103984 rows x 5 columns]"
      ]
     },
     "execution_count": 9,
     "metadata": {},
     "output_type": "execute_result"
    }
   ],
   "source": [
    "df1[34660:]"
   ]
  },
  {
   "cell_type": "code",
   "execution_count": null,
   "id": "fbd102cd-e161-4087-ab3b-59320d4f23ad",
   "metadata": {},
   "outputs": [],
   "source": []
  },
  {
   "cell_type": "markdown",
   "id": "f5feab4d-e4ab-43b5-be7a-83794c3985d8",
   "metadata": {
    "tags": []
   },
   "source": [
    "# Synthetic chatgpt"
   ]
  },
  {
   "cell_type": "code",
   "execution_count": 36,
   "id": "23c5b84f-715e-4821-9434-9562aec3af05",
   "metadata": {},
   "outputs": [],
   "source": [
    "data_path = \"./data/cuad_data_synthetic_chatgpt/synthetic_contracts_cuad_chatgptturbo.jsonl\""
   ]
  },
  {
   "cell_type": "code",
   "execution_count": 37,
   "id": "350aac77-e352-4a65-9cf8-3d054b627439",
   "metadata": {},
   "outputs": [],
   "source": [
    "def obtain_clause_type(row):\n",
    "    try:\n",
    "        return re.findall('\"([^\"]*)\"', row)[0]\n",
    "    \n",
    "    except IndexError:\n",
    "        return \"\""
   ]
  },
  {
   "cell_type": "code",
   "execution_count": 38,
   "id": "be5404e8-af16-421a-bfaf-abf8aac499b2",
   "metadata": {},
   "outputs": [],
   "source": [
    "all_query_clauses = []\n",
    "with open(data_path, \"r\") as reader:\n",
    "    for obj in reader:\n",
    "        all_query_clauses.append(obj)\n",
    "\n",
    "all_query_clauses = [json.loads(el) for el in all_query_clauses]"
   ]
  },
  {
   "cell_type": "code",
   "execution_count": 39,
   "id": "6f244d44-9107-4c78-b3a7-7672bee98bba",
   "metadata": {},
   "outputs": [
    {
     "data": {
      "text/plain": [
       "34648"
      ]
     },
     "execution_count": 39,
     "metadata": {},
     "output_type": "execute_result"
    }
   ],
   "source": [
    "len(all_query_clauses)"
   ]
  },
  {
   "cell_type": "code",
   "execution_count": 40,
   "id": "9574261d-699c-4158-accf-8909bc2f9cf0",
   "metadata": {},
   "outputs": [
    {
     "data": {
      "text/html": [
       "<div>\n",
       "<style scoped>\n",
       "    .dataframe tbody tr th:only-of-type {\n",
       "        vertical-align: middle;\n",
       "    }\n",
       "\n",
       "    .dataframe tbody tr th {\n",
       "        vertical-align: top;\n",
       "    }\n",
       "\n",
       "    .dataframe thead th {\n",
       "        text-align: right;\n",
       "    }\n",
       "</style>\n",
       "<table border=\"1\" class=\"dataframe\">\n",
       "  <thead>\n",
       "    <tr style=\"text-align: right;\">\n",
       "      <th></th>\n",
       "      <th>question</th>\n",
       "      <th>clause</th>\n",
       "    </tr>\n",
       "  </thead>\n",
       "  <tbody>\n",
       "    <tr>\n",
       "      <th>0</th>\n",
       "      <td>highlight the parts (if any) of this contract ...</td>\n",
       "      <td>(e)      The Company shall furnish to the Inve...</td>\n",
       "    </tr>\n",
       "    <tr>\n",
       "      <th>1</th>\n",
       "      <td>highlight the parts (if any) of this contract ...</td>\n",
       "      <td>(b) The worth, at the time of the award, of th...</td>\n",
       "    </tr>\n",
       "    <tr>\n",
       "      <th>2</th>\n",
       "      <td>highlight the parts (if any) of this contract ...</td>\n",
       "      <td>The Operator shall elect pursuant to Section 2...</td>\n",
       "    </tr>\n",
       "    <tr>\n",
       "      <th>3</th>\n",
       "      <td>highlight the parts (if any) of this contract ...</td>\n",
       "      <td>Except as set forth on the attached UCC Filing...</td>\n",
       "    </tr>\n",
       "    <tr>\n",
       "      <th>4</th>\n",
       "      <td>highlight the parts (if any) of this contract ...</td>\n",
       "      <td>sales proceeds and all other income, issues, p...</td>\n",
       "    </tr>\n",
       "    <tr>\n",
       "      <th>...</th>\n",
       "      <td>...</td>\n",
       "      <td>...</td>\n",
       "    </tr>\n",
       "    <tr>\n",
       "      <th>34643</th>\n",
       "      <td>highlight the parts (if any) of this contract ...</td>\n",
       "      <td>7. Notices. Any notices or other communication...</td>\n",
       "    </tr>\n",
       "    <tr>\n",
       "      <th>34644</th>\n",
       "      <td>highlight the parts (if any) of this contract ...</td>\n",
       "      <td>The invalidity or unenforceability of any prov...</td>\n",
       "    </tr>\n",
       "    <tr>\n",
       "      <th>34645</th>\n",
       "      <td>highlight the parts (if any) of this contract ...</td>\n",
       "      <td>“Obligations” means any costs, expenses or lia...</td>\n",
       "    </tr>\n",
       "    <tr>\n",
       "      <th>34646</th>\n",
       "      <td>highlight the parts (if any) of this contract ...</td>\n",
       "      <td>(a) It is duly organized, validly existing, an...</td>\n",
       "    </tr>\n",
       "    <tr>\n",
       "      <th>34647</th>\n",
       "      <td>highlight the parts (if any) of this contract ...</td>\n",
       "      <td>(e) Independent Lender Obligations. The failur...</td>\n",
       "    </tr>\n",
       "  </tbody>\n",
       "</table>\n",
       "<p>34648 rows × 2 columns</p>\n",
       "</div>"
      ],
      "text/plain": [
       "                                                question  \\\n",
       "0      highlight the parts (if any) of this contract ...   \n",
       "1      highlight the parts (if any) of this contract ...   \n",
       "2      highlight the parts (if any) of this contract ...   \n",
       "3      highlight the parts (if any) of this contract ...   \n",
       "4      highlight the parts (if any) of this contract ...   \n",
       "...                                                  ...   \n",
       "34643  highlight the parts (if any) of this contract ...   \n",
       "34644  highlight the parts (if any) of this contract ...   \n",
       "34645  highlight the parts (if any) of this contract ...   \n",
       "34646  highlight the parts (if any) of this contract ...   \n",
       "34647  highlight the parts (if any) of this contract ...   \n",
       "\n",
       "                                                  clause  \n",
       "0      (e)      The Company shall furnish to the Inve...  \n",
       "1      (b) The worth, at the time of the award, of th...  \n",
       "2      The Operator shall elect pursuant to Section 2...  \n",
       "3      Except as set forth on the attached UCC Filing...  \n",
       "4      sales proceeds and all other income, issues, p...  \n",
       "...                                                  ...  \n",
       "34643  7. Notices. Any notices or other communication...  \n",
       "34644  The invalidity or unenforceability of any prov...  \n",
       "34645  “Obligations” means any costs, expenses or lia...  \n",
       "34646  (a) It is duly organized, validly existing, an...  \n",
       "34647  (e) Independent Lender Obligations. The failur...  \n",
       "\n",
       "[34648 rows x 2 columns]"
      ]
     },
     "execution_count": 40,
     "metadata": {},
     "output_type": "execute_result"
    }
   ],
   "source": [
    "df = pd.DataFrame.from_dict(all_query_clauses)\n",
    "df"
   ]
  },
  {
   "cell_type": "code",
   "execution_count": 42,
   "id": "3c4bb58d-4ad1-4c93-8c3e-b2ddea7085d9",
   "metadata": {},
   "outputs": [
    {
     "name": "stdout",
     "output_type": "stream",
     "text": [
      "34648\n"
     ]
    },
    {
     "data": {
      "text/html": [
       "<div>\n",
       "<style scoped>\n",
       "    .dataframe tbody tr th:only-of-type {\n",
       "        vertical-align: middle;\n",
       "    }\n",
       "\n",
       "    .dataframe tbody tr th {\n",
       "        vertical-align: top;\n",
       "    }\n",
       "\n",
       "    .dataframe thead th {\n",
       "        text-align: right;\n",
       "    }\n",
       "</style>\n",
       "<table border=\"1\" class=\"dataframe\">\n",
       "  <thead>\n",
       "    <tr style=\"text-align: right;\">\n",
       "      <th></th>\n",
       "      <th>question</th>\n",
       "      <th>clause</th>\n",
       "    </tr>\n",
       "  </thead>\n",
       "  <tbody>\n",
       "    <tr>\n",
       "      <th>0</th>\n",
       "      <td>highlight the parts (if any) of this contract ...</td>\n",
       "      <td>(e)      The Company shall furnish to the Inve...</td>\n",
       "    </tr>\n",
       "    <tr>\n",
       "      <th>1</th>\n",
       "      <td>highlight the parts (if any) of this contract ...</td>\n",
       "      <td>(b) The worth, at the time of the award, of th...</td>\n",
       "    </tr>\n",
       "    <tr>\n",
       "      <th>2</th>\n",
       "      <td>highlight the parts (if any) of this contract ...</td>\n",
       "      <td>The Operator shall elect pursuant to Section 2...</td>\n",
       "    </tr>\n",
       "    <tr>\n",
       "      <th>3</th>\n",
       "      <td>highlight the parts (if any) of this contract ...</td>\n",
       "      <td>Except as set forth on the attached UCC Filing...</td>\n",
       "    </tr>\n",
       "    <tr>\n",
       "      <th>4</th>\n",
       "      <td>highlight the parts (if any) of this contract ...</td>\n",
       "      <td>sales proceeds and all other income, issues, p...</td>\n",
       "    </tr>\n",
       "  </tbody>\n",
       "</table>\n",
       "</div>"
      ],
      "text/plain": [
       "                                            question  \\\n",
       "0  highlight the parts (if any) of this contract ...   \n",
       "1  highlight the parts (if any) of this contract ...   \n",
       "2  highlight the parts (if any) of this contract ...   \n",
       "3  highlight the parts (if any) of this contract ...   \n",
       "4  highlight the parts (if any) of this contract ...   \n",
       "\n",
       "                                              clause  \n",
       "0  (e)      The Company shall furnish to the Inve...  \n",
       "1  (b) The worth, at the time of the award, of th...  \n",
       "2  The Operator shall elect pursuant to Section 2...  \n",
       "3  Except as set forth on the attached UCC Filing...  \n",
       "4  sales proceeds and all other income, issues, p...  "
      ]
     },
     "execution_count": 42,
     "metadata": {},
     "output_type": "execute_result"
    }
   ],
   "source": [
    "df = pd.DataFrame.from_dict(all_query_clauses)\n",
    "print(len(df))\n",
    "df.head()"
   ]
  },
  {
   "cell_type": "code",
   "execution_count": 43,
   "id": "db5363f6-2ee1-4cad-a320-b14540bd1010",
   "metadata": {},
   "outputs": [
    {
     "data": {
      "text/plain": [
       "'highlight the parts (if any) of this contract related to \"registration rights\" that should be reviewed by a lawyer. details: does one party have the right to require the other party to register securities with the SEC or other regulatory body?'"
      ]
     },
     "execution_count": 43,
     "metadata": {},
     "output_type": "execute_result"
    }
   ],
   "source": [
    "df.iloc[0][\"question\"]"
   ]
  },
  {
   "cell_type": "code",
   "execution_count": 44,
   "id": "6f2882e4-6042-4547-94de-191b4986f121",
   "metadata": {},
   "outputs": [],
   "source": [
    "df[\"clause_type\"] = df[\"question\"].apply(lambda row: obtain_clause_type(row))"
   ]
  },
  {
   "cell_type": "code",
   "execution_count": 45,
   "id": "8a5e0529-740b-4464-8748-b86882761b67",
   "metadata": {},
   "outputs": [
    {
     "data": {
      "text/html": [
       "<div>\n",
       "<style scoped>\n",
       "    .dataframe tbody tr th:only-of-type {\n",
       "        vertical-align: middle;\n",
       "    }\n",
       "\n",
       "    .dataframe tbody tr th {\n",
       "        vertical-align: top;\n",
       "    }\n",
       "\n",
       "    .dataframe thead th {\n",
       "        text-align: right;\n",
       "    }\n",
       "</style>\n",
       "<table border=\"1\" class=\"dataframe\">\n",
       "  <thead>\n",
       "    <tr style=\"text-align: right;\">\n",
       "      <th></th>\n",
       "      <th>question</th>\n",
       "      <th>clause</th>\n",
       "      <th>clause_type</th>\n",
       "    </tr>\n",
       "  </thead>\n",
       "  <tbody>\n",
       "    <tr>\n",
       "      <th>0</th>\n",
       "      <td>highlight the parts (if any) of this contract ...</td>\n",
       "      <td>(e)      The Company shall furnish to the Inve...</td>\n",
       "      <td>registration rights</td>\n",
       "    </tr>\n",
       "    <tr>\n",
       "      <th>1</th>\n",
       "      <td>highlight the parts (if any) of this contract ...</td>\n",
       "      <td>(b) The worth, at the time of the award, of th...</td>\n",
       "      <td>damages for breach of lease</td>\n",
       "    </tr>\n",
       "    <tr>\n",
       "      <th>2</th>\n",
       "      <td>highlight the parts (if any) of this contract ...</td>\n",
       "      <td>The Operator shall elect pursuant to Section 2...</td>\n",
       "      <td>tax administration</td>\n",
       "    </tr>\n",
       "    <tr>\n",
       "      <th>3</th>\n",
       "      <td>highlight the parts (if any) of this contract ...</td>\n",
       "      <td>Except as set forth on the attached UCC Filing...</td>\n",
       "      <td>liens</td>\n",
       "    </tr>\n",
       "    <tr>\n",
       "      <th>4</th>\n",
       "      <td>highlight the parts (if any) of this contract ...</td>\n",
       "      <td>sales proceeds and all other income, issues, p...</td>\n",
       "      <td>assignment of property rights</td>\n",
       "    </tr>\n",
       "  </tbody>\n",
       "</table>\n",
       "</div>"
      ],
      "text/plain": [
       "                                            question  \\\n",
       "0  highlight the parts (if any) of this contract ...   \n",
       "1  highlight the parts (if any) of this contract ...   \n",
       "2  highlight the parts (if any) of this contract ...   \n",
       "3  highlight the parts (if any) of this contract ...   \n",
       "4  highlight the parts (if any) of this contract ...   \n",
       "\n",
       "                                              clause  \\\n",
       "0  (e)      The Company shall furnish to the Inve...   \n",
       "1  (b) The worth, at the time of the award, of th...   \n",
       "2  The Operator shall elect pursuant to Section 2...   \n",
       "3  Except as set forth on the attached UCC Filing...   \n",
       "4  sales proceeds and all other income, issues, p...   \n",
       "\n",
       "                     clause_type  \n",
       "0            registration rights  \n",
       "1    damages for breach of lease  \n",
       "2             tax administration  \n",
       "3                          liens  \n",
       "4  assignment of property rights  "
      ]
     },
     "execution_count": 45,
     "metadata": {},
     "output_type": "execute_result"
    }
   ],
   "source": [
    "df.head()"
   ]
  },
  {
   "cell_type": "code",
   "execution_count": 47,
   "id": "e0339f2b-cd85-4eb2-9202-75a79c447fc4",
   "metadata": {},
   "outputs": [],
   "source": [
    "# remove the empty clause types\n",
    "df = df[df[\"clause_type\"] != \"\"]"
   ]
  },
  {
   "cell_type": "code",
   "execution_count": 48,
   "id": "e481222a-f241-41b0-bf97-2e8592029329",
   "metadata": {},
   "outputs": [
    {
     "data": {
      "text/html": [
       "<div>\n",
       "<style scoped>\n",
       "    .dataframe tbody tr th:only-of-type {\n",
       "        vertical-align: middle;\n",
       "    }\n",
       "\n",
       "    .dataframe tbody tr th {\n",
       "        vertical-align: top;\n",
       "    }\n",
       "\n",
       "    .dataframe thead th {\n",
       "        text-align: right;\n",
       "    }\n",
       "</style>\n",
       "<table border=\"1\" class=\"dataframe\">\n",
       "  <thead>\n",
       "    <tr style=\"text-align: right;\">\n",
       "      <th></th>\n",
       "      <th>question</th>\n",
       "      <th>clause</th>\n",
       "    </tr>\n",
       "    <tr>\n",
       "      <th>clause_type</th>\n",
       "      <th></th>\n",
       "      <th></th>\n",
       "    </tr>\n",
       "  </thead>\n",
       "  <tbody>\n",
       "    <tr>\n",
       "      <th>stock options</th>\n",
       "      <td>1376</td>\n",
       "      <td>1376</td>\n",
       "    </tr>\n",
       "    <tr>\n",
       "      <th>indemnification</th>\n",
       "      <td>647</td>\n",
       "      <td>647</td>\n",
       "    </tr>\n",
       "    <tr>\n",
       "      <th>change of control</th>\n",
       "      <td>519</td>\n",
       "      <td>519</td>\n",
       "    </tr>\n",
       "    <tr>\n",
       "      <th>severability</th>\n",
       "      <td>460</td>\n",
       "      <td>460</td>\n",
       "    </tr>\n",
       "    <tr>\n",
       "      <th>notice provisions</th>\n",
       "      <td>412</td>\n",
       "      <td>412</td>\n",
       "    </tr>\n",
       "    <tr>\n",
       "      <th>...</th>\n",
       "      <td>...</td>\n",
       "      <td>...</td>\n",
       "    </tr>\n",
       "    <tr>\n",
       "      <th>franchise agreement</th>\n",
       "      <td>1</td>\n",
       "      <td>1</td>\n",
       "    </tr>\n",
       "    <tr>\n",
       "      <th>founder shares</th>\n",
       "      <td>1</td>\n",
       "      <td>1</td>\n",
       "    </tr>\n",
       "    <tr>\n",
       "      <th>forward purchase agreements</th>\n",
       "      <td>1</td>\n",
       "      <td>1</td>\n",
       "    </tr>\n",
       "    <tr>\n",
       "      <th>forms and attachments</th>\n",
       "      <td>1</td>\n",
       "      <td>1</td>\n",
       "    </tr>\n",
       "    <tr>\n",
       "      <th>lender agreement signatories</th>\n",
       "      <td>1</td>\n",
       "      <td>1</td>\n",
       "    </tr>\n",
       "  </tbody>\n",
       "</table>\n",
       "<p>8579 rows × 2 columns</p>\n",
       "</div>"
      ],
      "text/plain": [
       "                              question  clause\n",
       "clause_type                                   \n",
       "stock options                     1376    1376\n",
       "indemnification                    647     647\n",
       "change of control                  519     519\n",
       "severability                       460     460\n",
       "notice provisions                  412     412\n",
       "...                                ...     ...\n",
       "franchise agreement                  1       1\n",
       "founder shares                       1       1\n",
       "forward purchase agreements          1       1\n",
       "forms and attachments                1       1\n",
       "lender agreement signatories         1       1\n",
       "\n",
       "[8579 rows x 2 columns]"
      ]
     },
     "execution_count": 48,
     "metadata": {},
     "output_type": "execute_result"
    }
   ],
   "source": [
    "df.groupby(['clause_type']).count().sort_values(by='clause', ascending=False)"
   ]
  },
  {
   "cell_type": "code",
   "execution_count": null,
   "id": "eec92660-7136-452e-bd54-94c83e61c7c8",
   "metadata": {},
   "outputs": [],
   "source": []
  },
  {
   "cell_type": "markdown",
   "id": "b90ae326-494b-4c11-9b5f-016103abb600",
   "metadata": {
    "tags": []
   },
   "source": [
    "## Create dual/cross encoder training sets"
   ]
  },
  {
   "cell_type": "code",
   "execution_count": 51,
   "id": "e2eb8934-e90d-4fd6-aa57-0a2f191e8e44",
   "metadata": {},
   "outputs": [
    {
     "name": "stderr",
     "output_type": "stream",
     "text": [
      "100%|█████████████████████████████████████████████| 34413/34413 [02:49<00:00, 202.94it/s]\n"
     ]
    }
   ],
   "source": [
    "num_negatives = 3\n",
    "\n",
    "anchors_train = []\n",
    "positives_train = []\n",
    "negatives_train = []\n",
    "\n",
    "positive_categories_train = []\n",
    "negative_categories_train = []\n",
    "\n",
    "for row in tqdm(range(len(df))):\n",
    "    \n",
    "    category = df.iloc[row][\"clause_type\"]\n",
    "    \n",
    "    query = df.iloc[row][\"question\"].replace(\"\\xa0\", \"\").lower()\n",
    "    anchors_train.append(query)\n",
    "    \n",
    "    # clean up the text\n",
    "    positive_sample = df.iloc[row][\"clause\"]\n",
    "    postive_sample = ' '.join(positive_sample.replace('\\n',' ').split())\n",
    "    positive_sample = positive_sample.lower()\n",
    "    \n",
    "    positives_train.append(positive_sample)\n",
    "    \n",
    "    # get the negative sample and category\n",
    "    potential_negative_samples = df[df[\"clause_type\"] != category].sample(num_negatives)\n",
    "    \n",
    "    negative_samples = [el.lower() for el in list(potential_negative_samples[\"clause\"])]\n",
    "    negative_samples = [' '.join(negative_sample.replace('\\n',' ').split()) for negative_sample in negative_samples]\n",
    "    \n",
    "    negative_categories = list(potential_negative_samples[\"clause_type\"])\n",
    "    \n",
    "    negatives_train.append(negative_samples)\n",
    "    \n",
    "    # get the categories of the positive and negative samples\n",
    "    positive_categories_train.append(category)\n",
    "    negative_categories_train.append(negative_categories)"
   ]
  },
  {
   "cell_type": "code",
   "execution_count": 52,
   "id": "645b1414-facb-493b-b38b-1de09288a375",
   "metadata": {},
   "outputs": [
    {
     "name": "stdout",
     "output_type": "stream",
     "text": [
      "34413\n"
     ]
    },
    {
     "data": {
      "text/html": [
       "<div>\n",
       "<style scoped>\n",
       "    .dataframe tbody tr th:only-of-type {\n",
       "        vertical-align: middle;\n",
       "    }\n",
       "\n",
       "    .dataframe tbody tr th {\n",
       "        vertical-align: top;\n",
       "    }\n",
       "\n",
       "    .dataframe thead th {\n",
       "        text-align: right;\n",
       "    }\n",
       "</style>\n",
       "<table border=\"1\" class=\"dataframe\">\n",
       "  <thead>\n",
       "    <tr style=\"text-align: right;\">\n",
       "      <th></th>\n",
       "      <th>anchor</th>\n",
       "      <th>positive</th>\n",
       "      <th>negatives</th>\n",
       "    </tr>\n",
       "  </thead>\n",
       "  <tbody>\n",
       "    <tr>\n",
       "      <th>0</th>\n",
       "      <td>highlight the parts (if any) of this contract ...</td>\n",
       "      <td>(e)      the company shall furnish to the inve...</td>\n",
       "      <td>[5.transferability. this agreement is personal...</td>\n",
       "    </tr>\n",
       "    <tr>\n",
       "      <th>1</th>\n",
       "      <td>highlight the parts (if any) of this contract ...</td>\n",
       "      <td>(b) the worth, at the time of the award, of th...</td>\n",
       "      <td>[(e) survival of indemnity and contribution pr...</td>\n",
       "    </tr>\n",
       "    <tr>\n",
       "      <th>2</th>\n",
       "      <td>highlight the parts (if any) of this contract ...</td>\n",
       "      <td>the operator shall elect pursuant to section 2...</td>\n",
       "      <td>[(q) additional swap counterparties. to the ex...</td>\n",
       "    </tr>\n",
       "    <tr>\n",
       "      <th>3</th>\n",
       "      <td>highlight the parts (if any) of this contract ...</td>\n",
       "      <td>except as set forth on the attached ucc filing...</td>\n",
       "      <td>[any copies or excerpts thereof shall remain t...</td>\n",
       "    </tr>\n",
       "    <tr>\n",
       "      <th>4</th>\n",
       "      <td>highlight the parts (if any) of this contract ...</td>\n",
       "      <td>sales proceeds and all other income, issues, p...</td>\n",
       "      <td>[(k) attorneys’ fees. the parties agree that i...</td>\n",
       "    </tr>\n",
       "  </tbody>\n",
       "</table>\n",
       "</div>"
      ],
      "text/plain": [
       "                                              anchor  \\\n",
       "0  highlight the parts (if any) of this contract ...   \n",
       "1  highlight the parts (if any) of this contract ...   \n",
       "2  highlight the parts (if any) of this contract ...   \n",
       "3  highlight the parts (if any) of this contract ...   \n",
       "4  highlight the parts (if any) of this contract ...   \n",
       "\n",
       "                                            positive  \\\n",
       "0  (e)      the company shall furnish to the inve...   \n",
       "1  (b) the worth, at the time of the award, of th...   \n",
       "2  the operator shall elect pursuant to section 2...   \n",
       "3  except as set forth on the attached ucc filing...   \n",
       "4  sales proceeds and all other income, issues, p...   \n",
       "\n",
       "                                           negatives  \n",
       "0  [5.transferability. this agreement is personal...  \n",
       "1  [(e) survival of indemnity and contribution pr...  \n",
       "2  [(q) additional swap counterparties. to the ex...  \n",
       "3  [any copies or excerpts thereof shall remain t...  \n",
       "4  [(k) attorneys’ fees. the parties agree that i...  "
      ]
     },
     "execution_count": 52,
     "metadata": {},
     "output_type": "execute_result"
    }
   ],
   "source": [
    "triplet_train_dataframe = pd.DataFrame(list(zip(anchors_train, positives_train, negatives_train)),\n",
    "                                    columns=[\"anchor\", \"positive\", \"negatives\"])\n",
    "\n",
    "print(len(triplet_train_dataframe))\n",
    "triplet_train_dataframe.head()"
   ]
  },
  {
   "cell_type": "code",
   "execution_count": 53,
   "id": "e03be13a-792b-4ad9-b89e-c0577ba5cb60",
   "metadata": {},
   "outputs": [
    {
     "name": "stdout",
     "output_type": "stream",
     "text": [
      "34413\n"
     ]
    },
    {
     "data": {
      "text/html": [
       "<div>\n",
       "<style scoped>\n",
       "    .dataframe tbody tr th:only-of-type {\n",
       "        vertical-align: middle;\n",
       "    }\n",
       "\n",
       "    .dataframe tbody tr th {\n",
       "        vertical-align: top;\n",
       "    }\n",
       "\n",
       "    .dataframe thead th {\n",
       "        text-align: right;\n",
       "    }\n",
       "</style>\n",
       "<table border=\"1\" class=\"dataframe\">\n",
       "  <thead>\n",
       "    <tr style=\"text-align: right;\">\n",
       "      <th></th>\n",
       "      <th>anchor</th>\n",
       "      <th>positive</th>\n",
       "      <th>negatives</th>\n",
       "    </tr>\n",
       "  </thead>\n",
       "  <tbody>\n",
       "    <tr>\n",
       "      <th>0</th>\n",
       "      <td>highlight the parts (if any) of this contract ...</td>\n",
       "      <td>(e)      the company shall furnish to the inve...</td>\n",
       "      <td>[5.transferability. this agreement is personal...</td>\n",
       "    </tr>\n",
       "    <tr>\n",
       "      <th>1</th>\n",
       "      <td>highlight the parts (if any) of this contract ...</td>\n",
       "      <td>(b) the worth, at the time of the award, of th...</td>\n",
       "      <td>[(e) survival of indemnity and contribution pr...</td>\n",
       "    </tr>\n",
       "    <tr>\n",
       "      <th>2</th>\n",
       "      <td>highlight the parts (if any) of this contract ...</td>\n",
       "      <td>the operator shall elect pursuant to section 2...</td>\n",
       "      <td>[(q) additional swap counterparties. to the ex...</td>\n",
       "    </tr>\n",
       "    <tr>\n",
       "      <th>3</th>\n",
       "      <td>highlight the parts (if any) of this contract ...</td>\n",
       "      <td>except as set forth on the attached ucc filing...</td>\n",
       "      <td>[any copies or excerpts thereof shall remain t...</td>\n",
       "    </tr>\n",
       "    <tr>\n",
       "      <th>4</th>\n",
       "      <td>highlight the parts (if any) of this contract ...</td>\n",
       "      <td>sales proceeds and all other income, issues, p...</td>\n",
       "      <td>[(k) attorneys’ fees. the parties agree that i...</td>\n",
       "    </tr>\n",
       "  </tbody>\n",
       "</table>\n",
       "</div>"
      ],
      "text/plain": [
       "                                              anchor  \\\n",
       "0  highlight the parts (if any) of this contract ...   \n",
       "1  highlight the parts (if any) of this contract ...   \n",
       "2  highlight the parts (if any) of this contract ...   \n",
       "3  highlight the parts (if any) of this contract ...   \n",
       "4  highlight the parts (if any) of this contract ...   \n",
       "\n",
       "                                            positive  \\\n",
       "0  (e)      the company shall furnish to the inve...   \n",
       "1  (b) the worth, at the time of the award, of th...   \n",
       "2  the operator shall elect pursuant to section 2...   \n",
       "3  except as set forth on the attached ucc filing...   \n",
       "4  sales proceeds and all other income, issues, p...   \n",
       "\n",
       "                                           negatives  \n",
       "0  [5.transferability. this agreement is personal...  \n",
       "1  [(e) survival of indemnity and contribution pr...  \n",
       "2  [(q) additional swap counterparties. to the ex...  \n",
       "3  [any copies or excerpts thereof shall remain t...  \n",
       "4  [(k) attorneys’ fees. the parties agree that i...  "
      ]
     },
     "execution_count": 53,
     "metadata": {},
     "output_type": "execute_result"
    }
   ],
   "source": [
    "triplet_train_dataframe = pd.DataFrame(list(zip(anchors_train, positives_train, negatives_train)),\n",
    "                                    columns=[\"anchor\", \"positive\", \"negatives\"])\n",
    "\n",
    "print(len(triplet_train_dataframe))\n",
    "triplet_train_dataframe.head()"
   ]
  },
  {
   "cell_type": "code",
   "execution_count": null,
   "id": "c3abc1fb-a527-4644-a36b-522a6254893f",
   "metadata": {},
   "outputs": [],
   "source": []
  },
  {
   "cell_type": "markdown",
   "id": "a84bec7f-baf0-4b60-bfb0-920cd4431f4e",
   "metadata": {
    "tags": []
   },
   "source": [
    "## Dual encoder"
   ]
  },
  {
   "cell_type": "code",
   "execution_count": 54,
   "id": "e05fa3bd-5592-47fa-8da2-5808c161da33",
   "metadata": {},
   "outputs": [
    {
     "data": {
      "text/plain": [
       "103239"
      ]
     },
     "execution_count": 54,
     "metadata": {},
     "output_type": "execute_result"
    }
   ],
   "source": [
    "triplet_train_exploded_df = (\n",
    "    triplet_train_dataframe\n",
    "    .explode('negatives')\n",
    "    .reset_index()[[\"anchor\", \"positive\", \"negatives\"]]\n",
    "    .rename({\"positive\" : \"positive_match\", \"negatives\": \"negative_match\"}, axis=1)\n",
    ")  \n",
    "\n",
    "len(triplet_train_exploded_df)"
   ]
  },
  {
   "cell_type": "code",
   "execution_count": 55,
   "id": "31d20501-507e-478b-9145-12679bf5152f",
   "metadata": {},
   "outputs": [
    {
     "data": {
      "text/html": [
       "<div>\n",
       "<style scoped>\n",
       "    .dataframe tbody tr th:only-of-type {\n",
       "        vertical-align: middle;\n",
       "    }\n",
       "\n",
       "    .dataframe tbody tr th {\n",
       "        vertical-align: top;\n",
       "    }\n",
       "\n",
       "    .dataframe thead th {\n",
       "        text-align: right;\n",
       "    }\n",
       "</style>\n",
       "<table border=\"1\" class=\"dataframe\">\n",
       "  <thead>\n",
       "    <tr style=\"text-align: right;\">\n",
       "      <th></th>\n",
       "      <th>anchor</th>\n",
       "      <th>positive_match</th>\n",
       "      <th>negative_match</th>\n",
       "    </tr>\n",
       "  </thead>\n",
       "  <tbody>\n",
       "    <tr>\n",
       "      <th>0</th>\n",
       "      <td>highlight the parts (if any) of this contract ...</td>\n",
       "      <td>(e)      the company shall furnish to the inve...</td>\n",
       "      <td>5.transferability. this agreement is personal ...</td>\n",
       "    </tr>\n",
       "    <tr>\n",
       "      <th>1</th>\n",
       "      <td>highlight the parts (if any) of this contract ...</td>\n",
       "      <td>(e)      the company shall furnish to the inve...</td>\n",
       "      <td>2. original set of documents shall be provided...</td>\n",
       "    </tr>\n",
       "    <tr>\n",
       "      <th>2</th>\n",
       "      <td>highlight the parts (if any) of this contract ...</td>\n",
       "      <td>(e)      the company shall furnish to the inve...</td>\n",
       "      <td>in the event that any provision of these stand...</td>\n",
       "    </tr>\n",
       "    <tr>\n",
       "      <th>3</th>\n",
       "      <td>highlight the parts (if any) of this contract ...</td>\n",
       "      <td>(b) the worth, at the time of the award, of th...</td>\n",
       "      <td>(e) survival of indemnity and contribution pro...</td>\n",
       "    </tr>\n",
       "    <tr>\n",
       "      <th>4</th>\n",
       "      <td>highlight the parts (if any) of this contract ...</td>\n",
       "      <td>(b) the worth, at the time of the award, of th...</td>\n",
       "      <td>notwithstanding any other provision in this ag...</td>\n",
       "    </tr>\n",
       "  </tbody>\n",
       "</table>\n",
       "</div>"
      ],
      "text/plain": [
       "                                              anchor  \\\n",
       "0  highlight the parts (if any) of this contract ...   \n",
       "1  highlight the parts (if any) of this contract ...   \n",
       "2  highlight the parts (if any) of this contract ...   \n",
       "3  highlight the parts (if any) of this contract ...   \n",
       "4  highlight the parts (if any) of this contract ...   \n",
       "\n",
       "                                      positive_match  \\\n",
       "0  (e)      the company shall furnish to the inve...   \n",
       "1  (e)      the company shall furnish to the inve...   \n",
       "2  (e)      the company shall furnish to the inve...   \n",
       "3  (b) the worth, at the time of the award, of th...   \n",
       "4  (b) the worth, at the time of the award, of th...   \n",
       "\n",
       "                                      negative_match  \n",
       "0  5.transferability. this agreement is personal ...  \n",
       "1  2. original set of documents shall be provided...  \n",
       "2  in the event that any provision of these stand...  \n",
       "3  (e) survival of indemnity and contribution pro...  \n",
       "4  notwithstanding any other provision in this ag...  "
      ]
     },
     "execution_count": 55,
     "metadata": {},
     "output_type": "execute_result"
    }
   ],
   "source": [
    "triplet_train_exploded_df.head()"
   ]
  },
  {
   "cell_type": "code",
   "execution_count": 56,
   "id": "3a49477b-1624-45db-94b0-edf41b5b2a50",
   "metadata": {},
   "outputs": [],
   "source": [
    "triplet_train_exploded_df[\"clause_type\"] = triplet_train_exploded_df[\"anchor\"].apply(lambda row: re.findall('\"([^\"]*)\"', row)[0])\n"
   ]
  },
  {
   "cell_type": "code",
   "execution_count": 64,
   "id": "602cbaf3-f617-4ce4-b4a5-5696baab024f",
   "metadata": {},
   "outputs": [
    {
     "data": {
      "text/html": [
       "<div>\n",
       "<style scoped>\n",
       "    .dataframe tbody tr th:only-of-type {\n",
       "        vertical-align: middle;\n",
       "    }\n",
       "\n",
       "    .dataframe tbody tr th {\n",
       "        vertical-align: top;\n",
       "    }\n",
       "\n",
       "    .dataframe thead th {\n",
       "        text-align: right;\n",
       "    }\n",
       "</style>\n",
       "<table border=\"1\" class=\"dataframe\">\n",
       "  <thead>\n",
       "    <tr style=\"text-align: right;\">\n",
       "      <th></th>\n",
       "      <th>anchor</th>\n",
       "      <th>positive_match</th>\n",
       "      <th>negative_match</th>\n",
       "    </tr>\n",
       "    <tr>\n",
       "      <th>clause_type</th>\n",
       "      <th></th>\n",
       "      <th></th>\n",
       "      <th></th>\n",
       "    </tr>\n",
       "  </thead>\n",
       "  <tbody>\n",
       "    <tr>\n",
       "      <th>stock options</th>\n",
       "      <td>4128</td>\n",
       "      <td>4128</td>\n",
       "      <td>4128</td>\n",
       "    </tr>\n",
       "    <tr>\n",
       "      <th>indemnification</th>\n",
       "      <td>1941</td>\n",
       "      <td>1941</td>\n",
       "      <td>1941</td>\n",
       "    </tr>\n",
       "    <tr>\n",
       "      <th>change of control</th>\n",
       "      <td>1557</td>\n",
       "      <td>1557</td>\n",
       "      <td>1557</td>\n",
       "    </tr>\n",
       "    <tr>\n",
       "      <th>severability</th>\n",
       "      <td>1380</td>\n",
       "      <td>1380</td>\n",
       "      <td>1380</td>\n",
       "    </tr>\n",
       "    <tr>\n",
       "      <th>notice provisions</th>\n",
       "      <td>1236</td>\n",
       "      <td>1236</td>\n",
       "      <td>1236</td>\n",
       "    </tr>\n",
       "    <tr>\n",
       "      <th>...</th>\n",
       "      <td>...</td>\n",
       "      <td>...</td>\n",
       "      <td>...</td>\n",
       "    </tr>\n",
       "    <tr>\n",
       "      <th>guarantee assignment</th>\n",
       "      <td>3</td>\n",
       "      <td>3</td>\n",
       "      <td>3</td>\n",
       "    </tr>\n",
       "    <tr>\n",
       "      <th>guarantee and security interest</th>\n",
       "      <td>3</td>\n",
       "      <td>3</td>\n",
       "      <td>3</td>\n",
       "    </tr>\n",
       "    <tr>\n",
       "      <th>guarantee and security</th>\n",
       "      <td>3</td>\n",
       "      <td>3</td>\n",
       "      <td>3</td>\n",
       "    </tr>\n",
       "    <tr>\n",
       "      <th>guarantee agreements</th>\n",
       "      <td>3</td>\n",
       "      <td>3</td>\n",
       "      <td>3</td>\n",
       "    </tr>\n",
       "    <tr>\n",
       "      <th>lien exceptions</th>\n",
       "      <td>3</td>\n",
       "      <td>3</td>\n",
       "      <td>3</td>\n",
       "    </tr>\n",
       "  </tbody>\n",
       "</table>\n",
       "<p>8568 rows × 3 columns</p>\n",
       "</div>"
      ],
      "text/plain": [
       "                                 anchor  positive_match  negative_match\n",
       "clause_type                                                            \n",
       "stock options                      4128            4128            4128\n",
       "indemnification                    1941            1941            1941\n",
       "change of control                  1557            1557            1557\n",
       "severability                       1380            1380            1380\n",
       "notice provisions                  1236            1236            1236\n",
       "...                                 ...             ...             ...\n",
       "guarantee assignment                  3               3               3\n",
       "guarantee and security interest       3               3               3\n",
       "guarantee and security                3               3               3\n",
       "guarantee agreements                  3               3               3\n",
       "lien exceptions                       3               3               3\n",
       "\n",
       "[8568 rows x 3 columns]"
      ]
     },
     "execution_count": 64,
     "metadata": {},
     "output_type": "execute_result"
    }
   ],
   "source": [
    "triplet_train_exploded_df.groupby(['clause_type']).count().sort_values(by='anchor', ascending=False)"
   ]
  },
  {
   "cell_type": "code",
   "execution_count": 65,
   "id": "726f2618-2530-47be-bb15-d28318627a02",
   "metadata": {},
   "outputs": [],
   "source": [
    "triplet_train_exploded_df.to_csv(\"./data/cuad_data_synthetic_chatgpt/train_cuad_dual_encoder.csv\")"
   ]
  },
  {
   "cell_type": "code",
   "execution_count": null,
   "id": "3869f600-b88a-456d-ae19-323711114716",
   "metadata": {},
   "outputs": [],
   "source": []
  },
  {
   "cell_type": "markdown",
   "id": "e34f5bc2-b6b8-45d4-8635-e4b354116542",
   "metadata": {
    "tags": []
   },
   "source": [
    "## Cross encoder"
   ]
  },
  {
   "cell_type": "code",
   "execution_count": 66,
   "id": "fef39da8-f351-4229-a697-892a8fa64401",
   "metadata": {},
   "outputs": [],
   "source": [
    "anchor_positive = triplet_train_dataframe[[\"anchor\", \"positive\"]]\n",
    "anchor_negatives = triplet_train_dataframe[[\"anchor\", \"negatives\"]]"
   ]
  },
  {
   "cell_type": "code",
   "execution_count": 67,
   "id": "eaa583de-6c5e-4b39-bc01-bb1e434972fe",
   "metadata": {},
   "outputs": [],
   "source": [
    "anchor_positive = anchor_positive.rename(columns={\"anchor\": \"query\", \"positive\": \"text\"})\n",
    "anchor_positive[\"label\"] = 1"
   ]
  },
  {
   "cell_type": "code",
   "execution_count": 68,
   "id": "07e41861-55da-425f-b7a9-0ae98cdd8f55",
   "metadata": {},
   "outputs": [],
   "source": [
    "anchor_negatives_exploded = (\n",
    "    anchor_negatives\n",
    "    .explode('negatives')\n",
    "    .reset_index()[[\"anchor\", \"negatives\"]]\n",
    "    .rename({\"anchor\" : \"query\", \"negatives\": \"text\"}, axis=1)\n",
    ")    \n",
    "\n",
    "anchor_negatives_exploded[\"label\"] = 0"
   ]
  },
  {
   "cell_type": "code",
   "execution_count": 69,
   "id": "ff374b90-f144-4c80-b8bc-dc311b9c410e",
   "metadata": {},
   "outputs": [
    {
     "data": {
      "text/plain": [
       "103239"
      ]
     },
     "execution_count": 69,
     "metadata": {},
     "output_type": "execute_result"
    }
   ],
   "source": [
    "len(anchor_negatives_exploded)"
   ]
  },
  {
   "cell_type": "code",
   "execution_count": 70,
   "id": "495bd8b3-a451-47fc-8afe-868b7219296f",
   "metadata": {},
   "outputs": [],
   "source": [
    "cross_encoder_train_data = pd.concat([anchor_positive, anchor_negatives_exploded]).reset_index()"
   ]
  },
  {
   "cell_type": "code",
   "execution_count": 71,
   "id": "0b279348-65f7-436c-ae17-0b93810425c5",
   "metadata": {},
   "outputs": [
    {
     "data": {
      "text/html": [
       "<div>\n",
       "<style scoped>\n",
       "    .dataframe tbody tr th:only-of-type {\n",
       "        vertical-align: middle;\n",
       "    }\n",
       "\n",
       "    .dataframe tbody tr th {\n",
       "        vertical-align: top;\n",
       "    }\n",
       "\n",
       "    .dataframe thead th {\n",
       "        text-align: right;\n",
       "    }\n",
       "</style>\n",
       "<table border=\"1\" class=\"dataframe\">\n",
       "  <thead>\n",
       "    <tr style=\"text-align: right;\">\n",
       "      <th></th>\n",
       "      <th>index</th>\n",
       "      <th>query</th>\n",
       "      <th>text</th>\n",
       "      <th>label</th>\n",
       "    </tr>\n",
       "  </thead>\n",
       "  <tbody>\n",
       "    <tr>\n",
       "      <th>34411</th>\n",
       "      <td>34411</td>\n",
       "      <td>highlight the parts (if any) of this contract ...</td>\n",
       "      <td>(a) it is duly organized, validly existing, an...</td>\n",
       "      <td>1</td>\n",
       "    </tr>\n",
       "    <tr>\n",
       "      <th>34412</th>\n",
       "      <td>34412</td>\n",
       "      <td>highlight the parts (if any) of this contract ...</td>\n",
       "      <td>(e) independent lender obligations. the failur...</td>\n",
       "      <td>1</td>\n",
       "    </tr>\n",
       "    <tr>\n",
       "      <th>34413</th>\n",
       "      <td>0</td>\n",
       "      <td>highlight the parts (if any) of this contract ...</td>\n",
       "      <td>5.transferability. this agreement is personal ...</td>\n",
       "      <td>0</td>\n",
       "    </tr>\n",
       "    <tr>\n",
       "      <th>34414</th>\n",
       "      <td>1</td>\n",
       "      <td>highlight the parts (if any) of this contract ...</td>\n",
       "      <td>2. original set of documents shall be provided...</td>\n",
       "      <td>0</td>\n",
       "    </tr>\n",
       "    <tr>\n",
       "      <th>34415</th>\n",
       "      <td>2</td>\n",
       "      <td>highlight the parts (if any) of this contract ...</td>\n",
       "      <td>in the event that any provision of these stand...</td>\n",
       "      <td>0</td>\n",
       "    </tr>\n",
       "  </tbody>\n",
       "</table>\n",
       "</div>"
      ],
      "text/plain": [
       "       index                                              query  \\\n",
       "34411  34411  highlight the parts (if any) of this contract ...   \n",
       "34412  34412  highlight the parts (if any) of this contract ...   \n",
       "34413      0  highlight the parts (if any) of this contract ...   \n",
       "34414      1  highlight the parts (if any) of this contract ...   \n",
       "34415      2  highlight the parts (if any) of this contract ...   \n",
       "\n",
       "                                                    text  label  \n",
       "34411  (a) it is duly organized, validly existing, an...      1  \n",
       "34412  (e) independent lender obligations. the failur...      1  \n",
       "34413  5.transferability. this agreement is personal ...      0  \n",
       "34414  2. original set of documents shall be provided...      0  \n",
       "34415  in the event that any provision of these stand...      0  "
      ]
     },
     "execution_count": 71,
     "metadata": {},
     "output_type": "execute_result"
    }
   ],
   "source": [
    "cross_encoder_train_data[34411:].head()"
   ]
  },
  {
   "cell_type": "code",
   "execution_count": 72,
   "id": "05b89b65-2f5a-47db-acf1-ca2719562e1b",
   "metadata": {},
   "outputs": [],
   "source": [
    "cross_encoder_train_data.to_csv(\"./data/cuad_data_synthetic_chatgpt/train_cuad_cross_encoder.csv\")"
   ]
  },
  {
   "cell_type": "code",
   "execution_count": null,
   "id": "b4c715a3-ceba-4b0d-b63f-419a67d7e6bb",
   "metadata": {},
   "outputs": [],
   "source": []
  },
  {
   "cell_type": "markdown",
   "id": "95a7eb74-7314-459b-9b8e-b0ee5f23efe0",
   "metadata": {},
   "source": [
    "Final check"
   ]
  },
  {
   "cell_type": "code",
   "execution_count": 77,
   "id": "7a836cbe-e7d4-46bd-a9ff-5dd683dc9c9a",
   "metadata": {},
   "outputs": [],
   "source": [
    "df1 = pd.read_csv(\"./data/cuad_data_synthetic_chatgpt/train_cuad_cross_encoder.csv\")"
   ]
  },
  {
   "cell_type": "code",
   "execution_count": 78,
   "id": "d5bc4844-86d4-4c04-8f5b-6793f8520b10",
   "metadata": {},
   "outputs": [],
   "source": [
    "df2 = pd.read_csv(\"./data/cuad_data_synthetic_chatgpt/train_cuad_dual_encoder.csv\")"
   ]
  },
  {
   "cell_type": "code",
   "execution_count": 79,
   "id": "5358c58b-2d65-4b59-b26e-62fb519f0b35",
   "metadata": {},
   "outputs": [
    {
     "data": {
      "text/plain": [
       "137652"
      ]
     },
     "execution_count": 79,
     "metadata": {},
     "output_type": "execute_result"
    }
   ],
   "source": [
    "len(df1)"
   ]
  },
  {
   "cell_type": "code",
   "execution_count": 80,
   "id": "c9e62a72-eccc-4738-9cae-991cd65cfbf8",
   "metadata": {},
   "outputs": [
    {
     "data": {
      "text/plain": [
       "103239"
      ]
     },
     "execution_count": 80,
     "metadata": {},
     "output_type": "execute_result"
    }
   ],
   "source": [
    "len(df2)"
   ]
  },
  {
   "cell_type": "code",
   "execution_count": null,
   "id": "ddc045da-d43d-4fa6-8811-9d845bc3054d",
   "metadata": {},
   "outputs": [],
   "source": []
  }
 ],
 "metadata": {
  "kernelspec": {
   "display_name": "Python 3 (ipykernel)",
   "language": "python",
   "name": "python3"
  },
  "language_info": {
   "codemirror_mode": {
    "name": "ipython",
    "version": 3
   },
   "file_extension": ".py",
   "mimetype": "text/x-python",
   "name": "python",
   "nbconvert_exporter": "python",
   "pygments_lexer": "ipython3",
   "version": "3.9.15"
  }
 },
 "nbformat": 4,
 "nbformat_minor": 5
}
